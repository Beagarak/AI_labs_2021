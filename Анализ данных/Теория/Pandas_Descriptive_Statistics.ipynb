{
  "nbformat": 4,
  "nbformat_minor": 0,
  "metadata": {
    "colab": {
      "name": "Pandas Descriptive Statistics.ipynb",
      "provenance": [],
      "toc_visible": true
    },
    "kernelspec": {
      "name": "python3",
      "display_name": "Python 3"
    }
  },
  "cells": [
    {
      "cell_type": "markdown",
      "metadata": {
        "id": "x8qbUbifSjYz"
      },
      "source": [
        "# Описательная статистика и построение простых графиков при помощи Pandas"
      ]
    },
    {
      "cell_type": "markdown",
      "metadata": {
        "id": "aVeHGmvzSwis"
      },
      "source": [
        "## Данные"
      ]
    },
    {
      "cell_type": "markdown",
      "metadata": {
        "id": "lUUh7ACqS4Wb"
      },
      "source": [
        "**Датасет:​** \n",
        "\n",
        "Australian AIDS Survival Data\n",
        "\n",
        "**Описание:​** \n",
        "\n",
        "Данные о пациентах, проходивших лечение от СПИДа до 1 июля 1991.\n",
        "Датасет содержит 2843 строки и следующие столбцы:\n",
        "\n",
        "*   State – аббревиатура названия региона Австралии.\n",
        "*   Sex – пол пациента.\n",
        "*   Diag – дата диагноза.\n",
        "*   Death – дата смерти или окончания лечения.\n",
        "*   Status - жив пациент или мертв на момент окончания наблюдения.\n",
        "*   T.categ – способ заражения.\n",
        "*   Age – возраст, когда пациенту был поставлен диагноз."
      ]
    },
    {
      "cell_type": "markdown",
      "metadata": {
        "id": "krlSks_FSsAE"
      },
      "source": [
        "Полезная ссылочка на [документацию](https://pandas.pydata.org/pandas-docs/stable/index.html) Pandas."
      ]
    },
    {
      "cell_type": "markdown",
      "metadata": {
        "id": "6GP6TUCwUJJW"
      },
      "source": [
        "Загружаем датасет."
      ]
    },
    {
      "cell_type": "code",
      "metadata": {
        "id": "_zRSupPOQm6B"
      },
      "source": [
        "import pandas as pd"
      ],
      "execution_count": null,
      "outputs": []
    },
    {
      "cell_type": "code",
      "metadata": {
        "colab": {
          "base_uri": "https://localhost:8080/",
          "height": 206
        },
        "id": "-Vf5IVjMR3L0",
        "outputId": "08f543d5-e34a-493d-8a5e-acd1b085d14d"
      },
      "source": [
        "df = pd.read_csv(\"Aids2.csv\")\n",
        "df.head()"
      ],
      "execution_count": null,
      "outputs": [
        {
          "output_type": "execute_result",
          "data": {
            "text/html": [
              "<div>\n",
              "<style scoped>\n",
              "    .dataframe tbody tr th:only-of-type {\n",
              "        vertical-align: middle;\n",
              "    }\n",
              "\n",
              "    .dataframe tbody tr th {\n",
              "        vertical-align: top;\n",
              "    }\n",
              "\n",
              "    .dataframe thead th {\n",
              "        text-align: right;\n",
              "    }\n",
              "</style>\n",
              "<table border=\"1\" class=\"dataframe\">\n",
              "  <thead>\n",
              "    <tr style=\"text-align: right;\">\n",
              "      <th></th>\n",
              "      <th>Unnamed: 0</th>\n",
              "      <th>state</th>\n",
              "      <th>sex</th>\n",
              "      <th>diag</th>\n",
              "      <th>death</th>\n",
              "      <th>status</th>\n",
              "      <th>T.categ</th>\n",
              "      <th>age</th>\n",
              "    </tr>\n",
              "  </thead>\n",
              "  <tbody>\n",
              "    <tr>\n",
              "      <th>0</th>\n",
              "      <td>1</td>\n",
              "      <td>NSW</td>\n",
              "      <td>M</td>\n",
              "      <td>10905</td>\n",
              "      <td>11081</td>\n",
              "      <td>D</td>\n",
              "      <td>hs</td>\n",
              "      <td>35</td>\n",
              "    </tr>\n",
              "    <tr>\n",
              "      <th>1</th>\n",
              "      <td>2</td>\n",
              "      <td>NSW</td>\n",
              "      <td>M</td>\n",
              "      <td>11029</td>\n",
              "      <td>11096</td>\n",
              "      <td>D</td>\n",
              "      <td>hs</td>\n",
              "      <td>53</td>\n",
              "    </tr>\n",
              "    <tr>\n",
              "      <th>2</th>\n",
              "      <td>3</td>\n",
              "      <td>NSW</td>\n",
              "      <td>M</td>\n",
              "      <td>9551</td>\n",
              "      <td>9983</td>\n",
              "      <td>D</td>\n",
              "      <td>hs</td>\n",
              "      <td>42</td>\n",
              "    </tr>\n",
              "    <tr>\n",
              "      <th>3</th>\n",
              "      <td>4</td>\n",
              "      <td>NSW</td>\n",
              "      <td>M</td>\n",
              "      <td>9577</td>\n",
              "      <td>9654</td>\n",
              "      <td>D</td>\n",
              "      <td>haem</td>\n",
              "      <td>44</td>\n",
              "    </tr>\n",
              "    <tr>\n",
              "      <th>4</th>\n",
              "      <td>5</td>\n",
              "      <td>NSW</td>\n",
              "      <td>M</td>\n",
              "      <td>10015</td>\n",
              "      <td>10290</td>\n",
              "      <td>D</td>\n",
              "      <td>hs</td>\n",
              "      <td>39</td>\n",
              "    </tr>\n",
              "  </tbody>\n",
              "</table>\n",
              "</div>"
            ],
            "text/plain": [
              "   Unnamed: 0 state sex   diag  death status T.categ  age\n",
              "0           1   NSW   M  10905  11081      D      hs   35\n",
              "1           2   NSW   M  11029  11096      D      hs   53\n",
              "2           3   NSW   M   9551   9983      D      hs   42\n",
              "3           4   NSW   M   9577   9654      D    haem   44\n",
              "4           5   NSW   M  10015  10290      D      hs   39"
            ]
          },
          "metadata": {
            "tags": []
          },
          "execution_count": 7
        }
      ]
    },
    {
      "cell_type": "markdown",
      "metadata": {
        "id": "fs2pR6b-UMAL"
      },
      "source": [
        "## Описательная статистика датасета"
      ]
    },
    {
      "cell_type": "markdown",
      "metadata": {
        "id": "DF03uWSZUY8W"
      },
      "source": [
        "Получим типы данных, хранящихся в датафрейме. `object` в терминологии Pandas - это строка."
      ]
    },
    {
      "cell_type": "code",
      "metadata": {
        "colab": {
          "base_uri": "https://localhost:8080/"
        },
        "id": "gNclEWEmYSDc",
        "outputId": "7267df7d-7bd0-4c8f-a522-b554e6885047"
      },
      "source": [
        "df.dtypes"
      ],
      "execution_count": null,
      "outputs": [
        {
          "output_type": "execute_result",
          "data": {
            "text/plain": [
              "Unnamed: 0     int64\n",
              "state         object\n",
              "sex           object\n",
              "diag           int64\n",
              "death          int64\n",
              "status        object\n",
              "T.categ       object\n",
              "age            int64\n",
              "dtype: object"
            ]
          },
          "metadata": {
            "tags": []
          },
          "execution_count": 6
        }
      ]
    },
    {
      "cell_type": "markdown",
      "metadata": {
        "id": "8_DljDqnYvbY"
      },
      "source": [
        "Получим размеры датафрейма. Первое значение кортежа - количество строк, второе - стобцов."
      ]
    },
    {
      "cell_type": "code",
      "metadata": {
        "colab": {
          "base_uri": "https://localhost:8080/"
        },
        "id": "QYegFLcoYbbF",
        "outputId": "ee5c9b52-e17b-42ae-f5b9-554388875a1e"
      },
      "source": [
        "df.shape"
      ],
      "execution_count": null,
      "outputs": [
        {
          "output_type": "execute_result",
          "data": {
            "text/plain": [
              "(2843, 8)"
            ]
          },
          "metadata": {
            "tags": []
          },
          "execution_count": 4
        }
      ]
    },
    {
      "cell_type": "markdown",
      "metadata": {
        "id": "8CDB3GHqY3bi"
      },
      "source": [
        "С помощью метода `size` можно дополнительно узнать общее количество ячеек в датафрейме."
      ]
    },
    {
      "cell_type": "code",
      "metadata": {
        "colab": {
          "base_uri": "https://localhost:8080/"
        },
        "id": "naPHFhP_Ydom",
        "outputId": "b1aaddf8-7efb-4157-e3e7-452c196b5005"
      },
      "source": [
        "df.size"
      ],
      "execution_count": null,
      "outputs": [
        {
          "output_type": "execute_result",
          "data": {
            "text/plain": [
              "22744"
            ]
          },
          "metadata": {
            "tags": []
          },
          "execution_count": 5
        }
      ]
    },
    {
      "cell_type": "markdown",
      "metadata": {
        "id": "wFKno6jPhf_x"
      },
      "source": [
        "Выясним, есть ли в датафрейме пустые значения."
      ]
    },
    {
      "cell_type": "code",
      "metadata": {
        "colab": {
          "base_uri": "https://localhost:8080/"
        },
        "id": "akSdEAEXSSqa",
        "outputId": "194ae789-48a2-4417-82c8-0e66b91b2518"
      },
      "source": [
        "cols = list(df.columns)\n",
        "cols.remove('Unnamed: 0')\n",
        "cols"
      ],
      "execution_count": null,
      "outputs": [
        {
          "output_type": "execute_result",
          "data": {
            "text/plain": [
              "['state', 'sex', 'diag', 'death', 'status', 'T.categ', 'age']"
            ]
          },
          "metadata": {
            "tags": []
          },
          "execution_count": 9
        }
      ]
    },
    {
      "cell_type": "code",
      "metadata": {
        "colab": {
          "base_uri": "https://localhost:8080/"
        },
        "id": "dzostkNJWZav",
        "outputId": "3f4bdcab-beda-4a52-adb1-39592fa3bbed"
      },
      "source": [
        "df_na = {col: list(pd.isna(df[col])).count(True) for col in cols}\n",
        "df_na"
      ],
      "execution_count": null,
      "outputs": [
        {
          "output_type": "execute_result",
          "data": {
            "text/plain": [
              "{'T.categ': 0,\n",
              " 'age': 0,\n",
              " 'death': 0,\n",
              " 'diag': 0,\n",
              " 'sex': 0,\n",
              " 'state': 0,\n",
              " 'status': 0}"
            ]
          },
          "metadata": {
            "tags": []
          },
          "execution_count": 7
        }
      ]
    },
    {
      "cell_type": "markdown",
      "metadata": {
        "id": "l49iZ1MWhk9h"
      },
      "source": [
        "Если пустые ячейки есть, то пока что можно просто удалить соответствующие строки методом [dropna](https://pandas.pydata.org/pandas-docs/stable/reference/api/pandas.DataFrame.dropna.html)."
      ]
    },
    {
      "cell_type": "markdown",
      "metadata": {
        "id": "vXiFLaBah5dA"
      },
      "source": [
        "Для нечисловых значений посчитаем частоту встречаемости."
      ]
    },
    {
      "cell_type": "code",
      "metadata": {
        "colab": {
          "base_uri": "https://localhost:8080/"
        },
        "id": "-sKf5uizXt26",
        "outputId": "3fc30540-bb44-4885-b424-9d4e6f61e2f1"
      },
      "source": [
        "nom_cols_data = [{name: df[col].to_list().count(name) for name in df[col].unique()}\n",
        "                 for col in cols\n",
        "                 if df[col].dtype == \"object\"]\n",
        "nom_cols_data\n"
      ],
      "execution_count": null,
      "outputs": [
        {
          "output_type": "execute_result",
          "data": {
            "text/plain": [
              "[{'NSW': 1780, 'Other': 249, 'QLD': 226, 'VIC': 588},\n",
              " {'F': 89, 'M': 2754},\n",
              " {'A': 1082, 'D': 1761},\n",
              " {'blood': 94,\n",
              "  'haem': 46,\n",
              "  'het': 41,\n",
              "  'hs': 2465,\n",
              "  'hsid': 72,\n",
              "  'id': 48,\n",
              "  'mother': 7,\n",
              "  'other': 70}]"
            ]
          },
          "metadata": {
            "tags": []
          },
          "execution_count": 10
        }
      ]
    },
    {
      "cell_type": "markdown",
      "metadata": {
        "id": "4VEHdi_zh_R7"
      },
      "source": [
        "Так как числовые значения присутствуют только в одном на данный момент значимом стобце (возраст), посчитаем для этого столбца некоторые меры центральной тенденции и разброса:\n",
        "\n",
        "\n",
        "*   минимальное значение\n",
        "*   максимальное значение\n",
        "*   среднее арифметическое\n",
        "*   моду\n",
        "*   медиану\n",
        "*   дисперсию\n",
        "*   стандартное отклонение\n",
        "*   размах\n",
        "*   интерквартильный размах\n",
        "*   индекс асимметрии\n",
        "\n"
      ]
    },
    {
      "cell_type": "code",
      "metadata": {
        "colab": {
          "base_uri": "https://localhost:8080/"
        },
        "id": "IbOZG8X8caPU",
        "outputId": "f6ee8ad5-ac40-47d9-a8bc-ed631683c402"
      },
      "source": [
        "age_stat = {\"min\": df[\"age\"].min(), \n",
        "            \"max\": df[\"age\"].max(), \n",
        "            \"mean\": df[\"age\"].mean(),\n",
        "            \"median\": df[\"age\"].median(),\n",
        "            \"mode\": df[\"age\"].mode().to_list(),\n",
        "            \"var\": df[\"age\"].var(ddof=0),\n",
        "            \"std\": df[\"age\"].std(ddof=0),\n",
        "            \"range\": df[\"age\"].max() - df[\"age\"].min(),\n",
        "            \"interquartile_range\": df[\"age\"].quantile(0.75) - df[\"age\"].quantile(0.25),\n",
        "            \"skew\": df[\"age\"].skew()\n",
        "            }\n",
        "age_stat"
      ],
      "execution_count": null,
      "outputs": [
        {
          "output_type": "execute_result",
          "data": {
            "text/plain": [
              "{'interquartile_range': 13.0,\n",
              " 'max': 82,\n",
              " 'mean': 37.409074920858245,\n",
              " 'median': 37.0,\n",
              " 'min': 0,\n",
              " 'mode': [39],\n",
              " 'range': 82,\n",
              " 'skew': 0.4877463385489102,\n",
              " 'std': 10.061493059395177,\n",
              " 'var': 101.23364258425732}"
            ]
          },
          "metadata": {
            "tags": []
          },
          "execution_count": 11
        }
      ]
    },
    {
      "cell_type": "markdown",
      "metadata": {
        "id": "bD2SeqbkRFfh"
      },
      "source": [
        "Построим график распределения количества заражений по каждому возрасту."
      ]
    },
    {
      "cell_type": "code",
      "metadata": {
        "colab": {
          "base_uri": "https://localhost:8080/"
        },
        "id": "5Di3cgUcioFx",
        "outputId": "375054f0-3f93-4ea2-d759-ef32619bbeae"
      },
      "source": [
        "age_data = {age: df[\"age\"].to_list().count(age) for age in set(df[\"age\"])}\n",
        "print(age_data)"
      ],
      "execution_count": null,
      "outputs": [
        {
          "output_type": "stream",
          "text": [
            "{0: 4, 1: 3, 3: 3, 5: 3, 6: 2, 9: 1, 11: 1, 12: 5, 13: 1, 14: 2, 15: 3, 16: 3, 17: 3, 18: 3, 19: 2, 20: 7, 21: 12, 22: 18, 23: 29, 24: 52, 25: 78, 26: 85, 27: 90, 28: 96, 29: 117, 30: 117, 31: 105, 32: 118, 33: 116, 34: 112, 35: 117, 36: 101, 37: 122, 38: 108, 39: 127, 40: 95, 41: 113, 42: 92, 43: 99, 44: 73, 45: 77, 46: 65, 47: 57, 48: 49, 49: 47, 50: 37, 51: 35, 52: 33, 53: 26, 54: 13, 55: 23, 56: 24, 57: 18, 58: 14, 59: 10, 60: 8, 61: 6, 62: 7, 63: 6, 64: 7, 65: 6, 66: 11, 67: 4, 68: 1, 69: 7, 70: 3, 71: 1, 72: 1, 73: 3, 74: 1, 77: 1, 78: 2, 80: 1, 82: 1}\n"
          ],
          "name": "stdout"
        }
      ]
    },
    {
      "cell_type": "code",
      "metadata": {
        "id": "TukFp1zdmiNi"
      },
      "source": [
        "import matplotlib.pyplot as plt"
      ],
      "execution_count": null,
      "outputs": []
    },
    {
      "cell_type": "code",
      "metadata": {
        "colab": {
          "base_uri": "https://localhost:8080/",
          "height": 206
        },
        "id": "j_L_0H3-muWe",
        "outputId": "4213f5ed-57ed-4faf-c9a4-df7d8f02c572"
      },
      "source": [
        "age_df = pd.DataFrame.from_dict(data=age_data, orient=\"index\", columns=[\"Age\"])\n",
        "age_df.head()"
      ],
      "execution_count": null,
      "outputs": [
        {
          "output_type": "execute_result",
          "data": {
            "text/html": [
              "<div>\n",
              "<style scoped>\n",
              "    .dataframe tbody tr th:only-of-type {\n",
              "        vertical-align: middle;\n",
              "    }\n",
              "\n",
              "    .dataframe tbody tr th {\n",
              "        vertical-align: top;\n",
              "    }\n",
              "\n",
              "    .dataframe thead th {\n",
              "        text-align: right;\n",
              "    }\n",
              "</style>\n",
              "<table border=\"1\" class=\"dataframe\">\n",
              "  <thead>\n",
              "    <tr style=\"text-align: right;\">\n",
              "      <th></th>\n",
              "      <th>Age</th>\n",
              "    </tr>\n",
              "  </thead>\n",
              "  <tbody>\n",
              "    <tr>\n",
              "      <th>0</th>\n",
              "      <td>4</td>\n",
              "    </tr>\n",
              "    <tr>\n",
              "      <th>1</th>\n",
              "      <td>3</td>\n",
              "    </tr>\n",
              "    <tr>\n",
              "      <th>3</th>\n",
              "      <td>3</td>\n",
              "    </tr>\n",
              "    <tr>\n",
              "      <th>5</th>\n",
              "      <td>3</td>\n",
              "    </tr>\n",
              "    <tr>\n",
              "      <th>6</th>\n",
              "      <td>2</td>\n",
              "    </tr>\n",
              "  </tbody>\n",
              "</table>\n",
              "</div>"
            ],
            "text/plain": [
              "   Age\n",
              "0    4\n",
              "1    3\n",
              "3    3\n",
              "5    3\n",
              "6    2"
            ]
          },
          "metadata": {
            "tags": []
          },
          "execution_count": 20
        }
      ]
    },
    {
      "cell_type": "code",
      "metadata": {
        "colab": {
          "base_uri": "https://localhost:8080/",
          "height": 265
        },
        "id": "NJdpnm1DnSb8",
        "outputId": "9b6b9ffa-2f1d-4beb-dce8-5ea71cde12b8"
      },
      "source": [
        "age_df.plot();"
      ],
      "execution_count": null,
      "outputs": [
        {
          "output_type": "display_data",
          "data": {
            "image/png": "[encoded data removed]",
            "text/plain": [
              "<Figure size 432x288 with 1 Axes>"
            ]
          },
          "metadata": {
            "tags": [],
            "needs_background": "light"
          }
        }
      ]
    },
    {
      "cell_type": "markdown",
      "metadata": {
        "id": "JxC0bI1ARRCm"
      },
      "source": [
        "Сравним, как картинка будет выглядеть для женщин и для мужчин. Для начала найдем количество записей о женщинах и о мужчинах."
      ]
    },
    {
      "cell_type": "code",
      "metadata": {
        "colab": {
          "base_uri": "https://localhost:8080/",
          "height": 241
        },
        "id": "oT4lkgKyn1a_",
        "outputId": "0d6b1e04-54d6-4909-f4b3-b68a3191ad08"
      },
      "source": [
        "male_df = df.loc[df[\"sex\"] == \"M\"]\n",
        "m_num = male_df.shape[0]\n",
        "m_percent = m_num / df.shape[0] * 100\n",
        "print(m_num, m_percent, sep=\"\\n\")\n",
        "male_df.head()"
      ],
      "execution_count": null,
      "outputs": [
        {
          "output_type": "stream",
          "text": [
            "2754\n",
            "96.86950404502286\n"
          ],
          "name": "stdout"
        },
        {
          "output_type": "execute_result",
          "data": {
            "text/html": [
              "<div>\n",
              "<style scoped>\n",
              "    .dataframe tbody tr th:only-of-type {\n",
              "        vertical-align: middle;\n",
              "    }\n",
              "\n",
              "    .dataframe tbody tr th {\n",
              "        vertical-align: top;\n",
              "    }\n",
              "\n",
              "    .dataframe thead th {\n",
              "        text-align: right;\n",
              "    }\n",
              "</style>\n",
              "<table border=\"1\" class=\"dataframe\">\n",
              "  <thead>\n",
              "    <tr style=\"text-align: right;\">\n",
              "      <th></th>\n",
              "      <th>Unnamed: 0</th>\n",
              "      <th>state</th>\n",
              "      <th>sex</th>\n",
              "      <th>diag</th>\n",
              "      <th>death</th>\n",
              "      <th>status</th>\n",
              "      <th>T.categ</th>\n",
              "      <th>age</th>\n",
              "    </tr>\n",
              "  </thead>\n",
              "  <tbody>\n",
              "    <tr>\n",
              "      <th>0</th>\n",
              "      <td>1</td>\n",
              "      <td>NSW</td>\n",
              "      <td>M</td>\n",
              "      <td>10905</td>\n",
              "      <td>11081</td>\n",
              "      <td>D</td>\n",
              "      <td>hs</td>\n",
              "      <td>35</td>\n",
              "    </tr>\n",
              "    <tr>\n",
              "      <th>1</th>\n",
              "      <td>2</td>\n",
              "      <td>NSW</td>\n",
              "      <td>M</td>\n",
              "      <td>11029</td>\n",
              "      <td>11096</td>\n",
              "      <td>D</td>\n",
              "      <td>hs</td>\n",
              "      <td>53</td>\n",
              "    </tr>\n",
              "    <tr>\n",
              "      <th>2</th>\n",
              "      <td>3</td>\n",
              "      <td>NSW</td>\n",
              "      <td>M</td>\n",
              "      <td>9551</td>\n",
              "      <td>9983</td>\n",
              "      <td>D</td>\n",
              "      <td>hs</td>\n",
              "      <td>42</td>\n",
              "    </tr>\n",
              "    <tr>\n",
              "      <th>3</th>\n",
              "      <td>4</td>\n",
              "      <td>NSW</td>\n",
              "      <td>M</td>\n",
              "      <td>9577</td>\n",
              "      <td>9654</td>\n",
              "      <td>D</td>\n",
              "      <td>haem</td>\n",
              "      <td>44</td>\n",
              "    </tr>\n",
              "    <tr>\n",
              "      <th>4</th>\n",
              "      <td>5</td>\n",
              "      <td>NSW</td>\n",
              "      <td>M</td>\n",
              "      <td>10015</td>\n",
              "      <td>10290</td>\n",
              "      <td>D</td>\n",
              "      <td>hs</td>\n",
              "      <td>39</td>\n",
              "    </tr>\n",
              "  </tbody>\n",
              "</table>\n",
              "</div>"
            ],
            "text/plain": [
              "   Unnamed: 0 state sex   diag  death status T.categ  age\n",
              "0           1   NSW   M  10905  11081      D      hs   35\n",
              "1           2   NSW   M  11029  11096      D      hs   53\n",
              "2           3   NSW   M   9551   9983      D      hs   42\n",
              "3           4   NSW   M   9577   9654      D    haem   44\n",
              "4           5   NSW   M  10015  10290      D      hs   39"
            ]
          },
          "metadata": {
            "tags": []
          },
          "execution_count": 22
        }
      ]
    },
    {
      "cell_type": "code",
      "metadata": {
        "colab": {
          "base_uri": "https://localhost:8080/",
          "height": 241
        },
        "id": "g6A7IhUsoMRL",
        "outputId": "e1137ae3-54b5-4027-8645-b5d5d9e76cbd"
      },
      "source": [
        "female_df = df.loc[df[\"sex\"] == \"F\"]\n",
        "f_num = female_df.shape[0]\n",
        "f_percent = f_num / df.shape[0] * 100\n",
        "print(f_num, f_percent, sep=\"\\n\")\n",
        "female_df.head()"
      ],
      "execution_count": null,
      "outputs": [
        {
          "output_type": "stream",
          "text": [
            "89\n",
            "3.1304959549771367\n"
          ],
          "name": "stdout"
        },
        {
          "output_type": "execute_result",
          "data": {
            "text/html": [
              "<div>\n",
              "<style scoped>\n",
              "    .dataframe tbody tr th:only-of-type {\n",
              "        vertical-align: middle;\n",
              "    }\n",
              "\n",
              "    .dataframe tbody tr th {\n",
              "        vertical-align: top;\n",
              "    }\n",
              "\n",
              "    .dataframe thead th {\n",
              "        text-align: right;\n",
              "    }\n",
              "</style>\n",
              "<table border=\"1\" class=\"dataframe\">\n",
              "  <thead>\n",
              "    <tr style=\"text-align: right;\">\n",
              "      <th></th>\n",
              "      <th>Unnamed: 0</th>\n",
              "      <th>state</th>\n",
              "      <th>sex</th>\n",
              "      <th>diag</th>\n",
              "      <th>death</th>\n",
              "      <th>status</th>\n",
              "      <th>T.categ</th>\n",
              "      <th>age</th>\n",
              "    </tr>\n",
              "  </thead>\n",
              "  <tbody>\n",
              "    <tr>\n",
              "      <th>30</th>\n",
              "      <td>31</td>\n",
              "      <td>NSW</td>\n",
              "      <td>F</td>\n",
              "      <td>10961</td>\n",
              "      <td>11504</td>\n",
              "      <td>A</td>\n",
              "      <td>id</td>\n",
              "      <td>30</td>\n",
              "    </tr>\n",
              "    <tr>\n",
              "      <th>65</th>\n",
              "      <td>66</td>\n",
              "      <td>NSW</td>\n",
              "      <td>F</td>\n",
              "      <td>9014</td>\n",
              "      <td>9152</td>\n",
              "      <td>D</td>\n",
              "      <td>blood</td>\n",
              "      <td>44</td>\n",
              "    </tr>\n",
              "    <tr>\n",
              "      <th>85</th>\n",
              "      <td>86</td>\n",
              "      <td>NSW</td>\n",
              "      <td>F</td>\n",
              "      <td>9258</td>\n",
              "      <td>9259</td>\n",
              "      <td>D</td>\n",
              "      <td>blood</td>\n",
              "      <td>25</td>\n",
              "    </tr>\n",
              "    <tr>\n",
              "      <th>92</th>\n",
              "      <td>93</td>\n",
              "      <td>NSW</td>\n",
              "      <td>F</td>\n",
              "      <td>9349</td>\n",
              "      <td>9392</td>\n",
              "      <td>D</td>\n",
              "      <td>blood</td>\n",
              "      <td>55</td>\n",
              "    </tr>\n",
              "    <tr>\n",
              "      <th>104</th>\n",
              "      <td>105</td>\n",
              "      <td>NSW</td>\n",
              "      <td>F</td>\n",
              "      <td>9385</td>\n",
              "      <td>9600</td>\n",
              "      <td>D</td>\n",
              "      <td>blood</td>\n",
              "      <td>70</td>\n",
              "    </tr>\n",
              "  </tbody>\n",
              "</table>\n",
              "</div>"
            ],
            "text/plain": [
              "     Unnamed: 0 state sex   diag  death status T.categ  age\n",
              "30           31   NSW   F  10961  11504      A      id   30\n",
              "65           66   NSW   F   9014   9152      D   blood   44\n",
              "85           86   NSW   F   9258   9259      D   blood   25\n",
              "92           93   NSW   F   9349   9392      D   blood   55\n",
              "104         105   NSW   F   9385   9600      D   blood   70"
            ]
          },
          "metadata": {
            "tags": []
          },
          "execution_count": 23
        }
      ]
    },
    {
      "cell_type": "markdown",
      "metadata": {
        "id": "SCH85HR9RefD"
      },
      "source": [
        "Судя по процентному соотношению, можно сделать вывод, что женщины практически не участвовали в исследовании. Все равно построим график."
      ]
    },
    {
      "cell_type": "code",
      "metadata": {
        "id": "A1ThGg24s5v-"
      },
      "source": [
        "m_data = {age: male_df[\"age\"].to_list().count(age) for age in set(male_df[\"age\"])}\n",
        "to_add_f_data = {age: 0 for age in set(df[\"age\"]) if age not in set(male_df[\"age\"])}\n",
        "m_data.update(to_add_f_data)\n",
        "age_m_df = pd.DataFrame.from_dict(data=m_data, \n",
        "                                  orient=\"index\", \n",
        "                                  columns=[\"Males age\"])"
      ],
      "execution_count": null,
      "outputs": []
    },
    {
      "cell_type": "code",
      "metadata": {
        "id": "62WGMjrFt01Z"
      },
      "source": [
        "f_data = {age: female_df[\"age\"].to_list().count(age) for age in set(female_df[\"age\"])}\n",
        "to_add_m_data = {age: 0 for age in set(df[\"age\"]) if age not in set(female_df[\"age\"])}\n",
        "f_data.update(to_add_m_data)\n",
        "age_f_df = pd.DataFrame.from_dict(data=f_data, \n",
        "                                  orient=\"index\", \n",
        "                                  columns=[\"Females age\"])"
      ],
      "execution_count": null,
      "outputs": []
    },
    {
      "cell_type": "code",
      "metadata": {
        "colab": {
          "base_uri": "https://localhost:8080/",
          "height": 206
        },
        "id": "dH5816cjrAt6",
        "outputId": "17547e07-84a5-44b2-fe31-6416482e3f7f"
      },
      "source": [
        "age_all = age_df.merge(age_m_df, left_index=True, right_index=True)\n",
        "age_all = age_all.merge(age_f_df, left_index=True, right_index=True)\n",
        "age_all.head()"
      ],
      "execution_count": null,
      "outputs": [
        {
          "output_type": "execute_result",
          "data": {
            "text/html": [
              "<div>\n",
              "<style scoped>\n",
              "    .dataframe tbody tr th:only-of-type {\n",
              "        vertical-align: middle;\n",
              "    }\n",
              "\n",
              "    .dataframe tbody tr th {\n",
              "        vertical-align: top;\n",
              "    }\n",
              "\n",
              "    .dataframe thead th {\n",
              "        text-align: right;\n",
              "    }\n",
              "</style>\n",
              "<table border=\"1\" class=\"dataframe\">\n",
              "  <thead>\n",
              "    <tr style=\"text-align: right;\">\n",
              "      <th></th>\n",
              "      <th>Age</th>\n",
              "      <th>Males age</th>\n",
              "      <th>Females age</th>\n",
              "    </tr>\n",
              "  </thead>\n",
              "  <tbody>\n",
              "    <tr>\n",
              "      <th>0</th>\n",
              "      <td>4</td>\n",
              "      <td>3</td>\n",
              "      <td>1</td>\n",
              "    </tr>\n",
              "    <tr>\n",
              "      <th>1</th>\n",
              "      <td>3</td>\n",
              "      <td>2</td>\n",
              "      <td>1</td>\n",
              "    </tr>\n",
              "    <tr>\n",
              "      <th>3</th>\n",
              "      <td>3</td>\n",
              "      <td>3</td>\n",
              "      <td>0</td>\n",
              "    </tr>\n",
              "    <tr>\n",
              "      <th>5</th>\n",
              "      <td>3</td>\n",
              "      <td>1</td>\n",
              "      <td>2</td>\n",
              "    </tr>\n",
              "    <tr>\n",
              "      <th>6</th>\n",
              "      <td>2</td>\n",
              "      <td>1</td>\n",
              "      <td>1</td>\n",
              "    </tr>\n",
              "  </tbody>\n",
              "</table>\n",
              "</div>"
            ],
            "text/plain": [
              "   Age  Males age  Females age\n",
              "0    4          3            1\n",
              "1    3          2            1\n",
              "3    3          3            0\n",
              "5    3          1            2\n",
              "6    2          1            1"
            ]
          },
          "metadata": {
            "tags": []
          },
          "execution_count": 26
        }
      ]
    },
    {
      "cell_type": "code",
      "metadata": {
        "colab": {
          "base_uri": "https://localhost:8080/",
          "height": 265
        },
        "id": "U01MNUD0ugoI",
        "outputId": "e3982df2-d224-47e4-8879-5557e76ad693"
      },
      "source": [
        "age_all.plot();"
      ],
      "execution_count": null,
      "outputs": [
        {
          "output_type": "display_data",
          "data": {
            "image/png": "[encoded data removed]",
            "text/plain": [
              "<Figure size 432x288 with 1 Axes>"
            ]
          },
          "metadata": {
            "tags": [],
            "needs_background": "light"
          }
        }
      ]
    },
    {
      "cell_type": "markdown",
      "metadata": {
        "id": "8WrIrVjbRo-P"
      },
      "source": [
        "Видим, что график для мужчин практически полностью накладывается на общий график. Можно считать, что записи о женщинах в конкретно этом датасете - шум, а исследование было ориентировано в первую очередь на мужчин. Для наглядности построим круговую диаграмму распределения мужчин и женщин."
      ]
    },
    {
      "cell_type": "code",
      "metadata": {
        "colab": {
          "base_uri": "https://localhost:8080/",
          "height": 303
        },
        "id": "eGMdO4mNuz2C",
        "outputId": "d5fe9e22-99a7-4ded-ad1a-8296a5beeb7a"
      },
      "source": [
        "age_pie = pd.DataFrame({\"\": [m_num, f_num]},\n",
        "                       index=[\"Males\", \"Females\"])\n",
        "age_pie.plot.pie(y=\"\",\n",
        "                 colors=[\"c\", \"m\"],\n",
        "                 autopct=\"%.1f\",\n",
        "                 fontsize=10,\n",
        "                 figsize=(5, 5));"
      ],
      "execution_count": null,
      "outputs": [
        {
          "output_type": "display_data",
          "data": {
            "image/png": "[encoded data removed]",
            "text/plain": [
              "<Figure size 360x360 with 1 Axes>"
            ]
          },
          "metadata": {
            "tags": []
          }
        }
      ]
    },
    {
      "cell_type": "markdown",
      "metadata": {
        "id": "vBDcpwaAR_VB"
      },
      "source": [
        "Посмотрим, как колеблется число респондентов в группе интерквартильного размаха - содержащей наиболее релевантные данные."
      ]
    },
    {
      "cell_type": "code",
      "metadata": {
        "id": "x3rJfAuZ4MXT"
      },
      "source": [
        "q1 = male_df[\"age\"].quantile(0.25)\n",
        "q2 = male_df[\"age\"].quantile(0.5)\n",
        "q3 = male_df[\"age\"].quantile(0.75)"
      ],
      "execution_count": null,
      "outputs": []
    },
    {
      "cell_type": "code",
      "metadata": {
        "colab": {
          "base_uri": "https://localhost:8080/",
          "height": 265
        },
        "id": "vnF2uIUPxZmW",
        "outputId": "301eeb99-99b1-4b56-d8c5-5f23030f1280"
      },
      "source": [
        "df_inter = male_df.query(\"@q1 <= age <= @q3\")\n",
        "inter_age = pd.DataFrame.from_dict(data={age: df_inter[\"age\"].to_list().count(age) for age in set(df_inter[\"age\"])},\n",
        "                                   orient=\"index\", \n",
        "                                   columns=[\"Age\"]).sort_index()\n",
        "inter_age.plot();"
      ],
      "execution_count": null,
      "outputs": [
        {
          "output_type": "display_data",
          "data": {
            "image/png": "[encoded data removed]",
            "text/plain": [
              "<Figure size 432x288 with 1 Axes>"
            ]
          },
          "metadata": {
            "tags": [],
            "needs_background": "light"
          }
        }
      ]
    },
    {
      "cell_type": "markdown",
      "metadata": {
        "id": "AT49ZAprSROn"
      },
      "source": [
        "Посмотрим, в какой возрастной группе больше выживших, а в какой умерших."
      ]
    },
    {
      "cell_type": "code",
      "metadata": {
        "colab": {
          "base_uri": "https://localhost:8080/"
        },
        "id": "id6khqlJ5B84",
        "outputId": "8016f1f4-5b68-4e3e-f3e0-2b9f361eebb1"
      },
      "source": [
        "index = [\"[%d;%d)\" %(round(age_stat[\"min\"]), round(q1)), \n",
        "         \"[%d;%d)\" %(round(q1), round(q2)), \n",
        "         \"[%d;%d)\" %(round(q2), round(q3)), \n",
        "         \"[%d;%d]\" %(round(q3), round(age_stat[\"max\"]))]\n",
        "index"
      ],
      "execution_count": null,
      "outputs": [
        {
          "output_type": "execute_result",
          "data": {
            "text/plain": [
              "['[0;30)', '[30;37)', '[37;43)', '[43;82]']"
            ]
          },
          "metadata": {
            "tags": []
          },
          "execution_count": 30
        }
      ]
    },
    {
      "cell_type": "code",
      "metadata": {
        "id": "gzD3VB0f9Ph7"
      },
      "source": [
        "index = [\"[%d;%d)\" %(round(age_stat[\"min\"]), round(q1)), \n",
        "         \"[%d;%d)\" %(round(q1), round(q3)), \n",
        "         \"[%d;%d]\" %(round(q3), round(age_stat[\"max\"]))]"
      ],
      "execution_count": null,
      "outputs": []
    },
    {
      "cell_type": "code",
      "metadata": {
        "id": "r37Hrbi72sKu"
      },
      "source": [
        "alive = [male_df.query(\"age < @q1 & status == 'A'\").shape[0], \n",
        "         male_df.query(\"@q1 <= age < @q3 & status == 'A'\").shape[0],\n",
        "         male_df.query(\"age >= @q3 & status == 'A'\").shape[0]]\n",
        "\n",
        "dead = [male_df.query(\"age < @q1 & status == 'D'\").shape[0], \n",
        "         male_df.query(\"@q1 <= age < @q3 & status == 'D'\").shape[0],\n",
        "         male_df.query(\"age >= @q3 & status == 'D'\").shape[0]]"
      ],
      "execution_count": null,
      "outputs": []
    },
    {
      "cell_type": "code",
      "metadata": {
        "colab": {
          "base_uri": "https://localhost:8080/",
          "height": 265
        },
        "id": "9BWhUGD_6MVG",
        "outputId": "7f9cfbc8-d896-4dc1-fdcd-baf3dcbe6320"
      },
      "source": [
        "dead_or_alive = pd.DataFrame({\"Alive\": alive, \"Dead\": dead}, index=index)\n",
        "dead_or_alive.plot.bar(color=[\"deepskyblue\", \"dimgrey\"],\n",
        "                       rot=0);"
      ],
      "execution_count": null,
      "outputs": [
        {
          "output_type": "display_data",
          "data": {
            "image/png": "[encoded data removed]",
            "text/plain": [
              "<Figure size 432x288 with 1 Axes>"
            ]
          },
          "metadata": {
            "tags": [],
            "needs_background": "light"
          }
        }
      ]
    },
    {
      "cell_type": "markdown",
      "metadata": {
        "id": "x1ZC81yPSZdV"
      },
      "source": [
        "Видим, что во всех группах умерших больше. Единственная группа, в которой показатели максимально близки - до 30. Можно предположить, что при большем количестве наблюдений здесь могло бы быть больше выживших."
      ]
    },
    {
      "cell_type": "markdown",
      "metadata": {
        "id": "dHdBjqK07PoX"
      },
      "source": [
        "Названия цветов можно найти [тут](https://matplotlib.org/stable/gallery/color/named_colors.html)."
      ]
    },
    {
      "cell_type": "markdown",
      "metadata": {
        "id": "rqVEvnSqSq0Z"
      },
      "source": [
        "Визуализируем, распределение исследованных случаем заражения СПИДом по регионам. Сразу же сравним результаты для всех представленных в датасете данных с данными, в которых нет группы регионов Other."
      ]
    },
    {
      "cell_type": "code",
      "metadata": {
        "id": "qLZ94r-ZCoGn"
      },
      "source": [
        "regions_data = {name: male_df[\"state\"].to_list().count(name) for name in male_df[\"state\"].unique()}"
      ],
      "execution_count": null,
      "outputs": []
    },
    {
      "cell_type": "code",
      "metadata": {
        "id": "ZThrsyQy7WU5"
      },
      "source": [
        "cases = []\n",
        "regions = []\n",
        "for region, cases_num in regions_data.items():\n",
        "  regions.append(region)\n",
        "  cases.append(cases_num)\n",
        "\n",
        "regions_info = pd.DataFrame({\"\": cases},\n",
        "                       index=regions)"
      ],
      "execution_count": null,
      "outputs": []
    },
    {
      "cell_type": "code",
      "metadata": {
        "id": "0Ixrr5SuAiri"
      },
      "source": [
        "cases1 = []\n",
        "regions1 = []\n",
        "for region, cases_num in regions_data.items():\n",
        "  if region != \"Other\":\n",
        "    regions1.append(region)\n",
        "    cases1.append(cases_num)\n",
        "\n",
        "regions_info1 = pd.DataFrame({\"\": cases1},\n",
        "                       index=regions1)"
      ],
      "execution_count": null,
      "outputs": []
    },
    {
      "cell_type": "code",
      "metadata": {
        "colab": {
          "base_uri": "https://localhost:8080/",
          "height": 335
        },
        "id": "-irlRiYEBCwi",
        "outputId": "0a72bb49-f643-4ac7-9743-34ba22fa958e"
      },
      "source": [
        "fig, axes = plt.subplots(nrows=1, ncols=2)\n",
        "regions_info.plot.pie(ax=axes[0], y=\"\",\n",
        "                 colors=[\"deepskyblue\", \"mediumspringgreen\", \"orange\", \"orchid\"],\n",
        "                 autopct=\"%.1f\",\n",
        "                 fontsize=10,\n",
        "                 figsize=(12, 12));\n",
        "regions_info1.plot.pie(ax=axes[1], y=\"\",\n",
        "                 colors=[\"deepskyblue\", \"mediumspringgreen\", \"orange\"],\n",
        "                 autopct=\"%.1f\",\n",
        "                 fontsize=10,\n",
        "                 figsize=(12, 12));"
      ],
      "execution_count": null,
      "outputs": [
        {
          "output_type": "display_data",
          "data": {
            "image/png": "[encoded data removed]",
            "text/plain": [
              "<Figure size 864x864 with 2 Axes>"
            ]
          },
          "metadata": {
            "tags": []
          }
        }
      ]
    },
    {
      "cell_type": "markdown",
      "metadata": {
        "id": "_JmfGcvWS8Z3"
      },
      "source": [
        "Распределение меняется слабо. Вывод - группа Other не хранит принципиально важных данных."
      ]
    },
    {
      "cell_type": "markdown",
      "metadata": {
        "id": "scZjLFGTTHPb"
      },
      "source": [
        "Посмотрим на способы заражения. Для начала просто визуализируем количество заражений по каждой категории."
      ]
    },
    {
      "cell_type": "code",
      "metadata": {
        "id": "barmSfT8IBOj"
      },
      "source": [
        "from operator import itemgetter"
      ],
      "execution_count": null,
      "outputs": []
    },
    {
      "cell_type": "code",
      "metadata": {
        "colab": {
          "base_uri": "https://localhost:8080/"
        },
        "id": "zL6UNxmrFsfJ",
        "outputId": "7066d7d8-4b84-488e-c3db-004c9dfcf166"
      },
      "source": [
        "infection_data = [(name, male_df[\"T.categ\"].to_list().count(name)) \n",
        "                  for name in male_df[\"T.categ\"].unique() \n",
        "                  if male_df[\"T.categ\"].to_list().count(name) > 0]\n",
        "infection_data = sorted(infection_data, key=itemgetter(1))\n",
        "infection_data"
      ],
      "execution_count": null,
      "outputs": [
        {
          "output_type": "execute_result",
          "data": {
            "text/plain": [
              "[('mother', 3),\n",
              " ('het', 21),\n",
              " ('id', 28),\n",
              " ('haem', 46),\n",
              " ('blood', 57),\n",
              " ('other', 63),\n",
              " ('hsid', 72),\n",
              " ('hs', 2464)]"
            ]
          },
          "metadata": {
            "tags": []
          },
          "execution_count": 34
        }
      ]
    },
    {
      "cell_type": "markdown",
      "metadata": {
        "id": "ZR1k9BTLTWxT"
      },
      "source": [
        "Видим, что hs - основной способ заражения. Скорее всего, он был бейзлайном исследования. Сравним визуализации с ним и без него (также исключим Other)."
      ]
    },
    {
      "cell_type": "code",
      "metadata": {
        "colab": {
          "base_uri": "https://localhost:8080/"
        },
        "id": "tHG2SVmzIgkp",
        "outputId": "e2f87a43-1503-43d0-8ecb-987ad98c0659"
      },
      "source": [
        "infection_data_opt = [i for i in infection_data if \"other\" != i[0] != \"hs\"]\n",
        "infection_data_opt"
      ],
      "execution_count": null,
      "outputs": [
        {
          "output_type": "execute_result",
          "data": {
            "text/plain": [
              "[('mother', 3),\n",
              " ('het', 21),\n",
              " ('id', 28),\n",
              " ('haem', 46),\n",
              " ('blood', 57),\n",
              " ('hsid', 72)]"
            ]
          },
          "metadata": {
            "tags": []
          },
          "execution_count": 35
        }
      ]
    },
    {
      "cell_type": "code",
      "metadata": {
        "id": "G37cHnp0GM23"
      },
      "source": [
        "categories_opt = []\n",
        "patients_opt = []\n",
        "for categ, count in infection_data_opt:\n",
        "  categories_opt.append(categ)\n",
        "  patients_opt.append(count)"
      ],
      "execution_count": null,
      "outputs": []
    },
    {
      "cell_type": "code",
      "metadata": {
        "id": "7E2-gRPKJQah"
      },
      "source": [
        "categories = []\n",
        "patients = []\n",
        "for categ, count in infection_data:\n",
        "  categories.append(categ)\n",
        "  patients.append(count)"
      ],
      "execution_count": null,
      "outputs": []
    },
    {
      "cell_type": "code",
      "metadata": {
        "id": "3ZOluw4DGudy"
      },
      "source": [
        "inf_df = pd.DataFrame({\"category\": categories, \"cases\": patients})\n",
        "inf_df_opt = pd.DataFrame({\"category\": categories_opt, \"cases\": patients_opt})"
      ],
      "execution_count": null,
      "outputs": []
    },
    {
      "cell_type": "code",
      "metadata": {
        "colab": {
          "base_uri": "https://localhost:8080/",
          "height": 320
        },
        "id": "Hve6Q3awIXlw",
        "outputId": "08c52b8f-2e60-42f7-dde2-4e65aed77d80"
      },
      "source": [
        "fig, axes = plt.subplots(nrows=1, ncols=2)\n",
        "inf_df.plot.barh(ax=axes[0], x=\"category\", y=\"cases\", figsize=(12, 5));\n",
        "inf_df_opt.plot.barh(ax=axes[1], x=\"category\", y=\"cases\", figsize=(12, 5));"
      ],
      "execution_count": null,
      "outputs": [
        {
          "output_type": "display_data",
          "data": {
            "image/png": "[encoded data removed]",
            "text/plain": [
              "<Figure size 864x360 with 2 Axes>"
            ]
          },
          "metadata": {
            "tags": [],
            "needs_background": "light"
          }
        }
      ]
    },
    {
      "cell_type": "markdown",
      "metadata": {
        "id": "DrSCkgXKTkXU"
      },
      "source": [
        "Результат получается более наглядным справа, если нас интересует вариативная составляющая исследования. Наложим на эти графики распределение по штатам."
      ]
    },
    {
      "cell_type": "code",
      "metadata": {
        "colab": {
          "base_uri": "https://localhost:8080/",
          "height": 300
        },
        "id": "cwCvH3WgLifI",
        "outputId": "29c1ba81-3915-454f-8d79-96ad6d8bf843"
      },
      "source": [
        "infection_data_reg = [(name,\n",
        "                   male_df[\"T.categ\"].to_list().count(name),\n",
        "                   male_df.query(\"state == 'NSW'\")[\"T.categ\"].to_list().count(name),\n",
        "                   male_df.query(\"state == 'VIC'\")[\"T.categ\"].to_list().count(name),\n",
        "                   male_df.query(\"state == 'QLD'\")[\"T.categ\"].to_list().count(name)) \n",
        "                  for name in male_df[\"T.categ\"].unique() \n",
        "                  if male_df[\"T.categ\"].to_list().count(name) > 0]\n",
        "\n",
        "infection_data_reg = sorted(infection_data_reg, key=itemgetter(1))\n",
        "infection_df = pd.DataFrame.from_records(infection_data_reg, \n",
        "                                         columns=[\"Category\", \"Total\", \"NSW\", \"VIC\", \"QLD\"])\n",
        "infection_df"
      ],
      "execution_count": null,
      "outputs": [
        {
          "output_type": "execute_result",
          "data": {
            "text/html": [
              "<div>\n",
              "<style scoped>\n",
              "    .dataframe tbody tr th:only-of-type {\n",
              "        vertical-align: middle;\n",
              "    }\n",
              "\n",
              "    .dataframe tbody tr th {\n",
              "        vertical-align: top;\n",
              "    }\n",
              "\n",
              "    .dataframe thead th {\n",
              "        text-align: right;\n",
              "    }\n",
              "</style>\n",
              "<table border=\"1\" class=\"dataframe\">\n",
              "  <thead>\n",
              "    <tr style=\"text-align: right;\">\n",
              "      <th></th>\n",
              "      <th>Category</th>\n",
              "      <th>Total</th>\n",
              "      <th>NSW</th>\n",
              "      <th>VIC</th>\n",
              "      <th>QLD</th>\n",
              "    </tr>\n",
              "  </thead>\n",
              "  <tbody>\n",
              "    <tr>\n",
              "      <th>0</th>\n",
              "      <td>mother</td>\n",
              "      <td>3</td>\n",
              "      <td>2</td>\n",
              "      <td>0</td>\n",
              "      <td>0</td>\n",
              "    </tr>\n",
              "    <tr>\n",
              "      <th>1</th>\n",
              "      <td>het</td>\n",
              "      <td>21</td>\n",
              "      <td>12</td>\n",
              "      <td>3</td>\n",
              "      <td>3</td>\n",
              "    </tr>\n",
              "    <tr>\n",
              "      <th>2</th>\n",
              "      <td>id</td>\n",
              "      <td>28</td>\n",
              "      <td>15</td>\n",
              "      <td>3</td>\n",
              "      <td>3</td>\n",
              "    </tr>\n",
              "    <tr>\n",
              "      <th>3</th>\n",
              "      <td>haem</td>\n",
              "      <td>46</td>\n",
              "      <td>30</td>\n",
              "      <td>6</td>\n",
              "      <td>4</td>\n",
              "    </tr>\n",
              "    <tr>\n",
              "      <th>4</th>\n",
              "      <td>blood</td>\n",
              "      <td>57</td>\n",
              "      <td>41</td>\n",
              "      <td>2</td>\n",
              "      <td>11</td>\n",
              "    </tr>\n",
              "    <tr>\n",
              "      <th>5</th>\n",
              "      <td>other</td>\n",
              "      <td>63</td>\n",
              "      <td>37</td>\n",
              "      <td>14</td>\n",
              "      <td>4</td>\n",
              "    </tr>\n",
              "    <tr>\n",
              "      <th>6</th>\n",
              "      <td>hsid</td>\n",
              "      <td>72</td>\n",
              "      <td>50</td>\n",
              "      <td>11</td>\n",
              "      <td>7</td>\n",
              "    </tr>\n",
              "    <tr>\n",
              "      <th>7</th>\n",
              "      <td>hs</td>\n",
              "      <td>2464</td>\n",
              "      <td>1539</td>\n",
              "      <td>536</td>\n",
              "      <td>185</td>\n",
              "    </tr>\n",
              "  </tbody>\n",
              "</table>\n",
              "</div>"
            ],
            "text/plain": [
              "  Category  Total   NSW  VIC  QLD\n",
              "0   mother      3     2    0    0\n",
              "1      het     21    12    3    3\n",
              "2       id     28    15    3    3\n",
              "3     haem     46    30    6    4\n",
              "4    blood     57    41    2   11\n",
              "5    other     63    37   14    4\n",
              "6     hsid     72    50   11    7\n",
              "7       hs   2464  1539  536  185"
            ]
          },
          "metadata": {
            "tags": []
          },
          "execution_count": 41
        }
      ]
    },
    {
      "cell_type": "code",
      "metadata": {
        "colab": {
          "base_uri": "https://localhost:8080/",
          "height": 238
        },
        "id": "96TbIETSN-fJ",
        "outputId": "99ef03db-7105-48cc-9a98-61ee62966efb"
      },
      "source": [
        "infection_df_opt = infection_df[(infection_df[\"Category\"] != \"other\") & (infection_df[\"Category\"] != \"hs\")]\n",
        "infection_df_opt"
      ],
      "execution_count": null,
      "outputs": [
        {
          "output_type": "execute_result",
          "data": {
            "text/html": [
              "<div>\n",
              "<style scoped>\n",
              "    .dataframe tbody tr th:only-of-type {\n",
              "        vertical-align: middle;\n",
              "    }\n",
              "\n",
              "    .dataframe tbody tr th {\n",
              "        vertical-align: top;\n",
              "    }\n",
              "\n",
              "    .dataframe thead th {\n",
              "        text-align: right;\n",
              "    }\n",
              "</style>\n",
              "<table border=\"1\" class=\"dataframe\">\n",
              "  <thead>\n",
              "    <tr style=\"text-align: right;\">\n",
              "      <th></th>\n",
              "      <th>Category</th>\n",
              "      <th>Total</th>\n",
              "      <th>NSW</th>\n",
              "      <th>VIC</th>\n",
              "      <th>QLD</th>\n",
              "    </tr>\n",
              "  </thead>\n",
              "  <tbody>\n",
              "    <tr>\n",
              "      <th>0</th>\n",
              "      <td>mother</td>\n",
              "      <td>3</td>\n",
              "      <td>2</td>\n",
              "      <td>0</td>\n",
              "      <td>0</td>\n",
              "    </tr>\n",
              "    <tr>\n",
              "      <th>1</th>\n",
              "      <td>het</td>\n",
              "      <td>21</td>\n",
              "      <td>12</td>\n",
              "      <td>3</td>\n",
              "      <td>3</td>\n",
              "    </tr>\n",
              "    <tr>\n",
              "      <th>2</th>\n",
              "      <td>id</td>\n",
              "      <td>28</td>\n",
              "      <td>15</td>\n",
              "      <td>3</td>\n",
              "      <td>3</td>\n",
              "    </tr>\n",
              "    <tr>\n",
              "      <th>3</th>\n",
              "      <td>haem</td>\n",
              "      <td>46</td>\n",
              "      <td>30</td>\n",
              "      <td>6</td>\n",
              "      <td>4</td>\n",
              "    </tr>\n",
              "    <tr>\n",
              "      <th>4</th>\n",
              "      <td>blood</td>\n",
              "      <td>57</td>\n",
              "      <td>41</td>\n",
              "      <td>2</td>\n",
              "      <td>11</td>\n",
              "    </tr>\n",
              "    <tr>\n",
              "      <th>6</th>\n",
              "      <td>hsid</td>\n",
              "      <td>72</td>\n",
              "      <td>50</td>\n",
              "      <td>11</td>\n",
              "      <td>7</td>\n",
              "    </tr>\n",
              "  </tbody>\n",
              "</table>\n",
              "</div>"
            ],
            "text/plain": [
              "  Category  Total  NSW  VIC  QLD\n",
              "0   mother      3    2    0    0\n",
              "1      het     21   12    3    3\n",
              "2       id     28   15    3    3\n",
              "3     haem     46   30    6    4\n",
              "4    blood     57   41    2   11\n",
              "6     hsid     72   50   11    7"
            ]
          },
          "metadata": {
            "tags": []
          },
          "execution_count": 42
        }
      ]
    },
    {
      "cell_type": "code",
      "metadata": {
        "id": "aVMrmpUfPA98"
      },
      "source": [
        "df_draw = pd.DataFrame({\"NSW\": infection_df[\"NSW\"].to_list(),\n",
        "                        \"VIC\": infection_df[\"VIC\"].to_list(),\n",
        "                        \"QLD\": infection_df[\"QLD\"].to_list()},\n",
        "                       index=infection_df[\"Category\"].to_list())\n",
        "df_draw_opt = pd.DataFrame({\"NSW\": infection_df_opt[\"NSW\"].to_list(),\n",
        "                        \"VIC\": infection_df_opt[\"VIC\"].to_list(),\n",
        "                        \"QLD\": infection_df_opt[\"QLD\"].to_list()},\n",
        "                       index=infection_df_opt[\"Category\"].to_list())"
      ],
      "execution_count": null,
      "outputs": []
    },
    {
      "cell_type": "code",
      "metadata": {
        "colab": {
          "base_uri": "https://localhost:8080/",
          "height": 320
        },
        "id": "rzKKNMLNQ2NZ",
        "outputId": "60a25f7a-a835-4802-ce6e-fa94ea5358f4"
      },
      "source": [
        "fig, axes = plt.subplots(nrows=1, ncols=2)\n",
        "df_draw.plot.barh(ax=axes[0],\n",
        "                  color=[\"deepskyblue\", \"mediumspringgreen\", \"orange\"],\n",
        "                  stacked=True,\n",
        "                  figsize=(12, 5));\n",
        "df_draw_opt.plot.barh(ax=axes[1],\n",
        "                      color=[\"deepskyblue\", \"mediumspringgreen\", \"orange\"],\n",
        "                      stacked=True,\n",
        "                      figsize=(12, 5));"
      ],
      "execution_count": null,
      "outputs": [
        {
          "output_type": "display_data",
          "data": {
            "image/png": "[encoded data removed]",
            "text/plain": [
              "<Figure size 864x360 with 2 Axes>"
            ]
          },
          "metadata": {
            "tags": [],
            "needs_background": "light"
          }
        }
      ]
    },
    {
      "cell_type": "markdown",
      "metadata": {
        "id": "yIhyVHbK4-c-"
      },
      "source": [
        "## Тренировочное задание"
      ]
    },
    {
      "cell_type": "markdown",
      "metadata": {
        "id": "fNdFiUPZ5Chz"
      },
      "source": [
        "Тренировочный датасет: [вакицнация COVID](https://drive.google.com/file/d/1TtQ6_A5XQ0nBuyuC1EsJuPi0D70LMwS1/view?usp=sharing)."
      ]
    },
    {
      "cell_type": "code",
      "metadata": {
        "id": "S-g2__775CJc",
        "colab": {
          "base_uri": "https://localhost:8080/",
          "height": 168
        },
        "outputId": "83e74d9e-470b-4a3e-d104-fcddb3ebaf1e"
      },
      "source": [
        "df = pd.read_excel(\"country_vaccinations.xls\")"
      ],
      "execution_count": null,
      "outputs": [
        {
          "output_type": "error",
          "ename": "NameError",
          "evalue": "ignored",
          "traceback": [
            "\u001b[0;31m---------------------------------------------------------------------------\u001b[0m",
            "\u001b[0;31mNameError\u001b[0m                                 Traceback (most recent call last)",
            "\u001b[0;32m<ipython-input-1-23a580346ef0>\u001b[0m in \u001b[0;36m<module>\u001b[0;34m()\u001b[0m\n\u001b[0;32m----> 1\u001b[0;31m \u001b[0mdf\u001b[0m \u001b[0;34m=\u001b[0m \u001b[0mpd\u001b[0m\u001b[0;34m.\u001b[0m\u001b[0mread_excel\u001b[0m\u001b[0;34m(\u001b[0m\u001b[0;34m\"country_vaccinations.xls\"\u001b[0m\u001b[0;34m)\u001b[0m\u001b[0;34m\u001b[0m\u001b[0;34m\u001b[0m\u001b[0m\n\u001b[0m",
            "\u001b[0;31mNameError\u001b[0m: name 'pd' is not defined"
          ]
        }
      ]
    },
    {
      "cell_type": "markdown",
      "metadata": {
        "id": "5LqBu2z65cWb"
      },
      "source": [
        "1. Визуализировать распределение прошедших вакционацию людей по странам Европы.\n",
        "2. Показать изменение количества вакцинаций в день для любой страны.\n",
        "3. Какие вакцины используются в каких странах?\n",
        "4. Визуализировать распределение прошедших вакционацию людей по странам Европы в процентах.\n"
      ]
    }
  ]
}