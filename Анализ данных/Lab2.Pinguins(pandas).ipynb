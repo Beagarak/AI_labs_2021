{
  "nbformat": 4,
  "nbformat_minor": 0,
  "metadata": {
    "colab": {
      "name": "Карагаев Валерий_Lab2.ipynb",
      "provenance": [],
      "collapsed_sections": []
    },
    "kernelspec": {
      "display_name": "Python 3",
      "name": "python3"
    },
    "language_info": {
      "name": "python"
    }
  },
  "cells": [
    {
      "cell_type": "markdown",
      "metadata": {
        "id": "LF8GjRbUNJXo"
      },
      "source": [
        "# Задание 0 (1 балл)"
      ]
    },
    {
      "cell_type": "markdown",
      "metadata": {
        "id": "JHNIGB9xJihd"
      },
      "source": [
        "Данные, которые нужно использовать для выполнения задания, возьмите [здесь](https://www.kaggle.com/parulpandey/palmer-archipelago-antarctica-penguin-data).\n",
        "\n",
        "Данные расположены в двух таблицах: **penguins_iter** и **penguiuns_size**. Для этой лабораторной работы вам понадобится только таблица **penguiuns_size**.\n",
        "\n",
        "**penguins_size** содержит следующую информацию:\n",
        "* `species`: вид, к которому относится пингвин\n",
        "* `culmen_length_mm`: длина клюва\n",
        "* `culmen_depth_mm`: глубина клюва\n",
        "* `flipper_length_mm`: длина ласт\n",
        "* `body_mass_g`: масса тела\n",
        "* `island`: название острова, на котором пингвин обитает\n",
        "* `sex`: пол пингвина\n",
        "\n"
      ]
    },
    {
      "cell_type": "markdown",
      "metadata": {
        "id": "mY64YTl_M8Ch"
      },
      "source": [
        "1. Загрузите файл с данными к себе на Гугл диск и подключите его в Google Colab через `mount.drive`.\n",
        "2. Выведите общую статистику по всем числовым и нечисловым столбцам с помощью функции `describe()`.\n",
        "3. Узнайте размеры датасета с помощью функции `shape`.\n",
        "4. Выведите 4 первые строки датасета."
      ]
    },
    {
      "cell_type": "code",
      "metadata": {
        "colab": {
          "base_uri": "https://localhost:8080/"
        },
        "id": "jGJgLRDXNGjN",
        "outputId": "cdd845c9-38bf-4c9a-f3ab-6883e6fb5eb2"
      },
      "source": [
        "import pandas as pd\n",
        "from google.colab import drive\n",
        "drive.mount('/content/drive')\n",
        "data = pd.read_csv('/content/drive/MyDrive/penguins_size.csv')\n",
        "\n",
        "#Выводим общую статистику\n",
        "print(data.describe(include='all'))\n",
        "\n",
        "#Узнаем размеры датасета:\n",
        "print(f'Размер датасета: {data.shape}')\n",
        "\n",
        "#Выводим первые 4 строки:\n",
        "print(data.head(4))\n",
        "\n",
        "\n",
        "# pd.set_option('display.max_rows', None)\n",
        "# pd.set_option('display.max_columns', 5)"
      ],
      "execution_count": null,
      "outputs": [
        {
          "output_type": "stream",
          "name": "stdout",
          "text": [
            "Mounted at /content/drive\n",
            "       species  island  culmen_length_mm  ...  flipper_length_mm  body_mass_g   sex\n",
            "count      344     344        342.000000  ...         342.000000   342.000000   334\n",
            "unique       3       3               NaN  ...                NaN          NaN     3\n",
            "top     Adelie  Biscoe               NaN  ...                NaN          NaN  MALE\n",
            "freq       152     168               NaN  ...                NaN          NaN   168\n",
            "mean       NaN     NaN         43.921930  ...         200.915205  4201.754386   NaN\n",
            "std        NaN     NaN          5.459584  ...          14.061714   801.954536   NaN\n",
            "min        NaN     NaN         32.100000  ...         172.000000  2700.000000   NaN\n",
            "25%        NaN     NaN         39.225000  ...         190.000000  3550.000000   NaN\n",
            "50%        NaN     NaN         44.450000  ...         197.000000  4050.000000   NaN\n",
            "75%        NaN     NaN         48.500000  ...         213.000000  4750.000000   NaN\n",
            "max        NaN     NaN         59.600000  ...         231.000000  6300.000000   NaN\n",
            "\n",
            "[11 rows x 7 columns]\n",
            "Размер датасета: (344, 7)\n",
            "  species     island  culmen_length_mm  ...  flipper_length_mm  body_mass_g     sex\n",
            "0  Adelie  Torgersen              39.1  ...              181.0       3750.0    MALE\n",
            "1  Adelie  Torgersen              39.5  ...              186.0       3800.0  FEMALE\n",
            "2  Adelie  Torgersen              40.3  ...              195.0       3250.0  FEMALE\n",
            "3  Adelie  Torgersen               NaN  ...                NaN          NaN     NaN\n",
            "\n",
            "[4 rows x 7 columns]\n"
          ]
        }
      ]
    },
    {
      "cell_type": "markdown",
      "metadata": {
        "id": "5YqJrXCxIxuI"
      },
      "source": [
        "# Задание 1 (1 балл)"
      ]
    },
    {
      "cell_type": "markdown",
      "metadata": {
        "id": "fDuzlPwPOWzv"
      },
      "source": [
        "1. Узнайте, сколько видов пингвинов представлено в таблице.\n",
        "2. Посчитайте долю пингвинов каждого вида. "
      ]
    },
    {
      "cell_type": "code",
      "metadata": {
        "colab": {
          "base_uri": "https://localhost:8080/"
        },
        "id": "RqURVZSOIvfO",
        "outputId": "6501bf97-c5bd-49a3-f6d1-d3575f0f814f"
      },
      "source": [
        "#Виды пингвинов\n",
        "print(f'Список уникальных видов: {data.species.unique()}\\nЧисло уникальных видов: {len(data.species.unique())} \\n')\n",
        "\n",
        "print('Доля пингвинов каждого вида:')\n",
        "print(data['species'].value_counts(normalize=True))\n"
      ],
      "execution_count": null,
      "outputs": [
        {
          "output_type": "stream",
          "name": "stdout",
          "text": [
            "Список уникальных видов: ['Adelie' 'Chinstrap' 'Gentoo']\n",
            "Число уникальных видов: 3 \n",
            "\n",
            "Доля пингвинов каждого вида:\n",
            "Adelie       0.441860\n",
            "Gentoo       0.360465\n",
            "Chinstrap    0.197674\n",
            "Name: species, dtype: float64\n"
          ]
        }
      ]
    },
    {
      "cell_type": "markdown",
      "metadata": {
        "id": "N7mTAMM4VIqY"
      },
      "source": [
        "# Задание 2 (1 балл)"
      ]
    },
    {
      "cell_type": "markdown",
      "metadata": {
        "id": "jVwfcjouVIqZ"
      },
      "source": [
        "1. Сколько островов, на которых обитают пингвины, представлено в таблице?\n",
        "2. Выведите количество пингвинов, обитающих на каждом из островов."
      ]
    },
    {
      "cell_type": "code",
      "metadata": {
        "colab": {
          "base_uri": "https://localhost:8080/"
        },
        "id": "uoSg92FEVIqZ",
        "outputId": "69a46553-a68f-41b8-fccc-2d1f9ee1537f"
      },
      "source": [
        "#Представленные острова\n",
        "print(f'Список островов: {data.island.unique()}\\nЧисло островов: {len(data.island.unique())} \\n')\n",
        "\n",
        "print(f'Количество пингвинов на каждом острове:')\n",
        "print(data['island'].value_counts())"
      ],
      "execution_count": null,
      "outputs": [
        {
          "output_type": "stream",
          "name": "stdout",
          "text": [
            "Список островов: ['Torgersen' 'Biscoe' 'Dream']\n",
            "Число островов: 3 \n",
            "\n",
            "Количество пингвинов на каждом острове:\n",
            "Biscoe       168\n",
            "Dream        124\n",
            "Torgersen     52\n",
            "Name: island, dtype: int64\n"
          ]
        }
      ]
    },
    {
      "cell_type": "markdown",
      "metadata": {
        "id": "j1NfVIONI2dW"
      },
      "source": [
        "# Задание 3 (1 балл)"
      ]
    },
    {
      "cell_type": "markdown",
      "metadata": {
        "id": "fSXbSRCZOsgg"
      },
      "source": [
        "1. Найдите id пингвина с самым длинным клювом и с самым коротким. Выведите всю информацию о каждом из этих пингвинов в виде таблицы.\n",
        "2. Посчитайте, насколько самый длинный клюв длиннее самого короткого."
      ]
    },
    {
      "cell_type": "code",
      "metadata": {
        "colab": {
          "base_uri": "https://localhost:8080/"
        },
        "id": "dch9AAIrI2dZ",
        "outputId": "8cc62c34-6284-4cf7-a517-6a5e9fafa337"
      },
      "source": [
        "min_culmen_row = data.nsmallest(1,'culmen_length_mm')\n",
        "max_culmen_row = data.nlargest(1,'culmen_length_mm')\n",
        "print('Пингвинс с самым коротким клювом')\n",
        "print(min_culmen_row, '\\n')\n",
        "print('Пингвинс с самым длинным клювом')\n",
        "print(max_culmen_row,'\\n')\n",
        "\n",
        "#Считаем разницу\n",
        "min_culmen = data.at[min_culmen_row.index[0], 'culmen_length_mm'] \n",
        "max_culmen = data.at[max_culmen_row.index[0], 'culmen_length_mm']\n",
        "res = max_culmen - min_culmen \n",
        "print('Разница длины клювов', res)\n"
      ],
      "execution_count": null,
      "outputs": [
        {
          "output_type": "stream",
          "name": "stdout",
          "text": [
            "Пингвинс с самым коротким клювом\n",
            "    species island  ...  body_mass_g     sex\n",
            "142  Adelie  Dream  ...       3050.0  FEMALE\n",
            "\n",
            "[1 rows x 7 columns] \n",
            "\n",
            "Пингвинс с самым длинным клювом\n",
            "    species  island  ...  body_mass_g   sex\n",
            "253  Gentoo  Biscoe  ...       6050.0  MALE\n",
            "\n",
            "[1 rows x 7 columns] \n",
            "\n",
            "Разница длины клювов 27.5\n"
          ]
        }
      ]
    },
    {
      "cell_type": "markdown",
      "metadata": {
        "id": "gQd_Jgn2I2lL"
      },
      "source": [
        "# Задание 4 (1.5 балла)"
      ]
    },
    {
      "cell_type": "markdown",
      "metadata": {
        "id": "ymI_48D_PddK"
      },
      "source": [
        "1. Найдите среднее соотношение между длиной и глубиной клюва.\n",
        "2. Найдите среднее соотношение между массой тела пингвина и длиной его ласт.\n",
        "3. Постройте корреляционную матрицу для значений столбцов `culmen_length_mm`, `culmen_depth_mm`, `flipper_length_mm`, `body_mass_g`."
      ]
    },
    {
      "cell_type": "code",
      "metadata": {
        "id": "NliQL8sUI2lO"
      },
      "source": [
        "length_by_width = data['culmen_length_mm'] / data['culmen_depth_mm']\n",
        "res = length_by_width.mean()\n",
        "print(f'Cреднее соотношение между длиной и глубиной клюва: {res}')\n",
        "\n",
        "mass_by_last = data['body_mass_g'] / data['flipper_length_mm']\n",
        "res1 = mass_by_last.mean()\n",
        "print(f'среднее соотношение между массой тела пингвина и длиной его ласт: {res1}\\n')\n",
        "\n",
        "data_for_corr = data[['culmen_length_mm', 'culmen_depth_mm', 'flipper_length_mm', 'body_mass_g']]\n",
        "print(data_for_corr.corr())"
      ],
      "execution_count": null,
      "outputs": []
    },
    {
      "cell_type": "markdown",
      "metadata": {
        "id": "iec_syqwI20p"
      },
      "source": [
        "# Задание 5 (1 балл)"
      ]
    },
    {
      "cell_type": "markdown",
      "metadata": {
        "id": "XixgeBv_QAGx"
      },
      "source": [
        "1. О пингвинах какого вида в таблице больше всего недостающих данных? (Строк с `NaN`)\n",
        "2. Какой информации о пингвинах чаще всего не хватает?"
      ]
    },
    {
      "cell_type": "code",
      "metadata": {
        "id": "YvjhDawkI20q",
        "colab": {
          "base_uri": "https://localhost:8080/"
        },
        "outputId": "3a4b66e9-3dc1-4367-84de-175701138766"
      },
      "source": [
        "data_copy = data.copy()\n",
        "data_copy['empty'] = data_copy.isnull().sum(axis=1)\n",
        "res = data_copy[data_copy['empty'] > 0]['species'].value_counts().nlargest(1)\n",
        "print(f'Больше всего недостающих данных: {res}\\n')\n",
        "\n",
        "# Поиск столбца с наибольшим кол-вом пропусков\n",
        "amount_of_empty = data.isnull().sum(axis=0)\n",
        "max_empty = amount_of_empty.max()\n",
        "res = amount_of_empty[amount_of_empty == max_empty].index[0]\n",
        "print(f'Чаще всего не хватает информации: \\'{res}\\'')"
      ],
      "execution_count": null,
      "outputs": [
        {
          "output_type": "stream",
          "name": "stdout",
          "text": [
            "Больше всего недостающих данных: Adelie    6\n",
            "Name: species, dtype: int64\n",
            "\n",
            "Чаще всего не хватает информации: 'sex'\n"
          ]
        }
      ]
    },
    {
      "cell_type": "markdown",
      "metadata": {
        "id": "KL8kIQMdI28Z"
      },
      "source": [
        "# Задание 6 (1 балл)"
      ]
    },
    {
      "cell_type": "markdown",
      "metadata": {
        "id": "Ielz_bg9QPyB"
      },
      "source": [
        "По данным из таблицы узнайте, как по размеру клюва, ласт и общей массе тела мужские особи отличаются от женских. Ответ по каждому признаку усредните."
      ]
    },
    {
      "cell_type": "code",
      "metadata": {
        "id": "JQxlzePMI28a",
        "colab": {
          "base_uri": "https://localhost:8080/"
        },
        "outputId": "4e1e15ce-11a4-4951-ca54-259c5249d95f"
      },
      "source": [
        "m_data = data[data['sex'] == 'MALE']\n",
        "f_data = data[data['sex'] == 'FEMALE']\n",
        "\n",
        "f_culmen = f_data['culmen_length_mm']\n",
        "m_culmen = m_data['culmen_length_mm']\n",
        "average_f_culmen = f_culmen.mean()\n",
        "average_m_culmen = m_culmen.mean()\n",
        "print(f'Средняя длина клюва женской особи: {average_f_culmen}мм')\n",
        "print(f'Средняя длина клюва мужской особи: {average_m_culmen}мм')\n",
        "if average_m_culmen > average_f_culmen:\n",
        "    sub_culmen = m_culmen.sub(f_culmen,fill_value=0).mean()\n",
        "    print(f'Клюв мужской особи длиннее на {sub_culmen}мм\\n')\n",
        "else:\n",
        "    sub_culmen = f_culmen.sub(m_culmen,fill_value=0).mean()\n",
        "    print(f'Клюв женской особи длиннее на {f_culmen - m_culmen}мм\\n')\n",
        "\n",
        "f_last = f_data['flipper_length_mm']\n",
        "m_last = m_data['flipper_length_mm']\n",
        "average_f_last = f_last.mean()\n",
        "average_m_last = m_last.mean()\n",
        "print(f'Средняя длина ласт женской особи: {average_f_last}мм')\n",
        "print(f'Средняя длина ласт мужской особи: {average_m_last}мм')\n",
        "if average_m_last > average_f_last:\n",
        "    sub_last = m_last.sub(f_last,fill_value=0).mean()\n",
        "    print(f'Ласты мужской особи длиннее на {sub_last}мм\\n')\n",
        "else:\n",
        "    sub_last = f_last.sub(m_last,fill_value=0).mean()\n",
        "    print(f'Ласты женской особи длиннее на {sub_last}мм\\n')\n",
        "\n",
        "f_mass = f_data['body_mass_g']\n",
        "m_mass = m_data['body_mass_g']\n",
        "average_f_mass = f_mass.mean()\n",
        "average_m_mass = m_mass.mean()\n",
        "print(f'Средняя масса женской особи: {average_f_mass}г')\n",
        "print(f'Средняя масса мужской особи: {average_m_mass}г')\n",
        "if average_m_mass > average_f_mass:\n",
        "    sub_mass = m_mass.sub(f_mass,fill_value=0).mean()\n",
        "    print(f'Масса мужской особи больше на {sub_mass}г\\n')\n",
        "else:\n",
        "    sub_mass = f_mass.sub(m_mass,fill_value=0).mean()\n",
        "    print(f'Масса женской особи больше на {sub_mass}г\\n')\n",
        "\n",
        "# f_mass = f_data['body_mass_g'].mean()\n",
        "# m_mass = m_data['body_mass_g'].mean()\n",
        "# print(f'Средняя масса женской особи: {f_mass}г')\n",
        "# print(f'Средняя масса мужской особи: {m_mass}г')\n",
        "# if m_mass > f_mass:\n",
        "#   print(f'Масса мужской особи больше на {m_mass - f_mass}г\\n')\n",
        "# else:\n",
        "#   print(f'Масса женской особи больше на {f_mass - m_mass}г\\n')"
      ],
      "execution_count": null,
      "outputs": [
        {
          "output_type": "stream",
          "name": "stdout",
          "text": [
            "Средняя длина клюва женской особи: 42.09696969696968мм\n",
            "Средняя длина клюва мужской особи: 45.854761904761894мм\n",
            "Клюв мужской особи длиннее на 2.275075075075075мм\n",
            "\n",
            "Средняя длина ласт женской особи: 197.36363636363637мм\n",
            "Средняя длина ласт мужской особи: 204.50595238095238мм\n",
            "Ласты мужской особи длиннее на 5.381381381381382мм\n",
            "\n",
            "Средняя масса женской особи: 3862.2727272727275г\n",
            "Средняя масса мужской особи: 4545.684523809524г\n",
            "Масса мужской особи больше на 379.57957957957956г\n",
            "\n"
          ]
        }
      ]
    },
    {
      "cell_type": "markdown",
      "metadata": {
        "id": "UG5AAwX7I3Eh"
      },
      "source": [
        "# Задание 7 (1 балл)"
      ]
    },
    {
      "cell_type": "markdown",
      "metadata": {
        "id": "lN06XT2gQv-L"
      },
      "source": [
        "По данным из таблицы узнайте, равномерно ли демографиески (процент мужских и женских особей) пингвины распределены по каждому из островов."
      ]
    },
    {
      "cell_type": "code",
      "metadata": {
        "id": "XE0kXrP3I3Ei",
        "colab": {
          "base_uri": "https://localhost:8080/"
        },
        "outputId": "703c43dc-c3fd-44f4-d4e2-9a7c70b933d6"
      },
      "source": [
        "islands = data['island'].unique()\n",
        "data_copy = data.dropna()\n",
        "data_copy = data_copy[data_copy['sex'] != \".\"]\n",
        "for i in islands:\n",
        "    cur_island = data_copy[data_copy['island'] == i]\n",
        "    print('Остров:', i)\n",
        "    print(cur_island['sex'].value_counts(normalize=True), '\\n')\n"
      ],
      "execution_count": null,
      "outputs": [
        {
          "output_type": "stream",
          "name": "stdout",
          "text": [
            "Остров: Torgersen\n",
            "FEMALE    0.510638\n",
            "MALE      0.489362\n",
            "Name: sex, dtype: float64 \n",
            "\n",
            "Остров: Biscoe\n",
            "MALE      0.509202\n",
            "FEMALE    0.490798\n",
            "Name: sex, dtype: float64 \n",
            "\n",
            "Остров: Dream\n",
            "MALE      0.504065\n",
            "FEMALE    0.495935\n",
            "Name: sex, dtype: float64 \n",
            "\n"
          ]
        }
      ]
    },
    {
      "cell_type": "markdown",
      "metadata": {
        "id": "j0J6p25sI3MU"
      },
      "source": [
        "# Задание 8 (1.5 балла)"
      ]
    },
    {
      "cell_type": "markdown",
      "metadata": {
        "id": "f4aax6eARC9D"
      },
      "source": [
        "1. Узнайте, к какому виду принадлежат самые крупные по массе тела пингвины.\n",
        "2. В каком количестве популяция этого вида представлена на каждом из островов?\n",
        "3. Равное ли соотношение мужских и женских особей этого вида?"
      ]
    },
    {
      "cell_type": "code",
      "metadata": {
        "id": "de8g7fqQI3MV",
        "colab": {
          "base_uri": "https://localhost:8080/"
        },
        "outputId": "a336faee-a052-42dc-c9bb-e981ca0d5766"
      },
      "source": [
        "max_mass_species = data.at[int(data[['body_mass_g']].idxmax()), 'species']\n",
        "print(f'Самые крупные по массе тела пингвины: {max_mass_species} \\n')\n",
        "print('Количество пингвинов нашего вида по островам:')\n",
        "for i in data['island'].unique():\n",
        "    print(f'{i}: {len(data.loc[(data.species == max_mass_species) & (data.island == i)])}')\n",
        "print('\\n')    \n",
        "print('Количество мужских и женских особей нашего вида:')\n",
        "print('FEMALE: ', len(data.loc[(data.species == max_mass_species) & (data.sex == 'FEMALE')]))\n",
        "print('MALE: ', len(data.loc[(data.species == max_mass_species) & (data.sex == 'MALE')]))"
      ],
      "execution_count": null,
      "outputs": [
        {
          "output_type": "stream",
          "name": "stdout",
          "text": [
            "Самые крупные по массе тела пингвины: Gentoo \n",
            "\n",
            "Количество пингвинов нашего вида по островам:\n",
            "Torgersen: 0\n",
            "Biscoe: 124\n",
            "Dream: 0\n",
            "\n",
            "\n",
            "Количество мужских и женских особей нашего вида:\n",
            "FEMALE:  58\n",
            "MALE:  61\n"
          ]
        }
      ]
    }
  ]
}