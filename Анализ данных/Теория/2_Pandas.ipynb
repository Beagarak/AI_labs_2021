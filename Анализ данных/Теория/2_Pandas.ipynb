{
  "nbformat": 4,
  "nbformat_minor": 0,
  "metadata": {
    "hide_input": false,
    "kernelspec": {
      "display_name": "Python 3",
      "language": "python",
      "name": "python3"
    },
    "language_info": {
      "codemirror_mode": {
        "name": "ipython",
        "version": 3
      },
      "file_extension": ".py",
      "mimetype": "text/x-python",
      "name": "python",
      "nbconvert_exporter": "python",
      "pygments_lexer": "ipython3",
      "version": "3.7.0"
    },
    "toc": {
      "base_numbering": 1,
      "nav_menu": {},
      "number_sections": true,
      "sideBar": true,
      "skip_h1_title": false,
      "title_cell": "Table of Contents",
      "title_sidebar": "Contents",
      "toc_cell": false,
      "toc_position": {
        "height": "829px",
        "left": "1473.61px",
        "top": "110px",
        "width": "340.788px"
      },
      "toc_section_display": true,
      "toc_window_display": false
    },
    "colab": {
      "name": "2 Pandas.ipynb",
      "provenance": []
    }
  },
  "cells": [
    {
      "cell_type": "markdown",
      "metadata": {
        "heading_collapsed": true,
        "id": "IcarTecDtPUT"
      },
      "source": [
        "### Библиотеки"
      ]
    },
    {
      "cell_type": "markdown",
      "metadata": {
        "id": "PgBAGr7PbLTj"
      },
      "source": [
        "Pandas — это библиотека Python, предоставляющая широкие возможности для анализа данных. Данные, с которыми работают датасаентисты, часто хранятся в форме табличек — например, в форматах .csv, .tsv или .xlsx. С помощью библиотеки Pandas такие табличные данные очень удобно загружать, обрабатывать и анализировать с помощью SQL-подобных запросов."
      ]
    },
    {
      "cell_type": "markdown",
      "metadata": {
        "id": "r_tigpv5bbuv"
      },
      "source": [
        "Дополнительные материалы:\n",
        "1. Документация Pandas - https://pandas.pydata.org/pandas-docs/stable/user_guide/index.html\n",
        "2. \"Python и анализ данных\", автор Уэс Маккинни \n",
        "3. \"Изучаем pandas\", автор Майкл Хейдт\n"
      ]
    },
    {
      "cell_type": "code",
      "metadata": {
        "hidden": true,
        "id": "NR3XjjGCtPUY"
      },
      "source": [
        "import pandas as pd\n",
        "import numpy as np"
      ],
      "execution_count": null,
      "outputs": []
    },
    {
      "cell_type": "markdown",
      "metadata": {
        "heading_collapsed": true,
        "id": "zkUICce2tPUl"
      },
      "source": [
        "### Создание"
      ]
    },
    {
      "cell_type": "markdown",
      "metadata": {
        "id": "qsI9Hu6bamaB"
      },
      "source": [
        "pandas использует два новых вида структур данных: Series и DataFrame. Series хранит столбцы данных, DataFrame -  таблицы. Мы будем смотреть, как работать с таблицами."
      ]
    },
    {
      "cell_type": "markdown",
      "metadata": {
        "hidden": true,
        "id": "X3S_QIKatPVk"
      },
      "source": [
        "\n",
        "## Cоздаем DataFrame из двумерного списка"
      ]
    },
    {
      "cell_type": "code",
      "metadata": {
        "hidden": true,
        "id": "qucDhSGUtPVl",
        "colab": {
          "base_uri": "https://localhost:8080/",
          "height": 143
        },
        "outputId": "791bcf60-3ebd-4404-e458-0ec41a152964"
      },
      "source": [
        "df = pd.DataFrame([[10, 11], [20, 21], [30, 31]])\n",
        "df"
      ],
      "execution_count": null,
      "outputs": [
        {
          "output_type": "execute_result",
          "data": {
            "text/html": [
              "<div>\n",
              "<style scoped>\n",
              "    .dataframe tbody tr th:only-of-type {\n",
              "        vertical-align: middle;\n",
              "    }\n",
              "\n",
              "    .dataframe tbody tr th {\n",
              "        vertical-align: top;\n",
              "    }\n",
              "\n",
              "    .dataframe thead th {\n",
              "        text-align: right;\n",
              "    }\n",
              "</style>\n",
              "<table border=\"1\" class=\"dataframe\">\n",
              "  <thead>\n",
              "    <tr style=\"text-align: right;\">\n",
              "      <th></th>\n",
              "      <th>0</th>\n",
              "      <th>1</th>\n",
              "    </tr>\n",
              "  </thead>\n",
              "  <tbody>\n",
              "    <tr>\n",
              "      <th>0</th>\n",
              "      <td>10</td>\n",
              "      <td>11</td>\n",
              "    </tr>\n",
              "    <tr>\n",
              "      <th>1</th>\n",
              "      <td>20</td>\n",
              "      <td>21</td>\n",
              "    </tr>\n",
              "    <tr>\n",
              "      <th>2</th>\n",
              "      <td>30</td>\n",
              "      <td>31</td>\n",
              "    </tr>\n",
              "  </tbody>\n",
              "</table>\n",
              "</div>"
            ],
            "text/plain": [
              "    0   1\n",
              "0  10  11\n",
              "1  20  21\n",
              "2  30  31"
            ]
          },
          "metadata": {},
          "execution_count": 3
        }
      ]
    },
    {
      "cell_type": "markdown",
      "metadata": {
        "hidden": true,
        "id": "QzVGLmTUtPVu"
      },
      "source": [
        "Задаем имена столбцов"
      ]
    },
    {
      "cell_type": "code",
      "metadata": {
        "hidden": true,
        "id": "iBVkqRB0tPVw",
        "colab": {
          "base_uri": "https://localhost:8080/",
          "height": 339
        },
        "outputId": "d40b7ce3-cc6e-432d-daa6-427a4435ca3b"
      },
      "source": [
        "df = pd.DataFrame([[10, 11], [20, 21], [30, 31]],\n",
        "                  columns=['A', 'B'])\n",
        "print(df)\n",
        "display(df)\n",
        "df"
      ],
      "execution_count": null,
      "outputs": [
        {
          "output_type": "stream",
          "name": "stdout",
          "text": [
            "    A   B\n",
            "0  10  11\n",
            "1  20  21\n",
            "2  30  31\n"
          ]
        },
        {
          "output_type": "display_data",
          "data": {
            "text/html": [
              "<div>\n",
              "<style scoped>\n",
              "    .dataframe tbody tr th:only-of-type {\n",
              "        vertical-align: middle;\n",
              "    }\n",
              "\n",
              "    .dataframe tbody tr th {\n",
              "        vertical-align: top;\n",
              "    }\n",
              "\n",
              "    .dataframe thead th {\n",
              "        text-align: right;\n",
              "    }\n",
              "</style>\n",
              "<table border=\"1\" class=\"dataframe\">\n",
              "  <thead>\n",
              "    <tr style=\"text-align: right;\">\n",
              "      <th></th>\n",
              "      <th>A</th>\n",
              "      <th>B</th>\n",
              "    </tr>\n",
              "  </thead>\n",
              "  <tbody>\n",
              "    <tr>\n",
              "      <th>0</th>\n",
              "      <td>10</td>\n",
              "      <td>11</td>\n",
              "    </tr>\n",
              "    <tr>\n",
              "      <th>1</th>\n",
              "      <td>20</td>\n",
              "      <td>21</td>\n",
              "    </tr>\n",
              "    <tr>\n",
              "      <th>2</th>\n",
              "      <td>30</td>\n",
              "      <td>31</td>\n",
              "    </tr>\n",
              "  </tbody>\n",
              "</table>\n",
              "</div>"
            ],
            "text/plain": [
              "    A   B\n",
              "0  10  11\n",
              "1  20  21\n",
              "2  30  31"
            ]
          },
          "metadata": {}
        },
        {
          "output_type": "execute_result",
          "data": {
            "text/html": [
              "<div>\n",
              "<style scoped>\n",
              "    .dataframe tbody tr th:only-of-type {\n",
              "        vertical-align: middle;\n",
              "    }\n",
              "\n",
              "    .dataframe tbody tr th {\n",
              "        vertical-align: top;\n",
              "    }\n",
              "\n",
              "    .dataframe thead th {\n",
              "        text-align: right;\n",
              "    }\n",
              "</style>\n",
              "<table border=\"1\" class=\"dataframe\">\n",
              "  <thead>\n",
              "    <tr style=\"text-align: right;\">\n",
              "      <th></th>\n",
              "      <th>A</th>\n",
              "      <th>B</th>\n",
              "    </tr>\n",
              "  </thead>\n",
              "  <tbody>\n",
              "    <tr>\n",
              "      <th>0</th>\n",
              "      <td>10</td>\n",
              "      <td>11</td>\n",
              "    </tr>\n",
              "    <tr>\n",
              "      <th>1</th>\n",
              "      <td>20</td>\n",
              "      <td>21</td>\n",
              "    </tr>\n",
              "    <tr>\n",
              "      <th>2</th>\n",
              "      <td>30</td>\n",
              "      <td>31</td>\n",
              "    </tr>\n",
              "  </tbody>\n",
              "</table>\n",
              "</div>"
            ],
            "text/plain": [
              "    A   B\n",
              "0  10  11\n",
              "1  20  21\n",
              "2  30  31"
            ]
          },
          "metadata": {},
          "execution_count": 3
        }
      ]
    },
    {
      "cell_type": "markdown",
      "metadata": {
        "hidden": true,
        "id": "RDh5DzRctPW1"
      },
      "source": [
        "задаем имена столбцов после создания датафрейма"
      ]
    },
    {
      "cell_type": "code",
      "metadata": {
        "colab": {
          "base_uri": "https://localhost:8080/",
          "height": 142
        },
        "id": "tQhZ8JemXzUM",
        "outputId": "fc44e1da-5dd9-4a43-b5c1-55b756c13f0b"
      },
      "source": [
        "df = pd.DataFrame([[13, 121], [230, 211], [300, 31]])\n",
        "df"
      ],
      "execution_count": null,
      "outputs": [
        {
          "output_type": "execute_result",
          "data": {
            "text/html": [
              "<div>\n",
              "<style scoped>\n",
              "    .dataframe tbody tr th:only-of-type {\n",
              "        vertical-align: middle;\n",
              "    }\n",
              "\n",
              "    .dataframe tbody tr th {\n",
              "        vertical-align: top;\n",
              "    }\n",
              "\n",
              "    .dataframe thead th {\n",
              "        text-align: right;\n",
              "    }\n",
              "</style>\n",
              "<table border=\"1\" class=\"dataframe\">\n",
              "  <thead>\n",
              "    <tr style=\"text-align: right;\">\n",
              "      <th></th>\n",
              "      <th>0</th>\n",
              "      <th>1</th>\n",
              "    </tr>\n",
              "  </thead>\n",
              "  <tbody>\n",
              "    <tr>\n",
              "      <th>0</th>\n",
              "      <td>13</td>\n",
              "      <td>121</td>\n",
              "    </tr>\n",
              "    <tr>\n",
              "      <th>1</th>\n",
              "      <td>230</td>\n",
              "      <td>211</td>\n",
              "    </tr>\n",
              "    <tr>\n",
              "      <th>2</th>\n",
              "      <td>300</td>\n",
              "      <td>31</td>\n",
              "    </tr>\n",
              "  </tbody>\n",
              "</table>\n",
              "</div>"
            ],
            "text/plain": [
              "     0    1\n",
              "0   13  121\n",
              "1  230  211\n",
              "2  300   31"
            ]
          },
          "metadata": {},
          "execution_count": 3
        }
      ]
    },
    {
      "cell_type": "code",
      "metadata": {
        "colab": {
          "base_uri": "https://localhost:8080/"
        },
        "id": "xd0PL77k_wq7",
        "outputId": "4619191d-96f4-4925-ef2b-3d29309829fb"
      },
      "source": [
        "print(df)"
      ],
      "execution_count": null,
      "outputs": [
        {
          "output_type": "stream",
          "name": "stdout",
          "text": [
            "     0    1\n",
            "0   13  121\n",
            "1  230  211\n",
            "2  300   31\n"
          ]
        }
      ]
    },
    {
      "cell_type": "code",
      "metadata": {
        "hidden": true,
        "id": "Hslg2Kp7tPW3",
        "colab": {
          "base_uri": "https://localhost:8080/",
          "height": 143
        },
        "outputId": "2fa6dbbc-9f34-44da-e884-b3d7708c5335"
      },
      "source": [
        "df.columns = ['col_1', 'col_2']\n",
        "df"
      ],
      "execution_count": null,
      "outputs": [
        {
          "output_type": "execute_result",
          "data": {
            "text/html": [
              "<div>\n",
              "<style scoped>\n",
              "    .dataframe tbody tr th:only-of-type {\n",
              "        vertical-align: middle;\n",
              "    }\n",
              "\n",
              "    .dataframe tbody tr th {\n",
              "        vertical-align: top;\n",
              "    }\n",
              "\n",
              "    .dataframe thead th {\n",
              "        text-align: right;\n",
              "    }\n",
              "</style>\n",
              "<table border=\"1\" class=\"dataframe\">\n",
              "  <thead>\n",
              "    <tr style=\"text-align: right;\">\n",
              "      <th></th>\n",
              "      <th>col_1</th>\n",
              "      <th>col_2</th>\n",
              "    </tr>\n",
              "  </thead>\n",
              "  <tbody>\n",
              "    <tr>\n",
              "      <th>0</th>\n",
              "      <td>13</td>\n",
              "      <td>121</td>\n",
              "    </tr>\n",
              "    <tr>\n",
              "      <th>1</th>\n",
              "      <td>230</td>\n",
              "      <td>211</td>\n",
              "    </tr>\n",
              "    <tr>\n",
              "      <th>2</th>\n",
              "      <td>300</td>\n",
              "      <td>31</td>\n",
              "    </tr>\n",
              "  </tbody>\n",
              "</table>\n",
              "</div>"
            ],
            "text/plain": [
              "   col_1  col_2\n",
              "0     13    121\n",
              "1    230    211\n",
              "2    300     31"
            ]
          },
          "metadata": {},
          "execution_count": 6
        }
      ]
    },
    {
      "cell_type": "markdown",
      "metadata": {
        "heading_collapsed": true,
        "hidden": true,
        "id": "FE6YJtiTtPYM"
      },
      "source": [
        "#### при помощи функций"
      ]
    },
    {
      "cell_type": "code",
      "metadata": {
        "colab": {
          "base_uri": "https://localhost:8080/",
          "height": 143
        },
        "id": "GshCxds6YVjp",
        "outputId": "a7a2710f-bc27-40d9-e7f7-17eb12fa2c94"
      },
      "source": [
        "df = pd.DataFrame.from_records([[13, 121], [230, 211], [300, 31]], columns=[\"c1\", \"c2\"])\n",
        "df"
      ],
      "execution_count": null,
      "outputs": [
        {
          "output_type": "execute_result",
          "data": {
            "text/html": [
              "<div>\n",
              "<style scoped>\n",
              "    .dataframe tbody tr th:only-of-type {\n",
              "        vertical-align: middle;\n",
              "    }\n",
              "\n",
              "    .dataframe tbody tr th {\n",
              "        vertical-align: top;\n",
              "    }\n",
              "\n",
              "    .dataframe thead th {\n",
              "        text-align: right;\n",
              "    }\n",
              "</style>\n",
              "<table border=\"1\" class=\"dataframe\">\n",
              "  <thead>\n",
              "    <tr style=\"text-align: right;\">\n",
              "      <th></th>\n",
              "      <th>c1</th>\n",
              "      <th>c2</th>\n",
              "    </tr>\n",
              "  </thead>\n",
              "  <tbody>\n",
              "    <tr>\n",
              "      <th>0</th>\n",
              "      <td>13</td>\n",
              "      <td>121</td>\n",
              "    </tr>\n",
              "    <tr>\n",
              "      <th>1</th>\n",
              "      <td>230</td>\n",
              "      <td>211</td>\n",
              "    </tr>\n",
              "    <tr>\n",
              "      <th>2</th>\n",
              "      <td>300</td>\n",
              "      <td>31</td>\n",
              "    </tr>\n",
              "  </tbody>\n",
              "</table>\n",
              "</div>"
            ],
            "text/plain": [
              "    c1   c2\n",
              "0   13  121\n",
              "1  230  211\n",
              "2  300   31"
            ]
          },
          "metadata": {},
          "execution_count": 9
        }
      ]
    },
    {
      "cell_type": "markdown",
      "metadata": {
        "heading_collapsed": true,
        "hidden": true,
        "id": "22BehrI3tPZG"
      },
      "source": [
        "#### [из файла](http://pandas.pydata.org/pandas-docs/stable/user_guide/io.html#io-tools-text-csv-hdf5)"
      ]
    },
    {
      "cell_type": "markdown",
      "metadata": {
        "id": "3wEDIPnUc56u"
      },
      "source": [
        "Чаще всего датафреймы создаются путём считывания данных из CSV-файла с помощью функции pd.read_csv. В качестве примера загрузим классический датасет про больных СПИДом."
      ]
    },
    {
      "cell_type": "markdown",
      "metadata": {
        "id": "wWE32AsCepsT"
      },
      "source": [
        "Обращайте внимание на разделитель. Вот этот код не выдаст ошибку, но прочитает данные некорректно. Перед запуском убедитесь в том, что загрузили этот файл в коллаб."
      ]
    },
    {
      "cell_type": "code",
      "metadata": {
        "hidden": true,
        "id": "IgQ2qXQMtPZJ",
        "colab": {
          "base_uri": "https://localhost:8080/",
          "height": 424
        },
        "outputId": "79107d28-6aac-469b-edbf-17b968fdf0d8"
      },
      "source": [
        "pd.read_csv(\"Aids2.csv\", sep = ';')"
      ],
      "execution_count": null,
      "outputs": [
        {
          "output_type": "execute_result",
          "data": {
            "text/html": [
              "<div>\n",
              "<style scoped>\n",
              "    .dataframe tbody tr th:only-of-type {\n",
              "        vertical-align: middle;\n",
              "    }\n",
              "\n",
              "    .dataframe tbody tr th {\n",
              "        vertical-align: top;\n",
              "    }\n",
              "\n",
              "    .dataframe thead th {\n",
              "        text-align: right;\n",
              "    }\n",
              "</style>\n",
              "<table border=\"1\" class=\"dataframe\">\n",
              "  <thead>\n",
              "    <tr style=\"text-align: right;\">\n",
              "      <th></th>\n",
              "      <th>,\"state\",\"sex\",\"diag\",\"death\",\"status\",\"T.categ\",\"age\"</th>\n",
              "    </tr>\n",
              "  </thead>\n",
              "  <tbody>\n",
              "    <tr>\n",
              "      <th>0</th>\n",
              "      <td>1,\"NSW\",\"M\",10905,11081,\"D\",\"hs\",35</td>\n",
              "    </tr>\n",
              "    <tr>\n",
              "      <th>1</th>\n",
              "      <td>2,\"NSW\",\"M\",11029,11096,\"D\",\"hs\",53</td>\n",
              "    </tr>\n",
              "    <tr>\n",
              "      <th>2</th>\n",
              "      <td>3,\"NSW\",\"M\",9551,9983,\"D\",\"hs\",42</td>\n",
              "    </tr>\n",
              "    <tr>\n",
              "      <th>3</th>\n",
              "      <td>4,\"NSW\",\"M\",9577,9654,\"D\",\"haem\",44</td>\n",
              "    </tr>\n",
              "    <tr>\n",
              "      <th>4</th>\n",
              "      <td>5,\"NSW\",\"M\",10015,10290,\"D\",\"hs\",39</td>\n",
              "    </tr>\n",
              "    <tr>\n",
              "      <th>...</th>\n",
              "      <td>...</td>\n",
              "    </tr>\n",
              "    <tr>\n",
              "      <th>2838</th>\n",
              "      <td>2839,\"Other\",\"M\",11475,11504,\"A\",\"het\",46</td>\n",
              "    </tr>\n",
              "    <tr>\n",
              "      <th>2839</th>\n",
              "      <td>2840,\"Other\",\"F\",11420,11504,\"A\",\"het\",34</td>\n",
              "    </tr>\n",
              "    <tr>\n",
              "      <th>2840</th>\n",
              "      <td>2841,\"Other\",\"M\",11496,11504,\"A\",\"haem\",49</td>\n",
              "    </tr>\n",
              "    <tr>\n",
              "      <th>2841</th>\n",
              "      <td>2842,\"Other\",\"M\",11460,11504,\"A\",\"hs\",55</td>\n",
              "    </tr>\n",
              "    <tr>\n",
              "      <th>2842</th>\n",
              "      <td>2843,\"Other\",\"M\",11448,11504,\"A\",\"hs\",37</td>\n",
              "    </tr>\n",
              "  </tbody>\n",
              "</table>\n",
              "<p>2843 rows × 1 columns</p>\n",
              "</div>"
            ],
            "text/plain": [
              "     ,\"state\",\"sex\",\"diag\",\"death\",\"status\",\"T.categ\",\"age\"\n",
              "0                   1,\"NSW\",\"M\",10905,11081,\"D\",\"hs\",35    \n",
              "1                   2,\"NSW\",\"M\",11029,11096,\"D\",\"hs\",53    \n",
              "2                     3,\"NSW\",\"M\",9551,9983,\"D\",\"hs\",42    \n",
              "3                   4,\"NSW\",\"M\",9577,9654,\"D\",\"haem\",44    \n",
              "4                   5,\"NSW\",\"M\",10015,10290,\"D\",\"hs\",39    \n",
              "...                                                 ...    \n",
              "2838          2839,\"Other\",\"M\",11475,11504,\"A\",\"het\",46    \n",
              "2839          2840,\"Other\",\"F\",11420,11504,\"A\",\"het\",34    \n",
              "2840         2841,\"Other\",\"M\",11496,11504,\"A\",\"haem\",49    \n",
              "2841           2842,\"Other\",\"M\",11460,11504,\"A\",\"hs\",55    \n",
              "2842           2843,\"Other\",\"M\",11448,11504,\"A\",\"hs\",37    \n",
              "\n",
              "[2843 rows x 1 columns]"
            ]
          },
          "metadata": {},
          "execution_count": 11
        }
      ]
    },
    {
      "cell_type": "markdown",
      "metadata": {
        "hidden": true,
        "id": "WIMX4K4ltPZP"
      },
      "source": [
        "Следующий код будет работать корректно."
      ]
    },
    {
      "cell_type": "code",
      "metadata": {
        "hidden": true,
        "id": "mgXcnSSxtPZR",
        "colab": {
          "base_uri": "https://localhost:8080/",
          "height": 424
        },
        "outputId": "4ad7da68-6ff3-441f-bfe9-d2d8d3412772"
      },
      "source": [
        "pd.read_csv(\"Aids2.csv\", sep = ',')"
      ],
      "execution_count": null,
      "outputs": [
        {
          "output_type": "execute_result",
          "data": {
            "text/html": [
              "<div>\n",
              "<style scoped>\n",
              "    .dataframe tbody tr th:only-of-type {\n",
              "        vertical-align: middle;\n",
              "    }\n",
              "\n",
              "    .dataframe tbody tr th {\n",
              "        vertical-align: top;\n",
              "    }\n",
              "\n",
              "    .dataframe thead th {\n",
              "        text-align: right;\n",
              "    }\n",
              "</style>\n",
              "<table border=\"1\" class=\"dataframe\">\n",
              "  <thead>\n",
              "    <tr style=\"text-align: right;\">\n",
              "      <th></th>\n",
              "      <th>Unnamed: 0</th>\n",
              "      <th>state</th>\n",
              "      <th>sex</th>\n",
              "      <th>diag</th>\n",
              "      <th>death</th>\n",
              "      <th>status</th>\n",
              "      <th>T.categ</th>\n",
              "      <th>age</th>\n",
              "    </tr>\n",
              "  </thead>\n",
              "  <tbody>\n",
              "    <tr>\n",
              "      <th>0</th>\n",
              "      <td>1</td>\n",
              "      <td>NSW</td>\n",
              "      <td>M</td>\n",
              "      <td>10905</td>\n",
              "      <td>11081</td>\n",
              "      <td>D</td>\n",
              "      <td>hs</td>\n",
              "      <td>35</td>\n",
              "    </tr>\n",
              "    <tr>\n",
              "      <th>1</th>\n",
              "      <td>2</td>\n",
              "      <td>NSW</td>\n",
              "      <td>M</td>\n",
              "      <td>11029</td>\n",
              "      <td>11096</td>\n",
              "      <td>D</td>\n",
              "      <td>hs</td>\n",
              "      <td>53</td>\n",
              "    </tr>\n",
              "    <tr>\n",
              "      <th>2</th>\n",
              "      <td>3</td>\n",
              "      <td>NSW</td>\n",
              "      <td>M</td>\n",
              "      <td>9551</td>\n",
              "      <td>9983</td>\n",
              "      <td>D</td>\n",
              "      <td>hs</td>\n",
              "      <td>42</td>\n",
              "    </tr>\n",
              "    <tr>\n",
              "      <th>3</th>\n",
              "      <td>4</td>\n",
              "      <td>NSW</td>\n",
              "      <td>M</td>\n",
              "      <td>9577</td>\n",
              "      <td>9654</td>\n",
              "      <td>D</td>\n",
              "      <td>haem</td>\n",
              "      <td>44</td>\n",
              "    </tr>\n",
              "    <tr>\n",
              "      <th>4</th>\n",
              "      <td>5</td>\n",
              "      <td>NSW</td>\n",
              "      <td>M</td>\n",
              "      <td>10015</td>\n",
              "      <td>10290</td>\n",
              "      <td>D</td>\n",
              "      <td>hs</td>\n",
              "      <td>39</td>\n",
              "    </tr>\n",
              "    <tr>\n",
              "      <th>...</th>\n",
              "      <td>...</td>\n",
              "      <td>...</td>\n",
              "      <td>...</td>\n",
              "      <td>...</td>\n",
              "      <td>...</td>\n",
              "      <td>...</td>\n",
              "      <td>...</td>\n",
              "      <td>...</td>\n",
              "    </tr>\n",
              "    <tr>\n",
              "      <th>2838</th>\n",
              "      <td>2839</td>\n",
              "      <td>Other</td>\n",
              "      <td>M</td>\n",
              "      <td>11475</td>\n",
              "      <td>11504</td>\n",
              "      <td>A</td>\n",
              "      <td>het</td>\n",
              "      <td>46</td>\n",
              "    </tr>\n",
              "    <tr>\n",
              "      <th>2839</th>\n",
              "      <td>2840</td>\n",
              "      <td>Other</td>\n",
              "      <td>F</td>\n",
              "      <td>11420</td>\n",
              "      <td>11504</td>\n",
              "      <td>A</td>\n",
              "      <td>het</td>\n",
              "      <td>34</td>\n",
              "    </tr>\n",
              "    <tr>\n",
              "      <th>2840</th>\n",
              "      <td>2841</td>\n",
              "      <td>Other</td>\n",
              "      <td>M</td>\n",
              "      <td>11496</td>\n",
              "      <td>11504</td>\n",
              "      <td>A</td>\n",
              "      <td>haem</td>\n",
              "      <td>49</td>\n",
              "    </tr>\n",
              "    <tr>\n",
              "      <th>2841</th>\n",
              "      <td>2842</td>\n",
              "      <td>Other</td>\n",
              "      <td>M</td>\n",
              "      <td>11460</td>\n",
              "      <td>11504</td>\n",
              "      <td>A</td>\n",
              "      <td>hs</td>\n",
              "      <td>55</td>\n",
              "    </tr>\n",
              "    <tr>\n",
              "      <th>2842</th>\n",
              "      <td>2843</td>\n",
              "      <td>Other</td>\n",
              "      <td>M</td>\n",
              "      <td>11448</td>\n",
              "      <td>11504</td>\n",
              "      <td>A</td>\n",
              "      <td>hs</td>\n",
              "      <td>37</td>\n",
              "    </tr>\n",
              "  </tbody>\n",
              "</table>\n",
              "<p>2843 rows × 8 columns</p>\n",
              "</div>"
            ],
            "text/plain": [
              "      Unnamed: 0  state sex   diag  death status T.categ  age\n",
              "0              1    NSW   M  10905  11081      D      hs   35\n",
              "1              2    NSW   M  11029  11096      D      hs   53\n",
              "2              3    NSW   M   9551   9983      D      hs   42\n",
              "3              4    NSW   M   9577   9654      D    haem   44\n",
              "4              5    NSW   M  10015  10290      D      hs   39\n",
              "...          ...    ...  ..    ...    ...    ...     ...  ...\n",
              "2838        2839  Other   M  11475  11504      A     het   46\n",
              "2839        2840  Other   F  11420  11504      A     het   34\n",
              "2840        2841  Other   M  11496  11504      A    haem   49\n",
              "2841        2842  Other   M  11460  11504      A      hs   55\n",
              "2842        2843  Other   M  11448  11504      A      hs   37\n",
              "\n",
              "[2843 rows x 8 columns]"
            ]
          },
          "metadata": {},
          "execution_count": 12
        }
      ]
    },
    {
      "cell_type": "markdown",
      "metadata": {
        "hidden": true,
        "id": "qQv4RqbWtPZc"
      },
      "source": [
        "Функция read_csv предоставляет широкий список тонких настроек считывания данных. Здесь рассмотрим лишь некоторые из них. \n",
        "\n",
        "Можно считывать не все строки и не все столбцы. Строки:"
      ]
    },
    {
      "cell_type": "code",
      "metadata": {
        "hidden": true,
        "id": "L5lSFPAYtPZd",
        "colab": {
          "base_uri": "https://localhost:8080/",
          "height": 143
        },
        "outputId": "bdb42b7b-d614-4946-c70a-b0fed1aba1b6"
      },
      "source": [
        "pd.read_csv(\"Aids2.csv\", sep = ',', nrows = 3)"
      ],
      "execution_count": null,
      "outputs": [
        {
          "output_type": "execute_result",
          "data": {
            "text/html": [
              "<div>\n",
              "<style scoped>\n",
              "    .dataframe tbody tr th:only-of-type {\n",
              "        vertical-align: middle;\n",
              "    }\n",
              "\n",
              "    .dataframe tbody tr th {\n",
              "        vertical-align: top;\n",
              "    }\n",
              "\n",
              "    .dataframe thead th {\n",
              "        text-align: right;\n",
              "    }\n",
              "</style>\n",
              "<table border=\"1\" class=\"dataframe\">\n",
              "  <thead>\n",
              "    <tr style=\"text-align: right;\">\n",
              "      <th></th>\n",
              "      <th>Unnamed: 0</th>\n",
              "      <th>state</th>\n",
              "      <th>sex</th>\n",
              "      <th>diag</th>\n",
              "      <th>death</th>\n",
              "      <th>status</th>\n",
              "      <th>T.categ</th>\n",
              "      <th>age</th>\n",
              "    </tr>\n",
              "  </thead>\n",
              "  <tbody>\n",
              "    <tr>\n",
              "      <th>0</th>\n",
              "      <td>1</td>\n",
              "      <td>NSW</td>\n",
              "      <td>M</td>\n",
              "      <td>10905</td>\n",
              "      <td>11081</td>\n",
              "      <td>D</td>\n",
              "      <td>hs</td>\n",
              "      <td>35</td>\n",
              "    </tr>\n",
              "    <tr>\n",
              "      <th>1</th>\n",
              "      <td>2</td>\n",
              "      <td>NSW</td>\n",
              "      <td>M</td>\n",
              "      <td>11029</td>\n",
              "      <td>11096</td>\n",
              "      <td>D</td>\n",
              "      <td>hs</td>\n",
              "      <td>53</td>\n",
              "    </tr>\n",
              "    <tr>\n",
              "      <th>2</th>\n",
              "      <td>3</td>\n",
              "      <td>NSW</td>\n",
              "      <td>M</td>\n",
              "      <td>9551</td>\n",
              "      <td>9983</td>\n",
              "      <td>D</td>\n",
              "      <td>hs</td>\n",
              "      <td>42</td>\n",
              "    </tr>\n",
              "  </tbody>\n",
              "</table>\n",
              "</div>"
            ],
            "text/plain": [
              "   Unnamed: 0 state sex   diag  death status T.categ  age\n",
              "0           1   NSW   M  10905  11081      D      hs   35\n",
              "1           2   NSW   M  11029  11096      D      hs   53\n",
              "2           3   NSW   M   9551   9983      D      hs   42"
            ]
          },
          "metadata": {},
          "execution_count": 13
        }
      ]
    },
    {
      "cell_type": "markdown",
      "metadata": {
        "hidden": true,
        "id": "tBceF_aBtPaB"
      },
      "source": [
        "столбцы"
      ]
    },
    {
      "cell_type": "code",
      "metadata": {
        "hidden": true,
        "id": "BpT5_xAGtPaD",
        "colab": {
          "base_uri": "https://localhost:8080/",
          "height": 143
        },
        "outputId": "1f8815f7-a0ae-4a82-8805-59d3eb802dcb"
      },
      "source": [
        "pd.read_csv(\"Aids2.csv\",\n",
        "           sep = ',',\n",
        "           nrows = 3,\n",
        "           usecols=[\"state\", \"status\", \"age\"])"
      ],
      "execution_count": null,
      "outputs": [
        {
          "output_type": "execute_result",
          "data": {
            "text/html": [
              "<div>\n",
              "<style scoped>\n",
              "    .dataframe tbody tr th:only-of-type {\n",
              "        vertical-align: middle;\n",
              "    }\n",
              "\n",
              "    .dataframe tbody tr th {\n",
              "        vertical-align: top;\n",
              "    }\n",
              "\n",
              "    .dataframe thead th {\n",
              "        text-align: right;\n",
              "    }\n",
              "</style>\n",
              "<table border=\"1\" class=\"dataframe\">\n",
              "  <thead>\n",
              "    <tr style=\"text-align: right;\">\n",
              "      <th></th>\n",
              "      <th>state</th>\n",
              "      <th>status</th>\n",
              "      <th>age</th>\n",
              "    </tr>\n",
              "  </thead>\n",
              "  <tbody>\n",
              "    <tr>\n",
              "      <th>0</th>\n",
              "      <td>NSW</td>\n",
              "      <td>D</td>\n",
              "      <td>35</td>\n",
              "    </tr>\n",
              "    <tr>\n",
              "      <th>1</th>\n",
              "      <td>NSW</td>\n",
              "      <td>D</td>\n",
              "      <td>53</td>\n",
              "    </tr>\n",
              "    <tr>\n",
              "      <th>2</th>\n",
              "      <td>NSW</td>\n",
              "      <td>D</td>\n",
              "      <td>42</td>\n",
              "    </tr>\n",
              "  </tbody>\n",
              "</table>\n",
              "</div>"
            ],
            "text/plain": [
              "  state status  age\n",
              "0   NSW      D   35\n",
              "1   NSW      D   53\n",
              "2   NSW      D   42"
            ]
          },
          "metadata": {},
          "execution_count": 14
        }
      ]
    },
    {
      "cell_type": "code",
      "metadata": {
        "hidden": true,
        "id": "aV4IkO2gtPbT",
        "colab": {
          "base_uri": "https://localhost:8080/",
          "height": 424
        },
        "outputId": "944a73a6-aa84-483a-949e-aa8dbb6606f9"
      },
      "source": [
        "aids = pd.read_csv(\"Aids2.csv\",\n",
        "           sep = ',',\n",
        "           usecols=[\"state\", \"status\", \"age\"])\n",
        "aids"
      ],
      "execution_count": null,
      "outputs": [
        {
          "output_type": "execute_result",
          "data": {
            "text/html": [
              "<div>\n",
              "<style scoped>\n",
              "    .dataframe tbody tr th:only-of-type {\n",
              "        vertical-align: middle;\n",
              "    }\n",
              "\n",
              "    .dataframe tbody tr th {\n",
              "        vertical-align: top;\n",
              "    }\n",
              "\n",
              "    .dataframe thead th {\n",
              "        text-align: right;\n",
              "    }\n",
              "</style>\n",
              "<table border=\"1\" class=\"dataframe\">\n",
              "  <thead>\n",
              "    <tr style=\"text-align: right;\">\n",
              "      <th></th>\n",
              "      <th>state</th>\n",
              "      <th>status</th>\n",
              "      <th>age</th>\n",
              "    </tr>\n",
              "  </thead>\n",
              "  <tbody>\n",
              "    <tr>\n",
              "      <th>0</th>\n",
              "      <td>NSW</td>\n",
              "      <td>D</td>\n",
              "      <td>35</td>\n",
              "    </tr>\n",
              "    <tr>\n",
              "      <th>1</th>\n",
              "      <td>NSW</td>\n",
              "      <td>D</td>\n",
              "      <td>53</td>\n",
              "    </tr>\n",
              "    <tr>\n",
              "      <th>2</th>\n",
              "      <td>NSW</td>\n",
              "      <td>D</td>\n",
              "      <td>42</td>\n",
              "    </tr>\n",
              "    <tr>\n",
              "      <th>3</th>\n",
              "      <td>NSW</td>\n",
              "      <td>D</td>\n",
              "      <td>44</td>\n",
              "    </tr>\n",
              "    <tr>\n",
              "      <th>4</th>\n",
              "      <td>NSW</td>\n",
              "      <td>D</td>\n",
              "      <td>39</td>\n",
              "    </tr>\n",
              "    <tr>\n",
              "      <th>...</th>\n",
              "      <td>...</td>\n",
              "      <td>...</td>\n",
              "      <td>...</td>\n",
              "    </tr>\n",
              "    <tr>\n",
              "      <th>2838</th>\n",
              "      <td>Other</td>\n",
              "      <td>A</td>\n",
              "      <td>46</td>\n",
              "    </tr>\n",
              "    <tr>\n",
              "      <th>2839</th>\n",
              "      <td>Other</td>\n",
              "      <td>A</td>\n",
              "      <td>34</td>\n",
              "    </tr>\n",
              "    <tr>\n",
              "      <th>2840</th>\n",
              "      <td>Other</td>\n",
              "      <td>A</td>\n",
              "      <td>49</td>\n",
              "    </tr>\n",
              "    <tr>\n",
              "      <th>2841</th>\n",
              "      <td>Other</td>\n",
              "      <td>A</td>\n",
              "      <td>55</td>\n",
              "    </tr>\n",
              "    <tr>\n",
              "      <th>2842</th>\n",
              "      <td>Other</td>\n",
              "      <td>A</td>\n",
              "      <td>37</td>\n",
              "    </tr>\n",
              "  </tbody>\n",
              "</table>\n",
              "<p>2843 rows × 3 columns</p>\n",
              "</div>"
            ],
            "text/plain": [
              "      state status  age\n",
              "0       NSW      D   35\n",
              "1       NSW      D   53\n",
              "2       NSW      D   42\n",
              "3       NSW      D   44\n",
              "4       NSW      D   39\n",
              "...     ...    ...  ...\n",
              "2838  Other      A   46\n",
              "2839  Other      A   34\n",
              "2840  Other      A   49\n",
              "2841  Other      A   55\n",
              "2842  Other      A   37\n",
              "\n",
              "[2843 rows x 3 columns]"
            ]
          },
          "metadata": {},
          "execution_count": 21
        }
      ]
    },
    {
      "cell_type": "markdown",
      "metadata": {
        "id": "XPnh0PohSgOX"
      },
      "source": [
        "Работая в гугл колабе удобно некоторые датасеты хранить на гугл диске. Ниже представлен код, позволяющий организовать чтение датасетов с гугл.диска."
      ]
    },
    {
      "cell_type": "markdown",
      "metadata": {
        "id": "zmw6Gf71_j4R"
      },
      "source": [
        "#### Локальное подключение"
      ]
    },
    {
      "cell_type": "code",
      "metadata": {
        "colab": {
          "base_uri": "https://localhost:8080/"
        },
        "id": "JxL0TUSK_oVT",
        "outputId": "583a4b50-1dde-4c87-d149-6b3cae7898aa"
      },
      "source": [
        "from google.colab import drive\n",
        "drive.mount('/content/drive')"
      ],
      "execution_count": null,
      "outputs": [
        {
          "output_type": "stream",
          "name": "stdout",
          "text": [
            "Mounted at /content/drive\n"
          ]
        }
      ]
    },
    {
      "cell_type": "code",
      "metadata": {
        "id": "3zz0fvfV-buJ",
        "colab": {
          "base_uri": "https://localhost:8080/",
          "height": 419
        },
        "outputId": "a7af0003-a404-489e-b269-9b4df3589a0c"
      },
      "source": [
        "aids = pd.read_csv(\"/content/drive/MyDrive/ITMO.Work/21 22/СИА/Aids2.csv\")\n",
        "aids"
      ],
      "execution_count": null,
      "outputs": [
        {
          "output_type": "execute_result",
          "data": {
            "text/html": [
              "<div>\n",
              "<style scoped>\n",
              "    .dataframe tbody tr th:only-of-type {\n",
              "        vertical-align: middle;\n",
              "    }\n",
              "\n",
              "    .dataframe tbody tr th {\n",
              "        vertical-align: top;\n",
              "    }\n",
              "\n",
              "    .dataframe thead th {\n",
              "        text-align: right;\n",
              "    }\n",
              "</style>\n",
              "<table border=\"1\" class=\"dataframe\">\n",
              "  <thead>\n",
              "    <tr style=\"text-align: right;\">\n",
              "      <th></th>\n",
              "      <th>Unnamed: 0</th>\n",
              "      <th>state</th>\n",
              "      <th>sex</th>\n",
              "      <th>diag</th>\n",
              "      <th>death</th>\n",
              "      <th>status</th>\n",
              "      <th>T.categ</th>\n",
              "      <th>age</th>\n",
              "    </tr>\n",
              "  </thead>\n",
              "  <tbody>\n",
              "    <tr>\n",
              "      <th>0</th>\n",
              "      <td>1</td>\n",
              "      <td>NSW</td>\n",
              "      <td>M</td>\n",
              "      <td>10905</td>\n",
              "      <td>11081</td>\n",
              "      <td>D</td>\n",
              "      <td>hs</td>\n",
              "      <td>35</td>\n",
              "    </tr>\n",
              "    <tr>\n",
              "      <th>1</th>\n",
              "      <td>2</td>\n",
              "      <td>NSW</td>\n",
              "      <td>M</td>\n",
              "      <td>11029</td>\n",
              "      <td>11096</td>\n",
              "      <td>D</td>\n",
              "      <td>hs</td>\n",
              "      <td>53</td>\n",
              "    </tr>\n",
              "    <tr>\n",
              "      <th>2</th>\n",
              "      <td>3</td>\n",
              "      <td>NSW</td>\n",
              "      <td>M</td>\n",
              "      <td>9551</td>\n",
              "      <td>9983</td>\n",
              "      <td>D</td>\n",
              "      <td>hs</td>\n",
              "      <td>42</td>\n",
              "    </tr>\n",
              "    <tr>\n",
              "      <th>3</th>\n",
              "      <td>4</td>\n",
              "      <td>NSW</td>\n",
              "      <td>M</td>\n",
              "      <td>9577</td>\n",
              "      <td>9654</td>\n",
              "      <td>D</td>\n",
              "      <td>haem</td>\n",
              "      <td>44</td>\n",
              "    </tr>\n",
              "    <tr>\n",
              "      <th>4</th>\n",
              "      <td>5</td>\n",
              "      <td>NSW</td>\n",
              "      <td>M</td>\n",
              "      <td>10015</td>\n",
              "      <td>10290</td>\n",
              "      <td>D</td>\n",
              "      <td>hs</td>\n",
              "      <td>39</td>\n",
              "    </tr>\n",
              "    <tr>\n",
              "      <th>...</th>\n",
              "      <td>...</td>\n",
              "      <td>...</td>\n",
              "      <td>...</td>\n",
              "      <td>...</td>\n",
              "      <td>...</td>\n",
              "      <td>...</td>\n",
              "      <td>...</td>\n",
              "      <td>...</td>\n",
              "    </tr>\n",
              "    <tr>\n",
              "      <th>2838</th>\n",
              "      <td>2839</td>\n",
              "      <td>Other</td>\n",
              "      <td>M</td>\n",
              "      <td>11475</td>\n",
              "      <td>11504</td>\n",
              "      <td>A</td>\n",
              "      <td>het</td>\n",
              "      <td>46</td>\n",
              "    </tr>\n",
              "    <tr>\n",
              "      <th>2839</th>\n",
              "      <td>2840</td>\n",
              "      <td>Other</td>\n",
              "      <td>F</td>\n",
              "      <td>11420</td>\n",
              "      <td>11504</td>\n",
              "      <td>A</td>\n",
              "      <td>het</td>\n",
              "      <td>34</td>\n",
              "    </tr>\n",
              "    <tr>\n",
              "      <th>2840</th>\n",
              "      <td>2841</td>\n",
              "      <td>Other</td>\n",
              "      <td>M</td>\n",
              "      <td>11496</td>\n",
              "      <td>11504</td>\n",
              "      <td>A</td>\n",
              "      <td>haem</td>\n",
              "      <td>49</td>\n",
              "    </tr>\n",
              "    <tr>\n",
              "      <th>2841</th>\n",
              "      <td>2842</td>\n",
              "      <td>Other</td>\n",
              "      <td>M</td>\n",
              "      <td>11460</td>\n",
              "      <td>11504</td>\n",
              "      <td>A</td>\n",
              "      <td>hs</td>\n",
              "      <td>55</td>\n",
              "    </tr>\n",
              "    <tr>\n",
              "      <th>2842</th>\n",
              "      <td>2843</td>\n",
              "      <td>Other</td>\n",
              "      <td>M</td>\n",
              "      <td>11448</td>\n",
              "      <td>11504</td>\n",
              "      <td>A</td>\n",
              "      <td>hs</td>\n",
              "      <td>37</td>\n",
              "    </tr>\n",
              "  </tbody>\n",
              "</table>\n",
              "<p>2843 rows × 8 columns</p>\n",
              "</div>"
            ],
            "text/plain": [
              "      Unnamed: 0  state sex   diag  death status T.categ  age\n",
              "0              1    NSW   M  10905  11081      D      hs   35\n",
              "1              2    NSW   M  11029  11096      D      hs   53\n",
              "2              3    NSW   M   9551   9983      D      hs   42\n",
              "3              4    NSW   M   9577   9654      D    haem   44\n",
              "4              5    NSW   M  10015  10290      D      hs   39\n",
              "...          ...    ...  ..    ...    ...    ...     ...  ...\n",
              "2838        2839  Other   M  11475  11504      A     het   46\n",
              "2839        2840  Other   F  11420  11504      A     het   34\n",
              "2840        2841  Other   M  11496  11504      A    haem   49\n",
              "2841        2842  Other   M  11460  11504      A      hs   55\n",
              "2842        2843  Other   M  11448  11504      A      hs   37\n",
              "\n",
              "[2843 rows x 8 columns]"
            ]
          },
          "metadata": {},
          "execution_count": 12
        }
      ]
    },
    {
      "cell_type": "markdown",
      "metadata": {
        "id": "2VfYX-Hb_036"
      },
      "source": [
        "Нужно будет перейти по ссылке, скопировать код и вставить."
      ]
    },
    {
      "cell_type": "markdown",
      "metadata": {
        "heading_collapsed": true,
        "id": "3m4sNhAqtPbz"
      },
      "source": [
        "### Свойства"
      ]
    },
    {
      "cell_type": "markdown",
      "metadata": {
        "id": "FzEvKLxjjpFw"
      },
      "source": [
        "Мы узнали, как создать датафреймы библиотеки Pandas. Дадим описание основных свойств этих структур. \n"
      ]
    },
    {
      "cell_type": "markdown",
      "metadata": {
        "heading_collapsed": true,
        "hidden": true,
        "id": "0UMaA-SttPcy"
      },
      "source": [
        "#### количество элементов"
      ]
    },
    {
      "cell_type": "markdown",
      "metadata": {
        "hidden": true,
        "id": "VA0AYLC1tPdB"
      },
      "source": [
        "DataFrame:"
      ]
    },
    {
      "cell_type": "code",
      "metadata": {
        "hidden": true,
        "id": "3A2H3vc4tPdD",
        "colab": {
          "base_uri": "https://localhost:8080/"
        },
        "outputId": "4b016a4b-be56-4a19-dda4-b61e2b81f37b"
      },
      "source": [
        "print('Первый способ:', len(aids))\n",
        "print('Второй способ:', aids.size)\n",
        "print('Третий способ:', aids.shape)"
      ],
      "execution_count": null,
      "outputs": [
        {
          "output_type": "stream",
          "name": "stdout",
          "text": [
            "Первый способ: 2843\n",
            "Второй способ: 8529\n",
            "Третий способ: (2843, 3)\n"
          ]
        }
      ]
    },
    {
      "cell_type": "markdown",
      "metadata": {
        "heading_collapsed": true,
        "hidden": true,
        "id": "UpllV6HztPdN"
      },
      "source": [
        "#### количество уникальных элементов"
      ]
    },
    {
      "cell_type": "code",
      "metadata": {
        "hidden": true,
        "id": "WXgdxkXJtPdW",
        "colab": {
          "base_uri": "https://localhost:8080/"
        },
        "outputId": "a662d273-1ebe-4020-da5b-741ed2840d45"
      },
      "source": [
        "aids.nunique()"
      ],
      "execution_count": null,
      "outputs": [
        {
          "output_type": "execute_result",
          "data": {
            "text/plain": [
              "state      4\n",
              "status     2\n",
              "age       74\n",
              "dtype: int64"
            ]
          },
          "metadata": {},
          "execution_count": 23
        }
      ]
    },
    {
      "cell_type": "markdown",
      "metadata": {
        "id": "O_KZ7Pk8ajWl"
      },
      "source": [
        "значения уникальных элементов столбца"
      ]
    },
    {
      "cell_type": "code",
      "metadata": {
        "colab": {
          "base_uri": "https://localhost:8080/"
        },
        "id": "g2Pm42_JadZl",
        "outputId": "fa510bc8-634f-4bf8-8999-80c5f27c5b8d"
      },
      "source": [
        "aids.age.unique()"
      ],
      "execution_count": null,
      "outputs": [
        {
          "output_type": "execute_result",
          "data": {
            "text/plain": [
              "array([35, 53, 42, 44, 39, 36, 31, 26, 27, 45, 30, 21, 56, 41, 28, 38, 46,\n",
              "       13, 34,  1, 37, 33, 40, 51, 29, 54, 25, 43, 59, 32, 23, 47, 52, 48,\n",
              "       49, 55, 70, 16, 24, 69, 20, 64, 57, 17, 82, 71, 58, 66, 12, 11, 78,\n",
              "       67, 50, 22, 60,  3, 63, 65,  5, 68, 61, 18, 74, 62, 15, 14, 72, 77,\n",
              "       73, 80,  0, 19,  6,  9])"
            ]
          },
          "metadata": {},
          "execution_count": 25
        }
      ]
    },
    {
      "cell_type": "markdown",
      "metadata": {
        "heading_collapsed": true,
        "hidden": true,
        "id": "R03XxQrVtPdb"
      },
      "source": [
        "#### индекс и значения"
      ]
    },
    {
      "cell_type": "markdown",
      "metadata": {
        "hidden": true,
        "id": "xlaeI8wwtPds"
      },
      "source": [
        "DataFrame:"
      ]
    },
    {
      "cell_type": "code",
      "metadata": {
        "hidden": true,
        "id": "Ard8bTtftPdt",
        "colab": {
          "base_uri": "https://localhost:8080/"
        },
        "outputId": "04255992-9649-4dda-f591-fbcfe4f37fa1"
      },
      "source": [
        "aids.index"
      ],
      "execution_count": null,
      "outputs": [
        {
          "output_type": "execute_result",
          "data": {
            "text/plain": [
              "RangeIndex(start=0, stop=2843, step=1)"
            ]
          },
          "metadata": {},
          "execution_count": 26
        }
      ]
    },
    {
      "cell_type": "code",
      "metadata": {
        "hidden": true,
        "id": "VI9_cdudtPd8",
        "colab": {
          "base_uri": "https://localhost:8080/"
        },
        "outputId": "bbfb56a9-b44f-4d89-febd-c4bbc402344c"
      },
      "source": [
        "aids.values"
      ],
      "execution_count": null,
      "outputs": [
        {
          "output_type": "execute_result",
          "data": {
            "text/plain": [
              "array([['NSW', 'D', 35],\n",
              "       ['NSW', 'D', 53],\n",
              "       ['NSW', 'D', 42],\n",
              "       ...,\n",
              "       ['Other', 'A', 49],\n",
              "       ['Other', 'A', 55],\n",
              "       ['Other', 'A', 37]], dtype=object)"
            ]
          },
          "metadata": {},
          "execution_count": 27
        }
      ]
    },
    {
      "cell_type": "code",
      "metadata": {
        "hidden": true,
        "id": "tDq7LlI2tPeF",
        "colab": {
          "base_uri": "https://localhost:8080/"
        },
        "outputId": "27647e9a-c273-4abf-ce26-087447939d7e"
      },
      "source": [
        "aids.columns"
      ],
      "execution_count": null,
      "outputs": [
        {
          "output_type": "execute_result",
          "data": {
            "text/plain": [
              "Index(['state', 'status', 'age'], dtype='object')"
            ]
          },
          "metadata": {},
          "execution_count": 28
        }
      ]
    },
    {
      "cell_type": "markdown",
      "metadata": {
        "hidden": true,
        "id": "E77ekGx5tPem"
      },
      "source": [
        "#### присвоение / изменение имени"
      ]
    },
    {
      "cell_type": "markdown",
      "metadata": {
        "heading_collapsed": true,
        "hidden": true,
        "id": "nMOjzlnUtPe-"
      },
      "source": [
        "##### столбца"
      ]
    },
    {
      "cell_type": "code",
      "metadata": {
        "hidden": true,
        "id": "JInQnNaWtPgZ"
      },
      "source": [
        "aids_copy = aids.rename(columns = {'age': 'patient_age'})"
      ],
      "execution_count": null,
      "outputs": []
    },
    {
      "cell_type": "markdown",
      "metadata": {
        "hidden": true,
        "id": "DHMNunqztPgg"
      },
      "source": [
        "проверяем, не изменились ли имена столбцов в исходном датафрейме"
      ]
    },
    {
      "cell_type": "code",
      "metadata": {
        "hidden": true,
        "id": "gGmizm7ytPgg",
        "colab": {
          "base_uri": "https://localhost:8080/"
        },
        "outputId": "19d1dfab-4b8b-475e-b697-531b0e636433"
      },
      "source": [
        "aids.columns"
      ],
      "execution_count": null,
      "outputs": [
        {
          "output_type": "execute_result",
          "data": {
            "text/plain": [
              "Index(['state', 'status', 'age'], dtype='object')"
            ]
          },
          "metadata": {},
          "execution_count": 30
        }
      ]
    },
    {
      "cell_type": "code",
      "metadata": {
        "hidden": true,
        "id": "zKJLDxzEtPgz",
        "colab": {
          "base_uri": "https://localhost:8080/"
        },
        "outputId": "0f8a510f-8fb8-4e77-d370-a7eacd3d53f5"
      },
      "source": [
        "aids_copy.columns"
      ],
      "execution_count": null,
      "outputs": [
        {
          "output_type": "execute_result",
          "data": {
            "text/plain": [
              "Index(['state', 'status', 'patient_age'], dtype='object')"
            ]
          },
          "metadata": {},
          "execution_count": 31
        }
      ]
    },
    {
      "cell_type": "markdown",
      "metadata": {
        "hidden": true,
        "id": "fTvqwQebtPg-"
      },
      "source": [
        "этот программный код переименовывает столбец на месте"
      ]
    },
    {
      "cell_type": "code",
      "metadata": {
        "hidden": true,
        "id": "NEPJabnGtPg_"
      },
      "source": [
        "aids_copy.rename(columns = {'patient_age': 'age'},\n",
        "            inplace=True)"
      ],
      "execution_count": null,
      "outputs": []
    },
    {
      "cell_type": "markdown",
      "metadata": {
        "hidden": true,
        "id": "7gsG9xU6tPhK"
      },
      "source": [
        "смотрим изменилось ли имя столбца"
      ]
    },
    {
      "cell_type": "code",
      "metadata": {
        "hidden": true,
        "id": "112C2K3ktPhT",
        "colab": {
          "base_uri": "https://localhost:8080/"
        },
        "outputId": "98f4efa0-4329-473f-a477-67e958cb15d1"
      },
      "source": [
        "aids_copy.columns"
      ],
      "execution_count": null,
      "outputs": [
        {
          "output_type": "execute_result",
          "data": {
            "text/plain": [
              "Index(['state', 'status', 'age'], dtype='object')"
            ]
          },
          "metadata": {},
          "execution_count": 33
        }
      ]
    },
    {
      "cell_type": "markdown",
      "metadata": {
        "heading_collapsed": true,
        "id": "rXyDfHodtPhd"
      },
      "source": [
        "### Вывод значений"
      ]
    },
    {
      "cell_type": "markdown",
      "metadata": {
        "heading_collapsed": true,
        "hidden": true,
        "id": "GAMcEtHXtPhf"
      },
      "source": [
        "#### первые / последние строки"
      ]
    },
    {
      "cell_type": "markdown",
      "metadata": {
        "id": "gnAa05TA6l6M"
      },
      "source": [
        "В данном разделе будут показаны несколько способов вывода значений Series и DataFrame. Библиотека Pandas предлагает методы .head() и .tail() для исследования первых или последних строк. "
      ]
    },
    {
      "cell_type": "code",
      "metadata": {
        "hidden": true,
        "id": "9WUy2p7ftPhg",
        "colab": {
          "base_uri": "https://localhost:8080/",
          "height": 363
        },
        "outputId": "728ddaaf-dfce-41e1-fb5d-0cd0c0ebb238"
      },
      "source": [
        "aids.head(10)"
      ],
      "execution_count": null,
      "outputs": [
        {
          "output_type": "execute_result",
          "data": {
            "text/html": [
              "<div>\n",
              "<style scoped>\n",
              "    .dataframe tbody tr th:only-of-type {\n",
              "        vertical-align: middle;\n",
              "    }\n",
              "\n",
              "    .dataframe tbody tr th {\n",
              "        vertical-align: top;\n",
              "    }\n",
              "\n",
              "    .dataframe thead th {\n",
              "        text-align: right;\n",
              "    }\n",
              "</style>\n",
              "<table border=\"1\" class=\"dataframe\">\n",
              "  <thead>\n",
              "    <tr style=\"text-align: right;\">\n",
              "      <th></th>\n",
              "      <th>state</th>\n",
              "      <th>status</th>\n",
              "      <th>age</th>\n",
              "    </tr>\n",
              "  </thead>\n",
              "  <tbody>\n",
              "    <tr>\n",
              "      <th>0</th>\n",
              "      <td>NSW</td>\n",
              "      <td>D</td>\n",
              "      <td>35</td>\n",
              "    </tr>\n",
              "    <tr>\n",
              "      <th>1</th>\n",
              "      <td>NSW</td>\n",
              "      <td>D</td>\n",
              "      <td>53</td>\n",
              "    </tr>\n",
              "    <tr>\n",
              "      <th>2</th>\n",
              "      <td>NSW</td>\n",
              "      <td>D</td>\n",
              "      <td>42</td>\n",
              "    </tr>\n",
              "    <tr>\n",
              "      <th>3</th>\n",
              "      <td>NSW</td>\n",
              "      <td>D</td>\n",
              "      <td>44</td>\n",
              "    </tr>\n",
              "    <tr>\n",
              "      <th>4</th>\n",
              "      <td>NSW</td>\n",
              "      <td>D</td>\n",
              "      <td>39</td>\n",
              "    </tr>\n",
              "    <tr>\n",
              "      <th>5</th>\n",
              "      <td>NSW</td>\n",
              "      <td>D</td>\n",
              "      <td>36</td>\n",
              "    </tr>\n",
              "    <tr>\n",
              "      <th>6</th>\n",
              "      <td>NSW</td>\n",
              "      <td>D</td>\n",
              "      <td>36</td>\n",
              "    </tr>\n",
              "    <tr>\n",
              "      <th>7</th>\n",
              "      <td>NSW</td>\n",
              "      <td>D</td>\n",
              "      <td>31</td>\n",
              "    </tr>\n",
              "    <tr>\n",
              "      <th>8</th>\n",
              "      <td>NSW</td>\n",
              "      <td>D</td>\n",
              "      <td>26</td>\n",
              "    </tr>\n",
              "    <tr>\n",
              "      <th>9</th>\n",
              "      <td>NSW</td>\n",
              "      <td>D</td>\n",
              "      <td>27</td>\n",
              "    </tr>\n",
              "  </tbody>\n",
              "</table>\n",
              "</div>"
            ],
            "text/plain": [
              "  state status  age\n",
              "0   NSW      D   35\n",
              "1   NSW      D   53\n",
              "2   NSW      D   42\n",
              "3   NSW      D   44\n",
              "4   NSW      D   39\n",
              "5   NSW      D   36\n",
              "6   NSW      D   36\n",
              "7   NSW      D   31\n",
              "8   NSW      D   26\n",
              "9   NSW      D   27"
            ]
          },
          "metadata": {},
          "execution_count": 34
        }
      ]
    },
    {
      "cell_type": "code",
      "metadata": {
        "hidden": true,
        "id": "jmAJVyP2tPhu",
        "colab": {
          "base_uri": "https://localhost:8080/",
          "height": 143
        },
        "outputId": "875adbe1-9d96-4d2b-ef7f-1aadc0a2060a"
      },
      "source": [
        "aids.tail(3)"
      ],
      "execution_count": null,
      "outputs": [
        {
          "output_type": "execute_result",
          "data": {
            "text/html": [
              "<div>\n",
              "<style scoped>\n",
              "    .dataframe tbody tr th:only-of-type {\n",
              "        vertical-align: middle;\n",
              "    }\n",
              "\n",
              "    .dataframe tbody tr th {\n",
              "        vertical-align: top;\n",
              "    }\n",
              "\n",
              "    .dataframe thead th {\n",
              "        text-align: right;\n",
              "    }\n",
              "</style>\n",
              "<table border=\"1\" class=\"dataframe\">\n",
              "  <thead>\n",
              "    <tr style=\"text-align: right;\">\n",
              "      <th></th>\n",
              "      <th>state</th>\n",
              "      <th>status</th>\n",
              "      <th>age</th>\n",
              "    </tr>\n",
              "  </thead>\n",
              "  <tbody>\n",
              "    <tr>\n",
              "      <th>2840</th>\n",
              "      <td>Other</td>\n",
              "      <td>A</td>\n",
              "      <td>49</td>\n",
              "    </tr>\n",
              "    <tr>\n",
              "      <th>2841</th>\n",
              "      <td>Other</td>\n",
              "      <td>A</td>\n",
              "      <td>55</td>\n",
              "    </tr>\n",
              "    <tr>\n",
              "      <th>2842</th>\n",
              "      <td>Other</td>\n",
              "      <td>A</td>\n",
              "      <td>37</td>\n",
              "    </tr>\n",
              "  </tbody>\n",
              "</table>\n",
              "</div>"
            ],
            "text/plain": [
              "      state status  age\n",
              "2840  Other      A   49\n",
              "2841  Other      A   55\n",
              "2842  Other      A   37"
            ]
          },
          "metadata": {},
          "execution_count": 35
        }
      ]
    },
    {
      "cell_type": "markdown",
      "metadata": {
        "id": "7Z29Fp1pbP1f"
      },
      "source": [
        "случайные строки"
      ]
    },
    {
      "cell_type": "code",
      "metadata": {
        "colab": {
          "base_uri": "https://localhost:8080/",
          "height": 112
        },
        "id": "6Y0o3QDV5ibO",
        "outputId": "5d7e1330-dfa1-4765-ab19-6cc30b5ee32c"
      },
      "source": [
        "aids.sample(2)"
      ],
      "execution_count": null,
      "outputs": [
        {
          "output_type": "execute_result",
          "data": {
            "text/html": [
              "<div>\n",
              "<style scoped>\n",
              "    .dataframe tbody tr th:only-of-type {\n",
              "        vertical-align: middle;\n",
              "    }\n",
              "\n",
              "    .dataframe tbody tr th {\n",
              "        vertical-align: top;\n",
              "    }\n",
              "\n",
              "    .dataframe thead th {\n",
              "        text-align: right;\n",
              "    }\n",
              "</style>\n",
              "<table border=\"1\" class=\"dataframe\">\n",
              "  <thead>\n",
              "    <tr style=\"text-align: right;\">\n",
              "      <th></th>\n",
              "      <th>state</th>\n",
              "      <th>status</th>\n",
              "      <th>age</th>\n",
              "    </tr>\n",
              "  </thead>\n",
              "  <tbody>\n",
              "    <tr>\n",
              "      <th>1740</th>\n",
              "      <td>NSW</td>\n",
              "      <td>A</td>\n",
              "      <td>28</td>\n",
              "    </tr>\n",
              "    <tr>\n",
              "      <th>1290</th>\n",
              "      <td>NSW</td>\n",
              "      <td>D</td>\n",
              "      <td>43</td>\n",
              "    </tr>\n",
              "  </tbody>\n",
              "</table>\n",
              "</div>"
            ],
            "text/plain": [
              "     state status  age\n",
              "1740   NSW      A   28\n",
              "1290   NSW      D   43"
            ]
          },
          "metadata": {},
          "execution_count": 36
        }
      ]
    },
    {
      "cell_type": "markdown",
      "metadata": {
        "heading_collapsed": true,
        "hidden": true,
        "id": "xvID-ht8tPh9"
      },
      "source": [
        "#### столбцы "
      ]
    },
    {
      "cell_type": "markdown",
      "metadata": {
        "hidden": true,
        "id": "V_ZSA0FvtPiI"
      },
      "source": [
        "извлекаем столбец age"
      ]
    },
    {
      "cell_type": "code",
      "metadata": {
        "hidden": true,
        "id": "VL6VUz2itPiO",
        "colab": {
          "base_uri": "https://localhost:8080/"
        },
        "outputId": "ad7b3ddd-a951-47b9-f091-6a6670f60909"
      },
      "source": [
        "aids['age'].head()"
      ],
      "execution_count": null,
      "outputs": [
        {
          "output_type": "execute_result",
          "data": {
            "text/plain": [
              "0    35\n",
              "1    53\n",
              "2    42\n",
              "3    44\n",
              "4    39\n",
              "Name: age, dtype: int64"
            ]
          },
          "metadata": {},
          "execution_count": 37
        }
      ]
    },
    {
      "cell_type": "markdown",
      "metadata": {
        "hidden": true,
        "id": "-b_BKAgltPiU"
      },
      "source": [
        "тип столбца датафрейма:"
      ]
    },
    {
      "cell_type": "code",
      "metadata": {
        "hidden": true,
        "id": "lio1uGhutPiU",
        "colab": {
          "base_uri": "https://localhost:8080/"
        },
        "outputId": "4e3f6405-3d4b-40e6-a538-f6cbbfdfd437"
      },
      "source": [
        "type(aids['age'])"
      ],
      "execution_count": null,
      "outputs": [
        {
          "output_type": "execute_result",
          "data": {
            "text/plain": [
              "pandas.core.series.Series"
            ]
          },
          "metadata": {},
          "execution_count": 38
        }
      ]
    },
    {
      "cell_type": "markdown",
      "metadata": {
        "hidden": true,
        "id": "pzLERElBtPih"
      },
      "source": [
        "извлекаем столбцы age и status"
      ]
    },
    {
      "cell_type": "code",
      "metadata": {
        "hidden": true,
        "id": "2eB5fgpXtPij",
        "colab": {
          "base_uri": "https://localhost:8080/",
          "height": 206
        },
        "outputId": "8eb085c6-2d18-4675-8861-dffbd09ab2c4"
      },
      "source": [
        "aids[['age', 'status']].head()"
      ],
      "execution_count": null,
      "outputs": [
        {
          "output_type": "execute_result",
          "data": {
            "text/html": [
              "<div>\n",
              "<style scoped>\n",
              "    .dataframe tbody tr th:only-of-type {\n",
              "        vertical-align: middle;\n",
              "    }\n",
              "\n",
              "    .dataframe tbody tr th {\n",
              "        vertical-align: top;\n",
              "    }\n",
              "\n",
              "    .dataframe thead th {\n",
              "        text-align: right;\n",
              "    }\n",
              "</style>\n",
              "<table border=\"1\" class=\"dataframe\">\n",
              "  <thead>\n",
              "    <tr style=\"text-align: right;\">\n",
              "      <th></th>\n",
              "      <th>age</th>\n",
              "      <th>status</th>\n",
              "    </tr>\n",
              "  </thead>\n",
              "  <tbody>\n",
              "    <tr>\n",
              "      <th>0</th>\n",
              "      <td>35</td>\n",
              "      <td>D</td>\n",
              "    </tr>\n",
              "    <tr>\n",
              "      <th>1</th>\n",
              "      <td>53</td>\n",
              "      <td>D</td>\n",
              "    </tr>\n",
              "    <tr>\n",
              "      <th>2</th>\n",
              "      <td>42</td>\n",
              "      <td>D</td>\n",
              "    </tr>\n",
              "    <tr>\n",
              "      <th>3</th>\n",
              "      <td>44</td>\n",
              "      <td>D</td>\n",
              "    </tr>\n",
              "    <tr>\n",
              "      <th>4</th>\n",
              "      <td>39</td>\n",
              "      <td>D</td>\n",
              "    </tr>\n",
              "  </tbody>\n",
              "</table>\n",
              "</div>"
            ],
            "text/plain": [
              "   age status\n",
              "0   35      D\n",
              "1   53      D\n",
              "2   42      D\n",
              "3   44      D\n",
              "4   39      D"
            ]
          },
          "metadata": {},
          "execution_count": 39
        }
      ]
    },
    {
      "cell_type": "markdown",
      "metadata": {
        "hidden": true,
        "id": "4a2_ejnXtPit"
      },
      "source": [
        "покажем, что результат является объектом DataFrame"
      ]
    },
    {
      "cell_type": "code",
      "metadata": {
        "hidden": true,
        "id": "XPPgSH4VtPit",
        "colab": {
          "base_uri": "https://localhost:8080/"
        },
        "outputId": "401441eb-b373-4d3b-aefb-506f7d58750c"
      },
      "source": [
        "type(aids[['age', 'status']])"
      ],
      "execution_count": null,
      "outputs": [
        {
          "output_type": "execute_result",
          "data": {
            "text/plain": [
              "pandas.core.frame.DataFrame"
            ]
          },
          "metadata": {},
          "execution_count": 41
        }
      ]
    },
    {
      "cell_type": "markdown",
      "metadata": {
        "hidden": true,
        "id": "PisySAXWtPjh"
      },
      "source": [
        "атрибутивный доступ к столбцу по имени"
      ]
    },
    {
      "cell_type": "code",
      "metadata": {
        "hidden": true,
        "id": "e-BIKdxWtPjl",
        "colab": {
          "base_uri": "https://localhost:8080/"
        },
        "outputId": "9f8f37da-2243-4a76-c44f-3a4e6700f49c"
      },
      "source": [
        "aids.age.head()"
      ],
      "execution_count": null,
      "outputs": [
        {
          "output_type": "execute_result",
          "data": {
            "text/plain": [
              "0    35\n",
              "1    53\n",
              "2    42\n",
              "3    44\n",
              "4    39\n",
              "Name: age, dtype: int64"
            ]
          },
          "metadata": {},
          "execution_count": 42
        }
      ]
    },
    {
      "cell_type": "markdown",
      "metadata": {
        "id": "EsKkvUsYbrx6"
      },
      "source": [
        "Код выше не сработает, если имя столбца содержит пробел."
      ]
    },
    {
      "cell_type": "markdown",
      "metadata": {
        "heading_collapsed": true,
        "hidden": true,
        "id": "mgZwjqJxtPj4"
      },
      "source": [
        "#### строки"
      ]
    },
    {
      "cell_type": "markdown",
      "metadata": {
        "id": "LRM2ZzCo8C3I"
      },
      "source": [
        "Метод .loc позволят выбирать строки по условию или индексу. "
      ]
    },
    {
      "cell_type": "markdown",
      "metadata": {
        "hidden": true,
        "id": "i06supZCtPk0"
      },
      "source": [
        "получаем строку с меткой индекса 16, которая возвращается в виде объекта Series"
      ]
    },
    {
      "cell_type": "code",
      "metadata": {
        "hidden": true,
        "id": "ym4z9U6ftPk0",
        "colab": {
          "base_uri": "https://localhost:8080/"
        },
        "outputId": "42ac837a-07b0-4d62-9d09-9138cdb99a91"
      },
      "source": [
        "aids.loc[16]"
      ],
      "execution_count": null,
      "outputs": [
        {
          "output_type": "execute_result",
          "data": {
            "text/plain": [
              "state     NSW\n",
              "status      D\n",
              "age        30\n",
              "Name: 16, dtype: object"
            ]
          },
          "metadata": {},
          "execution_count": 43
        }
      ]
    },
    {
      "cell_type": "markdown",
      "metadata": {
        "hidden": true,
        "id": "haja4s3VtPlD"
      },
      "source": [
        "получаем строки 16 и 157 результатом будет объект DataFrame"
      ]
    },
    {
      "cell_type": "code",
      "metadata": {
        "hidden": true,
        "id": "9KS3O2ZwtPlD",
        "colab": {
          "base_uri": "https://localhost:8080/",
          "height": 112
        },
        "outputId": "d27af53c-4d43-4ff1-da7d-f368ae981dba"
      },
      "source": [
        "aids.loc[[16, 157]]"
      ],
      "execution_count": null,
      "outputs": [
        {
          "output_type": "execute_result",
          "data": {
            "text/html": [
              "<div>\n",
              "<style scoped>\n",
              "    .dataframe tbody tr th:only-of-type {\n",
              "        vertical-align: middle;\n",
              "    }\n",
              "\n",
              "    .dataframe tbody tr th {\n",
              "        vertical-align: top;\n",
              "    }\n",
              "\n",
              "    .dataframe thead th {\n",
              "        text-align: right;\n",
              "    }\n",
              "</style>\n",
              "<table border=\"1\" class=\"dataframe\">\n",
              "  <thead>\n",
              "    <tr style=\"text-align: right;\">\n",
              "      <th></th>\n",
              "      <th>state</th>\n",
              "      <th>status</th>\n",
              "      <th>age</th>\n",
              "    </tr>\n",
              "  </thead>\n",
              "  <tbody>\n",
              "    <tr>\n",
              "      <th>16</th>\n",
              "      <td>NSW</td>\n",
              "      <td>D</td>\n",
              "      <td>30</td>\n",
              "    </tr>\n",
              "    <tr>\n",
              "      <th>157</th>\n",
              "      <td>NSW</td>\n",
              "      <td>D</td>\n",
              "      <td>41</td>\n",
              "    </tr>\n",
              "  </tbody>\n",
              "</table>\n",
              "</div>"
            ],
            "text/plain": [
              "    state status  age\n",
              "16    NSW      D   30\n",
              "157   NSW      D   41"
            ]
          },
          "metadata": {},
          "execution_count": 44
        }
      ]
    },
    {
      "cell_type": "markdown",
      "metadata": {
        "heading_collapsed": true,
        "hidden": true,
        "id": "ljWkV8gutPlM"
      },
      "source": [
        "##### по позиции"
      ]
    },
    {
      "cell_type": "markdown",
      "metadata": {
        "id": "-ct3y92G8WLr"
      },
      "source": [
        "Второй подход к отбору значений Series и строк DataFrame - это использование номера позиции в индексе. Данную задачу решает свойство .iloc. "
      ]
    },
    {
      "cell_type": "markdown",
      "metadata": {
        "hidden": true,
        "id": "bIk_nsM_tPl6"
      },
      "source": [
        "получаем строки, имеющие позиции 0 и 2"
      ]
    },
    {
      "cell_type": "code",
      "metadata": {
        "id": "CrRpv7C_sXY1",
        "colab": {
          "base_uri": "https://localhost:8080/",
          "height": 143
        },
        "outputId": "03220ccc-9972-46ed-81fb-240780995b96"
      },
      "source": [
        "aids.head(3)"
      ],
      "execution_count": null,
      "outputs": [
        {
          "output_type": "execute_result",
          "data": {
            "text/html": [
              "<div>\n",
              "<style scoped>\n",
              "    .dataframe tbody tr th:only-of-type {\n",
              "        vertical-align: middle;\n",
              "    }\n",
              "\n",
              "    .dataframe tbody tr th {\n",
              "        vertical-align: top;\n",
              "    }\n",
              "\n",
              "    .dataframe thead th {\n",
              "        text-align: right;\n",
              "    }\n",
              "</style>\n",
              "<table border=\"1\" class=\"dataframe\">\n",
              "  <thead>\n",
              "    <tr style=\"text-align: right;\">\n",
              "      <th></th>\n",
              "      <th>state</th>\n",
              "      <th>status</th>\n",
              "      <th>age</th>\n",
              "    </tr>\n",
              "  </thead>\n",
              "  <tbody>\n",
              "    <tr>\n",
              "      <th>0</th>\n",
              "      <td>NSW</td>\n",
              "      <td>D</td>\n",
              "      <td>35</td>\n",
              "    </tr>\n",
              "    <tr>\n",
              "      <th>1</th>\n",
              "      <td>NSW</td>\n",
              "      <td>D</td>\n",
              "      <td>53</td>\n",
              "    </tr>\n",
              "    <tr>\n",
              "      <th>2</th>\n",
              "      <td>NSW</td>\n",
              "      <td>D</td>\n",
              "      <td>42</td>\n",
              "    </tr>\n",
              "  </tbody>\n",
              "</table>\n",
              "</div>"
            ],
            "text/plain": [
              "  state status  age\n",
              "0   NSW      D   35\n",
              "1   NSW      D   53\n",
              "2   NSW      D   42"
            ]
          },
          "metadata": {},
          "execution_count": 45
        }
      ]
    },
    {
      "cell_type": "code",
      "metadata": {
        "hidden": true,
        "id": "dJ8NsCuLtPl7",
        "colab": {
          "base_uri": "https://localhost:8080/",
          "height": 112
        },
        "outputId": "b6727e13-0974-4737-e59e-130a7196b2d2"
      },
      "source": [
        "aids.iloc[[0, 2]]"
      ],
      "execution_count": null,
      "outputs": [
        {
          "output_type": "execute_result",
          "data": {
            "text/html": [
              "<div>\n",
              "<style scoped>\n",
              "    .dataframe tbody tr th:only-of-type {\n",
              "        vertical-align: middle;\n",
              "    }\n",
              "\n",
              "    .dataframe tbody tr th {\n",
              "        vertical-align: top;\n",
              "    }\n",
              "\n",
              "    .dataframe thead th {\n",
              "        text-align: right;\n",
              "    }\n",
              "</style>\n",
              "<table border=\"1\" class=\"dataframe\">\n",
              "  <thead>\n",
              "    <tr style=\"text-align: right;\">\n",
              "      <th></th>\n",
              "      <th>state</th>\n",
              "      <th>status</th>\n",
              "      <th>age</th>\n",
              "    </tr>\n",
              "  </thead>\n",
              "  <tbody>\n",
              "    <tr>\n",
              "      <th>0</th>\n",
              "      <td>NSW</td>\n",
              "      <td>D</td>\n",
              "      <td>35</td>\n",
              "    </tr>\n",
              "    <tr>\n",
              "      <th>2</th>\n",
              "      <td>NSW</td>\n",
              "      <td>D</td>\n",
              "      <td>42</td>\n",
              "    </tr>\n",
              "  </tbody>\n",
              "</table>\n",
              "</div>"
            ],
            "text/plain": [
              "  state status  age\n",
              "0   NSW      D   35\n",
              "2   NSW      D   42"
            ]
          },
          "metadata": {},
          "execution_count": 46
        }
      ]
    },
    {
      "cell_type": "markdown",
      "metadata": {
        "heading_collapsed": true,
        "hidden": true,
        "id": "g3sJrfWEtPmp"
      },
      "source": [
        "#### поиск скалярного значения"
      ]
    },
    {
      "cell_type": "markdown",
      "metadata": {
        "id": "GOhk8wuX9Gbf"
      },
      "source": [
        "Отдельные скалярные значения можно найти по метке с помощью свойства .at, передав ему одновременно метку строки и метку столбца. Кроме того, скалярные значения можно найти по позиции с помощью свойства .iat[], передав позицию строки, а затем позицию столбца. Это предпочтительный метод доступа к отдельным значениям и дает максимальную производительность.\n"
      ]
    },
    {
      "cell_type": "markdown",
      "metadata": {
        "hidden": true,
        "id": "m32pHJTFtPmq"
      },
      "source": [
        "ищем скалярное значение по метке строки и метке (имени) столбца"
      ]
    },
    {
      "cell_type": "code",
      "metadata": {
        "hidden": true,
        "id": "nE8mwFCztPms",
        "colab": {
          "base_uri": "https://localhost:8080/"
        },
        "outputId": "31365da2-53f3-48a6-d9db-208d0ba7e6f0"
      },
      "source": [
        "aids.at[16, 'age']"
      ],
      "execution_count": null,
      "outputs": [
        {
          "output_type": "execute_result",
          "data": {
            "text/plain": [
              "30"
            ]
          },
          "metadata": {},
          "execution_count": 47
        }
      ]
    },
    {
      "cell_type": "markdown",
      "metadata": {
        "hidden": true,
        "id": "scBfHtRBtPmv"
      },
      "source": [
        "ищем скалярное значение по позиции строки и позиции столбца; извлекаем значение в строке 0, столбце 1"
      ]
    },
    {
      "cell_type": "code",
      "metadata": {
        "hidden": true,
        "id": "27Vet6uotPmw",
        "colab": {
          "base_uri": "https://localhost:8080/",
          "height": 35
        },
        "outputId": "f09d8b9c-8f4a-4c15-9d08-f6cbb90dbe92"
      },
      "source": [
        "aids.iat[0, 1]"
      ],
      "execution_count": null,
      "outputs": [
        {
          "output_type": "execute_result",
          "data": {
            "application/vnd.google.colaboratory.intrinsic+json": {
              "type": "string"
            },
            "text/plain": [
              "'D'"
            ]
          },
          "metadata": {},
          "execution_count": 48
        }
      ]
    },
    {
      "cell_type": "markdown",
      "metadata": {
        "heading_collapsed": true,
        "hidden": true,
        "id": "UPQjVagEtPov"
      },
      "source": [
        "#### одновременный отбор строк и столбцов"
      ]
    },
    {
      "cell_type": "markdown",
      "metadata": {
        "id": "PhnDOQ4L9h5X"
      },
      "source": [
        "Отбор подмножества данных, состоящего из набора строк и столбцов, является общепринятой практикой. Данный программный код демонстрирует это, сначала отобрав строки, а затем нужные столбцы. "
      ]
    },
    {
      "cell_type": "markdown",
      "metadata": {
        "hidden": true,
        "id": "bEVRM6kGtPov"
      },
      "source": [
        "Отбираем строки с метками индекса 16 и 2800 для столбцов state и age.\n",
        "Для этого есть две эквивалентные записи.\n"
      ]
    },
    {
      "cell_type": "code",
      "metadata": {
        "hidden": true,
        "id": "oP7mXgW1tPow",
        "colab": {
          "base_uri": "https://localhost:8080/",
          "height": 112
        },
        "outputId": "6ed4d841-4509-43fb-c7d6-85007b82cc40"
      },
      "source": [
        "aids.loc[[16, 2800]][['state', 'age']]"
      ],
      "execution_count": null,
      "outputs": [
        {
          "output_type": "execute_result",
          "data": {
            "text/html": [
              "<div>\n",
              "<style scoped>\n",
              "    .dataframe tbody tr th:only-of-type {\n",
              "        vertical-align: middle;\n",
              "    }\n",
              "\n",
              "    .dataframe tbody tr th {\n",
              "        vertical-align: top;\n",
              "    }\n",
              "\n",
              "    .dataframe thead th {\n",
              "        text-align: right;\n",
              "    }\n",
              "</style>\n",
              "<table border=\"1\" class=\"dataframe\">\n",
              "  <thead>\n",
              "    <tr style=\"text-align: right;\">\n",
              "      <th></th>\n",
              "      <th>state</th>\n",
              "      <th>age</th>\n",
              "    </tr>\n",
              "  </thead>\n",
              "  <tbody>\n",
              "    <tr>\n",
              "      <th>16</th>\n",
              "      <td>NSW</td>\n",
              "      <td>30</td>\n",
              "    </tr>\n",
              "    <tr>\n",
              "      <th>2800</th>\n",
              "      <td>Other</td>\n",
              "      <td>38</td>\n",
              "    </tr>\n",
              "  </tbody>\n",
              "</table>\n",
              "</div>"
            ],
            "text/plain": [
              "      state  age\n",
              "16      NSW   30\n",
              "2800  Other   38"
            ]
          },
          "metadata": {},
          "execution_count": 57
        }
      ]
    },
    {
      "cell_type": "code",
      "metadata": {
        "hidden": true,
        "id": "F3VY1g0LtPoy",
        "colab": {
          "base_uri": "https://localhost:8080/",
          "height": 112
        },
        "outputId": "ac802b60-eeda-47e7-9855-9b62c9ee8b15"
      },
      "source": [
        "aids.loc[[16, 2800],['state', 'age']]"
      ],
      "execution_count": null,
      "outputs": [
        {
          "output_type": "execute_result",
          "data": {
            "text/html": [
              "<div>\n",
              "<style scoped>\n",
              "    .dataframe tbody tr th:only-of-type {\n",
              "        vertical-align: middle;\n",
              "    }\n",
              "\n",
              "    .dataframe tbody tr th {\n",
              "        vertical-align: top;\n",
              "    }\n",
              "\n",
              "    .dataframe thead th {\n",
              "        text-align: right;\n",
              "    }\n",
              "</style>\n",
              "<table border=\"1\" class=\"dataframe\">\n",
              "  <thead>\n",
              "    <tr style=\"text-align: right;\">\n",
              "      <th></th>\n",
              "      <th>state</th>\n",
              "      <th>age</th>\n",
              "    </tr>\n",
              "  </thead>\n",
              "  <tbody>\n",
              "    <tr>\n",
              "      <th>16</th>\n",
              "      <td>NSW</td>\n",
              "      <td>30</td>\n",
              "    </tr>\n",
              "    <tr>\n",
              "      <th>2800</th>\n",
              "      <td>Other</td>\n",
              "      <td>38</td>\n",
              "    </tr>\n",
              "  </tbody>\n",
              "</table>\n",
              "</div>"
            ],
            "text/plain": [
              "      state  age\n",
              "16      NSW   30\n",
              "2800  Other   38"
            ]
          },
          "metadata": {},
          "execution_count": 58
        }
      ]
    },
    {
      "cell_type": "markdown",
      "metadata": {
        "hidden": true,
        "id": "eydjj3_StPo2"
      },
      "source": [
        "определение номера позиций заданных меток"
      ]
    },
    {
      "cell_type": "code",
      "metadata": {
        "hidden": true,
        "id": "KiFEL44PtPo3",
        "colab": {
          "base_uri": "https://localhost:8080/"
        },
        "outputId": "00cda746-e379-4574-c0c9-45bb4c4cbc70"
      },
      "source": [
        "print(aids.index.get_loc(16), aids.index.get_loc(2800)) "
      ],
      "execution_count": null,
      "outputs": [
        {
          "output_type": "stream",
          "name": "stdout",
          "text": [
            "16 2800\n"
          ]
        }
      ]
    },
    {
      "cell_type": "markdown",
      "metadata": {
        "hidden": true,
        "id": "HZVXP6artPpD"
      },
      "source": [
        "отбор строк и столбцов по номеру позиций"
      ]
    },
    {
      "cell_type": "code",
      "metadata": {
        "hidden": true,
        "id": "TmZvjCtQtPpD",
        "colab": {
          "base_uri": "https://localhost:8080/",
          "height": 112
        },
        "outputId": "eeb3a0b6-14e9-4f25-edb8-0a1e8932fead"
      },
      "source": [
        "aids.iloc[[16, 2800],[0,1]]"
      ],
      "execution_count": null,
      "outputs": [
        {
          "output_type": "execute_result",
          "data": {
            "text/html": [
              "<div>\n",
              "<style scoped>\n",
              "    .dataframe tbody tr th:only-of-type {\n",
              "        vertical-align: middle;\n",
              "    }\n",
              "\n",
              "    .dataframe tbody tr th {\n",
              "        vertical-align: top;\n",
              "    }\n",
              "\n",
              "    .dataframe thead th {\n",
              "        text-align: right;\n",
              "    }\n",
              "</style>\n",
              "<table border=\"1\" class=\"dataframe\">\n",
              "  <thead>\n",
              "    <tr style=\"text-align: right;\">\n",
              "      <th></th>\n",
              "      <th>state</th>\n",
              "      <th>status</th>\n",
              "    </tr>\n",
              "  </thead>\n",
              "  <tbody>\n",
              "    <tr>\n",
              "      <th>16</th>\n",
              "      <td>NSW</td>\n",
              "      <td>D</td>\n",
              "    </tr>\n",
              "    <tr>\n",
              "      <th>2800</th>\n",
              "      <td>Other</td>\n",
              "      <td>A</td>\n",
              "    </tr>\n",
              "  </tbody>\n",
              "</table>\n",
              "</div>"
            ],
            "text/plain": [
              "      state status\n",
              "16      NSW      D\n",
              "2800  Other      A"
            ]
          },
          "metadata": {},
          "execution_count": 61
        }
      ]
    },
    {
      "cell_type": "markdown",
      "metadata": {
        "id": "tGjfJw_EdEWk"
      },
      "source": [
        "В этом примере индекс и номер позиции совпадают, но это вполне может быть не так."
      ]
    },
    {
      "cell_type": "markdown",
      "metadata": {
        "heading_collapsed": true,
        "hidden": true,
        "id": "s7-1Qv_dtPpG"
      },
      "source": [
        "#### транспонирование"
      ]
    },
    {
      "cell_type": "code",
      "metadata": {
        "hidden": true,
        "id": "YvNZzwqatPpJ",
        "colab": {
          "base_uri": "https://localhost:8080/",
          "height": 206
        },
        "outputId": "52280b27-e0d7-489f-a278-41d9a1320aa1"
      },
      "source": [
        "aids.head()"
      ],
      "execution_count": null,
      "outputs": [
        {
          "output_type": "execute_result",
          "data": {
            "text/html": [
              "<div>\n",
              "<style scoped>\n",
              "    .dataframe tbody tr th:only-of-type {\n",
              "        vertical-align: middle;\n",
              "    }\n",
              "\n",
              "    .dataframe tbody tr th {\n",
              "        vertical-align: top;\n",
              "    }\n",
              "\n",
              "    .dataframe thead th {\n",
              "        text-align: right;\n",
              "    }\n",
              "</style>\n",
              "<table border=\"1\" class=\"dataframe\">\n",
              "  <thead>\n",
              "    <tr style=\"text-align: right;\">\n",
              "      <th></th>\n",
              "      <th>state</th>\n",
              "      <th>status</th>\n",
              "      <th>age</th>\n",
              "    </tr>\n",
              "  </thead>\n",
              "  <tbody>\n",
              "    <tr>\n",
              "      <th>0</th>\n",
              "      <td>NSW</td>\n",
              "      <td>D</td>\n",
              "      <td>35</td>\n",
              "    </tr>\n",
              "    <tr>\n",
              "      <th>1</th>\n",
              "      <td>NSW</td>\n",
              "      <td>D</td>\n",
              "      <td>53</td>\n",
              "    </tr>\n",
              "    <tr>\n",
              "      <th>2</th>\n",
              "      <td>NSW</td>\n",
              "      <td>D</td>\n",
              "      <td>42</td>\n",
              "    </tr>\n",
              "    <tr>\n",
              "      <th>3</th>\n",
              "      <td>NSW</td>\n",
              "      <td>D</td>\n",
              "      <td>44</td>\n",
              "    </tr>\n",
              "    <tr>\n",
              "      <th>4</th>\n",
              "      <td>NSW</td>\n",
              "      <td>D</td>\n",
              "      <td>39</td>\n",
              "    </tr>\n",
              "  </tbody>\n",
              "</table>\n",
              "</div>"
            ],
            "text/plain": [
              "  state status  age\n",
              "0   NSW      D   35\n",
              "1   NSW      D   53\n",
              "2   NSW      D   42\n",
              "3   NSW      D   44\n",
              "4   NSW      D   39"
            ]
          },
          "metadata": {},
          "execution_count": 62
        }
      ]
    },
    {
      "cell_type": "code",
      "metadata": {
        "hidden": true,
        "id": "TYm-sNFbtPpP",
        "colab": {
          "base_uri": "https://localhost:8080/",
          "height": 193
        },
        "outputId": "f2a4bbbb-a6f8-4ca3-b4c3-aa9df0a3b6e3"
      },
      "source": [
        "aids.T.head()"
      ],
      "execution_count": null,
      "outputs": [
        {
          "output_type": "execute_result",
          "data": {
            "text/html": [
              "<div>\n",
              "<style scoped>\n",
              "    .dataframe tbody tr th:only-of-type {\n",
              "        vertical-align: middle;\n",
              "    }\n",
              "\n",
              "    .dataframe tbody tr th {\n",
              "        vertical-align: top;\n",
              "    }\n",
              "\n",
              "    .dataframe thead th {\n",
              "        text-align: right;\n",
              "    }\n",
              "</style>\n",
              "<table border=\"1\" class=\"dataframe\">\n",
              "  <thead>\n",
              "    <tr style=\"text-align: right;\">\n",
              "      <th></th>\n",
              "      <th>0</th>\n",
              "      <th>1</th>\n",
              "      <th>2</th>\n",
              "      <th>3</th>\n",
              "      <th>4</th>\n",
              "      <th>5</th>\n",
              "      <th>6</th>\n",
              "      <th>7</th>\n",
              "      <th>8</th>\n",
              "      <th>9</th>\n",
              "      <th>10</th>\n",
              "      <th>11</th>\n",
              "      <th>12</th>\n",
              "      <th>13</th>\n",
              "      <th>14</th>\n",
              "      <th>15</th>\n",
              "      <th>16</th>\n",
              "      <th>17</th>\n",
              "      <th>18</th>\n",
              "      <th>19</th>\n",
              "      <th>20</th>\n",
              "      <th>21</th>\n",
              "      <th>22</th>\n",
              "      <th>23</th>\n",
              "      <th>24</th>\n",
              "      <th>25</th>\n",
              "      <th>26</th>\n",
              "      <th>27</th>\n",
              "      <th>28</th>\n",
              "      <th>29</th>\n",
              "      <th>30</th>\n",
              "      <th>31</th>\n",
              "      <th>32</th>\n",
              "      <th>33</th>\n",
              "      <th>34</th>\n",
              "      <th>35</th>\n",
              "      <th>36</th>\n",
              "      <th>37</th>\n",
              "      <th>38</th>\n",
              "      <th>39</th>\n",
              "      <th>...</th>\n",
              "      <th>2803</th>\n",
              "      <th>2804</th>\n",
              "      <th>2805</th>\n",
              "      <th>2806</th>\n",
              "      <th>2807</th>\n",
              "      <th>2808</th>\n",
              "      <th>2809</th>\n",
              "      <th>2810</th>\n",
              "      <th>2811</th>\n",
              "      <th>2812</th>\n",
              "      <th>2813</th>\n",
              "      <th>2814</th>\n",
              "      <th>2815</th>\n",
              "      <th>2816</th>\n",
              "      <th>2817</th>\n",
              "      <th>2818</th>\n",
              "      <th>2819</th>\n",
              "      <th>2820</th>\n",
              "      <th>2821</th>\n",
              "      <th>2822</th>\n",
              "      <th>2823</th>\n",
              "      <th>2824</th>\n",
              "      <th>2825</th>\n",
              "      <th>2826</th>\n",
              "      <th>2827</th>\n",
              "      <th>2828</th>\n",
              "      <th>2829</th>\n",
              "      <th>2830</th>\n",
              "      <th>2831</th>\n",
              "      <th>2832</th>\n",
              "      <th>2833</th>\n",
              "      <th>2834</th>\n",
              "      <th>2835</th>\n",
              "      <th>2836</th>\n",
              "      <th>2837</th>\n",
              "      <th>2838</th>\n",
              "      <th>2839</th>\n",
              "      <th>2840</th>\n",
              "      <th>2841</th>\n",
              "      <th>2842</th>\n",
              "    </tr>\n",
              "  </thead>\n",
              "  <tbody>\n",
              "    <tr>\n",
              "      <th>state</th>\n",
              "      <td>NSW</td>\n",
              "      <td>NSW</td>\n",
              "      <td>NSW</td>\n",
              "      <td>NSW</td>\n",
              "      <td>NSW</td>\n",
              "      <td>NSW</td>\n",
              "      <td>NSW</td>\n",
              "      <td>NSW</td>\n",
              "      <td>NSW</td>\n",
              "      <td>NSW</td>\n",
              "      <td>NSW</td>\n",
              "      <td>NSW</td>\n",
              "      <td>NSW</td>\n",
              "      <td>NSW</td>\n",
              "      <td>NSW</td>\n",
              "      <td>NSW</td>\n",
              "      <td>NSW</td>\n",
              "      <td>NSW</td>\n",
              "      <td>NSW</td>\n",
              "      <td>NSW</td>\n",
              "      <td>NSW</td>\n",
              "      <td>NSW</td>\n",
              "      <td>NSW</td>\n",
              "      <td>NSW</td>\n",
              "      <td>NSW</td>\n",
              "      <td>NSW</td>\n",
              "      <td>NSW</td>\n",
              "      <td>NSW</td>\n",
              "      <td>NSW</td>\n",
              "      <td>NSW</td>\n",
              "      <td>NSW</td>\n",
              "      <td>NSW</td>\n",
              "      <td>NSW</td>\n",
              "      <td>NSW</td>\n",
              "      <td>NSW</td>\n",
              "      <td>NSW</td>\n",
              "      <td>NSW</td>\n",
              "      <td>NSW</td>\n",
              "      <td>NSW</td>\n",
              "      <td>NSW</td>\n",
              "      <td>...</td>\n",
              "      <td>Other</td>\n",
              "      <td>Other</td>\n",
              "      <td>Other</td>\n",
              "      <td>Other</td>\n",
              "      <td>Other</td>\n",
              "      <td>Other</td>\n",
              "      <td>Other</td>\n",
              "      <td>Other</td>\n",
              "      <td>Other</td>\n",
              "      <td>Other</td>\n",
              "      <td>Other</td>\n",
              "      <td>Other</td>\n",
              "      <td>Other</td>\n",
              "      <td>Other</td>\n",
              "      <td>Other</td>\n",
              "      <td>Other</td>\n",
              "      <td>Other</td>\n",
              "      <td>Other</td>\n",
              "      <td>Other</td>\n",
              "      <td>Other</td>\n",
              "      <td>Other</td>\n",
              "      <td>Other</td>\n",
              "      <td>Other</td>\n",
              "      <td>Other</td>\n",
              "      <td>Other</td>\n",
              "      <td>Other</td>\n",
              "      <td>Other</td>\n",
              "      <td>Other</td>\n",
              "      <td>Other</td>\n",
              "      <td>Other</td>\n",
              "      <td>Other</td>\n",
              "      <td>Other</td>\n",
              "      <td>Other</td>\n",
              "      <td>Other</td>\n",
              "      <td>Other</td>\n",
              "      <td>Other</td>\n",
              "      <td>Other</td>\n",
              "      <td>Other</td>\n",
              "      <td>Other</td>\n",
              "      <td>Other</td>\n",
              "    </tr>\n",
              "    <tr>\n",
              "      <th>status</th>\n",
              "      <td>D</td>\n",
              "      <td>D</td>\n",
              "      <td>D</td>\n",
              "      <td>D</td>\n",
              "      <td>D</td>\n",
              "      <td>D</td>\n",
              "      <td>D</td>\n",
              "      <td>D</td>\n",
              "      <td>D</td>\n",
              "      <td>D</td>\n",
              "      <td>D</td>\n",
              "      <td>D</td>\n",
              "      <td>D</td>\n",
              "      <td>D</td>\n",
              "      <td>A</td>\n",
              "      <td>D</td>\n",
              "      <td>D</td>\n",
              "      <td>A</td>\n",
              "      <td>A</td>\n",
              "      <td>D</td>\n",
              "      <td>D</td>\n",
              "      <td>A</td>\n",
              "      <td>A</td>\n",
              "      <td>A</td>\n",
              "      <td>D</td>\n",
              "      <td>A</td>\n",
              "      <td>A</td>\n",
              "      <td>A</td>\n",
              "      <td>A</td>\n",
              "      <td>A</td>\n",
              "      <td>A</td>\n",
              "      <td>D</td>\n",
              "      <td>A</td>\n",
              "      <td>D</td>\n",
              "      <td>A</td>\n",
              "      <td>A</td>\n",
              "      <td>D</td>\n",
              "      <td>D</td>\n",
              "      <td>D</td>\n",
              "      <td>D</td>\n",
              "      <td>...</td>\n",
              "      <td>D</td>\n",
              "      <td>A</td>\n",
              "      <td>A</td>\n",
              "      <td>D</td>\n",
              "      <td>D</td>\n",
              "      <td>D</td>\n",
              "      <td>D</td>\n",
              "      <td>D</td>\n",
              "      <td>A</td>\n",
              "      <td>D</td>\n",
              "      <td>A</td>\n",
              "      <td>D</td>\n",
              "      <td>A</td>\n",
              "      <td>A</td>\n",
              "      <td>A</td>\n",
              "      <td>D</td>\n",
              "      <td>D</td>\n",
              "      <td>D</td>\n",
              "      <td>D</td>\n",
              "      <td>D</td>\n",
              "      <td>A</td>\n",
              "      <td>A</td>\n",
              "      <td>D</td>\n",
              "      <td>A</td>\n",
              "      <td>A</td>\n",
              "      <td>D</td>\n",
              "      <td>D</td>\n",
              "      <td>D</td>\n",
              "      <td>A</td>\n",
              "      <td>A</td>\n",
              "      <td>D</td>\n",
              "      <td>A</td>\n",
              "      <td>A</td>\n",
              "      <td>D</td>\n",
              "      <td>A</td>\n",
              "      <td>A</td>\n",
              "      <td>A</td>\n",
              "      <td>A</td>\n",
              "      <td>A</td>\n",
              "      <td>A</td>\n",
              "    </tr>\n",
              "    <tr>\n",
              "      <th>age</th>\n",
              "      <td>35</td>\n",
              "      <td>53</td>\n",
              "      <td>42</td>\n",
              "      <td>44</td>\n",
              "      <td>39</td>\n",
              "      <td>36</td>\n",
              "      <td>36</td>\n",
              "      <td>31</td>\n",
              "      <td>26</td>\n",
              "      <td>27</td>\n",
              "      <td>45</td>\n",
              "      <td>36</td>\n",
              "      <td>27</td>\n",
              "      <td>35</td>\n",
              "      <td>30</td>\n",
              "      <td>39</td>\n",
              "      <td>30</td>\n",
              "      <td>21</td>\n",
              "      <td>56</td>\n",
              "      <td>41</td>\n",
              "      <td>28</td>\n",
              "      <td>38</td>\n",
              "      <td>26</td>\n",
              "      <td>39</td>\n",
              "      <td>46</td>\n",
              "      <td>13</td>\n",
              "      <td>34</td>\n",
              "      <td>39</td>\n",
              "      <td>31</td>\n",
              "      <td>1</td>\n",
              "      <td>30</td>\n",
              "      <td>37</td>\n",
              "      <td>38</td>\n",
              "      <td>33</td>\n",
              "      <td>30</td>\n",
              "      <td>40</td>\n",
              "      <td>51</td>\n",
              "      <td>29</td>\n",
              "      <td>29</td>\n",
              "      <td>37</td>\n",
              "      <td>...</td>\n",
              "      <td>33</td>\n",
              "      <td>53</td>\n",
              "      <td>26</td>\n",
              "      <td>57</td>\n",
              "      <td>41</td>\n",
              "      <td>32</td>\n",
              "      <td>39</td>\n",
              "      <td>12</td>\n",
              "      <td>23</td>\n",
              "      <td>31</td>\n",
              "      <td>32</td>\n",
              "      <td>43</td>\n",
              "      <td>30</td>\n",
              "      <td>34</td>\n",
              "      <td>37</td>\n",
              "      <td>50</td>\n",
              "      <td>33</td>\n",
              "      <td>41</td>\n",
              "      <td>25</td>\n",
              "      <td>44</td>\n",
              "      <td>45</td>\n",
              "      <td>35</td>\n",
              "      <td>41</td>\n",
              "      <td>45</td>\n",
              "      <td>37</td>\n",
              "      <td>41</td>\n",
              "      <td>42</td>\n",
              "      <td>25</td>\n",
              "      <td>48</td>\n",
              "      <td>51</td>\n",
              "      <td>39</td>\n",
              "      <td>34</td>\n",
              "      <td>37</td>\n",
              "      <td>39</td>\n",
              "      <td>27</td>\n",
              "      <td>46</td>\n",
              "      <td>34</td>\n",
              "      <td>49</td>\n",
              "      <td>55</td>\n",
              "      <td>37</td>\n",
              "    </tr>\n",
              "  </tbody>\n",
              "</table>\n",
              "<p>3 rows × 2843 columns</p>\n",
              "</div>"
            ],
            "text/plain": [
              "       0    1    2    3    4    5     ...   2837   2838   2839   2840   2841   2842\n",
              "state   NSW  NSW  NSW  NSW  NSW  NSW  ...  Other  Other  Other  Other  Other  Other\n",
              "status    D    D    D    D    D    D  ...      A      A      A      A      A      A\n",
              "age      35   53   42   44   39   36  ...     27     46     34     49     55     37\n",
              "\n",
              "[3 rows x 2843 columns]"
            ]
          },
          "metadata": {},
          "execution_count": 63
        }
      ]
    },
    {
      "cell_type": "markdown",
      "metadata": {
        "heading_collapsed": true,
        "id": "CWWnajg6tPu3"
      },
      "source": [
        "### Фильтрация по условию"
      ]
    },
    {
      "cell_type": "markdown",
      "metadata": {
        "id": "z_19UB5PeebV"
      },
      "source": [
        "Индексы предлагают очень мощный и эффективный способ поиска значений на основе их меток. Но что, если вы хотите найти записи на основе значений? Для решения этой задачи библиотека Pandas предлагает воспользоваться фильтрацией по условию. Это применение логического выражения к значениям и возвращение нового объекта булевых значений, представляющих собой результат применения этого выражения к каждому значению. Затем этот результат можно использовать для извлечения лишь тех значений, где был получен результат True. \n",
        "\n",
        "Посмотрим примеры.\n"
      ]
    },
    {
      "cell_type": "markdown",
      "metadata": {
        "heading_collapsed": true,
        "hidden": true,
        "id": "dhHQTjvutPwZ"
      },
      "source": [
        "#### DataFrame"
      ]
    },
    {
      "cell_type": "markdown",
      "metadata": {
        "hidden": true,
        "id": "vhGNisZqtPwc"
      },
      "source": [
        "какие строки имеют значения age < 40?"
      ]
    },
    {
      "cell_type": "code",
      "metadata": {
        "hidden": true,
        "id": "PNhwixx6tPwp",
        "colab": {
          "base_uri": "https://localhost:8080/"
        },
        "outputId": "622e77a4-3132-4478-ac3e-1c46fafa16ae"
      },
      "source": [
        "aids.age < 40"
      ],
      "execution_count": null,
      "outputs": [
        {
          "output_type": "execute_result",
          "data": {
            "text/plain": [
              "0        True\n",
              "1       False\n",
              "2       False\n",
              "3       False\n",
              "4        True\n",
              "        ...  \n",
              "2838    False\n",
              "2839     True\n",
              "2840    False\n",
              "2841    False\n",
              "2842     True\n",
              "Name: age, Length: 2843, dtype: bool"
            ]
          },
          "metadata": {},
          "execution_count": 64
        }
      ]
    },
    {
      "cell_type": "markdown",
      "metadata": {
        "hidden": true,
        "id": "tUXcCRwitPw0"
      },
      "source": [
        "теперь получим строки, в которых age < 40"
      ]
    },
    {
      "cell_type": "code",
      "metadata": {
        "hidden": true,
        "id": "M53d7JcrtPw1",
        "colab": {
          "base_uri": "https://localhost:8080/",
          "height": 424
        },
        "outputId": "15ac18f7-1d95-4ae5-8589-d664083e599f"
      },
      "source": [
        "aids[aids.age < 40]"
      ],
      "execution_count": null,
      "outputs": [
        {
          "output_type": "execute_result",
          "data": {
            "text/html": [
              "<div>\n",
              "<style scoped>\n",
              "    .dataframe tbody tr th:only-of-type {\n",
              "        vertical-align: middle;\n",
              "    }\n",
              "\n",
              "    .dataframe tbody tr th {\n",
              "        vertical-align: top;\n",
              "    }\n",
              "\n",
              "    .dataframe thead th {\n",
              "        text-align: right;\n",
              "    }\n",
              "</style>\n",
              "<table border=\"1\" class=\"dataframe\">\n",
              "  <thead>\n",
              "    <tr style=\"text-align: right;\">\n",
              "      <th></th>\n",
              "      <th>state</th>\n",
              "      <th>status</th>\n",
              "      <th>age</th>\n",
              "    </tr>\n",
              "  </thead>\n",
              "  <tbody>\n",
              "    <tr>\n",
              "      <th>0</th>\n",
              "      <td>NSW</td>\n",
              "      <td>D</td>\n",
              "      <td>35</td>\n",
              "    </tr>\n",
              "    <tr>\n",
              "      <th>4</th>\n",
              "      <td>NSW</td>\n",
              "      <td>D</td>\n",
              "      <td>39</td>\n",
              "    </tr>\n",
              "    <tr>\n",
              "      <th>5</th>\n",
              "      <td>NSW</td>\n",
              "      <td>D</td>\n",
              "      <td>36</td>\n",
              "    </tr>\n",
              "    <tr>\n",
              "      <th>6</th>\n",
              "      <td>NSW</td>\n",
              "      <td>D</td>\n",
              "      <td>36</td>\n",
              "    </tr>\n",
              "    <tr>\n",
              "      <th>7</th>\n",
              "      <td>NSW</td>\n",
              "      <td>D</td>\n",
              "      <td>31</td>\n",
              "    </tr>\n",
              "    <tr>\n",
              "      <th>...</th>\n",
              "      <td>...</td>\n",
              "      <td>...</td>\n",
              "      <td>...</td>\n",
              "    </tr>\n",
              "    <tr>\n",
              "      <th>2835</th>\n",
              "      <td>Other</td>\n",
              "      <td>A</td>\n",
              "      <td>37</td>\n",
              "    </tr>\n",
              "    <tr>\n",
              "      <th>2836</th>\n",
              "      <td>Other</td>\n",
              "      <td>D</td>\n",
              "      <td>39</td>\n",
              "    </tr>\n",
              "    <tr>\n",
              "      <th>2837</th>\n",
              "      <td>Other</td>\n",
              "      <td>A</td>\n",
              "      <td>27</td>\n",
              "    </tr>\n",
              "    <tr>\n",
              "      <th>2839</th>\n",
              "      <td>Other</td>\n",
              "      <td>A</td>\n",
              "      <td>34</td>\n",
              "    </tr>\n",
              "    <tr>\n",
              "      <th>2842</th>\n",
              "      <td>Other</td>\n",
              "      <td>A</td>\n",
              "      <td>37</td>\n",
              "    </tr>\n",
              "  </tbody>\n",
              "</table>\n",
              "<p>1766 rows × 3 columns</p>\n",
              "</div>"
            ],
            "text/plain": [
              "      state status  age\n",
              "0       NSW      D   35\n",
              "4       NSW      D   39\n",
              "5       NSW      D   36\n",
              "6       NSW      D   36\n",
              "7       NSW      D   31\n",
              "...     ...    ...  ...\n",
              "2835  Other      A   37\n",
              "2836  Other      D   39\n",
              "2837  Other      A   27\n",
              "2839  Other      A   34\n",
              "2842  Other      A   37\n",
              "\n",
              "[1766 rows x 3 columns]"
            ]
          },
          "metadata": {},
          "execution_count": 65
        }
      ]
    },
    {
      "cell_type": "markdown",
      "metadata": {
        "id": "5IkLnMYLdi1a"
      },
      "source": [
        "или"
      ]
    },
    {
      "cell_type": "code",
      "metadata": {
        "colab": {
          "base_uri": "https://localhost:8080/",
          "height": 424
        },
        "id": "JwWKSHz-dgD_",
        "outputId": "1b97c3bf-5ef6-436d-f334-5ffb49a6ba7f"
      },
      "source": [
        "aids.loc[aids.age < 40]"
      ],
      "execution_count": null,
      "outputs": [
        {
          "output_type": "execute_result",
          "data": {
            "text/html": [
              "<div>\n",
              "<style scoped>\n",
              "    .dataframe tbody tr th:only-of-type {\n",
              "        vertical-align: middle;\n",
              "    }\n",
              "\n",
              "    .dataframe tbody tr th {\n",
              "        vertical-align: top;\n",
              "    }\n",
              "\n",
              "    .dataframe thead th {\n",
              "        text-align: right;\n",
              "    }\n",
              "</style>\n",
              "<table border=\"1\" class=\"dataframe\">\n",
              "  <thead>\n",
              "    <tr style=\"text-align: right;\">\n",
              "      <th></th>\n",
              "      <th>state</th>\n",
              "      <th>status</th>\n",
              "      <th>age</th>\n",
              "    </tr>\n",
              "  </thead>\n",
              "  <tbody>\n",
              "    <tr>\n",
              "      <th>0</th>\n",
              "      <td>NSW</td>\n",
              "      <td>D</td>\n",
              "      <td>35</td>\n",
              "    </tr>\n",
              "    <tr>\n",
              "      <th>4</th>\n",
              "      <td>NSW</td>\n",
              "      <td>D</td>\n",
              "      <td>39</td>\n",
              "    </tr>\n",
              "    <tr>\n",
              "      <th>5</th>\n",
              "      <td>NSW</td>\n",
              "      <td>D</td>\n",
              "      <td>36</td>\n",
              "    </tr>\n",
              "    <tr>\n",
              "      <th>6</th>\n",
              "      <td>NSW</td>\n",
              "      <td>D</td>\n",
              "      <td>36</td>\n",
              "    </tr>\n",
              "    <tr>\n",
              "      <th>7</th>\n",
              "      <td>NSW</td>\n",
              "      <td>D</td>\n",
              "      <td>31</td>\n",
              "    </tr>\n",
              "    <tr>\n",
              "      <th>...</th>\n",
              "      <td>...</td>\n",
              "      <td>...</td>\n",
              "      <td>...</td>\n",
              "    </tr>\n",
              "    <tr>\n",
              "      <th>2835</th>\n",
              "      <td>Other</td>\n",
              "      <td>A</td>\n",
              "      <td>37</td>\n",
              "    </tr>\n",
              "    <tr>\n",
              "      <th>2836</th>\n",
              "      <td>Other</td>\n",
              "      <td>D</td>\n",
              "      <td>39</td>\n",
              "    </tr>\n",
              "    <tr>\n",
              "      <th>2837</th>\n",
              "      <td>Other</td>\n",
              "      <td>A</td>\n",
              "      <td>27</td>\n",
              "    </tr>\n",
              "    <tr>\n",
              "      <th>2839</th>\n",
              "      <td>Other</td>\n",
              "      <td>A</td>\n",
              "      <td>34</td>\n",
              "    </tr>\n",
              "    <tr>\n",
              "      <th>2842</th>\n",
              "      <td>Other</td>\n",
              "      <td>A</td>\n",
              "      <td>37</td>\n",
              "    </tr>\n",
              "  </tbody>\n",
              "</table>\n",
              "<p>1766 rows × 3 columns</p>\n",
              "</div>"
            ],
            "text/plain": [
              "      state status  age\n",
              "0       NSW      D   35\n",
              "4       NSW      D   39\n",
              "5       NSW      D   36\n",
              "6       NSW      D   36\n",
              "7       NSW      D   31\n",
              "...     ...    ...  ...\n",
              "2835  Other      A   37\n",
              "2836  Other      D   39\n",
              "2837  Other      A   27\n",
              "2839  Other      A   34\n",
              "2842  Other      A   37\n",
              "\n",
              "[1766 rows x 3 columns]"
            ]
          },
          "metadata": {},
          "execution_count": 66
        }
      ]
    },
    {
      "cell_type": "markdown",
      "metadata": {
        "hidden": true,
        "id": "4gYZh19_tPw3"
      },
      "source": [
        "извлекаем лишь те строки, в которых значение age < 40 и > 20"
      ]
    },
    {
      "cell_type": "code",
      "metadata": {
        "hidden": true,
        "id": "xUxvZ58otPw4",
        "colab": {
          "base_uri": "https://localhost:8080/"
        },
        "outputId": "44122d9e-c1ff-4716-bdcb-6266e3a62c27"
      },
      "source": [
        "r = aids[(aids['age'] < 40) & \n",
        "          (aids.age > 20)]['age']\n",
        "r"
      ],
      "execution_count": null,
      "outputs": [
        {
          "output_type": "execute_result",
          "data": {
            "text/plain": [
              "0       35\n",
              "4       39\n",
              "5       36\n",
              "6       36\n",
              "7       31\n",
              "        ..\n",
              "2835    37\n",
              "2836    39\n",
              "2837    27\n",
              "2839    34\n",
              "2842    37\n",
              "Name: age, Length: 1720, dtype: int64"
            ]
          },
          "metadata": {},
          "execution_count": 67
        }
      ]
    },
    {
      "cell_type": "markdown",
      "metadata": {
        "hidden": true,
        "id": "1KMwTtRwtPxA"
      },
      "source": [
        "использование метода .isin"
      ]
    },
    {
      "cell_type": "code",
      "metadata": {
        "hidden": true,
        "id": "ZDR0oThCtPxA",
        "colab": {
          "base_uri": "https://localhost:8080/"
        },
        "outputId": "a94c29fe-ab4c-435f-c9f9-b7d821f94e28"
      },
      "source": [
        "s_tmp = aids.age.isin([15, 28])\n",
        "s_tmp"
      ],
      "execution_count": null,
      "outputs": [
        {
          "output_type": "execute_result",
          "data": {
            "text/plain": [
              "0       False\n",
              "1       False\n",
              "2       False\n",
              "3       False\n",
              "4       False\n",
              "        ...  \n",
              "2838    False\n",
              "2839    False\n",
              "2840    False\n",
              "2841    False\n",
              "2842    False\n",
              "Name: age, Length: 2843, dtype: bool"
            ]
          },
          "metadata": {},
          "execution_count": 68
        }
      ]
    },
    {
      "cell_type": "code",
      "metadata": {
        "hidden": true,
        "id": "OykVOpWQtPxE",
        "colab": {
          "base_uri": "https://localhost:8080/",
          "height": 206
        },
        "outputId": "5ca764b0-36bf-4be8-f042-2e8b060faf70"
      },
      "source": [
        "aids[s_tmp].head()"
      ],
      "execution_count": null,
      "outputs": [
        {
          "output_type": "execute_result",
          "data": {
            "text/html": [
              "<div>\n",
              "<style scoped>\n",
              "    .dataframe tbody tr th:only-of-type {\n",
              "        vertical-align: middle;\n",
              "    }\n",
              "\n",
              "    .dataframe tbody tr th {\n",
              "        vertical-align: top;\n",
              "    }\n",
              "\n",
              "    .dataframe thead th {\n",
              "        text-align: right;\n",
              "    }\n",
              "</style>\n",
              "<table border=\"1\" class=\"dataframe\">\n",
              "  <thead>\n",
              "    <tr style=\"text-align: right;\">\n",
              "      <th></th>\n",
              "      <th>state</th>\n",
              "      <th>status</th>\n",
              "      <th>age</th>\n",
              "    </tr>\n",
              "  </thead>\n",
              "  <tbody>\n",
              "    <tr>\n",
              "      <th>20</th>\n",
              "      <td>NSW</td>\n",
              "      <td>D</td>\n",
              "      <td>28</td>\n",
              "    </tr>\n",
              "    <tr>\n",
              "      <th>97</th>\n",
              "      <td>NSW</td>\n",
              "      <td>D</td>\n",
              "      <td>28</td>\n",
              "    </tr>\n",
              "    <tr>\n",
              "      <th>103</th>\n",
              "      <td>NSW</td>\n",
              "      <td>D</td>\n",
              "      <td>28</td>\n",
              "    </tr>\n",
              "    <tr>\n",
              "      <th>142</th>\n",
              "      <td>NSW</td>\n",
              "      <td>D</td>\n",
              "      <td>28</td>\n",
              "    </tr>\n",
              "    <tr>\n",
              "      <th>206</th>\n",
              "      <td>NSW</td>\n",
              "      <td>D</td>\n",
              "      <td>28</td>\n",
              "    </tr>\n",
              "  </tbody>\n",
              "</table>\n",
              "</div>"
            ],
            "text/plain": [
              "    state status  age\n",
              "20    NSW      D   28\n",
              "97    NSW      D   28\n",
              "103   NSW      D   28\n",
              "142   NSW      D   28\n",
              "206   NSW      D   28"
            ]
          },
          "metadata": {},
          "execution_count": 69
        }
      ]
    },
    {
      "cell_type": "markdown",
      "metadata": {
        "hidden": true,
        "id": "oh_oSi0YtPxG"
      },
      "source": [
        "использование метода .query для того же самого запроса, как в предыдущем примере"
      ]
    },
    {
      "cell_type": "code",
      "metadata": {
        "hidden": true,
        "id": "Q1htsXj0tPxK",
        "colab": {
          "base_uri": "https://localhost:8080/",
          "height": 419
        },
        "outputId": "be2b2795-2b1f-4b73-b21b-20e7151ce3b9"
      },
      "source": [
        "q = aids.query(\"age < 40 & age > 20 | state == 'NSW'\")[['age', 'state']]\n",
        "q"
      ],
      "execution_count": null,
      "outputs": [
        {
          "output_type": "execute_result",
          "data": {
            "text/html": [
              "<div>\n",
              "<style scoped>\n",
              "    .dataframe tbody tr th:only-of-type {\n",
              "        vertical-align: middle;\n",
              "    }\n",
              "\n",
              "    .dataframe tbody tr th {\n",
              "        vertical-align: top;\n",
              "    }\n",
              "\n",
              "    .dataframe thead th {\n",
              "        text-align: right;\n",
              "    }\n",
              "</style>\n",
              "<table border=\"1\" class=\"dataframe\">\n",
              "  <thead>\n",
              "    <tr style=\"text-align: right;\">\n",
              "      <th></th>\n",
              "      <th>age</th>\n",
              "      <th>state</th>\n",
              "    </tr>\n",
              "  </thead>\n",
              "  <tbody>\n",
              "    <tr>\n",
              "      <th>0</th>\n",
              "      <td>35</td>\n",
              "      <td>NSW</td>\n",
              "    </tr>\n",
              "    <tr>\n",
              "      <th>1</th>\n",
              "      <td>53</td>\n",
              "      <td>NSW</td>\n",
              "    </tr>\n",
              "    <tr>\n",
              "      <th>2</th>\n",
              "      <td>42</td>\n",
              "      <td>NSW</td>\n",
              "    </tr>\n",
              "    <tr>\n",
              "      <th>3</th>\n",
              "      <td>44</td>\n",
              "      <td>NSW</td>\n",
              "    </tr>\n",
              "    <tr>\n",
              "      <th>4</th>\n",
              "      <td>39</td>\n",
              "      <td>NSW</td>\n",
              "    </tr>\n",
              "    <tr>\n",
              "      <th>...</th>\n",
              "      <td>...</td>\n",
              "      <td>...</td>\n",
              "    </tr>\n",
              "    <tr>\n",
              "      <th>2835</th>\n",
              "      <td>37</td>\n",
              "      <td>Other</td>\n",
              "    </tr>\n",
              "    <tr>\n",
              "      <th>2836</th>\n",
              "      <td>39</td>\n",
              "      <td>Other</td>\n",
              "    </tr>\n",
              "    <tr>\n",
              "      <th>2837</th>\n",
              "      <td>27</td>\n",
              "      <td>Other</td>\n",
              "    </tr>\n",
              "    <tr>\n",
              "      <th>2839</th>\n",
              "      <td>34</td>\n",
              "      <td>Other</td>\n",
              "    </tr>\n",
              "    <tr>\n",
              "      <th>2842</th>\n",
              "      <td>37</td>\n",
              "      <td>Other</td>\n",
              "    </tr>\n",
              "  </tbody>\n",
              "</table>\n",
              "<p>2423 rows × 2 columns</p>\n",
              "</div>"
            ],
            "text/plain": [
              "      age  state\n",
              "0      35    NSW\n",
              "1      53    NSW\n",
              "2      42    NSW\n",
              "3      44    NSW\n",
              "4      39    NSW\n",
              "...   ...    ...\n",
              "2835   37  Other\n",
              "2836   39  Other\n",
              "2837   27  Other\n",
              "2839   34  Other\n",
              "2842   37  Other\n",
              "\n",
              "[2423 rows x 2 columns]"
            ]
          },
          "metadata": {},
          "execution_count": 15
        }
      ]
    },
    {
      "cell_type": "markdown",
      "metadata": {
        "heading_collapsed": true,
        "id": "H-2zNvedtPxL"
      },
      "source": [
        "### Добавление "
      ]
    },
    {
      "cell_type": "markdown",
      "metadata": {
        "heading_collapsed": true,
        "hidden": true,
        "id": "1X08rwWmtPxM"
      },
      "source": [
        "#### оператор [ ] "
      ]
    },
    {
      "cell_type": "markdown",
      "metadata": {
        "hidden": true,
        "id": "RRX5XOxItPxN"
      },
      "source": [
        "создаем копию, чтобы исходные данные остались в неизменном виде"
      ]
    },
    {
      "cell_type": "code",
      "metadata": {
        "hidden": true,
        "id": "aBiFv_H_tPxO"
      },
      "source": [
        "aids_copy = aids.copy()"
      ],
      "execution_count": null,
      "outputs": []
    },
    {
      "cell_type": "markdown",
      "metadata": {
        "hidden": true,
        "id": "WUxcVrx0tPxX"
      },
      "source": [
        "добавляем столбец"
      ]
    },
    {
      "cell_type": "code",
      "metadata": {
        "hidden": true,
        "id": "rYBPc4yOtPxX",
        "colab": {
          "base_uri": "https://localhost:8080/",
          "height": 142
        },
        "outputId": "e29200fe-0982-4438-9ecb-e7d6dd23ee85"
      },
      "source": [
        "aids_copy['MaxAge'] = aids_copy.age.max()\n",
        "aids_copy.head(3)"
      ],
      "execution_count": null,
      "outputs": [
        {
          "output_type": "execute_result",
          "data": {
            "text/html": [
              "<div>\n",
              "<style scoped>\n",
              "    .dataframe tbody tr th:only-of-type {\n",
              "        vertical-align: middle;\n",
              "    }\n",
              "\n",
              "    .dataframe tbody tr th {\n",
              "        vertical-align: top;\n",
              "    }\n",
              "\n",
              "    .dataframe thead th {\n",
              "        text-align: right;\n",
              "    }\n",
              "</style>\n",
              "<table border=\"1\" class=\"dataframe\">\n",
              "  <thead>\n",
              "    <tr style=\"text-align: right;\">\n",
              "      <th></th>\n",
              "      <th>Unnamed: 0</th>\n",
              "      <th>state</th>\n",
              "      <th>sex</th>\n",
              "      <th>diag</th>\n",
              "      <th>death</th>\n",
              "      <th>status</th>\n",
              "      <th>T.categ</th>\n",
              "      <th>age</th>\n",
              "      <th>MaxAge</th>\n",
              "    </tr>\n",
              "  </thead>\n",
              "  <tbody>\n",
              "    <tr>\n",
              "      <th>0</th>\n",
              "      <td>1</td>\n",
              "      <td>NSW</td>\n",
              "      <td>M</td>\n",
              "      <td>10905</td>\n",
              "      <td>11081</td>\n",
              "      <td>D</td>\n",
              "      <td>hs</td>\n",
              "      <td>35</td>\n",
              "      <td>82</td>\n",
              "    </tr>\n",
              "    <tr>\n",
              "      <th>1</th>\n",
              "      <td>2</td>\n",
              "      <td>NSW</td>\n",
              "      <td>M</td>\n",
              "      <td>11029</td>\n",
              "      <td>11096</td>\n",
              "      <td>D</td>\n",
              "      <td>hs</td>\n",
              "      <td>53</td>\n",
              "      <td>82</td>\n",
              "    </tr>\n",
              "    <tr>\n",
              "      <th>2</th>\n",
              "      <td>3</td>\n",
              "      <td>NSW</td>\n",
              "      <td>M</td>\n",
              "      <td>9551</td>\n",
              "      <td>9983</td>\n",
              "      <td>D</td>\n",
              "      <td>hs</td>\n",
              "      <td>42</td>\n",
              "      <td>82</td>\n",
              "    </tr>\n",
              "  </tbody>\n",
              "</table>\n",
              "</div>"
            ],
            "text/plain": [
              "   Unnamed: 0 state sex   diag  death status T.categ  age  MaxAge\n",
              "0           1   NSW   M  10905  11081      D      hs   35      82\n",
              "1           2   NSW   M  11029  11096      D      hs   53      82\n",
              "2           3   NSW   M   9551   9983      D      hs   42      82"
            ]
          },
          "metadata": {},
          "execution_count": 17
        }
      ]
    },
    {
      "cell_type": "markdown",
      "metadata": {
        "heading_collapsed": true,
        "id": "jzM5wrgWtPzR"
      },
      "source": [
        "### Сортировка"
      ]
    },
    {
      "cell_type": "markdown",
      "metadata": {
        "heading_collapsed": true,
        "hidden": true,
        "id": "KQgL_DY3tPzR"
      },
      "source": [
        "#### по индексу "
      ]
    },
    {
      "cell_type": "markdown",
      "metadata": {
        "id": "3-iXBweVfphN"
      },
      "source": [
        "Для лексикографической сортировки по индексу служит метод sort_index, который возвращает новый отсортированный объект. В случае DataFrame можно сортировать по индексу, связанному с любой осью - строками или столбцами. В данном примере сортировка производится по меткам оси столбцов.\n"
      ]
    },
    {
      "cell_type": "code",
      "metadata": {
        "hidden": true,
        "id": "1XiRNHV5tPzS",
        "colab": {
          "base_uri": "https://localhost:8080/",
          "height": 206
        },
        "outputId": "42ec7b7b-867f-4a7b-8668-dac7c33c860f"
      },
      "source": [
        "aids.head()"
      ],
      "execution_count": null,
      "outputs": [
        {
          "output_type": "execute_result",
          "data": {
            "text/html": [
              "<div>\n",
              "<style scoped>\n",
              "    .dataframe tbody tr th:only-of-type {\n",
              "        vertical-align: middle;\n",
              "    }\n",
              "\n",
              "    .dataframe tbody tr th {\n",
              "        vertical-align: top;\n",
              "    }\n",
              "\n",
              "    .dataframe thead th {\n",
              "        text-align: right;\n",
              "    }\n",
              "</style>\n",
              "<table border=\"1\" class=\"dataframe\">\n",
              "  <thead>\n",
              "    <tr style=\"text-align: right;\">\n",
              "      <th></th>\n",
              "      <th>state</th>\n",
              "      <th>status</th>\n",
              "      <th>age</th>\n",
              "    </tr>\n",
              "  </thead>\n",
              "  <tbody>\n",
              "    <tr>\n",
              "      <th>0</th>\n",
              "      <td>NSW</td>\n",
              "      <td>D</td>\n",
              "      <td>35</td>\n",
              "    </tr>\n",
              "    <tr>\n",
              "      <th>1</th>\n",
              "      <td>NSW</td>\n",
              "      <td>D</td>\n",
              "      <td>53</td>\n",
              "    </tr>\n",
              "    <tr>\n",
              "      <th>2</th>\n",
              "      <td>NSW</td>\n",
              "      <td>D</td>\n",
              "      <td>42</td>\n",
              "    </tr>\n",
              "    <tr>\n",
              "      <th>3</th>\n",
              "      <td>NSW</td>\n",
              "      <td>D</td>\n",
              "      <td>44</td>\n",
              "    </tr>\n",
              "    <tr>\n",
              "      <th>4</th>\n",
              "      <td>NSW</td>\n",
              "      <td>D</td>\n",
              "      <td>39</td>\n",
              "    </tr>\n",
              "  </tbody>\n",
              "</table>\n",
              "</div>"
            ],
            "text/plain": [
              "  state status  age\n",
              "0   NSW      D   35\n",
              "1   NSW      D   53\n",
              "2   NSW      D   42\n",
              "3   NSW      D   44\n",
              "4   NSW      D   39"
            ]
          },
          "metadata": {},
          "execution_count": 73
        }
      ]
    },
    {
      "cell_type": "code",
      "metadata": {
        "hidden": true,
        "id": "oYXiSJl8tPzj",
        "colab": {
          "base_uri": "https://localhost:8080/",
          "height": 206
        },
        "outputId": "c12d42ed-a2c7-425a-abf7-6c86e0e85628"
      },
      "source": [
        "aids.sort_index(ascending=False).head()"
      ],
      "execution_count": null,
      "outputs": [
        {
          "output_type": "execute_result",
          "data": {
            "text/html": [
              "<div>\n",
              "<style scoped>\n",
              "    .dataframe tbody tr th:only-of-type {\n",
              "        vertical-align: middle;\n",
              "    }\n",
              "\n",
              "    .dataframe tbody tr th {\n",
              "        vertical-align: top;\n",
              "    }\n",
              "\n",
              "    .dataframe thead th {\n",
              "        text-align: right;\n",
              "    }\n",
              "</style>\n",
              "<table border=\"1\" class=\"dataframe\">\n",
              "  <thead>\n",
              "    <tr style=\"text-align: right;\">\n",
              "      <th></th>\n",
              "      <th>state</th>\n",
              "      <th>status</th>\n",
              "      <th>age</th>\n",
              "    </tr>\n",
              "  </thead>\n",
              "  <tbody>\n",
              "    <tr>\n",
              "      <th>2842</th>\n",
              "      <td>Other</td>\n",
              "      <td>A</td>\n",
              "      <td>37</td>\n",
              "    </tr>\n",
              "    <tr>\n",
              "      <th>2841</th>\n",
              "      <td>Other</td>\n",
              "      <td>A</td>\n",
              "      <td>55</td>\n",
              "    </tr>\n",
              "    <tr>\n",
              "      <th>2840</th>\n",
              "      <td>Other</td>\n",
              "      <td>A</td>\n",
              "      <td>49</td>\n",
              "    </tr>\n",
              "    <tr>\n",
              "      <th>2839</th>\n",
              "      <td>Other</td>\n",
              "      <td>A</td>\n",
              "      <td>34</td>\n",
              "    </tr>\n",
              "    <tr>\n",
              "      <th>2838</th>\n",
              "      <td>Other</td>\n",
              "      <td>A</td>\n",
              "      <td>46</td>\n",
              "    </tr>\n",
              "  </tbody>\n",
              "</table>\n",
              "</div>"
            ],
            "text/plain": [
              "      state status  age\n",
              "2842  Other      A   37\n",
              "2841  Other      A   55\n",
              "2840  Other      A   49\n",
              "2839  Other      A   34\n",
              "2838  Other      A   46"
            ]
          },
          "metadata": {},
          "execution_count": 75
        }
      ]
    },
    {
      "cell_type": "markdown",
      "metadata": {
        "heading_collapsed": true,
        "hidden": true,
        "id": "Pk2_Z0EUtPzs"
      },
      "source": [
        "#### по значению"
      ]
    },
    {
      "cell_type": "markdown",
      "metadata": {
        "id": "QTXJ2RUDfur9"
      },
      "source": [
        "Объект Dataframe можно сортировать по значениям в одном или нескольких столбцах. Для этого имена столбцов следует передать в качестве значения параметра \"by\" метода sort_values. По умолчанию данные сортируются в порядке возрастания, но можно отсортировать и в порядке убывания. Используем параметр ascending."
      ]
    },
    {
      "cell_type": "code",
      "metadata": {
        "hidden": true,
        "id": "dHQWLQt8tPzt",
        "colab": {
          "base_uri": "https://localhost:8080/",
          "height": 206
        },
        "outputId": "4e1076f9-7085-434f-9501-ee4eff415557"
      },
      "source": [
        "aids.sort_values(by='age').head()"
      ],
      "execution_count": null,
      "outputs": [
        {
          "output_type": "execute_result",
          "data": {
            "text/html": [
              "<div>\n",
              "<style scoped>\n",
              "    .dataframe tbody tr th:only-of-type {\n",
              "        vertical-align: middle;\n",
              "    }\n",
              "\n",
              "    .dataframe tbody tr th {\n",
              "        vertical-align: top;\n",
              "    }\n",
              "\n",
              "    .dataframe thead th {\n",
              "        text-align: right;\n",
              "    }\n",
              "</style>\n",
              "<table border=\"1\" class=\"dataframe\">\n",
              "  <thead>\n",
              "    <tr style=\"text-align: right;\">\n",
              "      <th></th>\n",
              "      <th>state</th>\n",
              "      <th>status</th>\n",
              "      <th>age</th>\n",
              "    </tr>\n",
              "  </thead>\n",
              "  <tbody>\n",
              "    <tr>\n",
              "      <th>2021</th>\n",
              "      <td>Other</td>\n",
              "      <td>D</td>\n",
              "      <td>0</td>\n",
              "    </tr>\n",
              "    <tr>\n",
              "      <th>1793</th>\n",
              "      <td>QLD</td>\n",
              "      <td>D</td>\n",
              "      <td>0</td>\n",
              "    </tr>\n",
              "    <tr>\n",
              "      <th>1789</th>\n",
              "      <td>QLD</td>\n",
              "      <td>D</td>\n",
              "      <td>0</td>\n",
              "    </tr>\n",
              "    <tr>\n",
              "      <th>1788</th>\n",
              "      <td>QLD</td>\n",
              "      <td>D</td>\n",
              "      <td>0</td>\n",
              "    </tr>\n",
              "    <tr>\n",
              "      <th>1790</th>\n",
              "      <td>QLD</td>\n",
              "      <td>D</td>\n",
              "      <td>1</td>\n",
              "    </tr>\n",
              "  </tbody>\n",
              "</table>\n",
              "</div>"
            ],
            "text/plain": [
              "      state status  age\n",
              "2021  Other      D    0\n",
              "1793    QLD      D    0\n",
              "1789    QLD      D    0\n",
              "1788    QLD      D    0\n",
              "1790    QLD      D    1"
            ]
          },
          "metadata": {},
          "execution_count": 76
        }
      ]
    },
    {
      "cell_type": "code",
      "metadata": {
        "hidden": true,
        "id": "HFQrkmxdtPzv",
        "colab": {
          "base_uri": "https://localhost:8080/",
          "height": 206
        },
        "outputId": "f9242225-bf22-43eb-fa3f-858534ecd8a5"
      },
      "source": [
        "aids.sort_values(by='age', ascending=False).head()"
      ],
      "execution_count": null,
      "outputs": [
        {
          "output_type": "execute_result",
          "data": {
            "text/html": [
              "<div>\n",
              "<style scoped>\n",
              "    .dataframe tbody tr th:only-of-type {\n",
              "        vertical-align: middle;\n",
              "    }\n",
              "\n",
              "    .dataframe tbody tr th {\n",
              "        vertical-align: top;\n",
              "    }\n",
              "\n",
              "    .dataframe thead th {\n",
              "        text-align: right;\n",
              "    }\n",
              "</style>\n",
              "<table border=\"1\" class=\"dataframe\">\n",
              "  <thead>\n",
              "    <tr style=\"text-align: right;\">\n",
              "      <th></th>\n",
              "      <th>state</th>\n",
              "      <th>status</th>\n",
              "      <th>age</th>\n",
              "    </tr>\n",
              "  </thead>\n",
              "  <tbody>\n",
              "    <tr>\n",
              "      <th>196</th>\n",
              "      <td>NSW</td>\n",
              "      <td>D</td>\n",
              "      <td>82</td>\n",
              "    </tr>\n",
              "    <tr>\n",
              "      <th>1657</th>\n",
              "      <td>NSW</td>\n",
              "      <td>D</td>\n",
              "      <td>80</td>\n",
              "    </tr>\n",
              "    <tr>\n",
              "      <th>274</th>\n",
              "      <td>NSW</td>\n",
              "      <td>D</td>\n",
              "      <td>78</td>\n",
              "    </tr>\n",
              "    <tr>\n",
              "      <th>1408</th>\n",
              "      <td>NSW</td>\n",
              "      <td>D</td>\n",
              "      <td>78</td>\n",
              "    </tr>\n",
              "    <tr>\n",
              "      <th>1654</th>\n",
              "      <td>NSW</td>\n",
              "      <td>A</td>\n",
              "      <td>77</td>\n",
              "    </tr>\n",
              "  </tbody>\n",
              "</table>\n",
              "</div>"
            ],
            "text/plain": [
              "     state status  age\n",
              "196    NSW      D   82\n",
              "1657   NSW      D   80\n",
              "274    NSW      D   78\n",
              "1408   NSW      D   78\n",
              "1654   NSW      A   77"
            ]
          },
          "metadata": {},
          "execution_count": 78
        }
      ]
    },
    {
      "cell_type": "markdown",
      "metadata": {
        "heading_collapsed": true,
        "hidden": true,
        "id": "NRLFYMgftPz8"
      },
      "source": [
        "#### наименьшее / наибольшее значение"
      ]
    },
    {
      "cell_type": "markdown",
      "metadata": {
        "id": "J07RDBXefzge"
      },
      "source": [
        "Еще один полезный функционал библиотеки Pandas - это вывод наименьших, наибольших значений. Соответственно методы .nsmallest, .nlargest"
      ]
    },
    {
      "cell_type": "code",
      "metadata": {
        "hidden": true,
        "id": "HX_exAKRtPz9",
        "colab": {
          "base_uri": "https://localhost:8080/",
          "height": 206
        },
        "outputId": "9578604e-9652-4636-ebaf-c5c685cbac8b"
      },
      "source": [
        "aids.nsmallest(5, 'age')"
      ],
      "execution_count": null,
      "outputs": [
        {
          "output_type": "execute_result",
          "data": {
            "text/html": [
              "<div>\n",
              "<style scoped>\n",
              "    .dataframe tbody tr th:only-of-type {\n",
              "        vertical-align: middle;\n",
              "    }\n",
              "\n",
              "    .dataframe tbody tr th {\n",
              "        vertical-align: top;\n",
              "    }\n",
              "\n",
              "    .dataframe thead th {\n",
              "        text-align: right;\n",
              "    }\n",
              "</style>\n",
              "<table border=\"1\" class=\"dataframe\">\n",
              "  <thead>\n",
              "    <tr style=\"text-align: right;\">\n",
              "      <th></th>\n",
              "      <th>state</th>\n",
              "      <th>status</th>\n",
              "      <th>age</th>\n",
              "    </tr>\n",
              "  </thead>\n",
              "  <tbody>\n",
              "    <tr>\n",
              "      <th>1788</th>\n",
              "      <td>QLD</td>\n",
              "      <td>D</td>\n",
              "      <td>0</td>\n",
              "    </tr>\n",
              "    <tr>\n",
              "      <th>1789</th>\n",
              "      <td>QLD</td>\n",
              "      <td>D</td>\n",
              "      <td>0</td>\n",
              "    </tr>\n",
              "    <tr>\n",
              "      <th>1793</th>\n",
              "      <td>QLD</td>\n",
              "      <td>D</td>\n",
              "      <td>0</td>\n",
              "    </tr>\n",
              "    <tr>\n",
              "      <th>2021</th>\n",
              "      <td>Other</td>\n",
              "      <td>D</td>\n",
              "      <td>0</td>\n",
              "    </tr>\n",
              "    <tr>\n",
              "      <th>29</th>\n",
              "      <td>NSW</td>\n",
              "      <td>A</td>\n",
              "      <td>1</td>\n",
              "    </tr>\n",
              "  </tbody>\n",
              "</table>\n",
              "</div>"
            ],
            "text/plain": [
              "      state status  age\n",
              "1788    QLD      D    0\n",
              "1789    QLD      D    0\n",
              "1793    QLD      D    0\n",
              "2021  Other      D    0\n",
              "29      NSW      A    1"
            ]
          },
          "metadata": {},
          "execution_count": 79
        }
      ]
    },
    {
      "cell_type": "code",
      "metadata": {
        "hidden": true,
        "id": "efiVt_YmtPz_",
        "colab": {
          "base_uri": "https://localhost:8080/",
          "height": 206
        },
        "outputId": "a1832716-62a4-490b-ff0d-2e66ce52829c"
      },
      "source": [
        "aids.nlargest(5, 'age')"
      ],
      "execution_count": null,
      "outputs": [
        {
          "output_type": "execute_result",
          "data": {
            "text/html": [
              "<div>\n",
              "<style scoped>\n",
              "    .dataframe tbody tr th:only-of-type {\n",
              "        vertical-align: middle;\n",
              "    }\n",
              "\n",
              "    .dataframe tbody tr th {\n",
              "        vertical-align: top;\n",
              "    }\n",
              "\n",
              "    .dataframe thead th {\n",
              "        text-align: right;\n",
              "    }\n",
              "</style>\n",
              "<table border=\"1\" class=\"dataframe\">\n",
              "  <thead>\n",
              "    <tr style=\"text-align: right;\">\n",
              "      <th></th>\n",
              "      <th>state</th>\n",
              "      <th>status</th>\n",
              "      <th>age</th>\n",
              "    </tr>\n",
              "  </thead>\n",
              "  <tbody>\n",
              "    <tr>\n",
              "      <th>196</th>\n",
              "      <td>NSW</td>\n",
              "      <td>D</td>\n",
              "      <td>82</td>\n",
              "    </tr>\n",
              "    <tr>\n",
              "      <th>1657</th>\n",
              "      <td>NSW</td>\n",
              "      <td>D</td>\n",
              "      <td>80</td>\n",
              "    </tr>\n",
              "    <tr>\n",
              "      <th>274</th>\n",
              "      <td>NSW</td>\n",
              "      <td>D</td>\n",
              "      <td>78</td>\n",
              "    </tr>\n",
              "    <tr>\n",
              "      <th>1408</th>\n",
              "      <td>NSW</td>\n",
              "      <td>D</td>\n",
              "      <td>78</td>\n",
              "    </tr>\n",
              "    <tr>\n",
              "      <th>1654</th>\n",
              "      <td>NSW</td>\n",
              "      <td>A</td>\n",
              "      <td>77</td>\n",
              "    </tr>\n",
              "  </tbody>\n",
              "</table>\n",
              "</div>"
            ],
            "text/plain": [
              "     state status  age\n",
              "196    NSW      D   82\n",
              "1657   NSW      D   80\n",
              "274    NSW      D   78\n",
              "1408   NSW      D   78\n",
              "1654   NSW      A   77"
            ]
          },
          "metadata": {},
          "execution_count": 80
        }
      ]
    },
    {
      "cell_type": "markdown",
      "metadata": {
        "id": "4A9E17HdfVW_"
      },
      "source": [
        "# Обработка пустых значений"
      ]
    },
    {
      "cell_type": "markdown",
      "metadata": {
        "hidden": true,
        "id": "dxF_HjiVaV4k"
      },
      "source": [
        "создаем датафрейм с 5 строками и 3 столбцами"
      ]
    },
    {
      "cell_type": "code",
      "metadata": {
        "hidden": true,
        "id": "X7w06ukoaV4l",
        "colab": {
          "base_uri": "https://localhost:8080/",
          "height": 203
        },
        "outputId": "a7534e05-eace-4f3e-a154-0c2a2796f8b7"
      },
      "source": [
        "import pandas as pd\n",
        "import numpy as np\n",
        "\n",
        "df = pd.DataFrame(np.arange(0, 15).reshape(5, 3), \n",
        "                  index=['a', 'b', 'c', 'd', 'e'], \n",
        "                  columns=['c1', 'c2', 'c3'])\n",
        "df"
      ],
      "execution_count": null,
      "outputs": [
        {
          "output_type": "execute_result",
          "data": {
            "text/html": [
              "<div>\n",
              "<style scoped>\n",
              "    .dataframe tbody tr th:only-of-type {\n",
              "        vertical-align: middle;\n",
              "    }\n",
              "\n",
              "    .dataframe tbody tr th {\n",
              "        vertical-align: top;\n",
              "    }\n",
              "\n",
              "    .dataframe thead th {\n",
              "        text-align: right;\n",
              "    }\n",
              "</style>\n",
              "<table border=\"1\" class=\"dataframe\">\n",
              "  <thead>\n",
              "    <tr style=\"text-align: right;\">\n",
              "      <th></th>\n",
              "      <th>c1</th>\n",
              "      <th>c2</th>\n",
              "      <th>c3</th>\n",
              "    </tr>\n",
              "  </thead>\n",
              "  <tbody>\n",
              "    <tr>\n",
              "      <th>a</th>\n",
              "      <td>0</td>\n",
              "      <td>1</td>\n",
              "      <td>2</td>\n",
              "    </tr>\n",
              "    <tr>\n",
              "      <th>b</th>\n",
              "      <td>3</td>\n",
              "      <td>4</td>\n",
              "      <td>5</td>\n",
              "    </tr>\n",
              "    <tr>\n",
              "      <th>c</th>\n",
              "      <td>6</td>\n",
              "      <td>7</td>\n",
              "      <td>8</td>\n",
              "    </tr>\n",
              "    <tr>\n",
              "      <th>d</th>\n",
              "      <td>9</td>\n",
              "      <td>10</td>\n",
              "      <td>11</td>\n",
              "    </tr>\n",
              "    <tr>\n",
              "      <th>e</th>\n",
              "      <td>12</td>\n",
              "      <td>13</td>\n",
              "      <td>14</td>\n",
              "    </tr>\n",
              "  </tbody>\n",
              "</table>\n",
              "</div>"
            ],
            "text/plain": [
              "   c1  c2  c3\n",
              "a   0   1   2\n",
              "b   3   4   5\n",
              "c   6   7   8\n",
              "d   9  10  11\n",
              "e  12  13  14"
            ]
          },
          "metadata": {},
          "execution_count": 2
        }
      ]
    },
    {
      "cell_type": "markdown",
      "metadata": {
        "hidden": true,
        "id": "QmwMfKbpaV4w"
      },
      "source": [
        "- добавляем несколько столбцов и строк в датафрейм столбец c4 со значениями NaN\n",
        "- строка 'f' со значениями от 15 до 18 \n",
        "- строка 'g', состоящая из значений NaN\n",
        "- столбец 'c5', состоящий из значений NaN\n",
        "- меняем значение в столбце 'c4' строки 'a'"
      ]
    },
    {
      "cell_type": "code",
      "metadata": {
        "hidden": true,
        "id": "4Fbl6kHTaV4y",
        "colab": {
          "base_uri": "https://localhost:8080/",
          "height": 265
        },
        "outputId": "a31bfd98-02c4-4fe4-bd3a-9e6b03bdcf15"
      },
      "source": [
        "df['c4'] = np.nan\n",
        "df.loc['f'] = np.arange(15, 19) \n",
        "df.loc['g'] = np.nan\n",
        "df['c5'] = np.nan\n",
        "df['c4']['a'] = 20\n",
        "df"
      ],
      "execution_count": null,
      "outputs": [
        {
          "output_type": "execute_result",
          "data": {
            "text/html": [
              "<div>\n",
              "<style scoped>\n",
              "    .dataframe tbody tr th:only-of-type {\n",
              "        vertical-align: middle;\n",
              "    }\n",
              "\n",
              "    .dataframe tbody tr th {\n",
              "        vertical-align: top;\n",
              "    }\n",
              "\n",
              "    .dataframe thead th {\n",
              "        text-align: right;\n",
              "    }\n",
              "</style>\n",
              "<table border=\"1\" class=\"dataframe\">\n",
              "  <thead>\n",
              "    <tr style=\"text-align: right;\">\n",
              "      <th></th>\n",
              "      <th>c1</th>\n",
              "      <th>c2</th>\n",
              "      <th>c3</th>\n",
              "      <th>c4</th>\n",
              "      <th>c5</th>\n",
              "    </tr>\n",
              "  </thead>\n",
              "  <tbody>\n",
              "    <tr>\n",
              "      <th>a</th>\n",
              "      <td>0.0</td>\n",
              "      <td>1.0</td>\n",
              "      <td>2.0</td>\n",
              "      <td>20.0</td>\n",
              "      <td>NaN</td>\n",
              "    </tr>\n",
              "    <tr>\n",
              "      <th>b</th>\n",
              "      <td>3.0</td>\n",
              "      <td>4.0</td>\n",
              "      <td>5.0</td>\n",
              "      <td>NaN</td>\n",
              "      <td>NaN</td>\n",
              "    </tr>\n",
              "    <tr>\n",
              "      <th>c</th>\n",
              "      <td>6.0</td>\n",
              "      <td>7.0</td>\n",
              "      <td>8.0</td>\n",
              "      <td>NaN</td>\n",
              "      <td>NaN</td>\n",
              "    </tr>\n",
              "    <tr>\n",
              "      <th>d</th>\n",
              "      <td>9.0</td>\n",
              "      <td>10.0</td>\n",
              "      <td>11.0</td>\n",
              "      <td>NaN</td>\n",
              "      <td>NaN</td>\n",
              "    </tr>\n",
              "    <tr>\n",
              "      <th>e</th>\n",
              "      <td>12.0</td>\n",
              "      <td>13.0</td>\n",
              "      <td>14.0</td>\n",
              "      <td>NaN</td>\n",
              "      <td>NaN</td>\n",
              "    </tr>\n",
              "    <tr>\n",
              "      <th>f</th>\n",
              "      <td>15.0</td>\n",
              "      <td>16.0</td>\n",
              "      <td>17.0</td>\n",
              "      <td>18.0</td>\n",
              "      <td>NaN</td>\n",
              "    </tr>\n",
              "    <tr>\n",
              "      <th>g</th>\n",
              "      <td>NaN</td>\n",
              "      <td>NaN</td>\n",
              "      <td>NaN</td>\n",
              "      <td>NaN</td>\n",
              "      <td>NaN</td>\n",
              "    </tr>\n",
              "  </tbody>\n",
              "</table>\n",
              "</div>"
            ],
            "text/plain": [
              "     c1    c2    c3    c4  c5\n",
              "a   0.0   1.0   2.0  20.0 NaN\n",
              "b   3.0   4.0   5.0   NaN NaN\n",
              "c   6.0   7.0   8.0   NaN NaN\n",
              "d   9.0  10.0  11.0   NaN NaN\n",
              "e  12.0  13.0  14.0   NaN NaN\n",
              "f  15.0  16.0  17.0  18.0 NaN\n",
              "g   NaN   NaN   NaN   NaN NaN"
            ]
          },
          "metadata": {},
          "execution_count": 3
        }
      ]
    },
    {
      "cell_type": "markdown",
      "metadata": {
        "heading_collapsed": true,
        "id": "TNrBuig-aV48"
      },
      "source": [
        "### Пропущенные значения"
      ]
    },
    {
      "cell_type": "markdown",
      "metadata": {
        "heading_collapsed": true,
        "hidden": true,
        "id": "iUZ1hZuLaV4_"
      },
      "source": [
        "#### поиск"
      ]
    },
    {
      "cell_type": "markdown",
      "metadata": {
        "hidden": true,
        "id": "43Y4M9FKaV5A"
      },
      "source": [
        "какие элементы являются значениями NaN?"
      ]
    },
    {
      "cell_type": "code",
      "metadata": {
        "hidden": true,
        "id": "IL7wN4YpaV5C",
        "colab": {
          "base_uri": "https://localhost:8080/",
          "height": 265
        },
        "outputId": "1721dbba-8208-4b70-b0db-54767399df6f"
      },
      "source": [
        "df.isnull()"
      ],
      "execution_count": null,
      "outputs": [
        {
          "output_type": "execute_result",
          "data": {
            "text/html": [
              "<div>\n",
              "<style scoped>\n",
              "    .dataframe tbody tr th:only-of-type {\n",
              "        vertical-align: middle;\n",
              "    }\n",
              "\n",
              "    .dataframe tbody tr th {\n",
              "        vertical-align: top;\n",
              "    }\n",
              "\n",
              "    .dataframe thead th {\n",
              "        text-align: right;\n",
              "    }\n",
              "</style>\n",
              "<table border=\"1\" class=\"dataframe\">\n",
              "  <thead>\n",
              "    <tr style=\"text-align: right;\">\n",
              "      <th></th>\n",
              "      <th>c1</th>\n",
              "      <th>c2</th>\n",
              "      <th>c3</th>\n",
              "      <th>c4</th>\n",
              "      <th>c5</th>\n",
              "    </tr>\n",
              "  </thead>\n",
              "  <tbody>\n",
              "    <tr>\n",
              "      <th>a</th>\n",
              "      <td>False</td>\n",
              "      <td>False</td>\n",
              "      <td>False</td>\n",
              "      <td>False</td>\n",
              "      <td>True</td>\n",
              "    </tr>\n",
              "    <tr>\n",
              "      <th>b</th>\n",
              "      <td>False</td>\n",
              "      <td>False</td>\n",
              "      <td>False</td>\n",
              "      <td>True</td>\n",
              "      <td>True</td>\n",
              "    </tr>\n",
              "    <tr>\n",
              "      <th>c</th>\n",
              "      <td>False</td>\n",
              "      <td>False</td>\n",
              "      <td>False</td>\n",
              "      <td>True</td>\n",
              "      <td>True</td>\n",
              "    </tr>\n",
              "    <tr>\n",
              "      <th>d</th>\n",
              "      <td>False</td>\n",
              "      <td>False</td>\n",
              "      <td>False</td>\n",
              "      <td>True</td>\n",
              "      <td>True</td>\n",
              "    </tr>\n",
              "    <tr>\n",
              "      <th>e</th>\n",
              "      <td>False</td>\n",
              "      <td>False</td>\n",
              "      <td>False</td>\n",
              "      <td>True</td>\n",
              "      <td>True</td>\n",
              "    </tr>\n",
              "    <tr>\n",
              "      <th>f</th>\n",
              "      <td>False</td>\n",
              "      <td>False</td>\n",
              "      <td>False</td>\n",
              "      <td>False</td>\n",
              "      <td>True</td>\n",
              "    </tr>\n",
              "    <tr>\n",
              "      <th>g</th>\n",
              "      <td>True</td>\n",
              "      <td>True</td>\n",
              "      <td>True</td>\n",
              "      <td>True</td>\n",
              "      <td>True</td>\n",
              "    </tr>\n",
              "  </tbody>\n",
              "</table>\n",
              "</div>"
            ],
            "text/plain": [
              "      c1     c2     c3     c4    c5\n",
              "a  False  False  False  False  True\n",
              "b  False  False  False   True  True\n",
              "c  False  False  False   True  True\n",
              "d  False  False  False   True  True\n",
              "e  False  False  False   True  True\n",
              "f  False  False  False  False  True\n",
              "g   True   True   True   True  True"
            ]
          },
          "metadata": {},
          "execution_count": 4
        }
      ]
    },
    {
      "cell_type": "markdown",
      "metadata": {
        "hidden": true,
        "id": "hRUpP81-aV5b"
      },
      "source": [
        "какие элементы являются непропущенными значениями? (можем использовать ~df.isnull() )"
      ]
    },
    {
      "cell_type": "code",
      "metadata": {
        "hidden": true,
        "id": "aQoX_8TJaV5d",
        "colab": {
          "base_uri": "https://localhost:8080/",
          "height": 265
        },
        "outputId": "a3bf3c09-8443-4b7b-aea6-42e395e2d3b8"
      },
      "source": [
        "df.notnull()"
      ],
      "execution_count": null,
      "outputs": [
        {
          "output_type": "execute_result",
          "data": {
            "text/html": [
              "<div>\n",
              "<style scoped>\n",
              "    .dataframe tbody tr th:only-of-type {\n",
              "        vertical-align: middle;\n",
              "    }\n",
              "\n",
              "    .dataframe tbody tr th {\n",
              "        vertical-align: top;\n",
              "    }\n",
              "\n",
              "    .dataframe thead th {\n",
              "        text-align: right;\n",
              "    }\n",
              "</style>\n",
              "<table border=\"1\" class=\"dataframe\">\n",
              "  <thead>\n",
              "    <tr style=\"text-align: right;\">\n",
              "      <th></th>\n",
              "      <th>c1</th>\n",
              "      <th>c2</th>\n",
              "      <th>c3</th>\n",
              "      <th>c4</th>\n",
              "      <th>c5</th>\n",
              "    </tr>\n",
              "  </thead>\n",
              "  <tbody>\n",
              "    <tr>\n",
              "      <th>a</th>\n",
              "      <td>True</td>\n",
              "      <td>True</td>\n",
              "      <td>True</td>\n",
              "      <td>True</td>\n",
              "      <td>False</td>\n",
              "    </tr>\n",
              "    <tr>\n",
              "      <th>b</th>\n",
              "      <td>True</td>\n",
              "      <td>True</td>\n",
              "      <td>True</td>\n",
              "      <td>False</td>\n",
              "      <td>False</td>\n",
              "    </tr>\n",
              "    <tr>\n",
              "      <th>c</th>\n",
              "      <td>True</td>\n",
              "      <td>True</td>\n",
              "      <td>True</td>\n",
              "      <td>False</td>\n",
              "      <td>False</td>\n",
              "    </tr>\n",
              "    <tr>\n",
              "      <th>d</th>\n",
              "      <td>True</td>\n",
              "      <td>True</td>\n",
              "      <td>True</td>\n",
              "      <td>False</td>\n",
              "      <td>False</td>\n",
              "    </tr>\n",
              "    <tr>\n",
              "      <th>e</th>\n",
              "      <td>True</td>\n",
              "      <td>True</td>\n",
              "      <td>True</td>\n",
              "      <td>False</td>\n",
              "      <td>False</td>\n",
              "    </tr>\n",
              "    <tr>\n",
              "      <th>f</th>\n",
              "      <td>True</td>\n",
              "      <td>True</td>\n",
              "      <td>True</td>\n",
              "      <td>True</td>\n",
              "      <td>False</td>\n",
              "    </tr>\n",
              "    <tr>\n",
              "      <th>g</th>\n",
              "      <td>False</td>\n",
              "      <td>False</td>\n",
              "      <td>False</td>\n",
              "      <td>False</td>\n",
              "      <td>False</td>\n",
              "    </tr>\n",
              "  </tbody>\n",
              "</table>\n",
              "</div>"
            ],
            "text/plain": [
              "      c1     c2     c3     c4     c5\n",
              "a   True   True   True   True  False\n",
              "b   True   True   True  False  False\n",
              "c   True   True   True  False  False\n",
              "d   True   True   True  False  False\n",
              "e   True   True   True  False  False\n",
              "f   True   True   True   True  False\n",
              "g  False  False  False  False  False"
            ]
          },
          "metadata": {},
          "execution_count": 5
        }
      ]
    },
    {
      "cell_type": "markdown",
      "metadata": {
        "hidden": true,
        "id": "ZJGEmwhPaV5l"
      },
      "source": [
        "подсчитываем количество значений NaN в каждом столбце"
      ]
    },
    {
      "cell_type": "code",
      "metadata": {
        "hidden": true,
        "id": "EL6AuRhgaV5n",
        "colab": {
          "base_uri": "https://localhost:8080/"
        },
        "outputId": "a589409c-cac3-4044-e1c7-8525a03225a5"
      },
      "source": [
        "df.isnull().sum(axis=0)"
      ],
      "execution_count": null,
      "outputs": [
        {
          "output_type": "execute_result",
          "data": {
            "text/plain": [
              "c1    1\n",
              "c2    1\n",
              "c3    1\n",
              "c4    5\n",
              "c5    7\n",
              "dtype: int64"
            ]
          },
          "metadata": {},
          "execution_count": 8
        }
      ]
    },
    {
      "cell_type": "markdown",
      "metadata": {
        "hidden": true,
        "id": "GWRhrjUWaV5y"
      },
      "source": [
        "вычисляем количество значений, отличных от NaN, по каждому столбцу (можем использовать len(df) - df.isnull().sum())\n"
      ]
    },
    {
      "cell_type": "code",
      "metadata": {
        "hidden": true,
        "scrolled": true,
        "id": "v6XjjNTiaV51",
        "colab": {
          "base_uri": "https://localhost:8080/"
        },
        "outputId": "178b8553-0de5-45fa-d54f-b3c1fbd9c4e4"
      },
      "source": [
        "df.count(axis=0)"
      ],
      "execution_count": null,
      "outputs": [
        {
          "output_type": "execute_result",
          "data": {
            "text/plain": [
              "c1    6\n",
              "c2    6\n",
              "c3    6\n",
              "c4    2\n",
              "c5    0\n",
              "dtype: int64"
            ]
          },
          "metadata": {},
          "execution_count": 86
        }
      ]
    },
    {
      "cell_type": "markdown",
      "metadata": {
        "id": "5AvTIVWBETQf"
      },
      "source": [
        "# Сводка статистик"
      ]
    },
    {
      "cell_type": "markdown",
      "metadata": {
        "id": "ohXtAxl5ETQh"
      },
      "source": [
        "получаем сводку статистик для датафрейма, с которой работаем как с обычным датафреймом"
      ]
    },
    {
      "cell_type": "code",
      "metadata": {
        "id": "wqoiMA9PETQl",
        "colab": {
          "base_uri": "https://localhost:8080/",
          "height": 297
        },
        "outputId": "3bab455c-281d-47eb-9843-d33afaa6a43f"
      },
      "source": [
        "aids.describe()"
      ],
      "execution_count": null,
      "outputs": [
        {
          "output_type": "execute_result",
          "data": {
            "text/html": [
              "<div>\n",
              "<style scoped>\n",
              "    .dataframe tbody tr th:only-of-type {\n",
              "        vertical-align: middle;\n",
              "    }\n",
              "\n",
              "    .dataframe tbody tr th {\n",
              "        vertical-align: top;\n",
              "    }\n",
              "\n",
              "    .dataframe thead th {\n",
              "        text-align: right;\n",
              "    }\n",
              "</style>\n",
              "<table border=\"1\" class=\"dataframe\">\n",
              "  <thead>\n",
              "    <tr style=\"text-align: right;\">\n",
              "      <th></th>\n",
              "      <th>Unnamed: 0</th>\n",
              "      <th>diag</th>\n",
              "      <th>death</th>\n",
              "      <th>age</th>\n",
              "    </tr>\n",
              "  </thead>\n",
              "  <tbody>\n",
              "    <tr>\n",
              "      <th>count</th>\n",
              "      <td>2843.000000</td>\n",
              "      <td>2843.000000</td>\n",
              "      <td>2843.000000</td>\n",
              "      <td>2843.000000</td>\n",
              "    </tr>\n",
              "    <tr>\n",
              "      <th>mean</th>\n",
              "      <td>1422.000000</td>\n",
              "      <td>10584.331692</td>\n",
              "      <td>10990.258881</td>\n",
              "      <td>37.409075</td>\n",
              "    </tr>\n",
              "    <tr>\n",
              "      <th>std</th>\n",
              "      <td>820.847733</td>\n",
              "      <td>627.158933</td>\n",
              "      <td>625.369749</td>\n",
              "      <td>10.063263</td>\n",
              "    </tr>\n",
              "    <tr>\n",
              "      <th>min</th>\n",
              "      <td>1.000000</td>\n",
              "      <td>8302.000000</td>\n",
              "      <td>8469.000000</td>\n",
              "      <td>0.000000</td>\n",
              "    </tr>\n",
              "    <tr>\n",
              "      <th>25%</th>\n",
              "      <td>711.500000</td>\n",
              "      <td>10163.000000</td>\n",
              "      <td>10671.500000</td>\n",
              "      <td>30.000000</td>\n",
              "    </tr>\n",
              "    <tr>\n",
              "      <th>50%</th>\n",
              "      <td>1422.000000</td>\n",
              "      <td>10665.000000</td>\n",
              "      <td>11235.000000</td>\n",
              "      <td>37.000000</td>\n",
              "    </tr>\n",
              "    <tr>\n",
              "      <th>75%</th>\n",
              "      <td>2132.500000</td>\n",
              "      <td>11103.000000</td>\n",
              "      <td>11504.000000</td>\n",
              "      <td>43.000000</td>\n",
              "    </tr>\n",
              "    <tr>\n",
              "      <th>max</th>\n",
              "      <td>2843.000000</td>\n",
              "      <td>11503.000000</td>\n",
              "      <td>11504.000000</td>\n",
              "      <td>82.000000</td>\n",
              "    </tr>\n",
              "  </tbody>\n",
              "</table>\n",
              "</div>"
            ],
            "text/plain": [
              "        Unnamed: 0          diag         death          age\n",
              "count  2843.000000   2843.000000   2843.000000  2843.000000\n",
              "mean   1422.000000  10584.331692  10990.258881    37.409075\n",
              "std     820.847733    627.158933    625.369749    10.063263\n",
              "min       1.000000   8302.000000   8469.000000     0.000000\n",
              "25%     711.500000  10163.000000  10671.500000    30.000000\n",
              "50%    1422.000000  10665.000000  11235.000000    37.000000\n",
              "75%    2132.500000  11103.000000  11504.000000    43.000000\n",
              "max    2843.000000  11503.000000  11504.000000    82.000000"
            ]
          },
          "metadata": {},
          "execution_count": 18
        }
      ]
    },
    {
      "cell_type": "code",
      "metadata": {
        "colab": {
          "base_uri": "https://localhost:8080/",
          "height": 390
        },
        "id": "TeBXRlQvFJd4",
        "outputId": "fc49ee67-405c-4470-acc6-b9d82377cb20"
      },
      "source": [
        "aids.describe(include=\"all\")"
      ],
      "execution_count": null,
      "outputs": [
        {
          "output_type": "execute_result",
          "data": {
            "text/html": [
              "<div>\n",
              "<style scoped>\n",
              "    .dataframe tbody tr th:only-of-type {\n",
              "        vertical-align: middle;\n",
              "    }\n",
              "\n",
              "    .dataframe tbody tr th {\n",
              "        vertical-align: top;\n",
              "    }\n",
              "\n",
              "    .dataframe thead th {\n",
              "        text-align: right;\n",
              "    }\n",
              "</style>\n",
              "<table border=\"1\" class=\"dataframe\">\n",
              "  <thead>\n",
              "    <tr style=\"text-align: right;\">\n",
              "      <th></th>\n",
              "      <th>Unnamed: 0</th>\n",
              "      <th>state</th>\n",
              "      <th>sex</th>\n",
              "      <th>diag</th>\n",
              "      <th>death</th>\n",
              "      <th>status</th>\n",
              "      <th>T.categ</th>\n",
              "      <th>age</th>\n",
              "    </tr>\n",
              "  </thead>\n",
              "  <tbody>\n",
              "    <tr>\n",
              "      <th>count</th>\n",
              "      <td>2843.000000</td>\n",
              "      <td>2843</td>\n",
              "      <td>2843</td>\n",
              "      <td>2843.000000</td>\n",
              "      <td>2843.000000</td>\n",
              "      <td>2843</td>\n",
              "      <td>2843</td>\n",
              "      <td>2843.000000</td>\n",
              "    </tr>\n",
              "    <tr>\n",
              "      <th>unique</th>\n",
              "      <td>NaN</td>\n",
              "      <td>4</td>\n",
              "      <td>2</td>\n",
              "      <td>NaN</td>\n",
              "      <td>NaN</td>\n",
              "      <td>2</td>\n",
              "      <td>8</td>\n",
              "      <td>NaN</td>\n",
              "    </tr>\n",
              "    <tr>\n",
              "      <th>top</th>\n",
              "      <td>NaN</td>\n",
              "      <td>NSW</td>\n",
              "      <td>M</td>\n",
              "      <td>NaN</td>\n",
              "      <td>NaN</td>\n",
              "      <td>D</td>\n",
              "      <td>hs</td>\n",
              "      <td>NaN</td>\n",
              "    </tr>\n",
              "    <tr>\n",
              "      <th>freq</th>\n",
              "      <td>NaN</td>\n",
              "      <td>1780</td>\n",
              "      <td>2754</td>\n",
              "      <td>NaN</td>\n",
              "      <td>NaN</td>\n",
              "      <td>1761</td>\n",
              "      <td>2465</td>\n",
              "      <td>NaN</td>\n",
              "    </tr>\n",
              "    <tr>\n",
              "      <th>mean</th>\n",
              "      <td>1422.000000</td>\n",
              "      <td>NaN</td>\n",
              "      <td>NaN</td>\n",
              "      <td>10584.331692</td>\n",
              "      <td>10990.258881</td>\n",
              "      <td>NaN</td>\n",
              "      <td>NaN</td>\n",
              "      <td>37.409075</td>\n",
              "    </tr>\n",
              "    <tr>\n",
              "      <th>std</th>\n",
              "      <td>820.847733</td>\n",
              "      <td>NaN</td>\n",
              "      <td>NaN</td>\n",
              "      <td>627.158933</td>\n",
              "      <td>625.369749</td>\n",
              "      <td>NaN</td>\n",
              "      <td>NaN</td>\n",
              "      <td>10.063263</td>\n",
              "    </tr>\n",
              "    <tr>\n",
              "      <th>min</th>\n",
              "      <td>1.000000</td>\n",
              "      <td>NaN</td>\n",
              "      <td>NaN</td>\n",
              "      <td>8302.000000</td>\n",
              "      <td>8469.000000</td>\n",
              "      <td>NaN</td>\n",
              "      <td>NaN</td>\n",
              "      <td>0.000000</td>\n",
              "    </tr>\n",
              "    <tr>\n",
              "      <th>25%</th>\n",
              "      <td>711.500000</td>\n",
              "      <td>NaN</td>\n",
              "      <td>NaN</td>\n",
              "      <td>10163.000000</td>\n",
              "      <td>10671.500000</td>\n",
              "      <td>NaN</td>\n",
              "      <td>NaN</td>\n",
              "      <td>30.000000</td>\n",
              "    </tr>\n",
              "    <tr>\n",
              "      <th>50%</th>\n",
              "      <td>1422.000000</td>\n",
              "      <td>NaN</td>\n",
              "      <td>NaN</td>\n",
              "      <td>10665.000000</td>\n",
              "      <td>11235.000000</td>\n",
              "      <td>NaN</td>\n",
              "      <td>NaN</td>\n",
              "      <td>37.000000</td>\n",
              "    </tr>\n",
              "    <tr>\n",
              "      <th>75%</th>\n",
              "      <td>2132.500000</td>\n",
              "      <td>NaN</td>\n",
              "      <td>NaN</td>\n",
              "      <td>11103.000000</td>\n",
              "      <td>11504.000000</td>\n",
              "      <td>NaN</td>\n",
              "      <td>NaN</td>\n",
              "      <td>43.000000</td>\n",
              "    </tr>\n",
              "    <tr>\n",
              "      <th>max</th>\n",
              "      <td>2843.000000</td>\n",
              "      <td>NaN</td>\n",
              "      <td>NaN</td>\n",
              "      <td>11503.000000</td>\n",
              "      <td>11504.000000</td>\n",
              "      <td>NaN</td>\n",
              "      <td>NaN</td>\n",
              "      <td>82.000000</td>\n",
              "    </tr>\n",
              "  </tbody>\n",
              "</table>\n",
              "</div>"
            ],
            "text/plain": [
              "         Unnamed: 0 state   sex  ...  status  T.categ          age\n",
              "count   2843.000000  2843  2843  ...    2843     2843  2843.000000\n",
              "unique          NaN     4     2  ...       2        8          NaN\n",
              "top             NaN   NSW     M  ...       D       hs          NaN\n",
              "freq            NaN  1780  2754  ...    1761     2465          NaN\n",
              "mean    1422.000000   NaN   NaN  ...     NaN      NaN    37.409075\n",
              "std      820.847733   NaN   NaN  ...     NaN      NaN    10.063263\n",
              "min        1.000000   NaN   NaN  ...     NaN      NaN     0.000000\n",
              "25%      711.500000   NaN   NaN  ...     NaN      NaN    30.000000\n",
              "50%     1422.000000   NaN   NaN  ...     NaN      NaN    37.000000\n",
              "75%     2132.500000   NaN   NaN  ...     NaN      NaN    43.000000\n",
              "max     2843.000000   NaN   NaN  ...     NaN      NaN    82.000000\n",
              "\n",
              "[11 rows x 8 columns]"
            ]
          },
          "metadata": {},
          "execution_count": 19
        }
      ]
    },
    {
      "cell_type": "markdown",
      "metadata": {
        "id": "i2xqGi7LETQq"
      },
      "source": [
        "вычисляем сводку статистик для отдельного столбца Price"
      ]
    },
    {
      "cell_type": "code",
      "metadata": {
        "id": "izTpZn0vETQr",
        "colab": {
          "base_uri": "https://localhost:8080/"
        },
        "outputId": "59ad445d-f172-4021-8369-1324aad92b97"
      },
      "source": [
        "aids.state.describe()"
      ],
      "execution_count": null,
      "outputs": [
        {
          "output_type": "execute_result",
          "data": {
            "text/plain": [
              "count     2843\n",
              "unique       4\n",
              "top        NSW\n",
              "freq      1780\n",
              "Name: state, dtype: object"
            ]
          },
          "metadata": {},
          "execution_count": 89
        }
      ]
    },
    {
      "cell_type": "markdown",
      "metadata": {
        "id": "kZb97FTAETRB"
      },
      "source": [
        "метод info:"
      ]
    },
    {
      "cell_type": "code",
      "metadata": {
        "id": "Kn_HXNi1ETRI",
        "colab": {
          "base_uri": "https://localhost:8080/"
        },
        "outputId": "1b411874-fe39-4134-d4a2-102eb34864e5"
      },
      "source": [
        "aids.info()"
      ],
      "execution_count": null,
      "outputs": [
        {
          "output_type": "stream",
          "name": "stdout",
          "text": [
            "<class 'pandas.core.frame.DataFrame'>\n",
            "RangeIndex: 2843 entries, 0 to 2842\n",
            "Data columns (total 3 columns):\n",
            " #   Column  Non-Null Count  Dtype \n",
            "---  ------  --------------  ----- \n",
            " 0   state   2843 non-null   object\n",
            " 1   status  2843 non-null   object\n",
            " 2   age     2843 non-null   int64 \n",
            "dtypes: int64(1), object(2)\n",
            "memory usage: 66.8+ KB\n"
          ]
        }
      ]
    },
    {
      "cell_type": "markdown",
      "metadata": {
        "id": "6xnPczs9ETRy"
      },
      "source": [
        "получаем сводную статистику для нечисловых данных"
      ]
    },
    {
      "cell_type": "code",
      "metadata": {
        "id": "oKXtbOi7ETR5",
        "colab": {
          "base_uri": "https://localhost:8080/"
        },
        "outputId": "39f5a744-43f7-4c63-eaad-293076f85ce2"
      },
      "source": [
        "aids.state.value_counts(normalize=True)"
      ],
      "execution_count": null,
      "outputs": [
        {
          "output_type": "execute_result",
          "data": {
            "text/plain": [
              "NSW      0.626099\n",
              "VIC      0.206824\n",
              "Other    0.087584\n",
              "QLD      0.079493\n",
              "Name: state, dtype: float64"
            ]
          },
          "metadata": {},
          "execution_count": 21
        }
      ]
    },
    {
      "cell_type": "markdown",
      "metadata": {
        "heading_collapsed": true,
        "id": "OQr-Hl9zETSD"
      },
      "source": [
        "### Арифметические операции"
      ]
    },
    {
      "cell_type": "markdown",
      "metadata": {
        "hidden": true,
        "id": "gaXY08yIETSM"
      },
      "source": [
        "- задаем стартовое значение генератора случайных чисел для получения воспроизводимых результатов\n",
        "- создаем объект DataFrame"
      ]
    },
    {
      "cell_type": "code",
      "metadata": {
        "hidden": true,
        "id": "c6VcVzEuETSQ",
        "colab": {
          "base_uri": "https://localhost:8080/",
          "height": 206
        },
        "outputId": "0166409a-09cc-4f09-cba6-82db487dc443"
      },
      "source": [
        "np.random.seed(123)\n",
        "df = pd.DataFrame(np.random.randn(5, 4), \n",
        "                  columns=['A', 'B', 'C', 'D'])\n",
        "df"
      ],
      "execution_count": null,
      "outputs": [
        {
          "output_type": "execute_result",
          "data": {
            "text/html": [
              "<div>\n",
              "<style scoped>\n",
              "    .dataframe tbody tr th:only-of-type {\n",
              "        vertical-align: middle;\n",
              "    }\n",
              "\n",
              "    .dataframe tbody tr th {\n",
              "        vertical-align: top;\n",
              "    }\n",
              "\n",
              "    .dataframe thead th {\n",
              "        text-align: right;\n",
              "    }\n",
              "</style>\n",
              "<table border=\"1\" class=\"dataframe\">\n",
              "  <thead>\n",
              "    <tr style=\"text-align: right;\">\n",
              "      <th></th>\n",
              "      <th>A</th>\n",
              "      <th>B</th>\n",
              "      <th>C</th>\n",
              "      <th>D</th>\n",
              "    </tr>\n",
              "  </thead>\n",
              "  <tbody>\n",
              "    <tr>\n",
              "      <th>0</th>\n",
              "      <td>-1.085631</td>\n",
              "      <td>0.997345</td>\n",
              "      <td>0.282978</td>\n",
              "      <td>-1.506295</td>\n",
              "    </tr>\n",
              "    <tr>\n",
              "      <th>1</th>\n",
              "      <td>-0.578600</td>\n",
              "      <td>1.651437</td>\n",
              "      <td>-2.426679</td>\n",
              "      <td>-0.428913</td>\n",
              "    </tr>\n",
              "    <tr>\n",
              "      <th>2</th>\n",
              "      <td>1.265936</td>\n",
              "      <td>-0.866740</td>\n",
              "      <td>-0.678886</td>\n",
              "      <td>-0.094709</td>\n",
              "    </tr>\n",
              "    <tr>\n",
              "      <th>3</th>\n",
              "      <td>1.491390</td>\n",
              "      <td>-0.638902</td>\n",
              "      <td>-0.443982</td>\n",
              "      <td>-0.434351</td>\n",
              "    </tr>\n",
              "    <tr>\n",
              "      <th>4</th>\n",
              "      <td>2.205930</td>\n",
              "      <td>2.186786</td>\n",
              "      <td>1.004054</td>\n",
              "      <td>0.386186</td>\n",
              "    </tr>\n",
              "  </tbody>\n",
              "</table>\n",
              "</div>"
            ],
            "text/plain": [
              "          A         B         C         D\n",
              "0 -1.085631  0.997345  0.282978 -1.506295\n",
              "1 -0.578600  1.651437 -2.426679 -0.428913\n",
              "2  1.265936 -0.866740 -0.678886 -0.094709\n",
              "3  1.491390 -0.638902 -0.443982 -0.434351\n",
              "4  2.205930  2.186786  1.004054  0.386186"
            ]
          },
          "metadata": {},
          "execution_count": 92
        }
      ]
    },
    {
      "cell_type": "markdown",
      "metadata": {
        "hidden": true,
        "id": "aUhrDNKeETSb"
      },
      "source": [
        "умножаем все на 2, берём только абсолютные значения"
      ]
    },
    {
      "cell_type": "code",
      "metadata": {
        "hidden": true,
        "id": "5FYn2uNoETSd",
        "colab": {
          "base_uri": "https://localhost:8080/",
          "height": 206
        },
        "outputId": "369c78f4-95ab-4515-9757-d88a1f93f131"
      },
      "source": [
        "abs(df * 2)"
      ],
      "execution_count": null,
      "outputs": [
        {
          "output_type": "execute_result",
          "data": {
            "text/html": [
              "<div>\n",
              "<style scoped>\n",
              "    .dataframe tbody tr th:only-of-type {\n",
              "        vertical-align: middle;\n",
              "    }\n",
              "\n",
              "    .dataframe tbody tr th {\n",
              "        vertical-align: top;\n",
              "    }\n",
              "\n",
              "    .dataframe thead th {\n",
              "        text-align: right;\n",
              "    }\n",
              "</style>\n",
              "<table border=\"1\" class=\"dataframe\">\n",
              "  <thead>\n",
              "    <tr style=\"text-align: right;\">\n",
              "      <th></th>\n",
              "      <th>A</th>\n",
              "      <th>B</th>\n",
              "      <th>C</th>\n",
              "      <th>D</th>\n",
              "    </tr>\n",
              "  </thead>\n",
              "  <tbody>\n",
              "    <tr>\n",
              "      <th>0</th>\n",
              "      <td>2.171261</td>\n",
              "      <td>1.994691</td>\n",
              "      <td>0.565957</td>\n",
              "      <td>3.012589</td>\n",
              "    </tr>\n",
              "    <tr>\n",
              "      <th>1</th>\n",
              "      <td>1.157201</td>\n",
              "      <td>3.302873</td>\n",
              "      <td>4.853358</td>\n",
              "      <td>0.857825</td>\n",
              "    </tr>\n",
              "    <tr>\n",
              "      <th>2</th>\n",
              "      <td>2.531873</td>\n",
              "      <td>1.733481</td>\n",
              "      <td>1.357772</td>\n",
              "      <td>0.189418</td>\n",
              "    </tr>\n",
              "    <tr>\n",
              "      <th>3</th>\n",
              "      <td>2.982779</td>\n",
              "      <td>1.277804</td>\n",
              "      <td>0.887964</td>\n",
              "      <td>0.868703</td>\n",
              "    </tr>\n",
              "    <tr>\n",
              "      <th>4</th>\n",
              "      <td>4.411860</td>\n",
              "      <td>4.373572</td>\n",
              "      <td>2.008108</td>\n",
              "      <td>0.772373</td>\n",
              "    </tr>\n",
              "  </tbody>\n",
              "</table>\n",
              "</div>"
            ],
            "text/plain": [
              "          A         B         C         D\n",
              "0  2.171261  1.994691  0.565957  3.012589\n",
              "1  1.157201  3.302873  4.853358  0.857825\n",
              "2  2.531873  1.733481  1.357772  0.189418\n",
              "3  2.982779  1.277804  0.887964  0.868703\n",
              "4  4.411860  4.373572  2.008108  0.772373"
            ]
          },
          "metadata": {},
          "execution_count": 93
        }
      ]
    },
    {
      "cell_type": "markdown",
      "metadata": {
        "hidden": true,
        "id": "XqX_0roRETSr"
      },
      "source": [
        "вычитаем первую строку из каждой строки объекта DataFrame"
      ]
    },
    {
      "cell_type": "code",
      "metadata": {
        "hidden": true,
        "id": "d-QnI3obETSs",
        "colab": {
          "base_uri": "https://localhost:8080/",
          "height": 206
        },
        "outputId": "a14411df-93e5-493a-f7ae-f94dfcb295ed"
      },
      "source": [
        "df"
      ],
      "execution_count": null,
      "outputs": [
        {
          "output_type": "execute_result",
          "data": {
            "text/html": [
              "<div>\n",
              "<style scoped>\n",
              "    .dataframe tbody tr th:only-of-type {\n",
              "        vertical-align: middle;\n",
              "    }\n",
              "\n",
              "    .dataframe tbody tr th {\n",
              "        vertical-align: top;\n",
              "    }\n",
              "\n",
              "    .dataframe thead th {\n",
              "        text-align: right;\n",
              "    }\n",
              "</style>\n",
              "<table border=\"1\" class=\"dataframe\">\n",
              "  <thead>\n",
              "    <tr style=\"text-align: right;\">\n",
              "      <th></th>\n",
              "      <th>A</th>\n",
              "      <th>B</th>\n",
              "      <th>C</th>\n",
              "      <th>D</th>\n",
              "    </tr>\n",
              "  </thead>\n",
              "  <tbody>\n",
              "    <tr>\n",
              "      <th>0</th>\n",
              "      <td>-1.085631</td>\n",
              "      <td>0.997345</td>\n",
              "      <td>0.282978</td>\n",
              "      <td>-1.506295</td>\n",
              "    </tr>\n",
              "    <tr>\n",
              "      <th>1</th>\n",
              "      <td>-0.578600</td>\n",
              "      <td>1.651437</td>\n",
              "      <td>-2.426679</td>\n",
              "      <td>-0.428913</td>\n",
              "    </tr>\n",
              "    <tr>\n",
              "      <th>2</th>\n",
              "      <td>1.265936</td>\n",
              "      <td>-0.866740</td>\n",
              "      <td>-0.678886</td>\n",
              "      <td>-0.094709</td>\n",
              "    </tr>\n",
              "    <tr>\n",
              "      <th>3</th>\n",
              "      <td>1.491390</td>\n",
              "      <td>-0.638902</td>\n",
              "      <td>-0.443982</td>\n",
              "      <td>-0.434351</td>\n",
              "    </tr>\n",
              "    <tr>\n",
              "      <th>4</th>\n",
              "      <td>2.205930</td>\n",
              "      <td>2.186786</td>\n",
              "      <td>1.004054</td>\n",
              "      <td>0.386186</td>\n",
              "    </tr>\n",
              "  </tbody>\n",
              "</table>\n",
              "</div>"
            ],
            "text/plain": [
              "          A         B         C         D\n",
              "0 -1.085631  0.997345  0.282978 -1.506295\n",
              "1 -0.578600  1.651437 -2.426679 -0.428913\n",
              "2  1.265936 -0.866740 -0.678886 -0.094709\n",
              "3  1.491390 -0.638902 -0.443982 -0.434351\n",
              "4  2.205930  2.186786  1.004054  0.386186"
            ]
          },
          "metadata": {},
          "execution_count": 94
        }
      ]
    },
    {
      "cell_type": "code",
      "metadata": {
        "hidden": true,
        "id": "_jojHcX2ETS3",
        "colab": {
          "base_uri": "https://localhost:8080/"
        },
        "outputId": "72aa626b-a5e3-4cb8-8f0f-24bfc3ed9440"
      },
      "source": [
        "df.iloc[0]"
      ],
      "execution_count": null,
      "outputs": [
        {
          "output_type": "execute_result",
          "data": {
            "text/plain": [
              "A   -1.085631\n",
              "B    0.997345\n",
              "C    0.282978\n",
              "D   -1.506295\n",
              "Name: 0, dtype: float64"
            ]
          },
          "metadata": {},
          "execution_count": 95
        }
      ]
    },
    {
      "cell_type": "code",
      "metadata": {
        "hidden": true,
        "id": "sTb88BN2ETTC",
        "colab": {
          "base_uri": "https://localhost:8080/",
          "height": 206
        },
        "outputId": "9e3b5712-d2d0-42f9-e5e7-8af9478e00c1"
      },
      "source": [
        "df - df.iloc[0]"
      ],
      "execution_count": null,
      "outputs": [
        {
          "output_type": "execute_result",
          "data": {
            "text/html": [
              "<div>\n",
              "<style scoped>\n",
              "    .dataframe tbody tr th:only-of-type {\n",
              "        vertical-align: middle;\n",
              "    }\n",
              "\n",
              "    .dataframe tbody tr th {\n",
              "        vertical-align: top;\n",
              "    }\n",
              "\n",
              "    .dataframe thead th {\n",
              "        text-align: right;\n",
              "    }\n",
              "</style>\n",
              "<table border=\"1\" class=\"dataframe\">\n",
              "  <thead>\n",
              "    <tr style=\"text-align: right;\">\n",
              "      <th></th>\n",
              "      <th>A</th>\n",
              "      <th>B</th>\n",
              "      <th>C</th>\n",
              "      <th>D</th>\n",
              "    </tr>\n",
              "  </thead>\n",
              "  <tbody>\n",
              "    <tr>\n",
              "      <th>0</th>\n",
              "      <td>0.000000</td>\n",
              "      <td>0.000000</td>\n",
              "      <td>0.000000</td>\n",
              "      <td>0.000000</td>\n",
              "    </tr>\n",
              "    <tr>\n",
              "      <th>1</th>\n",
              "      <td>0.507030</td>\n",
              "      <td>0.654091</td>\n",
              "      <td>-2.709658</td>\n",
              "      <td>1.077382</td>\n",
              "    </tr>\n",
              "    <tr>\n",
              "      <th>2</th>\n",
              "      <td>2.351567</td>\n",
              "      <td>-1.864086</td>\n",
              "      <td>-0.961865</td>\n",
              "      <td>1.411586</td>\n",
              "    </tr>\n",
              "    <tr>\n",
              "      <th>3</th>\n",
              "      <td>2.577020</td>\n",
              "      <td>-1.636247</td>\n",
              "      <td>-0.726960</td>\n",
              "      <td>1.071943</td>\n",
              "    </tr>\n",
              "    <tr>\n",
              "      <th>4</th>\n",
              "      <td>3.291561</td>\n",
              "      <td>1.189441</td>\n",
              "      <td>0.721075</td>\n",
              "      <td>1.892481</td>\n",
              "    </tr>\n",
              "  </tbody>\n",
              "</table>\n",
              "</div>"
            ],
            "text/plain": [
              "          A         B         C         D\n",
              "0  0.000000  0.000000  0.000000  0.000000\n",
              "1  0.507030  0.654091 -2.709658  1.077382\n",
              "2  2.351567 -1.864086 -0.961865  1.411586\n",
              "3  2.577020 -1.636247 -0.726960  1.071943\n",
              "4  3.291561  1.189441  0.721075  1.892481"
            ]
          },
          "metadata": {},
          "execution_count": 96
        }
      ]
    },
    {
      "cell_type": "markdown",
      "metadata": {
        "heading_collapsed": true,
        "id": "25mqpgtFETUF"
      },
      "source": [
        "### Одномерные статистики"
      ]
    },
    {
      "cell_type": "markdown",
      "metadata": {
        "heading_collapsed": true,
        "hidden": true,
        "id": "5BSQuiqVETUG"
      },
      "source": [
        "#### минимум / максимум"
      ]
    },
    {
      "cell_type": "markdown",
      "metadata": {
        "hidden": true,
        "id": "Lc1rKJcpETUH"
      },
      "source": [
        "определим максимальный возраст и максимальный округленный"
      ]
    },
    {
      "cell_type": "code",
      "metadata": {
        "hidden": true,
        "id": "jKU9KCflETUI",
        "colab": {
          "base_uri": "https://localhost:8080/"
        },
        "outputId": "59353944-e1ca-4ffb-9b85-727af1e704e3"
      },
      "source": [
        "aids_copy[['age', 'RoundedAge']].max()"
      ],
      "execution_count": null,
      "outputs": [
        {
          "output_type": "execute_result",
          "data": {
            "text/plain": [
              "age           82\n",
              "RoundedAge    82\n",
              "dtype: int64"
            ]
          },
          "metadata": {},
          "execution_count": 97
        }
      ]
    },
    {
      "cell_type": "markdown",
      "metadata": {
        "hidden": true,
        "id": "icuquYWyETUZ"
      },
      "source": [
        "определяем индекс строк\n"
      ]
    },
    {
      "cell_type": "code",
      "metadata": {
        "hidden": true,
        "id": "8EcjVvDVETUa",
        "colab": {
          "base_uri": "https://localhost:8080/"
        },
        "outputId": "70f8cf41-8601-4d3b-bc2f-852516f281bb"
      },
      "source": [
        "aids_copy[['age', 'RoundedAge']].idxmax()"
      ],
      "execution_count": null,
      "outputs": [
        {
          "output_type": "execute_result",
          "data": {
            "text/plain": [
              "age           196\n",
              "RoundedAge    196\n",
              "dtype: int64"
            ]
          },
          "metadata": {},
          "execution_count": 98
        }
      ]
    },
    {
      "cell_type": "markdown",
      "metadata": {
        "heading_collapsed": true,
        "hidden": true,
        "id": "qQZI-0pbETUh"
      },
      "source": [
        "#### cреднее значение / медиана / мода"
      ]
    },
    {
      "cell_type": "markdown",
      "metadata": {
        "hidden": true,
        "id": "j40APeXoETUj"
      },
      "source": [
        "вычисляем среднее значение для всех столбцов в датафрейме aids"
      ]
    },
    {
      "cell_type": "code",
      "metadata": {
        "hidden": true,
        "id": "v6__77h5ETUk",
        "colab": {
          "base_uri": "https://localhost:8080/"
        },
        "outputId": "37e5129e-6c1c-4217-c7ea-beaf6424cf9e"
      },
      "source": [
        "aids.mean()"
      ],
      "execution_count": null,
      "outputs": [
        {
          "output_type": "execute_result",
          "data": {
            "text/plain": [
              "age    37.409075\n",
              "dtype: float64"
            ]
          },
          "metadata": {},
          "execution_count": 99
        }
      ]
    },
    {
      "cell_type": "markdown",
      "metadata": {
        "hidden": true,
        "id": "60-zM_ZoETUq"
      },
      "source": [
        "вычисляем значение, усредненное по всем столбцам, для каждой строки (выведем первые 5)"
      ]
    },
    {
      "cell_type": "code",
      "metadata": {
        "hidden": true,
        "id": "SXhU7q9_ETUs",
        "colab": {
          "base_uri": "https://localhost:8080/"
        },
        "outputId": "abbf576f-e176-4d61-e146-dbbf29f22a3f"
      },
      "source": [
        "aids.mean(axis=1).head() "
      ],
      "execution_count": null,
      "outputs": [
        {
          "output_type": "execute_result",
          "data": {
            "text/plain": [
              "0    35.0\n",
              "1    53.0\n",
              "2    42.0\n",
              "3    44.0\n",
              "4    39.0\n",
              "dtype: float64"
            ]
          },
          "metadata": {},
          "execution_count": 100
        }
      ]
    },
    {
      "cell_type": "markdown",
      "metadata": {
        "hidden": true,
        "id": "RKqjpcIoETU3"
      },
      "source": [
        "вычисляем медиану значений для каждого столбца"
      ]
    },
    {
      "cell_type": "code",
      "metadata": {
        "hidden": true,
        "id": "1Bydol5SETU5",
        "colab": {
          "base_uri": "https://localhost:8080/"
        },
        "outputId": "2f735642-ee01-4613-aef9-db89b99c0efc"
      },
      "source": [
        "aids.median()"
      ],
      "execution_count": null,
      "outputs": [
        {
          "output_type": "execute_result",
          "data": {
            "text/plain": [
              "age    37.0\n",
              "dtype: float64"
            ]
          },
          "metadata": {},
          "execution_count": 101
        }
      ]
    },
    {
      "cell_type": "markdown",
      "metadata": {
        "hidden": true,
        "id": "2HwvzPsgETVF"
      },
      "source": [
        "вычисляем моду для столбца state"
      ]
    },
    {
      "cell_type": "code",
      "metadata": {
        "hidden": true,
        "id": "7Cpj4i3NETVH",
        "colab": {
          "base_uri": "https://localhost:8080/"
        },
        "outputId": "65912e1b-a165-4057-c929-9a87485913ea"
      },
      "source": [
        "aids.state.mode()"
      ],
      "execution_count": null,
      "outputs": [
        {
          "output_type": "execute_result",
          "data": {
            "text/plain": [
              "0    NSW\n",
              "dtype: object"
            ]
          },
          "metadata": {},
          "execution_count": 103
        }
      ]
    },
    {
      "cell_type": "markdown",
      "metadata": {
        "hidden": true,
        "id": "1laF3GyfETVU"
      },
      "source": [
        "мод может быть несколько, поэтому результат операции - Series "
      ]
    },
    {
      "cell_type": "code",
      "metadata": {
        "hidden": true,
        "id": "C5BiSHt0ETVV",
        "colab": {
          "base_uri": "https://localhost:8080/"
        },
        "outputId": "1b1f5f52-a4ac-4f70-a05f-053785083500"
      },
      "source": [
        "s = pd.Series([1, 2, 3, 3, 5, 1])\n",
        "s.mode()"
      ],
      "execution_count": null,
      "outputs": [
        {
          "output_type": "execute_result",
          "data": {
            "text/plain": [
              "0    1\n",
              "1    3\n",
              "dtype: int64"
            ]
          },
          "metadata": {},
          "execution_count": 104
        }
      ]
    },
    {
      "cell_type": "markdown",
      "metadata": {
        "heading_collapsed": true,
        "hidden": true,
        "id": "Czo94FXPETVZ"
      },
      "source": [
        "#### [дисперсия](https://ru.wikipedia.org/wiki/Дисперсия_случайной_величины) / среднеквадратичное отклонение"
      ]
    },
    {
      "cell_type": "markdown",
      "metadata": {
        "hidden": true,
        "id": "L2XmbpWwETVa"
      },
      "source": [
        "вычисляем дисперсию значений в каждом столбце"
      ]
    },
    {
      "cell_type": "code",
      "metadata": {
        "hidden": true,
        "id": "8y9ATX0oETVc",
        "colab": {
          "base_uri": "https://localhost:8080/"
        },
        "outputId": "e8fd6422-d983-493d-9715-4234f28344c5"
      },
      "source": [
        "aids.var()"
      ],
      "execution_count": null,
      "outputs": [
        {
          "output_type": "execute_result",
          "data": {
            "text/plain": [
              "age    101.269263\n",
              "dtype: float64"
            ]
          },
          "metadata": {},
          "execution_count": 105
        }
      ]
    },
    {
      "cell_type": "markdown",
      "metadata": {
        "hidden": true,
        "id": "cCOsBjjAETVp"
      },
      "source": [
        "вычисляем среднеквадратичное отклонение"
      ]
    },
    {
      "cell_type": "code",
      "metadata": {
        "hidden": true,
        "id": "O0Ly5-36ETVq",
        "colab": {
          "base_uri": "https://localhost:8080/"
        },
        "outputId": "a73cdc05-aa2a-4d0a-accd-aca354514bde"
      },
      "source": [
        "aids.std()"
      ],
      "execution_count": null,
      "outputs": [
        {
          "output_type": "execute_result",
          "data": {
            "text/plain": [
              "age    10.063263\n",
              "dtype: float64"
            ]
          },
          "metadata": {},
          "execution_count": 106
        }
      ]
    },
    {
      "cell_type": "markdown",
      "metadata": {
        "heading_collapsed": true,
        "hidden": true,
        "id": "JWYd1XptETWJ"
      },
      "source": [
        "#### [корреляция](https://ru.wikipedia.org/wiki/Корреляция)"
      ]
    },
    {
      "cell_type": "markdown",
      "metadata": {
        "hidden": true,
        "id": "h5gg-8QLETWK"
      },
      "source": [
        "вычисляем корреляцию между age и RoundedAge"
      ]
    },
    {
      "cell_type": "code",
      "metadata": {
        "hidden": true,
        "id": "1m9u-bDTETWV",
        "colab": {
          "base_uri": "https://localhost:8080/"
        },
        "outputId": "7b36ae8d-889d-43ee-f777-7531abd0b771"
      },
      "source": [
        "aids_copy.age.corr(aids_copy.RoundedAge)"
      ],
      "execution_count": null,
      "outputs": [
        {
          "output_type": "execute_result",
          "data": {
            "text/plain": [
              "1.0"
            ]
          },
          "metadata": {},
          "execution_count": 109
        }
      ]
    },
    {
      "cell_type": "markdown",
      "metadata": {
        "hidden": true,
        "id": "5hYJ1QNIETW4"
      },
      "source": [
        "либо можем получать матрицу корреляций"
      ]
    },
    {
      "cell_type": "code",
      "metadata": {
        "hidden": true,
        "id": "n6b58JKUETW5",
        "colab": {
          "base_uri": "https://localhost:8080/",
          "height": 112
        },
        "outputId": "d95dc81a-ff52-4d66-fedb-06ebae968a61"
      },
      "source": [
        "aids_copy.corr()"
      ],
      "execution_count": null,
      "outputs": [
        {
          "output_type": "execute_result",
          "data": {
            "text/html": [
              "<div>\n",
              "<style scoped>\n",
              "    .dataframe tbody tr th:only-of-type {\n",
              "        vertical-align: middle;\n",
              "    }\n",
              "\n",
              "    .dataframe tbody tr th {\n",
              "        vertical-align: top;\n",
              "    }\n",
              "\n",
              "    .dataframe thead th {\n",
              "        text-align: right;\n",
              "    }\n",
              "</style>\n",
              "<table border=\"1\" class=\"dataframe\">\n",
              "  <thead>\n",
              "    <tr style=\"text-align: right;\">\n",
              "      <th></th>\n",
              "      <th>age</th>\n",
              "      <th>RoundedAge</th>\n",
              "    </tr>\n",
              "  </thead>\n",
              "  <tbody>\n",
              "    <tr>\n",
              "      <th>age</th>\n",
              "      <td>1.0</td>\n",
              "      <td>1.0</td>\n",
              "    </tr>\n",
              "    <tr>\n",
              "      <th>RoundedAge</th>\n",
              "      <td>1.0</td>\n",
              "      <td>1.0</td>\n",
              "    </tr>\n",
              "  </tbody>\n",
              "</table>\n",
              "</div>"
            ],
            "text/plain": [
              "            age  RoundedAge\n",
              "age         1.0         1.0\n",
              "RoundedAge  1.0         1.0"
            ]
          },
          "metadata": {},
          "execution_count": 110
        }
      ]
    }
  ]
}