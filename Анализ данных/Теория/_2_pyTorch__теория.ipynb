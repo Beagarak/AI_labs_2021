{
  "nbformat": 4,
  "nbformat_minor": 0,
  "metadata": {
    "colab": {
      "name": " \"2. pyTorch\" - теория",
      "provenance": [],
      "collapsed_sections": [
        "mGsDt2oI34qc",
        "hOCnSvL434qc"
      ]
    },
    "kernelspec": {
      "display_name": "Python 3",
      "language": "python",
      "name": "python3"
    },
    "language_info": {
      "codemirror_mode": {
        "name": "ipython",
        "version": 3
      },
      "file_extension": ".py",
      "mimetype": "text/x-python",
      "name": "python",
      "nbconvert_exporter": "python",
      "pygments_lexer": "ipython3",
      "version": "3.7.1"
    }
  },
  "cells": [
    {
      "cell_type": "markdown",
      "metadata": {
        "id": "l3lBw4sj34qZ"
      },
      "source": [
        "## Манипулирование данными"
      ]
    },
    {
      "cell_type": "markdown",
      "metadata": {
        "id": "I4aJFUfn34qZ"
      },
      "source": [
        "Невозможно что-либо сделать, если мы не умеем манипулировать данными. Две основные операции, которые нам нужно сделать с данными - (i) получить их и (ii) обработать. Нет смысла собирать данные, если мы даже не знаем, как их хранить, поэтому давайте сначала поработаем с синтетическими данными. Мы начнем с torch.tensor. Это основной инструмент для хранения и преобразования данных в torch. Если вы раньше работали с NumPy, вы заметите, что он по своей конструкции очень похож на многомерный массив NumPy. Тем не менее, он даёт несколько ключевых преимуществ. Во-первых, torch.tensor поддерживает асинхронные вычисления на CPU и GPU. Во-вторых, он обеспечивает поддержку автоматического дифференцирования.\n",
        "\n",
        "Начнем с импорта torch"
      ]
    },
    {
      "cell_type": "code",
      "metadata": {
        "id": "B0MVM4aj34qa"
      },
      "source": [
        "import torch"
      ],
      "execution_count": null,
      "outputs": []
    },
    {
      "cell_type": "markdown",
      "metadata": {
        "id": "SDaSbs7Q34qa"
      },
      "source": [
        "Tensor - есть массив (возможно, многомерный) числовых значений. tensor с одной осью называется (в математике) вектором, с двумя - матрицей. Для массивов с более чем двумя осями нет специальных имен - их называют просто тензорами.\n",
        "Самый простой объект, который мы можем создать - это вектор. Для начала мы можем использовать arange для создания вектора строки с 12 последовательными целыми числами."
      ]
    },
    {
      "cell_type": "code",
      "metadata": {
        "colab": {
          "base_uri": "https://localhost:8080/"
        },
        "id": "TNGwabqm34qa",
        "outputId": "835c04f6-9688-4b0b-b7b6-f677cb174d00"
      },
      "source": [
        "x = torch.arange(12)\n",
        "x"
      ],
      "execution_count": null,
      "outputs": [
        {
          "data": {
            "text/plain": [
              "tensor([ 0,  1,  2,  3,  4,  5,  6,  7,  8,  9, 10, 11])"
            ]
          },
          "execution_count": 62,
          "metadata": {
            "tags": []
          },
          "output_type": "execute_result"
        }
      ]
    },
    {
      "cell_type": "code",
      "metadata": {
        "colab": {
          "base_uri": "https://localhost:8080/"
        },
        "id": "KmrNHETgIbqc",
        "outputId": "f8490e57-8ed4-47f3-bfa6-7528594c2232"
      },
      "source": [
        "xx = torch.Tensor([[x, x**2, x**3] for x in range(12)])\n",
        "xx"
      ],
      "execution_count": null,
      "outputs": [
        {
          "data": {
            "text/plain": [
              "tensor([[0.0000e+00, 0.0000e+00, 0.0000e+00],\n",
              "        [1.0000e+00, 1.0000e+00, 1.0000e+00],\n",
              "        [2.0000e+00, 4.0000e+00, 8.0000e+00],\n",
              "        [3.0000e+00, 9.0000e+00, 2.7000e+01],\n",
              "        [4.0000e+00, 1.6000e+01, 6.4000e+01],\n",
              "        [5.0000e+00, 2.5000e+01, 1.2500e+02],\n",
              "        [6.0000e+00, 3.6000e+01, 2.1600e+02],\n",
              "        [7.0000e+00, 4.9000e+01, 3.4300e+02],\n",
              "        [8.0000e+00, 6.4000e+01, 5.1200e+02],\n",
              "        [9.0000e+00, 8.1000e+01, 7.2900e+02],\n",
              "        [1.0000e+01, 1.0000e+02, 1.0000e+03],\n",
              "        [1.1000e+01, 1.2100e+02, 1.3310e+03]])"
            ]
          },
          "execution_count": 63,
          "metadata": {
            "tags": []
          },
          "output_type": "execute_result"
        }
      ]
    },
    {
      "cell_type": "code",
      "metadata": {
        "colab": {
          "base_uri": "https://localhost:8080/"
        },
        "id": "nlzShh4rLpXm",
        "outputId": "ef370d12-a63e-4b50-af89-e15aed0004cd"
      },
      "source": [
        "torch.Tensor([1])"
      ],
      "execution_count": null,
      "outputs": [
        {
          "data": {
            "text/plain": [
              "tensor([1.])"
            ]
          },
          "execution_count": 126,
          "metadata": {
            "tags": []
          },
          "output_type": "execute_result"
        }
      ]
    },
    {
      "cell_type": "markdown",
      "metadata": {
        "id": "Zv2GDLgc34qa"
      },
      "source": [
        "Мы можем получить форму экземпляра tensor через свойство shape."
      ]
    },
    {
      "cell_type": "code",
      "metadata": {
        "colab": {
          "base_uri": "https://localhost:8080/"
        },
        "id": "jD1U4W7K34qa",
        "scrolled": true,
        "outputId": "30d49326-cc91-4434-ab37-f84bd91a0b19"
      },
      "source": [
        "x.shape, xx.shape"
      ],
      "execution_count": null,
      "outputs": [
        {
          "data": {
            "text/plain": [
              "(torch.Size([12]), torch.Size([12, 3]))"
            ]
          },
          "execution_count": 64,
          "metadata": {
            "tags": []
          },
          "output_type": "execute_result"
        }
      ]
    },
    {
      "cell_type": "markdown",
      "metadata": {
        "id": "ftiBBOV734qa"
      },
      "source": [
        "Узнать расположен ли он на gpu или cpu можно через специальный аттрибут - device"
      ]
    },
    {
      "cell_type": "code",
      "metadata": {
        "colab": {
          "base_uri": "https://localhost:8080/"
        },
        "id": "b2Sz6NV334qa",
        "outputId": "b861a972-2305-4603-e20a-edf767d396b8"
      },
      "source": [
        "x.device"
      ],
      "execution_count": null,
      "outputs": [
        {
          "data": {
            "text/plain": [
              "device(type='cpu')"
            ]
          },
          "execution_count": 65,
          "metadata": {
            "tags": []
          },
          "output_type": "execute_result"
        }
      ]
    },
    {
      "cell_type": "markdown",
      "metadata": {
        "id": "7F4XiLK934qa"
      },
      "source": [
        "Мы используем функцию view, чтобы изменить форму одного (возможно многомерного) массива на другой, который содержит такое же количество элементов. Например, мы можем преобразовать форму нашего векторного вектора x в (3, 4), который содержит те же значения, но интерпретирует их как матрицу, содержащую 3 строки и 4 столбца. Обратите внимание, что, хотя форма изменилась, элементы в x не изменились. Причем количество элементов осталось прежним."
      ]
    },
    {
      "cell_type": "code",
      "metadata": {
        "colab": {
          "base_uri": "https://localhost:8080/"
        },
        "id": "jtNiFL7I34qa",
        "outputId": "9a3890cb-b444-4246-f0cf-8c044b0fc463"
      },
      "source": [
        "x.view((2,-1,2)).shape"
      ],
      "execution_count": null,
      "outputs": [
        {
          "data": {
            "text/plain": [
              "torch.Size([2, 3, 2])"
            ]
          },
          "execution_count": 129,
          "metadata": {
            "tags": []
          },
          "output_type": "execute_result"
        }
      ]
    },
    {
      "cell_type": "markdown",
      "metadata": {
        "id": "YS8FX2Pp34qa"
      },
      "source": [
        "Указывать каждое измерение вручную достаточно утомительно. К счастью, torch может автоматически выводить одно измерение, учитывая другие. Мы можем указать -1 для измерения, которое мы хотели бы, чтобы torch автоматически выводил. В нашем случае вместо x.view((3, 4)) мы могли бы использовать x.view ((- 1, 4)) или x.view((3, -1))."
      ]
    },
    {
      "cell_type": "code",
      "metadata": {
        "colab": {
          "base_uri": "https://localhost:8080/"
        },
        "id": "zLefd5AV34qa",
        "outputId": "c6380c92-5c75-4447-9a30-3da48bccb87c"
      },
      "source": [
        "x.view((-1, 4))"
      ],
      "execution_count": null,
      "outputs": [
        {
          "data": {
            "text/plain": [
              "tensor([[ 0,  1,  2,  3],\n",
              "        [ 4,  5,  6,  7],\n",
              "        [ 8,  9, 10, 11]])"
            ]
          },
          "execution_count": 67,
          "metadata": {
            "tags": []
          },
          "output_type": "execute_result"
        }
      ]
    },
    {
      "cell_type": "markdown",
      "metadata": {
        "id": "ndZZ2mvs34qb"
      },
      "source": [
        "Другие две полезные функции - zeros и ones. Они создают массивы из всех нулей и всех единиц. Они принимают форму создаваемого тензора в качестве параметра"
      ]
    },
    {
      "cell_type": "code",
      "metadata": {
        "colab": {
          "base_uri": "https://localhost:8080/"
        },
        "id": "1OHmH_lc34qb",
        "outputId": "4b616bfd-873b-4191-8e2d-68433a64ec6f"
      },
      "source": [
        "torch.zeros((2,3,4))"
      ],
      "execution_count": null,
      "outputs": [
        {
          "data": {
            "text/plain": [
              "tensor([[[0., 0., 0., 0.],\n",
              "         [0., 0., 0., 0.],\n",
              "         [0., 0., 0., 0.]],\n",
              "\n",
              "        [[0., 0., 0., 0.],\n",
              "         [0., 0., 0., 0.],\n",
              "         [0., 0., 0., 0.]]])"
            ]
          },
          "execution_count": 68,
          "metadata": {
            "tags": []
          },
          "output_type": "execute_result"
        }
      ]
    },
    {
      "cell_type": "code",
      "metadata": {
        "colab": {
          "base_uri": "https://localhost:8080/"
        },
        "id": "E4FE7H4l34qb",
        "outputId": "c9b41595-a23a-423e-8c5c-459783842a2e"
      },
      "source": [
        "torch.ones((2,3,4))"
      ],
      "execution_count": null,
      "outputs": [
        {
          "data": {
            "text/plain": [
              "tensor([[[1., 1., 1., 1.],\n",
              "         [1., 1., 1., 1.],\n",
              "         [1., 1., 1., 1.]],\n",
              "\n",
              "        [[1., 1., 1., 1.],\n",
              "         [1., 1., 1., 1.],\n",
              "         [1., 1., 1., 1.]]])"
            ]
          },
          "execution_count": 69,
          "metadata": {
            "tags": []
          },
          "output_type": "execute_result"
        }
      ]
    },
    {
      "cell_type": "markdown",
      "metadata": {
        "id": "EnuJ0sCf34qb"
      },
      "source": [
        "Конечно же, можно создать тензор явно указав все значения"
      ]
    },
    {
      "cell_type": "code",
      "metadata": {
        "colab": {
          "base_uri": "https://localhost:8080/"
        },
        "id": "Aq5I6YeC34qb",
        "outputId": "66a445ef-4a48-4418-b0dc-5845d06864d9"
      },
      "source": [
        "torch.tensor([[1,2,3], [4,5,6], [10,11,0]])"
      ],
      "execution_count": null,
      "outputs": [
        {
          "data": {
            "text/plain": [
              "tensor([[ 1,  2,  3],\n",
              "        [ 4,  5,  6],\n",
              "        [10, 11,  0]])"
            ]
          },
          "execution_count": 131,
          "metadata": {
            "tags": []
          },
          "output_type": "execute_result"
        }
      ]
    },
    {
      "cell_type": "markdown",
      "metadata": {
        "id": "_fdDBA1t34qb"
      },
      "source": [
        "Иногда бывает полезно создать массив, заполненный случайными значениями. Для этого используются функции torch.rand и torch.randn. Первое использовает равномерное распределение, второе - нормальное"
      ]
    },
    {
      "cell_type": "code",
      "metadata": {
        "colab": {
          "base_uri": "https://localhost:8080/"
        },
        "id": "zaVRxiJo34qb",
        "outputId": "f0523c68-1be5-4894-fb87-440a6bae5f0b"
      },
      "source": [
        "torch.rand((2,3,4))"
      ],
      "execution_count": null,
      "outputs": [
        {
          "data": {
            "text/plain": [
              "tensor([[[0.2173, 0.6062, 0.0537, 0.4660],\n",
              "         [0.3831, 0.2635, 0.0673, 0.3020],\n",
              "         [0.6908, 0.5494, 0.2803, 0.5469]],\n",
              "\n",
              "        [[0.7247, 0.1493, 0.8373, 0.7565],\n",
              "         [0.0360, 0.8271, 0.3002, 0.4821],\n",
              "         [0.8326, 0.7319, 0.7634, 0.6156]]])"
            ]
          },
          "execution_count": 71,
          "metadata": {
            "tags": []
          },
          "output_type": "execute_result"
        }
      ]
    },
    {
      "cell_type": "code",
      "metadata": {
        "colab": {
          "base_uri": "https://localhost:8080/"
        },
        "id": "M4gzOlNx34qb",
        "outputId": "66287d40-90c7-4b30-83d4-be4a615ed527"
      },
      "source": [
        "torch.randn((2,3,4))"
      ],
      "execution_count": null,
      "outputs": [
        {
          "data": {
            "text/plain": [
              "tensor([[[-1.2285, -0.1473, -0.9562, -0.2663],\n",
              "         [ 1.3126, -0.2898,  1.9049, -2.2608],\n",
              "         [-2.3366,  2.3067,  0.6867,  0.5259]],\n",
              "\n",
              "        [[-0.0970,  0.0955, -0.1397, -1.6852],\n",
              "         [-1.2128, -1.4040,  0.3999, -4.2533],\n",
              "         [ 0.1919,  0.1557, -0.3187, -1.2822]]])"
            ]
          },
          "execution_count": 72,
          "metadata": {
            "tags": []
          },
          "output_type": "execute_result"
        }
      ]
    },
    {
      "cell_type": "markdown",
      "metadata": {
        "id": "AxPxZy1y34qb"
      },
      "source": [
        "## Операции"
      ]
    },
    {
      "cell_type": "markdown",
      "metadata": {
        "id": "xlB3CsoS34qb"
      },
      "source": [
        "Обычно мы хотим не только создавать массивы, но и применять к ним функции. Самые простые и полезные из них - это поэлементные функции. Они работают, выполняя одну скалярную операцию над соответствующими элементами двух массивов. "
      ]
    },
    {
      "cell_type": "code",
      "metadata": {
        "colab": {
          "base_uri": "https://localhost:8080/"
        },
        "id": "wy_nH2mH34qb",
        "outputId": "8b567448-b740-4ea4-9162-24587c529567"
      },
      "source": [
        "x = torch.tensor([1., 2., 4., 8.])\n",
        "y = torch.ones_like(x) * 2\n",
        "print('x =', x)\n",
        "print('y =', y)\n",
        "print('x + y', x + y)\n",
        "print('x - y', x - y)\n",
        "print('x * y', x * y)\n",
        "print('x / y', x / y)"
      ],
      "execution_count": null,
      "outputs": [
        {
          "name": "stdout",
          "output_type": "stream",
          "text": [
            "x = tensor([1., 2., 4., 8.])\n",
            "y = tensor([2., 2., 2., 2.])\n",
            "x + y tensor([ 3.,  4.,  6., 10.])\n",
            "x - y tensor([-1.,  0.,  2.,  6.])\n",
            "x * y tensor([ 2.,  4.,  8., 16.])\n",
            "x / y tensor([0.5000, 1.0000, 2.0000, 4.0000])\n"
          ]
        }
      ]
    },
    {
      "cell_type": "markdown",
      "metadata": {
        "id": "zmuXKwr134qb"
      },
      "source": [
        "Еще больше операций может быть выполненно поэлементно. Например - операции exp"
      ]
    },
    {
      "cell_type": "code",
      "metadata": {
        "colab": {
          "base_uri": "https://localhost:8080/"
        },
        "id": "DH-A5fDv34qb",
        "outputId": "522f7954-4aba-45d4-8a3c-4a60dc7499c7"
      },
      "source": [
        "x.exp()"
      ],
      "execution_count": null,
      "outputs": [
        {
          "data": {
            "text/plain": [
              "tensor([2.7183e+00, 7.3891e+00, 5.4598e+01, 2.9810e+03])"
            ]
          },
          "execution_count": 74,
          "metadata": {
            "tags": []
          },
          "output_type": "execute_result"
        }
      ]
    },
    {
      "cell_type": "markdown",
      "metadata": {
        "id": "NqV7yXc234qb"
      },
      "source": [
        "В дополнение к поэлементным вычислениям, мы также можем выполнять матричные операции. Например, матричное умножение. Для этого используется функция mm."
      ]
    },
    {
      "cell_type": "code",
      "metadata": {
        "colab": {
          "background_save": true
        },
        "id": "-mZOiVs4KmrC"
      },
      "source": [
        "x1 = torch.arange(12)\n",
        "x2 = torch.arange(12)\n",
        "x3 = torch.arange(12)"
      ],
      "execution_count": null,
      "outputs": []
    },
    {
      "cell_type": "code",
      "metadata": {
        "colab": {
          "base_uri": "https://localhost:8080/"
        },
        "id": "ICVD0gR934qb",
        "outputId": "5d7700f1-7aa1-44e9-df6f-19b1ccb3bc76"
      },
      "source": [
        "x = torch.arange(12).reshape((3,4))\n",
        "y = torch.tensor([[2, 1, 4, 3], [1, 2, 3, 4], [4, 3, 2, 1]])\n",
        "torch.mm(x, y.T)"
      ],
      "execution_count": null,
      "outputs": [
        {
          "data": {
            "text/plain": [
              "tensor([[ 18,  20,  10],\n",
              "        [ 58,  60,  50],\n",
              "        [ 98, 100,  90]])"
            ]
          },
          "execution_count": 76,
          "metadata": {
            "tags": []
          },
          "output_type": "execute_result"
        }
      ]
    },
    {
      "cell_type": "markdown",
      "metadata": {
        "id": "NrBTbyHQ34qb"
      },
      "source": [
        "Мы также можем объединить несколько тензоров. Для этого нам нужно указать, по какому измерению производить объединение. В приведенном ниже примере объединяются две матрицы по измерению 0 (по строкам) и измерению 1 (по столбцам) соответственно."
      ]
    },
    {
      "cell_type": "code",
      "metadata": {
        "colab": {
          "base_uri": "https://localhost:8080/"
        },
        "id": "OsO4Pjdp34qb",
        "outputId": "129aebc3-830d-43a0-d37b-f38145318847"
      },
      "source": [
        "torch.cat((x, y), dim=0)"
      ],
      "execution_count": null,
      "outputs": [
        {
          "data": {
            "text/plain": [
              "tensor([[ 0,  1,  2,  3],\n",
              "        [ 4,  5,  6,  7],\n",
              "        [ 8,  9, 10, 11],\n",
              "        [ 2,  1,  4,  3],\n",
              "        [ 1,  2,  3,  4],\n",
              "        [ 4,  3,  2,  1]])"
            ]
          },
          "execution_count": 77,
          "metadata": {
            "tags": []
          },
          "output_type": "execute_result"
        }
      ]
    },
    {
      "cell_type": "code",
      "metadata": {
        "colab": {
          "base_uri": "https://localhost:8080/"
        },
        "id": "_NY0kfhp34qc",
        "outputId": "81402c68-2582-42f5-9183-c13fa87c36b8"
      },
      "source": [
        "torch.cat((x, y), dim=1)"
      ],
      "execution_count": null,
      "outputs": [
        {
          "data": {
            "text/plain": [
              "tensor([[ 0,  1,  2,  3,  2,  1,  4,  3],\n",
              "        [ 4,  5,  6,  7,  1,  2,  3,  4],\n",
              "        [ 8,  9, 10, 11,  4,  3,  2,  1]])"
            ]
          },
          "execution_count": 78,
          "metadata": {
            "tags": []
          },
          "output_type": "execute_result"
        }
      ]
    },
    {
      "cell_type": "markdown",
      "metadata": {
        "id": "mdirOuCC34qc"
      },
      "source": [
        "Для получения булевых тензоров можно использовать булевы операторы. Например, можно сравнить два тензора при помощи оператора =="
      ]
    },
    {
      "cell_type": "code",
      "metadata": {
        "colab": {
          "base_uri": "https://localhost:8080/"
        },
        "id": "hVQHhUYX34qc",
        "scrolled": true,
        "outputId": "4f72dcfa-67c6-4365-c74b-0c1b2b46f7e2"
      },
      "source": [
        "(x <= y).int()"
      ],
      "execution_count": null,
      "outputs": [
        {
          "data": {
            "text/plain": [
              "tensor([[1, 1, 1, 1],\n",
              "        [1, 1, 1, 1],\n",
              "        [1, 1, 1, 1]], dtype=torch.int32)"
            ]
          },
          "execution_count": 133,
          "metadata": {
            "tags": []
          },
          "output_type": "execute_result"
        }
      ]
    },
    {
      "cell_type": "code",
      "metadata": {
        "colab": {
          "base_uri": "https://localhost:8080/"
        },
        "id": "pPpWVVhTckOh",
        "outputId": "80806c9f-438c-4c03-f4df-f02359c5a29a"
      },
      "source": [
        "x"
      ],
      "execution_count": null,
      "outputs": [
        {
          "data": {
            "text/plain": [
              "tensor([[ 0,  1,  2,  3],\n",
              "        [ 4,  5,  6,  7],\n",
              "        [ 8,  9, 10, 11]])"
            ]
          },
          "execution_count": 80,
          "metadata": {
            "tags": []
          },
          "output_type": "execute_result"
        }
      ]
    },
    {
      "cell_type": "markdown",
      "metadata": {
        "id": "ZlgOzsiQ34qc"
      },
      "source": [
        "Суммирование всех элементов тезора дает тензор с одним элементом."
      ]
    },
    {
      "cell_type": "code",
      "metadata": {
        "colab": {
          "base_uri": "https://localhost:8080/"
        },
        "id": "NjjEo2zN34qc",
        "outputId": "a92b4886-32b7-4383-f043-0f65a55e4b4d"
      },
      "source": [
        "x.sum(dim=1)"
      ],
      "execution_count": null,
      "outputs": [
        {
          "data": {
            "text/plain": [
              "tensor([48, 48, 38])"
            ]
          },
          "execution_count": 134,
          "metadata": {
            "tags": []
          },
          "output_type": "execute_result"
        }
      ]
    },
    {
      "cell_type": "markdown",
      "metadata": {
        "id": "o23pUXsh34qc"
      },
      "source": [
        "Мы можем преобразовать результат в скаляр в Python, используя функцию item"
      ]
    },
    {
      "cell_type": "code",
      "metadata": {
        "colab": {
          "base_uri": "https://localhost:8080/"
        },
        "id": "mkjmT83Y34qc",
        "outputId": "0251d15f-4f6e-4fcf-95d8-507ff4f295f4"
      },
      "source": [
        "x.sum().item()"
      ],
      "execution_count": null,
      "outputs": [
        {
          "data": {
            "text/plain": [
              "66"
            ]
          },
          "execution_count": 82,
          "metadata": {
            "tags": []
          },
          "output_type": "execute_result"
        }
      ]
    },
    {
      "cell_type": "markdown",
      "metadata": {
        "id": "7q3qKAAm5Sxx"
      },
      "source": [
        "Преобразование типов"
      ]
    },
    {
      "cell_type": "code",
      "metadata": {
        "colab": {
          "base_uri": "https://localhost:8080/"
        },
        "id": "T3TrDHdtc-Ek",
        "outputId": "e0e4508a-a8c7-44dd-ccaa-1ccb6785f761"
      },
      "source": [
        "x.dtype"
      ],
      "execution_count": null,
      "outputs": [
        {
          "data": {
            "text/plain": [
              "torch.int64"
            ]
          },
          "execution_count": 83,
          "metadata": {
            "tags": []
          },
          "output_type": "execute_result"
        }
      ]
    },
    {
      "cell_type": "code",
      "metadata": {
        "colab": {
          "base_uri": "https://localhost:8080/"
        },
        "id": "glY_K40V4Quo",
        "outputId": "49849455-64a7-4970-b566-798251d8ce2b"
      },
      "source": [
        "x.double()"
      ],
      "execution_count": null,
      "outputs": [
        {
          "data": {
            "text/plain": [
              "tensor([[ 0.,  1.,  2.,  3.],\n",
              "        [ 4.,  5.,  6.,  7.],\n",
              "        [ 8.,  9., 10., 11.]], dtype=torch.float64)"
            ]
          },
          "execution_count": 84,
          "metadata": {
            "tags": []
          },
          "output_type": "execute_result"
        }
      ]
    },
    {
      "cell_type": "code",
      "metadata": {
        "colab": {
          "base_uri": "https://localhost:8080/"
        },
        "id": "jMJERiCG4QzN",
        "outputId": "16f7d586-8107-4d00-de13-70e567b098e8"
      },
      "source": [
        "x.type('torch.DoubleTensor')"
      ],
      "execution_count": null,
      "outputs": [
        {
          "data": {
            "text/plain": [
              "tensor([[ 0.,  1.,  2.,  3.],\n",
              "        [ 4.,  5.,  6.,  7.],\n",
              "        [ 8.,  9., 10., 11.]], dtype=torch.float64)"
            ]
          },
          "execution_count": 85,
          "metadata": {
            "tags": []
          },
          "output_type": "execute_result"
        }
      ]
    },
    {
      "cell_type": "markdown",
      "metadata": {
        "id": "P1ekqZgJ-ubZ"
      },
      "source": [
        "##Изменение размерности"
      ]
    },
    {
      "cell_type": "code",
      "metadata": {
        "colab": {
          "base_uri": "https://localhost:8080/"
        },
        "id": "_S2N-Ooz--U4",
        "outputId": "a4fc1697-d38d-4c6d-94d8-b1ea432c3308"
      },
      "source": [
        "x.shape"
      ],
      "execution_count": null,
      "outputs": [
        {
          "data": {
            "text/plain": [
              "torch.Size([3, 4])"
            ]
          },
          "execution_count": 86,
          "metadata": {
            "tags": []
          },
          "output_type": "execute_result"
        }
      ]
    },
    {
      "cell_type": "code",
      "metadata": {
        "colab": {
          "base_uri": "https://localhost:8080/"
        },
        "id": "a9V1Q_VkdfAb",
        "outputId": "a3891eee-b7d2-4a81-fde7-9db8e438238b"
      },
      "source": [
        "x"
      ],
      "execution_count": null,
      "outputs": [
        {
          "data": {
            "text/plain": [
              "tensor([[ 0,  1,  2,  3],\n",
              "        [ 4,  5,  6,  7],\n",
              "        [ 8,  9, 10, 11]])"
            ]
          },
          "execution_count": 87,
          "metadata": {
            "tags": []
          },
          "output_type": "execute_result"
        }
      ]
    },
    {
      "cell_type": "code",
      "metadata": {
        "colab": {
          "base_uri": "https://localhost:8080/"
        },
        "id": "FKCGpx7K4Q3M",
        "outputId": "10ce03c0-7496-4b0b-8667-d492783b0a3f"
      },
      "source": [
        "x.unsqueeze(0).shape"
      ],
      "execution_count": null,
      "outputs": [
        {
          "data": {
            "text/plain": [
              "torch.Size([1, 3, 4])"
            ]
          },
          "execution_count": 88,
          "metadata": {
            "tags": []
          },
          "output_type": "execute_result"
        }
      ]
    },
    {
      "cell_type": "code",
      "metadata": {
        "colab": {
          "background_save": true,
          "base_uri": "https://localhost:8080/"
        },
        "id": "E8RbICUN_SAA",
        "outputId": "c28a9920-0827-4a6b-e09c-331c5ad8489e"
      },
      "source": [
        "x.unsqueeze(0)[0]"
      ],
      "execution_count": null,
      "outputs": [
        {
          "data": {
            "text/plain": [
              "tensor([[[ 0,  1,  2,  3],\n",
              "         [ 4,  5,  6,  7],\n",
              "         [ 8,  9, 10, 11]]])"
            ]
          },
          "execution_count": null,
          "metadata": {},
          "output_type": "execute_result"
        }
      ]
    },
    {
      "cell_type": "code",
      "metadata": {
        "colab": {
          "base_uri": "https://localhost:8080/"
        },
        "id": "7vxLqg43_EnJ",
        "outputId": "cf22574d-0495-496d-be4d-c4d17012cb33"
      },
      "source": [
        "x.unsqueeze(1).shape"
      ],
      "execution_count": null,
      "outputs": [
        {
          "data": {
            "text/plain": [
              "torch.Size([3, 1, 4])"
            ]
          },
          "execution_count": 90,
          "metadata": {
            "tags": []
          },
          "output_type": "execute_result"
        }
      ]
    },
    {
      "cell_type": "code",
      "metadata": {
        "colab": {
          "base_uri": "https://localhost:8080/"
        },
        "id": "fLzx2maj_g5j",
        "outputId": "c93b1988-d19a-4210-f409-15409e9c9fd1"
      },
      "source": [
        "x.unsqueeze(1)"
      ],
      "execution_count": null,
      "outputs": [
        {
          "data": {
            "text/plain": [
              "tensor([[[ 0,  1,  2,  3]],\n",
              "\n",
              "        [[ 4,  5,  6,  7]],\n",
              "\n",
              "        [[ 8,  9, 10, 11]]])"
            ]
          },
          "execution_count": 91,
          "metadata": {
            "tags": []
          },
          "output_type": "execute_result"
        }
      ]
    },
    {
      "cell_type": "code",
      "metadata": {
        "colab": {
          "base_uri": "https://localhost:8080/"
        },
        "id": "71lHapAL_qHP",
        "outputId": "26c8a1e0-e013-4282-b7e7-e446210e3eb2"
      },
      "source": [
        "x.unsqueeze(2).shape"
      ],
      "execution_count": null,
      "outputs": [
        {
          "data": {
            "text/plain": [
              "torch.Size([3, 4, 1])"
            ]
          },
          "execution_count": 92,
          "metadata": {
            "tags": []
          },
          "output_type": "execute_result"
        }
      ]
    },
    {
      "cell_type": "code",
      "metadata": {
        "colab": {
          "base_uri": "https://localhost:8080/"
        },
        "id": "74lxudUz_nDj",
        "outputId": "b4b0c805-2eaf-46bb-cbc1-d60edad5d1a9"
      },
      "source": [
        "x.unsqueeze(2)"
      ],
      "execution_count": null,
      "outputs": [
        {
          "data": {
            "text/plain": [
              "tensor([[[ 0],\n",
              "         [ 1],\n",
              "         [ 2],\n",
              "         [ 3]],\n",
              "\n",
              "        [[ 4],\n",
              "         [ 5],\n",
              "         [ 6],\n",
              "         [ 7]],\n",
              "\n",
              "        [[ 8],\n",
              "         [ 9],\n",
              "         [10],\n",
              "         [11]]])"
            ]
          },
          "execution_count": 93,
          "metadata": {
            "tags": []
          },
          "output_type": "execute_result"
        }
      ]
    },
    {
      "cell_type": "code",
      "metadata": {
        "colab": {
          "base_uri": "https://localhost:8080/"
        },
        "id": "fnQKkdTWeeGH",
        "outputId": "e72c5281-2807-42fc-f3eb-502596e2d901"
      },
      "source": [
        "x.unsqueeze(2).unsqueeze(1).squeeze().shape"
      ],
      "execution_count": null,
      "outputs": [
        {
          "data": {
            "text/plain": [
              "torch.Size([3, 4])"
            ]
          },
          "execution_count": 94,
          "metadata": {
            "tags": []
          },
          "output_type": "execute_result"
        }
      ]
    },
    {
      "cell_type": "code",
      "metadata": {
        "colab": {
          "base_uri": "https://localhost:8080/"
        },
        "id": "2dws5akLeeKf",
        "outputId": "7e1c47e6-14e3-4892-c89e-215247e646d9"
      },
      "source": [
        "x.T"
      ],
      "execution_count": null,
      "outputs": [
        {
          "data": {
            "text/plain": [
              "tensor([[ 0,  4,  8],\n",
              "        [ 1,  5,  9],\n",
              "        [ 2,  6, 10],\n",
              "        [ 3,  7, 11]])"
            ]
          },
          "execution_count": 95,
          "metadata": {
            "tags": []
          },
          "output_type": "execute_result"
        }
      ]
    },
    {
      "cell_type": "code",
      "metadata": {
        "colab": {
          "base_uri": "https://localhost:8080/"
        },
        "id": "YZHER0zWeeQ2",
        "outputId": "54e6c276-acbf-44e6-d948-8eab741e6601"
      },
      "source": [
        "x"
      ],
      "execution_count": null,
      "outputs": [
        {
          "data": {
            "text/plain": [
              "tensor([[ 0,  1,  2,  3],\n",
              "        [ 4,  5,  6,  7],\n",
              "        [ 8,  9, 10, 11]])"
            ]
          },
          "execution_count": 96,
          "metadata": {
            "tags": []
          },
          "output_type": "execute_result"
        }
      ]
    },
    {
      "cell_type": "code",
      "metadata": {
        "colab": {
          "base_uri": "https://localhost:8080/"
        },
        "id": "rjWEuOiV_EsX",
        "outputId": "889293ca-0886-49aa-a789-a54da6082bd9"
      },
      "source": [
        "x.unsqueeze(0).squeeze().shape"
      ],
      "execution_count": null,
      "outputs": [
        {
          "data": {
            "text/plain": [
              "torch.Size([3, 4])"
            ]
          },
          "execution_count": 97,
          "metadata": {
            "tags": []
          },
          "output_type": "execute_result"
        }
      ]
    },
    {
      "cell_type": "markdown",
      "metadata": {
        "id": "Yj1CLDAD_xRP"
      },
      "source": [
        "##Транспонирование"
      ]
    },
    {
      "cell_type": "code",
      "metadata": {
        "colab": {
          "base_uri": "https://localhost:8080/"
        },
        "id": "1By4ACrE_9ay",
        "outputId": "f6857571-6379-42b2-bd35-80c45c4a94bc"
      },
      "source": [
        "x.T"
      ],
      "execution_count": null,
      "outputs": [
        {
          "data": {
            "text/plain": [
              "tensor([[ 0,  4,  8],\n",
              "        [ 1,  5,  9],\n",
              "        [ 2,  6, 10],\n",
              "        [ 3,  7, 11]])"
            ]
          },
          "execution_count": 98,
          "metadata": {
            "tags": []
          },
          "output_type": "execute_result"
        }
      ]
    },
    {
      "cell_type": "code",
      "metadata": {
        "colab": {
          "base_uri": "https://localhost:8080/"
        },
        "id": "8ZPegFj6_ja9",
        "outputId": "f7071aeb-fc52-419e-ab36-d1d4b5f9954a"
      },
      "source": [
        "x.permute(1,0)"
      ],
      "execution_count": null,
      "outputs": [
        {
          "data": {
            "text/plain": [
              "tensor([[ 0,  4,  8],\n",
              "        [ 1,  5,  9],\n",
              "        [ 2,  6, 10],\n",
              "        [ 3,  7, 11]])"
            ]
          },
          "execution_count": 99,
          "metadata": {
            "tags": []
          },
          "output_type": "execute_result"
        }
      ]
    },
    {
      "cell_type": "code",
      "metadata": {
        "id": "KIAJVPG5f606"
      },
      "source": [
        "xx = torch.rand((2,3,4))"
      ],
      "execution_count": null,
      "outputs": []
    },
    {
      "cell_type": "code",
      "metadata": {
        "colab": {
          "base_uri": "https://localhost:8080/"
        },
        "id": "Plo-kw5agOTF",
        "outputId": "43b2333e-73c7-4dce-b1fe-abe3624f2d02"
      },
      "source": [
        "xx"
      ],
      "execution_count": null,
      "outputs": [
        {
          "data": {
            "text/plain": [
              "tensor([[[0.3352, 0.9391, 0.2458, 0.2017],\n",
              "         [0.7368, 0.8841, 0.1105, 0.8151],\n",
              "         [0.1584, 0.3403, 0.8842, 0.1486]],\n",
              "\n",
              "        [[0.5301, 0.3763, 0.3034, 0.8674],\n",
              "         [0.5109, 0.1184, 0.1318, 0.9318],\n",
              "         [0.2854, 0.9216, 0.5774, 0.5125]]])"
            ]
          },
          "execution_count": 101,
          "metadata": {
            "tags": []
          },
          "output_type": "execute_result"
        }
      ]
    },
    {
      "cell_type": "code",
      "metadata": {
        "colab": {
          "base_uri": "https://localhost:8080/"
        },
        "id": "b4QnCAMYf67U",
        "outputId": "3cb947cd-cf87-4caa-aace-e9f893a5afce"
      },
      "source": [
        "xx.permute(1,2,0)"
      ],
      "execution_count": null,
      "outputs": [
        {
          "data": {
            "text/plain": [
              "tensor([[[0.3352, 0.5301],\n",
              "         [0.9391, 0.3763],\n",
              "         [0.2458, 0.3034],\n",
              "         [0.2017, 0.8674]],\n",
              "\n",
              "        [[0.7368, 0.5109],\n",
              "         [0.8841, 0.1184],\n",
              "         [0.1105, 0.1318],\n",
              "         [0.8151, 0.9318]],\n",
              "\n",
              "        [[0.1584, 0.2854],\n",
              "         [0.3403, 0.9216],\n",
              "         [0.8842, 0.5774],\n",
              "         [0.1486, 0.5125]]])"
            ]
          },
          "execution_count": 102,
          "metadata": {
            "tags": []
          },
          "output_type": "execute_result"
        }
      ]
    },
    {
      "cell_type": "code",
      "metadata": {
        "id": "y8FnOdFxgENZ"
      },
      "source": [
        ""
      ],
      "execution_count": null,
      "outputs": []
    },
    {
      "cell_type": "code",
      "metadata": {
        "colab": {
          "base_uri": "https://localhost:8080/"
        },
        "id": "vbySFY1RA1vl",
        "outputId": "dc5b3312-7a0e-46fc-d93c-d2eab20b381a"
      },
      "source": [
        "x.sum()"
      ],
      "execution_count": null,
      "outputs": [
        {
          "data": {
            "text/plain": [
              "tensor(66)"
            ]
          },
          "execution_count": 103,
          "metadata": {
            "tags": []
          },
          "output_type": "execute_result"
        }
      ]
    },
    {
      "cell_type": "code",
      "metadata": {
        "colab": {
          "base_uri": "https://localhost:8080/"
        },
        "id": "xHAoHjxCjW4y",
        "outputId": "f9985c94-27cf-439b-86e7-917058c95f32"
      },
      "source": [
        "x.shape"
      ],
      "execution_count": null,
      "outputs": [
        {
          "data": {
            "text/plain": [
              "torch.Size([3, 4])"
            ]
          },
          "execution_count": 104,
          "metadata": {
            "tags": []
          },
          "output_type": "execute_result"
        }
      ]
    },
    {
      "cell_type": "code",
      "metadata": {
        "colab": {
          "base_uri": "https://localhost:8080/"
        },
        "id": "c39J_2UhjNCB",
        "outputId": "3d619b75-f39f-4646-dc49-600eeb1c1e9d"
      },
      "source": [
        "x.sum(dim=1).shape"
      ],
      "execution_count": null,
      "outputs": [
        {
          "data": {
            "text/plain": [
              "torch.Size([3])"
            ]
          },
          "execution_count": 105,
          "metadata": {
            "tags": []
          },
          "output_type": "execute_result"
        }
      ]
    },
    {
      "cell_type": "code",
      "metadata": {
        "colab": {
          "base_uri": "https://localhost:8080/"
        },
        "id": "m2QsIST0ApTk",
        "outputId": "5c3a7eaa-b656-40b9-e078-2b1b12cf03fb"
      },
      "source": [
        "x.sum(dim=1, keepdim=True).shape"
      ],
      "execution_count": null,
      "outputs": [
        {
          "data": {
            "text/plain": [
              "torch.Size([3, 1])"
            ]
          },
          "execution_count": 106,
          "metadata": {
            "tags": []
          },
          "output_type": "execute_result"
        }
      ]
    },
    {
      "cell_type": "code",
      "metadata": {
        "colab": {
          "base_uri": "https://localhost:8080/"
        },
        "id": "9rfhXedJApY_",
        "outputId": "ea5eb60d-6477-4a6b-c60d-d15bd7210365"
      },
      "source": [
        "x.sum(dim=0, keepdim=True).shape"
      ],
      "execution_count": null,
      "outputs": [
        {
          "data": {
            "text/plain": [
              "torch.Size([1, 4])"
            ]
          },
          "execution_count": 107,
          "metadata": {
            "tags": []
          },
          "output_type": "execute_result"
        }
      ]
    },
    {
      "cell_type": "markdown",
      "metadata": {
        "id": "mGsDt2oI34qc"
      },
      "source": [
        "## Индексирование\n",
        "\n",
        "Как и в любом другом массиве Python, элементы в тензоре могут быть доступны по их индексу. По традиции первый элемент имеет индекс 0, а диапазоны указываются для включения первого, но не последнего элемента. По этой логике `1: 3` выбирает второй и третий элемент из тензора"
      ]
    },
    {
      "cell_type": "code",
      "metadata": {
        "colab": {
          "background_save": true,
          "base_uri": "https://localhost:8080/"
        },
        "id": "VoIV0zfd34qc",
        "outputId": "db363641-88e1-40cf-f133-7ca8340028f2"
      },
      "source": [
        "x"
      ],
      "execution_count": null,
      "outputs": [
        {
          "data": {
            "text/plain": [
              "tensor([[ 0,  1,  2,  3],\n",
              "        [ 4,  5,  6,  7],\n",
              "        [ 8,  9, 10, 11]])"
            ]
          },
          "execution_count": null,
          "metadata": {},
          "output_type": "execute_result"
        }
      ]
    },
    {
      "cell_type": "code",
      "metadata": {
        "colab": {
          "background_save": true,
          "base_uri": "https://localhost:8080/"
        },
        "id": "exlpsUvO34qc",
        "outputId": "984ce711-bc71-4c10-bd2b-48ac97f03d84"
      },
      "source": [
        "x[1:3,1:3]"
      ],
      "execution_count": null,
      "outputs": [
        {
          "data": {
            "text/plain": [
              "tensor([[ 5,  6],\n",
              "        [ 9, 10]])"
            ]
          },
          "execution_count": null,
          "metadata": {},
          "output_type": "execute_result"
        }
      ]
    },
    {
      "cell_type": "markdown",
      "metadata": {
        "id": "jQl5OOWd34qc"
      },
      "source": [
        "Мы так же можем изменять значения в тензоре"
      ]
    },
    {
      "cell_type": "code",
      "metadata": {
        "colab": {
          "background_save": true,
          "base_uri": "https://localhost:8080/"
        },
        "id": "L5uldJc734qc",
        "outputId": "0c42afbd-197c-451e-dec7-b740040fb88f"
      },
      "source": [
        "x[1:2, 2:3] = 9\n",
        "x"
      ],
      "execution_count": null,
      "outputs": [
        {
          "data": {
            "text/plain": [
              "tensor([[ 0,  1,  2,  3],\n",
              "        [ 4,  5, 29,  7],\n",
              "        [ 8,  9, 10, 11]])"
            ]
          },
          "execution_count": null,
          "metadata": {},
          "output_type": "execute_result"
        }
      ]
    },
    {
      "cell_type": "markdown",
      "metadata": {
        "id": "74LlTvcY34qc"
      },
      "source": [
        "Если мы хотим присвоить нескольким элементам одно и то же значение, мы просто индексируем все из них (при помощи оператора `:`), а затем присваиваем им значение. Например, `[0:2,:]` обращается к первой и второй строчкам."
      ]
    },
    {
      "cell_type": "code",
      "metadata": {
        "colab": {
          "base_uri": "https://localhost:8080/"
        },
        "id": "vc2sGtyA34qc",
        "outputId": "f59c5514-9250-4a2e-a6de-46700c3eb323"
      },
      "source": [
        "x[0:2, :] = 12\n",
        "x"
      ],
      "execution_count": null,
      "outputs": [
        {
          "data": {
            "text/plain": [
              "tensor([[12, 12, 12, 12],\n",
              "        [12, 12, 12, 12],\n",
              "        [ 8,  9, 10, 11]])"
            ]
          },
          "execution_count": 113,
          "metadata": {
            "tags": []
          },
          "output_type": "execute_result"
        }
      ]
    },
    {
      "cell_type": "markdown",
      "metadata": {
        "id": "hOCnSvL434qc"
      },
      "source": [
        "## В numpy и назад"
      ]
    },
    {
      "cell_type": "code",
      "metadata": {
        "colab": {
          "base_uri": "https://localhost:8080/"
        },
        "id": "WkOvY9KQ34qc",
        "outputId": "d9e91268-d816-4c3f-e140-ddfa4dcf0015"
      },
      "source": [
        "x.numpy()"
      ],
      "execution_count": null,
      "outputs": [
        {
          "data": {
            "text/plain": [
              "array([[12, 12, 12, 12],\n",
              "       [12, 12, 12, 12],\n",
              "       [ 8,  9, 10, 11]])"
            ]
          },
          "execution_count": 114,
          "metadata": {
            "tags": []
          },
          "output_type": "execute_result"
        }
      ]
    },
    {
      "cell_type": "code",
      "metadata": {
        "colab": {
          "base_uri": "https://localhost:8080/"
        },
        "id": "xelGRn4L34qc",
        "outputId": "d4ab44c0-7c33-42b1-ff19-b952b63b950d"
      },
      "source": [
        "y = torch.tensor(x.numpy())\n",
        "y"
      ],
      "execution_count": null,
      "outputs": [
        {
          "data": {
            "text/plain": [
              "tensor([[12, 12, 12, 12],\n",
              "        [12, 12, 12, 12],\n",
              "        [ 8,  9, 10, 11]])"
            ]
          },
          "execution_count": 115,
          "metadata": {
            "tags": []
          },
          "output_type": "execute_result"
        }
      ]
    },
    {
      "cell_type": "markdown",
      "metadata": {
        "id": "2ZIiCcBm31Wv"
      },
      "source": [
        "## Автоматическое дифференцирование"
      ]
    },
    {
      "cell_type": "code",
      "metadata": {
        "ExecuteTime": {
          "end_time": "2019-11-06T12:28:34.900077Z",
          "start_time": "2019-11-06T12:28:34.399089Z"
        },
        "id": "aYrk3oBX31Ww"
      },
      "source": [
        "import torch\n",
        "from torch import autograd"
      ],
      "execution_count": null,
      "outputs": []
    },
    {
      "cell_type": "code",
      "metadata": {
        "ExecuteTime": {
          "end_time": "2019-11-06T12:28:34.959876Z",
          "start_time": "2019-11-06T12:28:34.954576Z"
        },
        "colab": {
          "base_uri": "https://localhost:8080/"
        },
        "id": "nBnQNG7i31Ww",
        "outputId": "c21d32af-5b59-498d-dcc4-2e0c5a8cf2b8"
      },
      "source": [
        "x = torch.arange(4).type(torch.float)\n",
        "print(x)"
      ],
      "execution_count": null,
      "outputs": [
        {
          "output_type": "stream",
          "text": [
            "tensor([0., 1., 2., 3.])\n"
          ],
          "name": "stdout"
        }
      ]
    },
    {
      "cell_type": "markdown",
      "metadata": {
        "ExecuteTime": {
          "end_time": "2019-11-06T11:20:01.003092Z",
          "start_time": "2019-11-06T11:20:00.998727Z"
        },
        "id": "9IURmWho31Ww"
      },
      "source": [
        "## Присоединение градиента к `x`\n",
        "\n",
        "- Говорит системе, что мы хотим хранить градиент"
      ]
    },
    {
      "cell_type": "code",
      "metadata": {
        "ExecuteTime": {
          "end_time": "2019-11-06T12:28:35.671645Z",
          "start_time": "2019-11-06T12:28:35.662681Z"
        },
        "colab": {
          "base_uri": "https://localhost:8080/"
        },
        "id": "9-8w-QC931Ww",
        "outputId": "ad86d55c-0c8f-4c28-8867-b79a0fe7b7bd"
      },
      "source": [
        "x.requires_grad"
      ],
      "execution_count": null,
      "outputs": [
        {
          "output_type": "execute_result",
          "data": {
            "text/plain": [
              "False"
            ]
          },
          "metadata": {
            "tags": []
          },
          "execution_count": 3
        }
      ]
    },
    {
      "cell_type": "code",
      "metadata": {
        "ExecuteTime": {
          "end_time": "2019-11-06T12:28:35.852553Z",
          "start_time": "2019-11-06T12:28:35.849840Z"
        },
        "id": "ilpGW8d031Ww"
      },
      "source": [
        "x = x.requires_grad_()"
      ],
      "execution_count": null,
      "outputs": []
    },
    {
      "cell_type": "code",
      "metadata": {
        "ExecuteTime": {
          "end_time": "2019-11-06T12:28:36.057885Z",
          "start_time": "2019-11-06T12:28:36.053988Z"
        },
        "colab": {
          "base_uri": "https://localhost:8080/"
        },
        "id": "7gr4GM2Z31Ww",
        "outputId": "c0115a60-a2c7-4113-f627-39f5d2b0770e"
      },
      "source": [
        "x.requires_grad"
      ],
      "execution_count": null,
      "outputs": [
        {
          "output_type": "execute_result",
          "data": {
            "text/plain": [
              "True"
            ]
          },
          "metadata": {
            "tags": []
          },
          "execution_count": 5
        }
      ]
    },
    {
      "cell_type": "code",
      "metadata": {
        "ExecuteTime": {
          "end_time": "2019-11-06T12:28:36.296476Z",
          "start_time": "2019-11-06T12:28:36.293864Z"
        },
        "id": "DLrma54A31Ww"
      },
      "source": [
        "x.grad"
      ],
      "execution_count": null,
      "outputs": []
    },
    {
      "cell_type": "markdown",
      "metadata": {
        "id": "qf8SjbES31Ww"
      },
      "source": [
        "## Forward (вычисление функции)\n",
        "\n",
        "вычислим \n",
        "\n",
        "$$y = 2\\mathbf{x}^{\\top}\\mathbf{x}$$"
      ]
    },
    {
      "cell_type": "code",
      "metadata": {
        "ExecuteTime": {
          "end_time": "2019-11-06T12:28:36.769614Z",
          "start_time": "2019-11-06T12:28:36.697927Z"
        },
        "id": "Rial63TM31Ww"
      },
      "source": [
        "y = 2 * x.dot(x.T)\n",
        "y2 = 2 * x.dot(x.T)"
      ],
      "execution_count": null,
      "outputs": []
    },
    {
      "cell_type": "code",
      "metadata": {
        "ExecuteTime": {
          "end_time": "2019-11-06T12:28:36.898282Z",
          "start_time": "2019-11-06T12:28:36.893935Z"
        },
        "colab": {
          "base_uri": "https://localhost:8080/"
        },
        "id": "gJ6OPpMa31Ww",
        "outputId": "29ee5dd3-1cc7-4222-f585-8153dc94a95e"
      },
      "source": [
        "y"
      ],
      "execution_count": null,
      "outputs": [
        {
          "output_type": "execute_result",
          "data": {
            "text/plain": [
              "tensor(28., grad_fn=<MulBackward0>)"
            ]
          },
          "metadata": {
            "tags": []
          },
          "execution_count": 8
        }
      ]
    },
    {
      "cell_type": "markdown",
      "metadata": {
        "id": "ENNZlqQQ31Ww"
      },
      "source": [
        "## Backward (вычисление частных производных функции)"
      ]
    },
    {
      "cell_type": "code",
      "metadata": {
        "ExecuteTime": {
          "end_time": "2019-11-06T12:28:37.328415Z",
          "start_time": "2019-11-06T12:28:37.325308Z"
        },
        "id": "hSPS6vkq31Ww"
      },
      "source": [
        "y.backward()"
      ],
      "execution_count": null,
      "outputs": []
    },
    {
      "cell_type": "markdown",
      "metadata": {
        "id": "gNGtphuz31Ww"
      },
      "source": [
        "## Получение градиента\n",
        "\n",
        "$y = 2\\mathbf{x}^{\\top}\\mathbf{x}$, значит \n",
        "\n",
        "$$\\frac{\\partial y}{\\partial \\mathbf x} = 4\\mathbf{x}$$\n",
        "\n",
        "Проверим:"
      ]
    },
    {
      "cell_type": "code",
      "metadata": {
        "ExecuteTime": {
          "end_time": "2019-11-06T12:28:37.687274Z",
          "start_time": "2019-11-06T12:28:37.682614Z"
        },
        "colab": {
          "base_uri": "https://localhost:8080/"
        },
        "id": "glDck1bX31Ww",
        "outputId": "564a652d-af47-4546-d9b8-900f156b7ad4"
      },
      "source": [
        "x.grad"
      ],
      "execution_count": null,
      "outputs": [
        {
          "output_type": "execute_result",
          "data": {
            "text/plain": [
              "tensor([ 0.,  4.,  8., 12.])"
            ]
          },
          "metadata": {
            "tags": []
          },
          "execution_count": 10
        }
      ]
    },
    {
      "cell_type": "code",
      "metadata": {
        "ExecuteTime": {
          "end_time": "2019-11-06T12:28:37.859164Z",
          "start_time": "2019-11-06T12:28:37.854157Z"
        },
        "colab": {
          "base_uri": "https://localhost:8080/"
        },
        "id": "BuzBfu1A31Wx",
        "outputId": "a27613b4-da33-4b08-87c2-499f85cc8c7c"
      },
      "source": [
        "4 * x == x.grad"
      ],
      "execution_count": null,
      "outputs": [
        {
          "output_type": "execute_result",
          "data": {
            "text/plain": [
              "tensor([True, True, True, True])"
            ]
          },
          "metadata": {
            "tags": []
          },
          "execution_count": 11
        }
      ]
    }
  ]
}