{
  "nbformat": 4,
  "nbformat_minor": 0,
  "metadata": {
    "colab": {
      "name": "Копия Machine Learning, Data Storytelling.ipynb",
      "provenance": []
    },
    "kernelspec": {
      "name": "python3",
      "display_name": "Python 3"
    },
    "language_info": {
      "name": "python"
    }
  },
  "cells": [
    {
      "cell_type": "markdown",
      "metadata": {
        "id": "q8o2oy0Rfmn_"
      },
      "source": [
        "# Машинное обучение"
      ]
    },
    {
      "cell_type": "markdown",
      "metadata": {
        "id": "tZsQTCOefptH"
      },
      "source": [
        "\n",
        "\n",
        "> **Машинное обучение** - процесс, в результате которого машина (компьютер) способна показывать поведение, которое в нее не было заложено (запрограммировано). *1959*.\n",
        "\n",
        "Обучение происходит в результате ознакомления с некоторыми правилами, на основе опыта. Отсюда выделяются несколько способов обучения:\n",
        "\n",
        "\n",
        "*   дедуктивное (аналитическое): экспертные системы\n",
        "*   индуктивное (статистическое)\n",
        "*   комбинированное\n",
        "\n",
        "Нас интересует обучение, основанное на опыте, - индуктивное.\n",
        "\n",
        "Задачи инрдуктивного обучения:\n",
        "\n",
        "\n",
        "*   обучение по прецедентам (с учителем, `supervised learning`)\n",
        "*   обучение без учителя (`unsupervised learning`)\n",
        "*   активное обучение (`active learning`)\n",
        "*   обучение с подкреплением (`reinforcement learning`)\n",
        "\n",
        "Рассмотрим задачи обучения с учителем и без учителя.\n",
        "\n",
        "\n"
      ]
    },
    {
      "cell_type": "markdown",
      "metadata": {
        "id": "gf7oDbgbhRQP"
      },
      "source": [
        "## Обучение по прецедентам"
      ]
    },
    {
      "cell_type": "markdown",
      "metadata": {
        "id": "HBUz2cN4hhUw"
      },
      "source": [
        "$X$ - множество объектов\n",
        "$Y$ - множество допустимых ответов (метки)\n",
        "Между $x \\in X$ и $y \\in Y$ существует неизвестная зависимость, позволяющая оценить вероятность появления метки у объекта. Зависимость известная только на объектах из обучающей выборки: $\\{(x^{(1)}, y^{(1)}), (x^{(2)}, y^{(2)}), ..., (x^{(N)}, y^{(N)})\\}$.\n",
        "\n",
        "Пара $(x^{(i)}, y^{(i)})$ называется прецедентом. Соответственно, задача обучения по прецедентам: восстановить зависимость, научиться для новых объектов предсказывать метки."
      ]
    },
    {
      "cell_type": "markdown",
      "metadata": {
        "id": "T4d4hlZEi6dZ"
      },
      "source": [
        "Виды задач обучения по прецедентам:\n",
        "\n",
        "\n",
        "*   классификация: $Y = \\{1, ..., M\\}$ / $Y = \\{1, 0\\}^{M}$; известно множество непересекающихся (или пересекающихся)классов; необходимо определить, какому классу принадлежит объект; в простейшем случае классов два\n",
        "*   восстановление регрессии: $Y = \\mathbb{R}$; необходимо предсказывать конкретное значение по признакам\n",
        "\n"
      ]
    },
    {
      "cell_type": "markdown",
      "metadata": {
        "id": "efHMvs39ou_B"
      },
      "source": [
        "### Линейная регрессия"
      ]
    },
    {
      "cell_type": "markdown",
      "metadata": {
        "id": "uAug8EmFoydG"
      },
      "source": [
        "Метод моделирования измеряемых данных. Данные состоят из пар значений зависимой переменной (метки) и независимых переменных (объектов). Зависимая переменная - сумма значений некоторой модели и случайной величины: $y_i = \\theta_0 + \\theta_1x_1 + \\theta_2x_2 + ... + \\theta_nx_n + \\epsilon_i$. Параметры настраиваются так, чтобы регрессионная модель наилучшим образом приближала данные. Задача заключается в посике такого набора параметров $\\theta$, чтобы получались как можно лучшие результаты в предсказании $y$. Обычно подбор параметров происходит градиентным спуском (или стохастическим градиентным спуском).\n",
        "\n",
        "Функция потерь - обычно квадратичная (для классификации - пороговая)\n",
        "> **Оценка качества:** критерием качества приближения (целевой функцией) обычно является среднеквадратичная ошибка (характеризует отклонение реальных данных от линии регрессии и измеряется в тех же единицах, что и зависимая переменная $y$). Еще одной метрикой является коэффициент детерминации, варьюрующийся от 0 до 1. Он является долей дисперсии зависимой переменной. Чем ближе к 1, тем выше точность модели. Очень хорошей моделью считается модель с коэффициентом детерминации выше 0.8, приемлемо хорошей - хотя бы выше 0.5.\n",
        "\n",
        "> **Классический пример:** предсказание цен на квартиры по площади, определение уровня интеллекта по объему мозга\n"
      ]
    },
    {
      "cell_type": "markdown",
      "metadata": {
        "id": "QPgqk_nW1kTn"
      },
      "source": [
        "Простым языком про линейную регрессию можно почитать [тут](https://your-scorpion.ru/linear-regression-python/) и [тут](https://towardsdatascience.com/linear-regression-using-gradient-descent-97a6c8700931), про оценку [здесь](http://ufldl.stanford.edu/tutorial/supervised/DebuggingGradientChecking/)."
      ]
    },
    {
      "cell_type": "markdown",
      "metadata": {
        "id": "EqvQosePS7Fd"
      },
      "source": [
        "Про регуляризацию: [ссылка](https://craftappmobile.com/l1-vs-l2-regularization/)."
      ]
    },
    {
      "cell_type": "markdown",
      "metadata": {
        "id": "3TKwSWQeWL0f"
      },
      "source": [
        "Посмотрим пример на данных о ценах на машины [отсюда](https://www.kaggle.com/adityadesai13/used-car-dataset-ford-and-mercedes/tasks?taskId=1258)."
      ]
    },
    {
      "cell_type": "code",
      "metadata": {
        "colab": {
          "base_uri": "https://localhost:8080/"
        },
        "id": "CyENqdv8HA5v",
        "outputId": "d666d114-5fed-4111-a75f-7ba3197203d1"
      },
      "source": [
        "import pandas as pd\n",
        "from google.colab import drive\n",
        "drive.mount('/content/drive')"
      ],
      "execution_count": null,
      "outputs": [
        {
          "output_type": "stream",
          "text": [
            "Drive already mounted at /content/drive; to attempt to forcibly remount, call drive.mount(\"/content/drive\", force_remount=True).\n"
          ],
          "name": "stdout"
        }
      ]
    },
    {
      "cell_type": "code",
      "metadata": {
        "colab": {
          "base_uri": "https://localhost:8080/",
          "height": 143
        },
        "id": "jgZkNnC0WXPO",
        "outputId": "26b59c2b-ed10-4d0d-9f20-79cae2480846"
      },
      "source": [
        "toyota = pd.read_csv('/content/drive/MyDrive/CompLing/toyota.csv')\n",
        "toyota.sample(3)"
      ],
      "execution_count": null,
      "outputs": [
        {
          "output_type": "execute_result",
          "data": {
            "text/html": [
              "<div>\n",
              "<style scoped>\n",
              "    .dataframe tbody tr th:only-of-type {\n",
              "        vertical-align: middle;\n",
              "    }\n",
              "\n",
              "    .dataframe tbody tr th {\n",
              "        vertical-align: top;\n",
              "    }\n",
              "\n",
              "    .dataframe thead th {\n",
              "        text-align: right;\n",
              "    }\n",
              "</style>\n",
              "<table border=\"1\" class=\"dataframe\">\n",
              "  <thead>\n",
              "    <tr style=\"text-align: right;\">\n",
              "      <th></th>\n",
              "      <th>model</th>\n",
              "      <th>year</th>\n",
              "      <th>price</th>\n",
              "      <th>transmission</th>\n",
              "      <th>mileage</th>\n",
              "      <th>fuelType</th>\n",
              "      <th>tax</th>\n",
              "      <th>mpg</th>\n",
              "      <th>engineSize</th>\n",
              "    </tr>\n",
              "  </thead>\n",
              "  <tbody>\n",
              "    <tr>\n",
              "      <th>2658</th>\n",
              "      <td>Yaris</td>\n",
              "      <td>2018</td>\n",
              "      <td>9950</td>\n",
              "      <td>Manual</td>\n",
              "      <td>20559</td>\n",
              "      <td>Petrol</td>\n",
              "      <td>150</td>\n",
              "      <td>58.9</td>\n",
              "      <td>1.5</td>\n",
              "    </tr>\n",
              "    <tr>\n",
              "      <th>4951</th>\n",
              "      <td>Aygo</td>\n",
              "      <td>2018</td>\n",
              "      <td>7714</td>\n",
              "      <td>Manual</td>\n",
              "      <td>20872</td>\n",
              "      <td>Petrol</td>\n",
              "      <td>145</td>\n",
              "      <td>56.5</td>\n",
              "      <td>1.0</td>\n",
              "    </tr>\n",
              "    <tr>\n",
              "      <th>3828</th>\n",
              "      <td>Aygo</td>\n",
              "      <td>2017</td>\n",
              "      <td>7498</td>\n",
              "      <td>Manual</td>\n",
              "      <td>23555</td>\n",
              "      <td>Petrol</td>\n",
              "      <td>145</td>\n",
              "      <td>68.9</td>\n",
              "      <td>1.0</td>\n",
              "    </tr>\n",
              "  </tbody>\n",
              "</table>\n",
              "</div>"
            ],
            "text/plain": [
              "       model  year  price transmission  mileage fuelType  tax   mpg  engineSize\n",
              "2658   Yaris  2018   9950       Manual    20559   Petrol  150  58.9         1.5\n",
              "4951    Aygo  2018   7714       Manual    20872   Petrol  145  56.5         1.0\n",
              "3828    Aygo  2017   7498       Manual    23555   Petrol  145  68.9         1.0"
            ]
          },
          "metadata": {
            "tags": []
          },
          "execution_count": 69
        }
      ]
    },
    {
      "cell_type": "code",
      "metadata": {
        "id": "7Q3fAIYSXKNY"
      },
      "source": [
        "from sklearn.linear_model import LinearRegression\n",
        "from sklearn.model_selection import train_test_split\n",
        "from sklearn.metrics import mean_squared_error"
      ],
      "execution_count": null,
      "outputs": []
    },
    {
      "cell_type": "code",
      "metadata": {
        "id": "iO3HsaqtXV_D"
      },
      "source": [
        "X_train, X_test, y_train, y_test = train_test_split(toyota[[\"mileage\", \"tax\", \"mpg\", \"engineSize\"]].to_numpy(), toyota.price.to_numpy(), train_size = 0.7)"
      ],
      "execution_count": null,
      "outputs": []
    },
    {
      "cell_type": "code",
      "metadata": {
        "colab": {
          "base_uri": "https://localhost:8080/"
        },
        "id": "Uow9GHnaX7Cd",
        "outputId": "ee54756f-dfe1-4fd0-82c7-09270320ccff"
      },
      "source": [
        "reg = LinearRegression().fit(X_train, y_train)\n",
        "reg.score(X_train, y_train) # коэффициент детерминации"
      ],
      "execution_count": null,
      "outputs": [
        {
          "output_type": "execute_result",
          "data": {
            "text/plain": [
              "0.7240927405588212"
            ]
          },
          "metadata": {
            "tags": []
          },
          "execution_count": 76
        }
      ]
    },
    {
      "cell_type": "code",
      "metadata": {
        "id": "43q6T9LB4MAw"
      },
      "source": [
        "reg.score(X_test, reg.predict(X_test))"
      ],
      "execution_count": null,
      "outputs": []
    },
    {
      "cell_type": "code",
      "metadata": {
        "colab": {
          "base_uri": "https://localhost:8080/"
        },
        "id": "vIAnFcdHZMTU",
        "outputId": "2506397a-636b-41c6-8650-2c31fd96d679"
      },
      "source": [
        "mean_squared_error(y_test, reg.predict(X_test), squared=False) # MSE"
      ],
      "execution_count": null,
      "outputs": [
        {
          "output_type": "execute_result",
          "data": {
            "text/plain": [
              "3352.308802797441"
            ]
          },
          "metadata": {
            "tags": []
          },
          "execution_count": 81
        }
      ]
    },
    {
      "cell_type": "code",
      "metadata": {
        "colab": {
          "base_uri": "https://localhost:8080/",
          "height": 161
        },
        "id": "cGXtakfKaLH-",
        "outputId": "9327f174-391b-40d7-d89e-b5f25b0c0c89"
      },
      "source": [
        "pd.DataFrame.from_records(data=[list(y_test), list(reg.predict(X_test))])"
      ],
      "execution_count": null,
      "outputs": [
        {
          "output_type": "execute_result",
          "data": {
            "text/html": [
              "<div>\n",
              "<style scoped>\n",
              "    .dataframe tbody tr th:only-of-type {\n",
              "        vertical-align: middle;\n",
              "    }\n",
              "\n",
              "    .dataframe tbody tr th {\n",
              "        vertical-align: top;\n",
              "    }\n",
              "\n",
              "    .dataframe thead th {\n",
              "        text-align: right;\n",
              "    }\n",
              "</style>\n",
              "<table border=\"1\" class=\"dataframe\">\n",
              "  <thead>\n",
              "    <tr style=\"text-align: right;\">\n",
              "      <th></th>\n",
              "      <th>0</th>\n",
              "      <th>1</th>\n",
              "      <th>2</th>\n",
              "      <th>3</th>\n",
              "      <th>4</th>\n",
              "      <th>5</th>\n",
              "      <th>6</th>\n",
              "      <th>7</th>\n",
              "      <th>8</th>\n",
              "      <th>9</th>\n",
              "      <th>10</th>\n",
              "      <th>11</th>\n",
              "      <th>12</th>\n",
              "      <th>13</th>\n",
              "      <th>14</th>\n",
              "      <th>15</th>\n",
              "      <th>16</th>\n",
              "      <th>17</th>\n",
              "      <th>18</th>\n",
              "      <th>19</th>\n",
              "      <th>20</th>\n",
              "      <th>21</th>\n",
              "      <th>22</th>\n",
              "      <th>23</th>\n",
              "      <th>24</th>\n",
              "      <th>25</th>\n",
              "      <th>26</th>\n",
              "      <th>27</th>\n",
              "      <th>28</th>\n",
              "      <th>29</th>\n",
              "      <th>30</th>\n",
              "      <th>31</th>\n",
              "      <th>32</th>\n",
              "      <th>33</th>\n",
              "      <th>34</th>\n",
              "      <th>35</th>\n",
              "      <th>36</th>\n",
              "      <th>37</th>\n",
              "      <th>38</th>\n",
              "      <th>39</th>\n",
              "      <th>...</th>\n",
              "      <th>1982</th>\n",
              "      <th>1983</th>\n",
              "      <th>1984</th>\n",
              "      <th>1985</th>\n",
              "      <th>1986</th>\n",
              "      <th>1987</th>\n",
              "      <th>1988</th>\n",
              "      <th>1989</th>\n",
              "      <th>1990</th>\n",
              "      <th>1991</th>\n",
              "      <th>1992</th>\n",
              "      <th>1993</th>\n",
              "      <th>1994</th>\n",
              "      <th>1995</th>\n",
              "      <th>1996</th>\n",
              "      <th>1997</th>\n",
              "      <th>1998</th>\n",
              "      <th>1999</th>\n",
              "      <th>2000</th>\n",
              "      <th>2001</th>\n",
              "      <th>2002</th>\n",
              "      <th>2003</th>\n",
              "      <th>2004</th>\n",
              "      <th>2005</th>\n",
              "      <th>2006</th>\n",
              "      <th>2007</th>\n",
              "      <th>2008</th>\n",
              "      <th>2009</th>\n",
              "      <th>2010</th>\n",
              "      <th>2011</th>\n",
              "      <th>2012</th>\n",
              "      <th>2013</th>\n",
              "      <th>2014</th>\n",
              "      <th>2015</th>\n",
              "      <th>2016</th>\n",
              "      <th>2017</th>\n",
              "      <th>2018</th>\n",
              "      <th>2019</th>\n",
              "      <th>2020</th>\n",
              "      <th>2021</th>\n",
              "    </tr>\n",
              "  </thead>\n",
              "  <tbody>\n",
              "    <tr>\n",
              "      <th>0</th>\n",
              "      <td>18200.000000</td>\n",
              "      <td>6995.000000</td>\n",
              "      <td>12450.000000</td>\n",
              "      <td>10995.000000</td>\n",
              "      <td>7299.00000</td>\n",
              "      <td>19523.000000</td>\n",
              "      <td>23698.000000</td>\n",
              "      <td>13499.000000</td>\n",
              "      <td>6795.00000</td>\n",
              "      <td>15499.000000</td>\n",
              "      <td>9995.000000</td>\n",
              "      <td>13885.000000</td>\n",
              "      <td>6995.000000</td>\n",
              "      <td>6900.000000</td>\n",
              "      <td>15795.000000</td>\n",
              "      <td>8250.000000</td>\n",
              "      <td>8495.000000</td>\n",
              "      <td>7991.000000</td>\n",
              "      <td>9499.000000</td>\n",
              "      <td>18000.000000</td>\n",
              "      <td>10000.000000</td>\n",
              "      <td>6350.000000</td>\n",
              "      <td>8799.000000</td>\n",
              "      <td>5999.000000</td>\n",
              "      <td>8588.000000</td>\n",
              "      <td>7791.00000</td>\n",
              "      <td>7498.000000</td>\n",
              "      <td>8750.000000</td>\n",
              "      <td>6399.000000</td>\n",
              "      <td>9850.000000</td>\n",
              "      <td>17499.000000</td>\n",
              "      <td>19398.00000</td>\n",
              "      <td>20995.000000</td>\n",
              "      <td>6890.000000</td>\n",
              "      <td>9985.000000</td>\n",
              "      <td>16985.000000</td>\n",
              "      <td>24995.000000</td>\n",
              "      <td>11990.000000</td>\n",
              "      <td>15895.000000</td>\n",
              "      <td>16795.000000</td>\n",
              "      <td>...</td>\n",
              "      <td>9995.000000</td>\n",
              "      <td>6000.000000</td>\n",
              "      <td>2495.000000</td>\n",
              "      <td>5995.000000</td>\n",
              "      <td>28590.000000</td>\n",
              "      <td>21298.000000</td>\n",
              "      <td>6750.000000</td>\n",
              "      <td>12998.000000</td>\n",
              "      <td>15800.000000</td>\n",
              "      <td>5698.000000</td>\n",
              "      <td>10998.000000</td>\n",
              "      <td>22200.000000</td>\n",
              "      <td>11999.000000</td>\n",
              "      <td>19400.000000</td>\n",
              "      <td>12000.000000</td>\n",
              "      <td>18450.000000</td>\n",
              "      <td>9291.000000</td>\n",
              "      <td>13491.000000</td>\n",
              "      <td>9391.000000</td>\n",
              "      <td>14295.000000</td>\n",
              "      <td>15495.000000</td>\n",
              "      <td>13495.000000</td>\n",
              "      <td>8498.000000</td>\n",
              "      <td>7845.000000</td>\n",
              "      <td>27249.000000</td>\n",
              "      <td>14995.000000</td>\n",
              "      <td>13995.000000</td>\n",
              "      <td>24990.000000</td>\n",
              "      <td>6990.000000</td>\n",
              "      <td>22700.00000</td>\n",
              "      <td>23990.000000</td>\n",
              "      <td>27545.000000</td>\n",
              "      <td>8295.000000</td>\n",
              "      <td>11732.000000</td>\n",
              "      <td>8901.000000</td>\n",
              "      <td>12195.000000</td>\n",
              "      <td>10295.000000</td>\n",
              "      <td>19999.000000</td>\n",
              "      <td>11995.000000</td>\n",
              "      <td>8260.000000</td>\n",
              "    </tr>\n",
              "    <tr>\n",
              "      <th>1</th>\n",
              "      <td>19509.070004</td>\n",
              "      <td>8269.990051</td>\n",
              "      <td>14986.145224</td>\n",
              "      <td>13062.937223</td>\n",
              "      <td>4292.68552</td>\n",
              "      <td>16993.962482</td>\n",
              "      <td>22120.184852</td>\n",
              "      <td>14828.624491</td>\n",
              "      <td>5816.98121</td>\n",
              "      <td>10460.601239</td>\n",
              "      <td>10286.468503</td>\n",
              "      <td>15019.510319</td>\n",
              "      <td>8505.752883</td>\n",
              "      <td>3572.587306</td>\n",
              "      <td>15945.015353</td>\n",
              "      <td>15340.104659</td>\n",
              "      <td>8617.601082</td>\n",
              "      <td>5711.816522</td>\n",
              "      <td>12997.410843</td>\n",
              "      <td>17506.269498</td>\n",
              "      <td>12892.200992</td>\n",
              "      <td>7902.711632</td>\n",
              "      <td>10472.662507</td>\n",
              "      <td>6257.310111</td>\n",
              "      <td>9260.081397</td>\n",
              "      <td>8127.72435</td>\n",
              "      <td>7357.046097</td>\n",
              "      <td>13418.613108</td>\n",
              "      <td>7706.760765</td>\n",
              "      <td>9975.779952</td>\n",
              "      <td>16241.366082</td>\n",
              "      <td>23933.00753</td>\n",
              "      <td>15669.592018</td>\n",
              "      <td>6625.809845</td>\n",
              "      <td>11379.974366</td>\n",
              "      <td>8475.299058</td>\n",
              "      <td>18647.811886</td>\n",
              "      <td>14828.798097</td>\n",
              "      <td>15971.930261</td>\n",
              "      <td>9780.579505</td>\n",
              "      <td>...</td>\n",
              "      <td>9907.683763</td>\n",
              "      <td>5570.334754</td>\n",
              "      <td>-4063.257665</td>\n",
              "      <td>6859.014687</td>\n",
              "      <td>23750.531931</td>\n",
              "      <td>26940.526256</td>\n",
              "      <td>9114.071968</td>\n",
              "      <td>14603.631687</td>\n",
              "      <td>15766.945861</td>\n",
              "      <td>2420.408009</td>\n",
              "      <td>14674.484838</td>\n",
              "      <td>18943.275649</td>\n",
              "      <td>9111.515081</td>\n",
              "      <td>25328.426193</td>\n",
              "      <td>16235.786362</td>\n",
              "      <td>18540.507947</td>\n",
              "      <td>8926.019459</td>\n",
              "      <td>15429.579371</td>\n",
              "      <td>10280.144235</td>\n",
              "      <td>17152.611155</td>\n",
              "      <td>13812.552977</td>\n",
              "      <td>13809.976098</td>\n",
              "      <td>10584.647875</td>\n",
              "      <td>8880.593668</td>\n",
              "      <td>19960.959624</td>\n",
              "      <td>12586.574383</td>\n",
              "      <td>15071.155153</td>\n",
              "      <td>27009.921377</td>\n",
              "      <td>5367.958174</td>\n",
              "      <td>19400.46875</td>\n",
              "      <td>24990.324173</td>\n",
              "      <td>27022.569913</td>\n",
              "      <td>9367.562312</td>\n",
              "      <td>15294.269449</td>\n",
              "      <td>8823.062278</td>\n",
              "      <td>14440.640331</td>\n",
              "      <td>11598.688401</td>\n",
              "      <td>19743.484972</td>\n",
              "      <td>15677.213166</td>\n",
              "      <td>8846.888591</td>\n",
              "    </tr>\n",
              "  </tbody>\n",
              "</table>\n",
              "<p>2 rows × 2022 columns</p>\n",
              "</div>"
            ],
            "text/plain": [
              "           0            1     ...          2020         2021\n",
              "0  18200.000000  6995.000000  ...  11995.000000  8260.000000\n",
              "1  19509.070004  8269.990051  ...  15677.213166  8846.888591\n",
              "\n",
              "[2 rows x 2022 columns]"
            ]
          },
          "metadata": {
            "tags": []
          },
          "execution_count": 84
        }
      ]
    },
    {
      "cell_type": "markdown",
      "metadata": {
        "id": "9hRANBUoam9x"
      },
      "source": [
        "Точность можно повысить, нормализовав остальные признаки и добавив их в матрицу признаков.\n",
        "\n",
        "Линейная регрессия вполне может производиться и по одному признаку, тогда она становится одномерной. При количестве признаков больше 1 - регрессия многомерна."
      ]
    },
    {
      "cell_type": "markdown",
      "metadata": {
        "id": "Zv4T6Bo508JS"
      },
      "source": [
        "### Логистическая регрессия"
      ]
    },
    {
      "cell_type": "markdown",
      "metadata": {
        "id": "aIaPWEPh1w32"
      },
      "source": [
        "Статистическая модель, используемая для предсказания вероятности возникновения некоторого события путем подгонки данных к логистической кривой. Это метод построения линейного классияикатора, позволяющий оценивать апостериорные вероятности принадлежности объектов классам.\n",
        "\n",
        "В основе лежит идея о том, что пространство исходных значений может быть разделено линейной границей на две области, представляющие собой классы. По сути - бинарная классификация.\n",
        "\n",
        "Для логистической регрессии типично переобучение, т.е. ситуация, когда модель показывает хорошие результаты на обучающей выборке, но имеет плохие обобщающие свойства. Чем сложнее модель, тем более вероятно переобучение.\n",
        "\n",
        "Причины возникновения переобучения:\n",
        "*   мультиколинеарность: столбцы матрицы признаков $X$ образуют систему, близкую к линейно зависимой\n",
        "*   наличие неинформативных признаков\n",
        "*   слишком мало данных для корректного определения признаков\n",
        "\n",
        "Для уменьшения эффекта переобучения часто применяется логистическая регрессия с регцляризацией.\n",
        "\n"
      ]
    },
    {
      "cell_type": "markdown",
      "metadata": {
        "id": "aygOr0O7S5NQ"
      },
      "source": [
        "Принципиально подход к построению и оценке модели не отличается от предыдущего. [Ссылка](https://scikit-learn.org/stable/modules/generated/sklearn.linear_model.LogisticRegression.html) на пример в документации `sklearn`. "
      ]
    },
    {
      "cell_type": "markdown",
      "metadata": {
        "id": "umqDyCLPlybP"
      },
      "source": [
        "### Метод ближайших соседей (kNN)"
      ]
    },
    {
      "cell_type": "markdown",
      "metadata": {
        "id": "2l_bqzThl7Ki"
      },
      "source": [
        "Алгоритм классификации, основанный на оценивании сходства объектов. Классифицируемый объект относится к тому классу, которому принадлежат ближайшие к нему объекты обучающей выборки. Если мера сходства объектов выведена удачно, то схожие объекты будут чаще оказываться в одном классе, чем в разных.\n",
        "\n",
        "> **Как происходит**: в обучающей выборке находятся $k$ ближайших к интересующему объектов, затем объекту $x$ сопоставляется самый часто встречающийся среди $k$ соседей класс\n",
        "\n",
        "**Преимущества:** \n",
        "*   легко интерпретируемая логика\n",
        "*   не требуется серьезное обучение\n",
        "*   может быть применен к объектам любой сложности, если задана функция близости\n",
        "\n",
        "**Недостатки:**\n",
        "*   при $k = 1$ неустойчив к выбросам (проблема ршается увеличением количества соседей на тестовой выборке)\n",
        "*   медленный, тянет много памяти\n",
        "*   с ростом размерности пространства ухудшается точность (решается снижением размерности, например, методом главных компонент)\n",
        "\n",
        "В качестве расстояния обычно достаточно евклидова.\n",
        "\n",
        "Единицы измерения признаков (необходима нормализация!) и отбор самих признаков остается на совести пользователя алгоритма.\n",
        "\n"
      ]
    },
    {
      "cell_type": "markdown",
      "metadata": {
        "id": "NgS8QTSaOdom"
      },
      "source": [
        "Для демонстрации работы алгоритмов возьмем небольшой датасет про животных [отсюда](https://www.kaggle.com/uciml/zoo-animal-classification)."
      ]
    },
    {
      "cell_type": "code",
      "metadata": {
        "colab": {
          "base_uri": "https://localhost:8080/",
          "height": 163
        },
        "id": "TsJA--RMH-pq",
        "outputId": "b227ccfb-18df-4a99-da93-552728f31817"
      },
      "source": [
        "zoo = pd.read_csv('/content/drive/MyDrive/CompLing/zoo.csv')\n",
        "zoo.sample(3)"
      ],
      "execution_count": null,
      "outputs": [
        {
          "output_type": "execute_result",
          "data": {
            "text/html": [
              "<div>\n",
              "<style scoped>\n",
              "    .dataframe tbody tr th:only-of-type {\n",
              "        vertical-align: middle;\n",
              "    }\n",
              "\n",
              "    .dataframe tbody tr th {\n",
              "        vertical-align: top;\n",
              "    }\n",
              "\n",
              "    .dataframe thead th {\n",
              "        text-align: right;\n",
              "    }\n",
              "</style>\n",
              "<table border=\"1\" class=\"dataframe\">\n",
              "  <thead>\n",
              "    <tr style=\"text-align: right;\">\n",
              "      <th></th>\n",
              "      <th>animal_name</th>\n",
              "      <th>hair</th>\n",
              "      <th>feathers</th>\n",
              "      <th>eggs</th>\n",
              "      <th>milk</th>\n",
              "      <th>airborne</th>\n",
              "      <th>aquatic</th>\n",
              "      <th>predator</th>\n",
              "      <th>toothed</th>\n",
              "      <th>backbone</th>\n",
              "      <th>breathes</th>\n",
              "      <th>venomous</th>\n",
              "      <th>fins</th>\n",
              "      <th>legs</th>\n",
              "      <th>tail</th>\n",
              "      <th>domestic</th>\n",
              "      <th>catsize</th>\n",
              "      <th>class_type</th>\n",
              "    </tr>\n",
              "  </thead>\n",
              "  <tbody>\n",
              "    <tr>\n",
              "      <th>92</th>\n",
              "      <td>tuna</td>\n",
              "      <td>0</td>\n",
              "      <td>0</td>\n",
              "      <td>1</td>\n",
              "      <td>0</td>\n",
              "      <td>0</td>\n",
              "      <td>1</td>\n",
              "      <td>1</td>\n",
              "      <td>1</td>\n",
              "      <td>1</td>\n",
              "      <td>0</td>\n",
              "      <td>0</td>\n",
              "      <td>1</td>\n",
              "      <td>0</td>\n",
              "      <td>1</td>\n",
              "      <td>0</td>\n",
              "      <td>1</td>\n",
              "      <td>4</td>\n",
              "    </tr>\n",
              "    <tr>\n",
              "      <th>17</th>\n",
              "      <td>deer</td>\n",
              "      <td>1</td>\n",
              "      <td>0</td>\n",
              "      <td>0</td>\n",
              "      <td>1</td>\n",
              "      <td>0</td>\n",
              "      <td>0</td>\n",
              "      <td>0</td>\n",
              "      <td>1</td>\n",
              "      <td>1</td>\n",
              "      <td>1</td>\n",
              "      <td>0</td>\n",
              "      <td>0</td>\n",
              "      <td>4</td>\n",
              "      <td>1</td>\n",
              "      <td>0</td>\n",
              "      <td>1</td>\n",
              "      <td>1</td>\n",
              "    </tr>\n",
              "    <tr>\n",
              "      <th>58</th>\n",
              "      <td>penguin</td>\n",
              "      <td>0</td>\n",
              "      <td>1</td>\n",
              "      <td>1</td>\n",
              "      <td>0</td>\n",
              "      <td>0</td>\n",
              "      <td>1</td>\n",
              "      <td>1</td>\n",
              "      <td>0</td>\n",
              "      <td>1</td>\n",
              "      <td>1</td>\n",
              "      <td>0</td>\n",
              "      <td>0</td>\n",
              "      <td>2</td>\n",
              "      <td>1</td>\n",
              "      <td>0</td>\n",
              "      <td>1</td>\n",
              "      <td>2</td>\n",
              "    </tr>\n",
              "  </tbody>\n",
              "</table>\n",
              "</div>"
            ],
            "text/plain": [
              "   animal_name  hair  feathers  eggs  ...  tail  domestic  catsize  class_type\n",
              "92        tuna     0         0     1  ...     1         0        1           4\n",
              "17        deer     1         0     0  ...     1         0        1           1\n",
              "58     penguin     0         1     1  ...     1         0        1           2\n",
              "\n",
              "[3 rows x 18 columns]"
            ]
          },
          "metadata": {
            "tags": []
          },
          "execution_count": 5
        }
      ]
    },
    {
      "cell_type": "code",
      "metadata": {
        "colab": {
          "base_uri": "https://localhost:8080/"
        },
        "id": "BOd8l3HkN_oX",
        "outputId": "99ef5a97-20fd-4cee-d85d-9a1e8f904eeb"
      },
      "source": [
        "zoo.shape"
      ],
      "execution_count": null,
      "outputs": [
        {
          "output_type": "execute_result",
          "data": {
            "text/plain": [
              "(101, 18)"
            ]
          },
          "metadata": {
            "tags": []
          },
          "execution_count": 43
        }
      ]
    },
    {
      "cell_type": "markdown",
      "metadata": {
        "id": "idcW0K33ODTr"
      },
      "source": [
        "Сто строк - мало, но попробуем."
      ]
    },
    {
      "cell_type": "code",
      "metadata": {
        "id": "RzaBDjVcQtXg"
      },
      "source": [
        "from sklearn.neighbors import KNeighborsClassifier\n",
        "from sklearn.metrics import * \n",
        "from sklearn.metrics import plot_confusion_matrix"
      ],
      "execution_count": null,
      "outputs": []
    },
    {
      "cell_type": "code",
      "metadata": {
        "id": "luqnSaDjRAg8"
      },
      "source": [
        "X_train, X_test, y_train, y_test = train_test_split(zoo.to_numpy()[:,1:-1], zoo.class_type.to_numpy(), train_size = 0.7)"
      ],
      "execution_count": null,
      "outputs": []
    },
    {
      "cell_type": "code",
      "metadata": {
        "id": "QORAZEzkRF2l"
      },
      "source": [
        "kNN_1 = KNeighborsClassifier(n_neighbors=1)\n",
        "kNN_2 = KNeighborsClassifier(n_neighbors=2)\n",
        "kNN_3 = KNeighborsClassifier(n_neighbors=3)\n",
        "kNN_4 = KNeighborsClassifier(n_neighbors=4)"
      ],
      "execution_count": null,
      "outputs": []
    },
    {
      "cell_type": "code",
      "metadata": {
        "colab": {
          "base_uri": "https://localhost:8080/"
        },
        "id": "w7vauRIFRVrC",
        "outputId": "00f36367-04b3-474d-8fc2-1723a1250dd8"
      },
      "source": [
        "kNN_1.fit(X_train, y_train)\n",
        "print(classification_report(y_test, kNN_1.predict(X_test)))"
      ],
      "execution_count": null,
      "outputs": [
        {
          "output_type": "stream",
          "text": [
            "              precision    recall  f1-score   support\n",
            "\n",
            "           1       1.00      1.00      1.00        12\n",
            "           2       1.00      1.00      1.00         5\n",
            "           3       0.50      0.50      0.50         2\n",
            "           4       0.86      1.00      0.92         6\n",
            "           5       0.00      0.00      0.00         1\n",
            "           6       1.00      1.00      1.00         3\n",
            "           7       1.00      1.00      1.00         2\n",
            "\n",
            "    accuracy                           0.94        31\n",
            "   macro avg       0.77      0.79      0.77        31\n",
            "weighted avg       0.91      0.94      0.92        31\n",
            "\n"
          ],
          "name": "stdout"
        },
        {
          "output_type": "stream",
          "text": [
            "/usr/local/lib/python3.7/dist-packages/sklearn/metrics/_classification.py:1272: UndefinedMetricWarning: Precision and F-score are ill-defined and being set to 0.0 in labels with no predicted samples. Use `zero_division` parameter to control this behavior.\n",
            "  _warn_prf(average, modifier, msg_start, len(result))\n"
          ],
          "name": "stderr"
        }
      ]
    },
    {
      "cell_type": "markdown",
      "metadata": {
        "id": "Did7boqVR10W"
      },
      "source": [
        "Уже при $k = 1$ получается достаточно высокая точность классификации."
      ]
    },
    {
      "cell_type": "code",
      "metadata": {
        "colab": {
          "base_uri": "https://localhost:8080/"
        },
        "id": "5KPceAeAR8AJ",
        "outputId": "14f98afd-377b-402e-f6d6-44504fd5fc25"
      },
      "source": [
        "kNN_2.fit(X_train, y_train)\n",
        "print(classification_report(y_test, kNN_2.predict(X_test)))"
      ],
      "execution_count": null,
      "outputs": [
        {
          "output_type": "stream",
          "text": [
            "              precision    recall  f1-score   support\n",
            "\n",
            "           1       0.92      1.00      0.96        12\n",
            "           2       1.00      1.00      1.00         5\n",
            "           3       0.00      0.00      0.00         2\n",
            "           4       0.86      1.00      0.92         6\n",
            "           5       0.00      0.00      0.00         1\n",
            "           6       1.00      1.00      1.00         3\n",
            "           7       1.00      1.00      1.00         2\n",
            "\n",
            "    accuracy                           0.90        31\n",
            "   macro avg       0.68      0.71      0.70        31\n",
            "weighted avg       0.85      0.90      0.87        31\n",
            "\n"
          ],
          "name": "stdout"
        },
        {
          "output_type": "stream",
          "text": [
            "/usr/local/lib/python3.7/dist-packages/sklearn/metrics/_classification.py:1272: UndefinedMetricWarning: Precision and F-score are ill-defined and being set to 0.0 in labels with no predicted samples. Use `zero_division` parameter to control this behavior.\n",
            "  _warn_prf(average, modifier, msg_start, len(result))\n"
          ],
          "name": "stderr"
        }
      ]
    },
    {
      "cell_type": "markdown",
      "metadata": {
        "id": "NKibaw6NR_Lu"
      },
      "source": [
        "А при $k = 2$ значительно ниже."
      ]
    },
    {
      "cell_type": "code",
      "metadata": {
        "colab": {
          "base_uri": "https://localhost:8080/"
        },
        "id": "dvwSqtieSCxx",
        "outputId": "c12ea47e-e578-48be-8dad-799e2964c760"
      },
      "source": [
        "kNN_3.fit(X_train, y_train)\n",
        "print(classification_report(y_test, kNN_3.predict(X_test)))"
      ],
      "execution_count": null,
      "outputs": [
        {
          "output_type": "stream",
          "text": [
            "              precision    recall  f1-score   support\n",
            "\n",
            "           1       0.92      1.00      0.96        12\n",
            "           2       1.00      1.00      1.00         5\n",
            "           3       0.00      0.00      0.00         2\n",
            "           4       0.86      1.00      0.92         6\n",
            "           5       1.00      1.00      1.00         1\n",
            "           6       1.00      1.00      1.00         3\n",
            "           7       1.00      1.00      1.00         2\n",
            "\n",
            "    accuracy                           0.94        31\n",
            "   macro avg       0.83      0.86      0.84        31\n",
            "weighted avg       0.88      0.94      0.91        31\n",
            "\n"
          ],
          "name": "stdout"
        },
        {
          "output_type": "stream",
          "text": [
            "/usr/local/lib/python3.7/dist-packages/sklearn/metrics/_classification.py:1272: UndefinedMetricWarning: Precision and F-score are ill-defined and being set to 0.0 in labels with no predicted samples. Use `zero_division` parameter to control this behavior.\n",
            "  _warn_prf(average, modifier, msg_start, len(result))\n"
          ],
          "name": "stderr"
        }
      ]
    },
    {
      "cell_type": "code",
      "metadata": {
        "colab": {
          "base_uri": "https://localhost:8080/"
        },
        "id": "2lEcFkPXSFUT",
        "outputId": "f2319fe2-e1df-4011-f384-19f76f48259e"
      },
      "source": [
        "kNN_4.fit(X_train, y_train)\n",
        "print(classification_report(y_test, kNN_4.predict(X_test)))"
      ],
      "execution_count": null,
      "outputs": [
        {
          "output_type": "stream",
          "text": [
            "              precision    recall  f1-score   support\n",
            "\n",
            "           1       0.92      1.00      0.96        12\n",
            "           2       1.00      1.00      1.00         5\n",
            "           3       0.00      0.00      0.00         2\n",
            "           4       0.86      1.00      0.92         6\n",
            "           5       1.00      1.00      1.00         1\n",
            "           6       1.00      1.00      1.00         3\n",
            "           7       1.00      1.00      1.00         2\n",
            "\n",
            "    accuracy                           0.94        31\n",
            "   macro avg       0.83      0.86      0.84        31\n",
            "weighted avg       0.88      0.94      0.91        31\n",
            "\n"
          ],
          "name": "stdout"
        },
        {
          "output_type": "stream",
          "text": [
            "/usr/local/lib/python3.7/dist-packages/sklearn/metrics/_classification.py:1272: UndefinedMetricWarning: Precision and F-score are ill-defined and being set to 0.0 in labels with no predicted samples. Use `zero_division` parameter to control this behavior.\n",
            "  _warn_prf(average, modifier, msg_start, len(result))\n"
          ],
          "name": "stderr"
        }
      ]
    },
    {
      "cell_type": "markdown",
      "metadata": {
        "id": "-QmFAszISOrB"
      },
      "source": [
        "С увеличением $k$ точность понижается.\n",
        "\n",
        "Для визуализации оценки модели хорошо строить матрицу неточностей (confusion matrix)."
      ]
    },
    {
      "cell_type": "code",
      "metadata": {
        "colab": {
          "base_uri": "https://localhost:8080/",
          "height": 283
        },
        "id": "pUHvWU3hSeaf",
        "outputId": "083ab1a8-7c97-4eaf-de80-9049268ebae9"
      },
      "source": [
        "plot_confusion_matrix(kNN_1, X_test, y_test);"
      ],
      "execution_count": null,
      "outputs": [
        {
          "output_type": "display_data",
          "data": {
            "image/png": "[encoded data removed]",
            "text/plain": [
              "<Figure size 432x288 with 2 Axes>"
            ]
          },
          "metadata": {
            "tags": [],
            "needs_background": "light"
          }
        }
      ]
    },
    {
      "cell_type": "markdown",
      "metadata": {
        "id": "DHQQ_dsTSqzQ"
      },
      "source": [
        "На большем количестве строк и не готовом к классификации датасете так хорошо сразу получаться не будет."
      ]
    },
    {
      "cell_type": "markdown",
      "metadata": {
        "id": "itgVSHOsVMu0"
      },
      "source": [
        "**Пример:** телеграм-бот, определяющий вид дерева по фото листа. Классификатор построен на kNN с $k = 3$. [Ссылка на гитхаб](https://github.com/vienmoir/Botanicum)."
      ]
    },
    {
      "cell_type": "markdown",
      "metadata": {
        "id": "YGTD1vO8uZ6W"
      },
      "source": [
        "### Наивный байесовский классификатор"
      ]
    },
    {
      "cell_type": "markdown",
      "metadata": {
        "id": "H2YKSKqyueea"
      },
      "source": [
        "Вероятностная модель классификации, учитыващая априорные (известные до эксперимента) и апостериорные (формирующиеся после эксперимента) вероятности событий. Наивный байесовский классификатор основывается на формуле Байеса:\n",
        "\n",
        "$p(x|y) = \\frac{p(y|x)p(y)}{p(x)}$\n",
        "\n",
        "*   $p(y|x)$ - вероятность класса $y$ для объекта $x$\n",
        "*   $p(y)$ - априорная вероятность класса $y$\n",
        "*   $p(x|y)$ - вероятность того, что объект $x$ принадлежит классу $y$\n",
        "*   $p(x)$ - вероятность объекта $x$ в множестве $X$\n",
        "\n",
        "Байес наивный, т.к. считает все признаки независимыми. Часто и успешно используется для классификации текстовых данных.\n",
        "\n",
        "\n",
        "> **Классический пример:** спам-фильтр на основе наивного байесовского классификатора\n",
        "\n"
      ]
    },
    {
      "cell_type": "markdown",
      "metadata": {
        "id": "TNu_VOC8Nt-2"
      },
      "source": [
        "Посмотрим, как отработает наивный байесовский классификатор на нетекстовых данных. Продолжаем пример с животными."
      ]
    },
    {
      "cell_type": "code",
      "metadata": {
        "id": "VNfEp-PTKREG"
      },
      "source": [
        "from sklearn.naive_bayes import MultinomialNB"
      ],
      "execution_count": null,
      "outputs": []
    },
    {
      "cell_type": "code",
      "metadata": {
        "id": "pQtEDQdpc_0S"
      },
      "source": [
        "X_train, X_test, y_train, y_test = train_test_split(zoo.to_numpy()[:,1:-1], zoo.class_type.to_numpy(), train_size = 0.7)"
      ],
      "execution_count": null,
      "outputs": []
    },
    {
      "cell_type": "code",
      "metadata": {
        "colab": {
          "base_uri": "https://localhost:8080/"
        },
        "id": "UwZ-w79zJITo",
        "outputId": "aafa868f-7303-45fe-aa36-eb978a339cdf"
      },
      "source": [
        "clf = MultinomialNB()\n",
        "clf.fit(X_train, y_train)"
      ],
      "execution_count": null,
      "outputs": [
        {
          "output_type": "execute_result",
          "data": {
            "text/plain": [
              "MultinomialNB(alpha=1.0, class_prior=None, fit_prior=True)"
            ]
          },
          "metadata": {
            "tags": []
          },
          "execution_count": 66
        }
      ]
    },
    {
      "cell_type": "code",
      "metadata": {
        "colab": {
          "base_uri": "https://localhost:8080/"
        },
        "id": "xfbpu2SkMmA9",
        "outputId": "83b771ae-b666-4f16-d8fe-26d1e6008c3f"
      },
      "source": [
        "pred = clf.predict(X_test)\n",
        "print(classification_report(y_test, pred))"
      ],
      "execution_count": null,
      "outputs": [
        {
          "output_type": "stream",
          "text": [
            "              precision    recall  f1-score   support\n",
            "\n",
            "           1       1.00      0.92      0.96        12\n",
            "           2       0.83      1.00      0.91         5\n",
            "           3       0.00      0.00      0.00         2\n",
            "           4       0.75      1.00      0.86         6\n",
            "           5       1.00      1.00      1.00         1\n",
            "           6       1.00      1.00      1.00         3\n",
            "           7       1.00      1.00      1.00         2\n",
            "\n",
            "    accuracy                           0.90        31\n",
            "   macro avg       0.80      0.85      0.82        31\n",
            "weighted avg       0.86      0.90      0.88        31\n",
            "\n"
          ],
          "name": "stdout"
        },
        {
          "output_type": "stream",
          "text": [
            "/usr/local/lib/python3.7/dist-packages/sklearn/metrics/_classification.py:1272: UndefinedMetricWarning: Precision and F-score are ill-defined and being set to 0.0 in labels with no predicted samples. Use `zero_division` parameter to control this behavior.\n",
            "  _warn_prf(average, modifier, msg_start, len(result))\n"
          ],
          "name": "stderr"
        }
      ]
    },
    {
      "cell_type": "markdown",
      "metadata": {
        "id": "usXkevTkNOhi"
      },
      "source": [
        "Для датасета в 100 строк 90% точности - весьма неплохой результат. Можно улучшить, варьируя размер обучающей выборки, коэффициент сглаживания ($\\alpha$) и матрицу признаков."
      ]
    },
    {
      "cell_type": "code",
      "metadata": {
        "colab": {
          "base_uri": "https://localhost:8080/",
          "height": 279
        },
        "id": "pDmBUe8UNALE",
        "outputId": "01553099-ba26-4089-cc42-1eb759566ca6"
      },
      "source": [
        "plot_confusion_matrix(clf, X_test, y_test);"
      ],
      "execution_count": null,
      "outputs": [
        {
          "output_type": "display_data",
          "data": {
            "image/png": "[encoded data removed]",
            "text/plain": [
              "<Figure size 432x288 with 2 Axes>"
            ]
          },
          "metadata": {
            "tags": [],
            "needs_background": "light"
          }
        }
      ]
    },
    {
      "cell_type": "markdown",
      "metadata": {
        "id": "rz7pEX7z3oVa"
      },
      "source": [
        "### Оценка модели классификации"
      ]
    },
    {
      "cell_type": "markdown",
      "metadata": {
        "id": "tXvmwQfA3w1s"
      },
      "source": [
        "В результате классификации возможны 4 ситуации:\n",
        "1.   True Positives: верно классифицированы положительные примеры (истинно положительные случаи)\n",
        "2.   True Negatives: верно классифицированы отрицательные примеры (истинно отрицательные случаи)\n",
        "3.   False Negatives: положительные примеры, классифицированные как отрицательные (интересующее нас событие ошибочно не обнаруживается, ложно отрицательные случаи, ошибка 1 рода)\n",
        "4.   False Positives: отрицательные примеры, классифицированные как положительные (при отсутствии примера выносится решение о его присутствии, ложно положительные случаи, ошибка 2 рода)\n",
        "\n",
        "Стандартными метриками для оценки качества классификации являются точность (`precision`, доля true positives), полнота (`recall`, доля true positive относительно всех объектов выборки) и их среднее гармоническое F1-мера:\n",
        "\n",
        "$$F_1 = \\frac{2}{\\mathrm{recall}^{-1} + \\mathrm{precision}^{-1}} = 2 \\cdot \\frac{\\mathrm{precision} \\cdot \\mathrm{recall}}{\\mathrm{precision} + \\mathrm{recall}} = \\frac{\\mathrm{tp}}{\\mathrm{tp} + \\frac12 (\\mathrm{fp} + \\mathrm{fn}) } $$\n",
        "\n",
        "Также рассматривают метрику `accuracy` - процент объектов, по которым классификатор принял правильное решение.\n",
        "\n",
        "Легко построить алгоритм со 100%-й полнотой: он все объекты относит к классу 1, но при этом точность может быть очень низкой. Нетрудно построить алгоритм с близкой к 100% точностью: он относит к классу 1 только те объекты, в которых уверен, при этом полнота может быть низкая.\n",
        "\n",
        "Для сравнения классификаторов применяется ROC-кривая.\n"
      ]
    },
    {
      "cell_type": "markdown",
      "metadata": {
        "id": "RPKOhWsZ7CR1"
      },
      "source": [
        "## Обучение без учителя"
      ]
    },
    {
      "cell_type": "markdown",
      "metadata": {
        "id": "vnRqF59Z7FZk"
      },
      "source": [
        "От задачи обучения по прецедентам отличается тем, что для объектов обучающей выборки не известны значения $y^{(i)}$, а часто и само множество $Y$.\n",
        "\n",
        "Формально к задачам обучения без учителя относят четыре задачи:\n",
        "*   кластеризация\n",
        "*   визуализация\n",
        "*   детектирование аномалий\n",
        "*   снижение размерности\n",
        "\n",
        "По сути все эти задачи решаются кластеризацией, заключающейся в следующем: есть множество объектов $X = \\{x^{(1)}, x^{(2)}, ..., x^{(N)}\\}$ (обучащая выборка), между объектами множества $X$ задана некоторая функция расстояния $p$. Алгоритм кластеризации присваивает каждому объекту метку кластера на основе расстояния между объектами."
      ]
    },
    {
      "cell_type": "markdown",
      "metadata": {
        "id": "EBWKmL30YZ9F"
      },
      "source": [
        "Применение кластерного анализа в общем виде сводится к следующим этапам:\n",
        "* Отбор выборки объектов для кластеризации.\n",
        "* Определение множества переменных, по которым будут оцениваться объекты в выборке. При необходимости – нормализация значений переменных.\n",
        "* Вычисление значений меры сходства между объектами.\n",
        "* Применение метода кластерного анализа для создания групп сходных объектов (кластеров).\n",
        "* Представление результатов анализа.\n",
        "* Оценка результатов кластерного анализа. И возможная корректировка выбранной метрики и метода кластеризации до получения лучшего результата."
      ]
    },
    {
      "cell_type": "markdown",
      "metadata": {
        "id": "nNbfdMqLZP12"
      },
      "source": [
        "[Цели кластеризации\n",
        "](http://www.machinelearning.ru/wiki/index.php?title=%D0%9A%D0%BB%D0%B0%D1%81%D1%82%D0%B5%D1%80%D0%B8%D0%B7%D0%B0%D1%86%D0%B8%D1%8F)\n",
        "\n",
        "* Понимание данных путём выявления кластерной структуры. Разбиение выборки на группы схожих объектов позволяет упростить дальнейшую обработку данных и принятия решений, применяя к каждому кластеру свой метод анализа (стратегия «разделяй и властвуй»).\n",
        "* Сжатие данных. Если исходная выборка избыточно большая, то можно сократить её, оставив по одному наиболее типичному представителю от каждого кластера.\n",
        "* Обнаружение новизны (novelty detection). Выделяются нетипичные объекты, которые не удаётся присоединить ни к одному из кластеров.\n"
      ]
    },
    {
      "cell_type": "markdown",
      "metadata": {
        "id": "fXunAJuKHniC"
      },
      "source": [
        "**Меры расстояний** (меры сходства)\n",
        "\n",
        "Для каждой пары объектов измеряется «расстояние» между ними — степень похожести. Существует множество метрик, вот лишь основные из них:\n",
        "* евклидово расстояние (и его квадрат)\n",
        "* расстояние Минковского\n",
        "* манхэттенское расстояние\n",
        "* расстояние Чебышёва\n",
        "\n",
        "Для алгоритмов иерархической кластеризации требуется считать расстояние между кластерами для этого вводятся дополнительные методы (о них ниже)."
      ]
    },
    {
      "cell_type": "markdown",
      "metadata": {
        "id": "aWsIltccfYKE"
      },
      "source": [
        "**Методы кластеризации**\n",
        "* Иерархическая кластеризация. Упорядочивание данных путем создания иерархии вложенных кластеров. [Пример применения на sklearn](https://scikit-learn.org/stable/modules/generated/sklearn.cluster.AgglomerativeClustering.html#sklearn.cluster.AgglomerativeClustering)\n",
        "* K-средних\n",
        "* DBSCAN\n",
        "* Вероятностные алгоритмы кластеризации. Каждый объект из обучающей выборки относится к каждому из кластеров с определенной степенью вероятности (например, EM-алгоритм)\n",
        "\n",
        "[Применение разных методов кластеризации с одинаковым наборам данных.](https://scikit-learn.org/stable/auto_examples/cluster/plot_cluster_comparison.html)"
      ]
    },
    {
      "cell_type": "markdown",
      "metadata": {
        "id": "5Ga39o_Wvk43"
      },
      "source": [
        "Пример иерархической кластеризации для [определения авторства](https://github.com/dhhse/dhcourse/blob/master/stylometry/stylometry_minor.md)."
      ]
    },
    {
      "cell_type": "markdown",
      "metadata": {
        "id": "Ty2FQ94xvg9y"
      },
      "source": [
        "![image.png](data:image/png;base64,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)"
      ]
    },
    {
      "cell_type": "markdown",
      "metadata": {
        "id": "l8tHTEeXP8_4"
      },
      "source": [
        "Есть два вида метрик оценки качества кластеризации:\n",
        "1. внешние - используют дополнительные знания о кластерах (распределение по кластерам, количество кластеров)\n",
        "2. внутренние - оценивают качество полученной структуры, не используя внешнюю информацию\n",
        "\n",
        "Обычно данных о метках нет, поэтому имеет смысл в большей степени ориентироваться на внутренние метрики. В `sklearn` есть [следующие](https://scikit-learn.org/stable/modules/classes.html#clustering-metrics):\n",
        "\n",
        "\n",
        "*   силуэт: показывает, насколько объект похож на свой кластер относительно других кластеров; если значение стремится к `1` - хорошее разбиение, если к `-1` - плохое, если в районе `0` - кластеры пересекаются\n",
        "*   индекс Дэвиcа-Болдуина: оценивает расстояние от объекта кластера до центроида и расстояние между центроидами; чем ниже, тем лучше разбиение\n",
        "\n"
      ]
    },
    {
      "cell_type": "markdown",
      "metadata": {
        "id": "IHM3ce_uBdOt"
      },
      "source": [
        "### K-means"
      ]
    },
    {
      "cell_type": "markdown",
      "metadata": {
        "id": "xG0NTRpVHugK"
      },
      "source": [
        "Итеративный алгоритм, основанный на минимизации суммарного квадратичного отклонения точек кластеров от центров этих кластеров. Суть в следуюшем: на вход поступает количество кластеров (`k`) и вектор признаков. Далее все объекты делятся на `k` групп, в которых выделяются начальные центры кластеров. Затем центр итеративно оптимизируется в зависимости от расстояния между объектами кластера и центром. Чем ближе объекты друг к другу, тем выше вероятность, что они относятся к одному кластеру. Алгоритм завершается, когда на некоторой итерации перестает изменяться внутрикластерное расстояние."
      ]
    },
    {
      "cell_type": "code",
      "metadata": {
        "colab": {
          "base_uri": "https://localhost:8080/",
          "height": 287
        },
        "id": "2x8yg7nFBua-",
        "outputId": "903d1b16-7de3-410d-e949-f49973cc832d"
      },
      "source": [
        "from IPython.display import Image\n",
        "Image(url='https://sandipanweb.files.wordpress.com/2017/03/kmeans2.gif?w=354')"
      ],
      "execution_count": null,
      "outputs": [
        {
          "output_type": "execute_result",
          "data": {
            "text/html": [
              "<img src=\"https://sandipanweb.files.wordpress.com/2017/03/kmeans2.gif?w=354\"/>"
            ],
            "text/plain": [
              "<IPython.core.display.Image object>"
            ]
          },
          "metadata": {
            "tags": []
          },
          "execution_count": 2
        }
      ]
    },
    {
      "cell_type": "markdown",
      "metadata": {
        "id": "tPc3frCEFi4i"
      },
      "source": [
        "По [ссылке](https://colab.research.google.com/drive/11haMKv3WWuPCUrHXoSd-Miv9n9QaPM_t?usp=sharing) примеры работы K-means и LDA на текстовых данных."
      ]
    },
    {
      "cell_type": "markdown",
      "metadata": {
        "id": "loPZijELENdK"
      },
      "source": [
        "### DBSCAN"
      ]
    },
    {
      "cell_type": "markdown",
      "metadata": {
        "id": "M3komB9oEPXf"
      },
      "source": [
        "Основанная на плотности пространственная кластеризация для приложений с шумами (англ. ''Density-based spatial clustering of applications with noise'', ''DBSCAN''). Алгоритм группирует в один кластер точки в области с высокой плотностью. Одиноко расположенные точки помечает как шум."
      ]
    },
    {
      "cell_type": "code",
      "metadata": {
        "colab": {
          "base_uri": "https://localhost:8080/",
          "height": 431
        },
        "id": "gEZqjjE2ffgI",
        "outputId": "0dde47df-f6ec-4f35-8d9c-5f89f58884b1"
      },
      "source": [
        "Image(url='https://media.giphy.com/media/W2d4WAjY8v2UgvunHG/giphy.gif')"
      ],
      "execution_count": null,
      "outputs": [
        {
          "output_type": "execute_result",
          "data": {
            "text/html": [
              "<img src=\"https://media.giphy.com/media/W2d4WAjY8v2UgvunHG/giphy.gif\"/>"
            ],
            "text/plain": [
              "<IPython.core.display.Image object>"
            ]
          },
          "metadata": {
            "tags": []
          },
          "execution_count": 3
        }
      ]
    },
    {
      "cell_type": "markdown",
      "metadata": {
        "id": "upNAvnOocxgm"
      },
      "source": [
        "Вернемся к датасету с классификацией животных."
      ]
    },
    {
      "cell_type": "code",
      "metadata": {
        "id": "dKrxQI74cxC6"
      },
      "source": [
        "from sklearn.cluster import DBSCAN"
      ],
      "execution_count": null,
      "outputs": []
    },
    {
      "cell_type": "code",
      "metadata": {
        "colab": {
          "base_uri": "https://localhost:8080/"
        },
        "id": "b_zzXIRrdBic",
        "outputId": "86410e20-2be3-4849-808f-80d680acce83"
      },
      "source": [
        "X = zoo.to_numpy()[:,1:-1]\n",
        "dbscan = DBSCAN(eps=0.97, min_samples=4)\n",
        "dbscan.fit(X)"
      ],
      "execution_count": null,
      "outputs": [
        {
          "output_type": "execute_result",
          "data": {
            "text/plain": [
              "DBSCAN(algorithm='auto', eps=0.97, leaf_size=30, metric='euclidean',\n",
              "       metric_params=None, min_samples=4, n_jobs=None, p=None)"
            ]
          },
          "metadata": {
            "tags": []
          },
          "execution_count": 143
        }
      ]
    },
    {
      "cell_type": "code",
      "metadata": {
        "id": "ui4Ec4HIdcj6"
      },
      "source": [
        "vec = dbscan.fit_predict(X)"
      ],
      "execution_count": null,
      "outputs": []
    },
    {
      "cell_type": "code",
      "metadata": {
        "colab": {
          "base_uri": "https://localhost:8080/"
        },
        "id": "peK8ZdQ0d4sP",
        "outputId": "dcfd3b14-05b3-449d-c6ed-c51c519fb320"
      },
      "source": [
        "[(i, list(vec).count(i)) for i in set(vec)]"
      ],
      "execution_count": null,
      "outputs": [
        {
          "output_type": "execute_result",
          "data": {
            "text/plain": [
              "[(0, 6), (1, 5), (2, 10), (3, 4), (4, 4), (-1, 72)]"
            ]
          },
          "metadata": {
            "tags": []
          },
          "execution_count": 145
        }
      ]
    },
    {
      "cell_type": "code",
      "metadata": {
        "id": "NR_poEpCd-t1"
      },
      "source": [
        "zoo[\"dbscan\"] = list(vec)"
      ],
      "execution_count": null,
      "outputs": []
    },
    {
      "cell_type": "code",
      "metadata": {
        "colab": {
          "base_uri": "https://localhost:8080/"
        },
        "id": "uOAlyufdegMq",
        "outputId": "a5424dcc-6673-4d63-9ff5-2aaa72c48c61"
      },
      "source": [
        "for i in zoo.index.values:\n",
        "  if zoo.dbscan[i] != -1:\n",
        "    print(zoo.dbscan[i], zoo.class_type[i])"
      ],
      "execution_count": null,
      "outputs": [
        {
          "output_type": "stream",
          "text": [
            "0 1\n",
            "1 4\n",
            "2 1\n",
            "0 1\n",
            "3 1\n",
            "1 4\n",
            "2 1\n",
            "1 4\n",
            "0 1\n",
            "0 1\n",
            "0 1\n",
            "3 1\n",
            "1 4\n",
            "4 2\n",
            "2 1\n",
            "2 1\n",
            "2 1\n",
            "2 1\n",
            "0 1\n",
            "4 2\n",
            "1 4\n",
            "2 1\n",
            "3 1\n",
            "2 1\n",
            "2 1\n",
            "3 1\n",
            "4 2\n",
            "2 1\n",
            "4 2\n"
          ],
          "name": "stdout"
        }
      ]
    },
    {
      "cell_type": "markdown",
      "metadata": {
        "id": "KXekha_kfMlG"
      },
      "source": [
        "Отчасти логика в результате есть, но слишком много значений попало в \"выбросы\"."
      ]
    },
    {
      "cell_type": "markdown",
      "metadata": {
        "id": "UGmZ6W7Ifvga"
      },
      "source": [
        "# Интересные ресурсы для визуализации без программирования"
      ]
    },
    {
      "cell_type": "markdown",
      "metadata": {
        "id": "dZ6y5KYKf0eo"
      },
      "source": [
        "1. [Tableau](https://www.tableau.com/) - делает красивые (очень) визуализации. Может даже сам подобрать подходящую вашим данным визуализацию.\n",
        "2. [Flourish](https://flourish.studio/) - онлайн-ресурс для создания визуализаций и дата-сторителлинга. Интуитивно понятен в работе. Не дружит с кириллицей при загрузке данных."
      ]
    },
    {
      "cell_type": "markdown",
      "metadata": {
        "id": "jlrqJMajgkBO"
      },
      "source": [
        "> **Дата-сторителлинг** - дословно составление историй на основе данных.\n",
        "\n",
        "Составляется после анализа данных. Может быть представлен как одной, так и несколькими объектами визуализации. Главное - чтобы графики были максимально информативны и интуитивно понятны. Иногда несколько визуализаций размещаются на одном слайде, как постерная презентация.\n",
        "\n",
        "Суть дата-сторителлинга - показать информацию, скрытую за цифрами таблиц, обощить знания о данных и наглядно их представить. Иногда для корректной интрепретации требуется изучить гипотезы о данных в дополнительных источниках.\n",
        "\n",
        "Трогательно про дата-сторителлинг - [по ссылочке](https://bakunin.com/data-storytelling/).\n",
        "\n"
      ]
    },
    {
      "cell_type": "code",
      "metadata": {
        "id": "ivR1AYeAe0nQ"
      },
      "source": [
        ""
      ],
      "execution_count": null,
      "outputs": []
    }
  ]
}