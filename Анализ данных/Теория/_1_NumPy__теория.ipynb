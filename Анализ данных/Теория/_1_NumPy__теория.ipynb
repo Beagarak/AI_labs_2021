{
  "nbformat": 4,
  "nbformat_minor": 0,
  "metadata": {
    "colab": {
      "name": "\"1. NumPy\" - теория",
      "provenance": [],
      "collapsed_sections": [
        "MFKSC2UUA7Ne",
        "Mth2u7nzAiqw",
        "mrm41pzufmNy",
        "ylh_09YIfmOg"
      ],
      "toc_visible": true
    },
    "kernelspec": {
      "display_name": "Python 3",
      "language": "python",
      "name": "python3"
    },
    "language_info": {
      "codemirror_mode": {
        "name": "ipython",
        "version": 3
      },
      "file_extension": ".py",
      "mimetype": "text/x-python",
      "name": "python",
      "nbconvert_exporter": "python",
      "pygments_lexer": "ipython3",
      "version": "3.7.4"
    }
  },
  "cells": [
    {
      "cell_type": "markdown",
      "metadata": {
        "id": "BsNwjQDRfmLY"
      },
      "source": [
        "## Библиотека Numpy"
      ]
    },
    {
      "cell_type": "markdown",
      "metadata": {
        "id": "wu6r1-s7fmLe"
      },
      "source": [
        "---"
      ]
    },
    {
      "cell_type": "markdown",
      "metadata": {
        "id": "BA9Po-oLfmLh"
      },
      "source": [
        "Пакет `numpy` предоставляет интерфейс для работы с $n$-мерными массивами. В `numpy` реализовано множество всевозможных операций над массивами в целом. Если задачу можно решить, произведя некоторую последовательность операций над массивами, то с помощью numpy в python это будет столь же эффективно, как в `C` или `matlab`."
      ]
    },
    {
      "cell_type": "markdown",
      "metadata": {
        "id": "0_vHg4rzfmLi"
      },
      "source": [
        "## Одномерные массивы"
      ]
    },
    {
      "cell_type": "markdown",
      "metadata": {
        "id": "MFKSC2UUA7Ne"
      },
      "source": [
        "### Создание массива "
      ]
    },
    {
      "cell_type": "code",
      "metadata": {
        "id": "6DzqLBjjfmLk"
      },
      "source": [
        "# принято, что numpy импортируют именно так\n",
        "import numpy as np"
      ],
      "execution_count": null,
      "outputs": []
    },
    {
      "cell_type": "markdown",
      "metadata": {
        "id": "NTtvvXC6fmLq"
      },
      "source": [
        "Как же завести массив в numpy?\n",
        "\n",
        "Очень просто! Надо всего лишь перевести обычный python list в np.array:"
      ]
    },
    {
      "cell_type": "code",
      "metadata": {
        "id": "u6O_T130fmLs",
        "colab": {
          "base_uri": "https://localhost:8080/"
        },
        "outputId": "05062d9d-54ec-49a4-f3c0-278983f4782b"
      },
      "source": [
        "# 'перевести' python list в np.array -- это обернуть массив в np.array()\n",
        "a = np.array([3, 4, 1])\n",
        "print(a)\n",
        "type(a)"
      ],
      "execution_count": null,
      "outputs": [
        {
          "output_type": "stream",
          "name": "stdout",
          "text": [
            "[3 4 1]\n"
          ]
        },
        {
          "output_type": "execute_result",
          "data": {
            "text/plain": [
              "numpy.ndarray"
            ]
          },
          "metadata": {},
          "execution_count": 2
        }
      ]
    },
    {
      "cell_type": "markdown",
      "metadata": {
        "id": "y2U8lTuYfmLz"
      },
      "source": [
        "Обычный питоновский `print` печатает массивы в удобной форме (точно так же, как и list питона)"
      ]
    },
    {
      "cell_type": "code",
      "metadata": {
        "id": "gtJ0bdn5fmL1",
        "colab": {
          "base_uri": "https://localhost:8080/"
        },
        "outputId": "6ce6ad21-35d3-4a5e-b4a5-9a43e2f69401"
      },
      "source": [
        "print(a)"
      ],
      "execution_count": null,
      "outputs": [
        {
          "output_type": "stream",
          "name": "stdout",
          "text": [
            "[3 4 1]\n"
          ]
        }
      ]
    },
    {
      "cell_type": "markdown",
      "metadata": {
        "id": "Mth2u7nzAiqw"
      },
      "source": [
        "### Типы данных в массивах np.array"
      ]
    },
    {
      "cell_type": "markdown",
      "metadata": {
        "id": "zbAeCr5HfmMJ"
      },
      "source": [
        "Поговорим о типах данных, хранящихся в массивах:\n",
        "\n",
        "Чаще всего мы будем работать с числовыми массивами, поэтому поговорим о инх.\n",
        "\n",
        "В отличие от чистого питона, в `numpy` есть несколько типов для целых чисел (`int16`, `int32`, `int64`) и чисел с плавающей точкой (`float32`, `float64`). Они отличаются тем, с какой точностью в памяти хранятся элементы массива. \n",
        "\n",
        "Чтобы посмотреть, какой тип у вашего массива, можно вывести его dtype:"
      ]
    },
    {
      "cell_type": "code",
      "metadata": {
        "id": "ga8UJa7yfmMK",
        "colab": {
          "base_uri": "https://localhost:8080/"
        },
        "outputId": "be0dc8c4-b75e-482d-8b46-c02fa5ceb395"
      },
      "source": [
        "a.dtype"
      ],
      "execution_count": null,
      "outputs": [
        {
          "output_type": "execute_result",
          "data": {
            "text/plain": [
              "dtype('int64')"
            ]
          },
          "metadata": {},
          "execution_count": 4
        }
      ]
    },
    {
      "cell_type": "markdown",
      "metadata": {
        "id": "A3nr3k6F-4HT"
      },
      "source": [
        "Конечно, можно скастовать массив из одного типа в другой. \n",
        "\n",
        "Давайте переведем наш массив 'a' из типа np.int64 в тип np.float32:"
      ]
    },
    {
      "cell_type": "code",
      "metadata": {
        "id": "KiuqdCAi-3kw",
        "colab": {
          "base_uri": "https://localhost:8080/"
        },
        "outputId": "bc577f0f-10b4-4a8e-e261-4f2a6dac68db"
      },
      "source": [
        "a = a.astype(np.float32)\n",
        "a.dtype"
      ],
      "execution_count": null,
      "outputs": [
        {
          "output_type": "execute_result",
          "data": {
            "text/plain": [
              "dtype('float32')"
            ]
          },
          "metadata": {},
          "execution_count": 5
        }
      ]
    },
    {
      "cell_type": "markdown",
      "metadata": {
        "id": "E4doUPKdAGqm"
      },
      "source": [
        "Далее мы будем рассматривать n-мерный массивы, для них преобразование типов работает так же. И для них все еще все элементы должны иметь одинаковый тип."
      ]
    },
    {
      "cell_type": "markdown",
      "metadata": {
        "id": "ocm0D55sA3cg"
      },
      "source": [
        "### Изменение массивов np.array"
      ]
    },
    {
      "cell_type": "markdown",
      "metadata": {
        "id": "3_7c9NLTfmMM"
      },
      "source": [
        "Как и list в питоне, массивы np.array - изменяемые объекты. Механика изменений значений в них такая же, как у питоновских list'ов. Давайте в этом убедимся:"
      ]
    },
    {
      "cell_type": "code",
      "metadata": {
        "id": "30ibLJJ-fmMM",
        "colab": {
          "base_uri": "https://localhost:8080/"
        },
        "outputId": "fc8b2ecd-8cb5-4fb0-8de5-9b6e8d7e019d"
      },
      "source": [
        "a = np.array([3, 4 ,1])\n",
        "\n",
        "a[1] = 3\n",
        "print(a)"
      ],
      "execution_count": null,
      "outputs": [
        {
          "output_type": "stream",
          "name": "stdout",
          "text": [
            "[3 3 1]\n"
          ]
        }
      ]
    },
    {
      "cell_type": "markdown",
      "metadata": {
        "id": "Hi9VSwT-Dit1"
      },
      "source": [
        "Единственный (но логичный) нюанс: при изменении значения в массиве с элементами одного типа на элемент другого типа новый элемент будет приведен к типу массива:"
      ]
    },
    {
      "cell_type": "code",
      "metadata": {
        "id": "mq4wMhLIECvh",
        "colab": {
          "base_uri": "https://localhost:8080/"
        },
        "outputId": "89b66ce4-afde-4edb-c8e5-fdd1c544c0ea"
      },
      "source": [
        "# или: a = np.array([3, 4 ,1], dtype=np.int64)\n",
        "a = np.array([3, 4 ,1]).astype(np.int64)\n",
        "\n",
        "# значение 3.5 будет приведено к типу int64, т.е. станет 3\n",
        "a[1] = 3.5\n",
        "print(a)"
      ],
      "execution_count": null,
      "outputs": [
        {
          "output_type": "stream",
          "name": "stdout",
          "text": [
            "[3 3 1]\n"
          ]
        }
      ]
    },
    {
      "cell_type": "code",
      "metadata": {
        "id": "8Ju5yEg2EPl3",
        "colab": {
          "base_uri": "https://localhost:8080/"
        },
        "outputId": "fa0ba995-c6e0-4085-d173-2834ee167447"
      },
      "source": [
        "# обратите внимание -- если создается np.array с чисоами разных типов (int и float), \n",
        "# то все числа будут приведены к более точному типу, т.е. float\n",
        "# таким образом, 1 из целого числа станет числом с плавающей точкой 1.\n",
        "a = np.array([3., 4. ,1])\n",
        "\n",
        "# значение 5 будет приведено к типу int64, т.е. станет 5.\n",
        "a[1] = 5\n",
        "print(a)"
      ],
      "execution_count": null,
      "outputs": [
        {
          "output_type": "stream",
          "name": "stdout",
          "text": [
            "[3. 5. 1.]\n"
          ]
        }
      ]
    },
    {
      "cell_type": "markdown",
      "metadata": {
        "id": "TuZIz7kDEWCM"
      },
      "source": [
        "А вот добавить к массиву новый элемент в конец чуть сложнее, чем у list. Напомним, в list это делалось с помощью метода .append(). В numpy это также делается с помощью append, но чуть по-другому:\n",
        "\n",
        "Обратите внимание, что в numpy при append *создается новый массив*, а не происходит добавление элемента в уже существующий массив. Поэтому не рекомендуется создавать массивы с помощью append в numpy."
      ]
    },
    {
      "cell_type": "code",
      "metadata": {
        "id": "2m_G3Op6EtCR",
        "colab": {
          "base_uri": "https://localhost:8080/"
        },
        "outputId": "a3ee2d70-162c-4989-91e6-d05f5e02427c"
      },
      "source": [
        "a = np.array([3, 4 ,1])\n",
        "\n",
        "# вот так пишется append\n",
        "a = np.append(a, 6)\n",
        "\n",
        "a"
      ],
      "execution_count": null,
      "outputs": [
        {
          "output_type": "execute_result",
          "data": {
            "text/plain": [
              "array([3, 4, 1, 6])"
            ]
          },
          "metadata": {},
          "execution_count": 9
        }
      ]
    },
    {
      "cell_type": "markdown",
      "metadata": {
        "id": "dZDih28zO0AZ"
      },
      "source": [
        ""
      ]
    },
    {
      "cell_type": "markdown",
      "metadata": {
        "id": "51Tpu4P5O2JQ"
      },
      "source": [
        "## Многомерные массивы"
      ]
    },
    {
      "cell_type": "markdown",
      "metadata": {
        "id": "D2I34jDFO7x0"
      },
      "source": [
        "Мы узнали, как создавать и изменять одномерные массивы, как они выглядят в numpy и нюансы приведения типов. Настало время познакомиться с многомерными массивами.\n",
        "\n",
        "Многомерный массив -- это массив, элементы которого тоже массивы. В принципе, ничего нового, все как и у list в питоне. "
      ]
    },
    {
      "cell_type": "code",
      "metadata": {
        "id": "NluLEVL6VbfT",
        "colab": {
          "base_uri": "https://localhost:8080/"
        },
        "outputId": "962c8898-6506-422a-8a33-e22f9d169035"
      },
      "source": [
        "two_dim_array = np.array([[2, 3], [4, 5]])\n",
        "\n",
        "print(two_dim_array)"
      ],
      "execution_count": null,
      "outputs": [
        {
          "output_type": "stream",
          "name": "stdout",
          "text": [
            "[[2 3]\n",
            " [4 5]]\n"
          ]
        }
      ]
    },
    {
      "cell_type": "code",
      "metadata": {
        "id": "6HIBtdA_VizU",
        "colab": {
          "base_uri": "https://localhost:8080/"
        },
        "outputId": "80379d8c-6dc6-433e-a3c7-e6b378202c39"
      },
      "source": [
        "three_dim_array = np.array([[[2, 3], [4, 5]], [[5, 6], [7, 8]]])\n",
        "\n",
        "print(three_dim_array)"
      ],
      "execution_count": null,
      "outputs": [
        {
          "output_type": "stream",
          "name": "stdout",
          "text": [
            "[[[2 3]\n",
            "  [4 5]]\n",
            "\n",
            " [[5 6]\n",
            "  [7 8]]]\n"
          ]
        }
      ]
    },
    {
      "cell_type": "markdown",
      "metadata": {
        "id": "UAPCq4dmWQRU"
      },
      "source": [
        "Напомним, что в numpy, неважно, в одномерном или многомерном массиве, *все* элементы имеют одинаковый тип\n",
        "\n",
        "Давайте в этом убедимся:"
      ]
    },
    {
      "cell_type": "code",
      "metadata": {
        "id": "NV7tM_8IXkkS",
        "colab": {
          "base_uri": "https://localhost:8080/"
        },
        "outputId": "27ba18a9-8c17-4c1a-f715-a6cb59fdf363"
      },
      "source": [
        "# 2 и 3 приведутся к типу чисел 4. и 5., т.е. float64\n",
        "a = np.array([[2, 3], [4., 5.]])\n",
        "print(a, a.dtype)\n",
        "\n"
      ],
      "execution_count": null,
      "outputs": [
        {
          "output_type": "stream",
          "name": "stdout",
          "text": [
            "[[2. 3.]\n",
            " [4. 5.]] float64\n"
          ]
        }
      ]
    },
    {
      "cell_type": "markdown",
      "metadata": {
        "id": "JrEY8hzdfmM2"
      },
      "source": [
        "## Операции над одномерными массивами\n"
      ]
    },
    {
      "cell_type": "markdown",
      "metadata": {
        "id": "vbjIN8IrOk3t"
      },
      "source": [
        " ### Арифметические операции"
      ]
    },
    {
      "cell_type": "code",
      "metadata": {
        "id": "hJfC6mEUfmM2"
      },
      "source": [
        "a = np.array([2, 5, 6, 7])\n",
        "b = np.array([9, 7, 8, 9])"
      ],
      "execution_count": null,
      "outputs": []
    },
    {
      "cell_type": "markdown",
      "metadata": {
        "id": "SyhreThiOqhx"
      },
      "source": [
        "С двумя массивами одинаковой "
      ]
    },
    {
      "cell_type": "code",
      "metadata": {
        "id": "EmlV4Cn2fmM3",
        "colab": {
          "base_uri": "https://localhost:8080/"
        },
        "outputId": "abe75801-470c-430d-c331-da73e97ad689"
      },
      "source": [
        "print(a + b)"
      ],
      "execution_count": null,
      "outputs": [
        {
          "output_type": "stream",
          "name": "stdout",
          "text": [
            "[11 12 14 16]\n"
          ]
        }
      ]
    },
    {
      "cell_type": "code",
      "metadata": {
        "id": "hFgqEFPdfmM4",
        "colab": {
          "base_uri": "https://localhost:8080/"
        },
        "outputId": "eb4c71b6-95b1-48b7-c18d-e60cd6688dfe"
      },
      "source": [
        "print(a - b)"
      ],
      "execution_count": null,
      "outputs": [
        {
          "output_type": "stream",
          "name": "stdout",
          "text": [
            "[-7 -2 -2 -2]\n"
          ]
        }
      ]
    },
    {
      "cell_type": "code",
      "metadata": {
        "id": "TdCSYDsUfmM5",
        "colab": {
          "base_uri": "https://localhost:8080/"
        },
        "outputId": "d38245cf-fa5c-4f88-ba63-43f8c0a1cbc8"
      },
      "source": [
        "print(a * b)"
      ],
      "execution_count": null,
      "outputs": [
        {
          "output_type": "stream",
          "name": "stdout",
          "text": [
            "[18 35 48 63]\n"
          ]
        }
      ]
    },
    {
      "cell_type": "code",
      "metadata": {
        "id": "iM1VgL_AfmM6",
        "colab": {
          "base_uri": "https://localhost:8080/"
        },
        "outputId": "8af0952a-90f9-4c61-b933-96118db07937"
      },
      "source": [
        "print(a / b)"
      ],
      "execution_count": null,
      "outputs": [
        {
          "output_type": "stream",
          "name": "stdout",
          "text": [
            "[0.22222222 0.71428571 0.75       0.77777778]\n"
          ]
        }
      ]
    },
    {
      "cell_type": "code",
      "metadata": {
        "id": "fhYQugrafmM8",
        "colab": {
          "base_uri": "https://localhost:8080/"
        },
        "outputId": "925f0006-99e8-4548-ef39-b9deb605ef17"
      },
      "source": [
        "print(a ** 2)"
      ],
      "execution_count": null,
      "outputs": [
        {
          "output_type": "stream",
          "name": "stdout",
          "text": [
            "[ 4 25 36 49]\n"
          ]
        }
      ]
    },
    {
      "cell_type": "markdown",
      "metadata": {
        "id": "u-nODxC_fmM_"
      },
      "source": [
        "`numpy` содержит элементарные функции, которые тоже применяются к массивам поэлементно. Они называются универсальными функциями (`ufunc`)."
      ]
    },
    {
      "cell_type": "code",
      "metadata": {
        "id": "Q4AVx4JbfmM_",
        "colab": {
          "base_uri": "https://localhost:8080/"
        },
        "outputId": "eb1a2109-9df1-4634-93df-3e3b41ee0edc"
      },
      "source": [
        "np.sin, type(np.sin)"
      ],
      "execution_count": null,
      "outputs": [
        {
          "output_type": "execute_result",
          "data": {
            "text/plain": [
              "(<ufunc 'sin'>, numpy.ufunc)"
            ]
          },
          "metadata": {},
          "execution_count": 19
        }
      ]
    },
    {
      "cell_type": "code",
      "metadata": {
        "id": "UlD1i1ucfmNA",
        "colab": {
          "base_uri": "https://localhost:8080/"
        },
        "outputId": "f3c2068a-be73-4f6f-eb08-dc9850f3ef04"
      },
      "source": [
        "print(np.sin(a))\n",
        "print(np.cosh(a))"
      ],
      "execution_count": null,
      "outputs": [
        {
          "output_type": "stream",
          "name": "stdout",
          "text": [
            "[ 0.90929743 -0.95892427 -0.2794155   0.6569866 ]\n",
            "[  3.76219569  74.20994852 201.71563612 548.31703516]\n"
          ]
        }
      ]
    },
    {
      "cell_type": "markdown",
      "metadata": {
        "id": "rcOgTOV9fmNB"
      },
      "source": [
        "Один из операндов может быть скаляром, а не массивом."
      ]
    },
    {
      "cell_type": "code",
      "metadata": {
        "id": "evAWu0mtfmNB",
        "colab": {
          "base_uri": "https://localhost:8080/"
        },
        "outputId": "93d3167c-b8da-4ffe-b771-a3bc9c945d48"
      },
      "source": [
        "a"
      ],
      "execution_count": null,
      "outputs": [
        {
          "output_type": "execute_result",
          "data": {
            "text/plain": [
              "array([2, 5, 6, 7])"
            ]
          },
          "metadata": {},
          "execution_count": 21
        }
      ]
    },
    {
      "cell_type": "code",
      "metadata": {
        "id": "VvT9aNIXfmND",
        "colab": {
          "base_uri": "https://localhost:8080/"
        },
        "outputId": "022646b3-1013-462e-ad68-7fa87328e89e"
      },
      "source": [
        "print(a + 1)"
      ],
      "execution_count": null,
      "outputs": [
        {
          "output_type": "stream",
          "name": "stdout",
          "text": [
            "[3 6 7 8]\n"
          ]
        }
      ]
    },
    {
      "cell_type": "code",
      "metadata": {
        "id": "qVBR-7oMfmNF",
        "colab": {
          "base_uri": "https://localhost:8080/"
        },
        "outputId": "c8fe078e-b104-47e5-aa3b-8bd47a0a7d20"
      },
      "source": [
        "print(2 * a)"
      ],
      "execution_count": null,
      "outputs": [
        {
          "output_type": "stream",
          "name": "stdout",
          "text": [
            "[ 4 10 12 14]\n"
          ]
        }
      ]
    },
    {
      "cell_type": "markdown",
      "metadata": {
        "id": "UjhN4lHGfmNG"
      },
      "source": [
        "Сравнения дают булевы массивы."
      ]
    },
    {
      "cell_type": "code",
      "metadata": {
        "id": "Pu3FPoK-fmNG",
        "colab": {
          "base_uri": "https://localhost:8080/"
        },
        "outputId": "d8e43f22-8e37-4145-aaba-ffdddbf748eb"
      },
      "source": [
        "print(a > b)"
      ],
      "execution_count": null,
      "outputs": [
        {
          "output_type": "stream",
          "name": "stdout",
          "text": [
            "[False False False False]\n"
          ]
        }
      ]
    },
    {
      "cell_type": "code",
      "metadata": {
        "id": "aQ2NQc0DfmNH",
        "colab": {
          "base_uri": "https://localhost:8080/"
        },
        "outputId": "ee0b8334-4593-49d7-eac4-ac1233cbaad8"
      },
      "source": [
        "print(a < b)"
      ],
      "execution_count": null,
      "outputs": [
        {
          "output_type": "stream",
          "name": "stdout",
          "text": [
            "[ True  True  True  True]\n"
          ]
        }
      ]
    },
    {
      "cell_type": "code",
      "metadata": {
        "id": "K6JjG8YXfmNI",
        "colab": {
          "base_uri": "https://localhost:8080/"
        },
        "outputId": "d2dd3b2c-0743-45e0-b892-f9f4da3d2af2"
      },
      "source": [
        "print(a == b)"
      ],
      "execution_count": null,
      "outputs": [
        {
          "output_type": "stream",
          "name": "stdout",
          "text": [
            "[False False False False]\n"
          ]
        }
      ]
    },
    {
      "cell_type": "code",
      "metadata": {
        "id": "fC4mG93EfmNK",
        "colab": {
          "base_uri": "https://localhost:8080/"
        },
        "outputId": "816d5e2f-e123-462a-f0fe-31a53a5401d7"
      },
      "source": [
        "c = a > 5\n",
        "print(c)"
      ],
      "execution_count": null,
      "outputs": [
        {
          "output_type": "stream",
          "name": "stdout",
          "text": [
            "[False False  True  True]\n"
          ]
        }
      ]
    },
    {
      "cell_type": "markdown",
      "metadata": {
        "id": "1B7KJ7O-fmNL"
      },
      "source": [
        "Кванторы \"существует\" и \"для всех\"."
      ]
    },
    {
      "cell_type": "code",
      "metadata": {
        "id": "UXQgvtZcfmNL",
        "colab": {
          "base_uri": "https://localhost:8080/"
        },
        "outputId": "bf9ace3c-301d-47e5-ef77-bc96123098e1"
      },
      "source": [
        "np.any(c), np.all(c)"
      ],
      "execution_count": null,
      "outputs": [
        {
          "output_type": "execute_result",
          "data": {
            "text/plain": [
              "(True, False)"
            ]
          },
          "metadata": {},
          "execution_count": 28
        }
      ]
    },
    {
      "cell_type": "markdown",
      "metadata": {
        "id": "SGteTpYBfmNM"
      },
      "source": [
        "Модификация на месте."
      ]
    },
    {
      "cell_type": "code",
      "metadata": {
        "id": "lritBIg0fmNN",
        "colab": {
          "base_uri": "https://localhost:8080/"
        },
        "outputId": "98d59cb9-0f53-4bdb-8b08-e8e375fed98c"
      },
      "source": [
        "a += 1\n",
        "print(a)"
      ],
      "execution_count": null,
      "outputs": [
        {
          "output_type": "stream",
          "name": "stdout",
          "text": [
            "[3 6 7 8]\n"
          ]
        }
      ]
    },
    {
      "cell_type": "code",
      "metadata": {
        "id": "c3n8Y23hfmNO",
        "colab": {
          "base_uri": "https://localhost:8080/"
        },
        "outputId": "4835cd02-d25c-4b9e-b955-6a76cabe4812"
      },
      "source": [
        "b *= 2\n",
        "print(b)"
      ],
      "execution_count": null,
      "outputs": [
        {
          "output_type": "stream",
          "name": "stdout",
          "text": [
            "[18 14 16 18]\n"
          ]
        }
      ]
    },
    {
      "cell_type": "markdown",
      "metadata": {
        "id": "9pQ60AqPfmNQ"
      },
      "source": [
        "При выполнении операций над массивами деление на 0 не возбуждает исключения, а даёт значения `np.nan` или `np.inf`."
      ]
    },
    {
      "cell_type": "code",
      "metadata": {
        "id": "ltwGc-bofmNR",
        "colab": {
          "base_uri": "https://localhost:8080/"
        },
        "outputId": "c41e670c-7c20-4fb6-f9a4-eec3416d95c1"
      },
      "source": [
        "np.nan + 1, np.inf + 1, np.inf * 0, 1. / np.inf"
      ],
      "execution_count": null,
      "outputs": [
        {
          "output_type": "execute_result",
          "data": {
            "text/plain": [
              "(nan, inf, nan, 0.0)"
            ]
          },
          "metadata": {},
          "execution_count": 32
        }
      ]
    },
    {
      "cell_type": "markdown",
      "metadata": {
        "id": "ITxex6KQfmNS"
      },
      "source": [
        "Сумма и произведение всех элементов массива; максимальный и минимальный элемент; среднее и среднеквадратичное отклонение."
      ]
    },
    {
      "cell_type": "code",
      "metadata": {
        "id": "x7j0UYGnfmNS",
        "colab": {
          "base_uri": "https://localhost:8080/"
        },
        "outputId": "862e098d-fca7-484d-d392-f382ec937ba5"
      },
      "source": [
        "b.sum(), b.prod(), b.max(), b.min(), b.mean(), b.std()"
      ],
      "execution_count": null,
      "outputs": [
        {
          "output_type": "execute_result",
          "data": {
            "text/plain": [
              "(66, 72576, 18, 14, 16.5, 1.6583123951777)"
            ]
          },
          "metadata": {},
          "execution_count": 33
        }
      ]
    },
    {
      "cell_type": "code",
      "metadata": {
        "id": "_lHBH_bzfmNT",
        "colab": {
          "base_uri": "https://localhost:8080/"
        },
        "outputId": "44c055c1-212d-49b1-d67f-5428427c2157"
      },
      "source": [
        "x = np.random.normal(size=1000)\n",
        "x.mean(), x.std()"
      ],
      "execution_count": null,
      "outputs": [
        {
          "output_type": "execute_result",
          "data": {
            "text/plain": [
              "(0.01507805525557629, 0.9799831319251014)"
            ]
          },
          "metadata": {},
          "execution_count": 34
        }
      ]
    },
    {
      "cell_type": "markdown",
      "metadata": {
        "id": "MiHVT1dUfmNV"
      },
      "source": [
        "Имеются встроенные функции"
      ]
    },
    {
      "cell_type": "code",
      "metadata": {
        "id": "O9YkL8oPfmNV",
        "colab": {
          "base_uri": "https://localhost:8080/"
        },
        "outputId": "0825b50a-bce3-429a-f68c-ef1e774e6ca8"
      },
      "source": [
        "print(np.sqrt(b))\n",
        "print(np.exp(b))\n",
        "print(np.log(b + 1))\n",
        "print(np.sin(b))\n",
        "print(np.e, np.pi)"
      ],
      "execution_count": null,
      "outputs": [
        {
          "output_type": "stream",
          "name": "stdout",
          "text": [
            "[4.24264069 3.74165739 4.         4.24264069]\n",
            "[65659969.13733051  1202604.28416478  8886110.52050787 65659969.13733051]\n",
            "[2.94443898 2.7080502  2.83321334 2.94443898]\n",
            "[-0.75098725  0.99060736 -0.28790332 -0.75098725]\n",
            "2.718281828459045 3.141592653589793\n"
          ]
        }
      ]
    },
    {
      "cell_type": "markdown",
      "metadata": {
        "id": "bzIBuoHZfmNW"
      },
      "source": [
        "Иногда бывает нужно использовать частичные (кумулятивные) суммы. В нашем курсе такое пригодится."
      ]
    },
    {
      "cell_type": "code",
      "metadata": {
        "id": "lPTe5BJ3fmNW",
        "colab": {
          "base_uri": "https://localhost:8080/"
        },
        "outputId": "035d4141-4429-43ad-abf7-4c4050e37e30"
      },
      "source": [
        "print(b.cumsum()[::-1])"
      ],
      "execution_count": null,
      "outputs": [
        {
          "output_type": "stream",
          "name": "stdout",
          "text": [
            "[66 48 32 18]\n"
          ]
        }
      ]
    },
    {
      "cell_type": "markdown",
      "metadata": {
        "id": "hjedKncOfmNY"
      },
      "source": [
        "Функция `sort` возвращает отсортированную копию, метод `sort` сортирует на месте."
      ]
    },
    {
      "cell_type": "code",
      "metadata": {
        "id": "I6oLUas2fmNY",
        "colab": {
          "base_uri": "https://localhost:8080/"
        },
        "outputId": "4739e19d-4550-409c-b4ee-eb795f1ccbf1"
      },
      "source": [
        "print(np.sort(b))\n",
        "print(b)"
      ],
      "execution_count": null,
      "outputs": [
        {
          "output_type": "stream",
          "name": "stdout",
          "text": [
            "[14 16 18 18]\n",
            "[18 14 16 18]\n"
          ]
        }
      ]
    },
    {
      "cell_type": "code",
      "metadata": {
        "id": "ipq5cBfdfmNZ",
        "colab": {
          "base_uri": "https://localhost:8080/"
        },
        "outputId": "1ad1c648-08f2-46c9-cc60-e6223bb95e4c"
      },
      "source": [
        "b.sort()\n",
        "print(b)"
      ],
      "execution_count": null,
      "outputs": [
        {
          "output_type": "stream",
          "name": "stdout",
          "text": [
            "[14 16 18 18]\n"
          ]
        }
      ]
    },
    {
      "cell_type": "markdown",
      "metadata": {
        "id": "D8PDlwE-fmNc"
      },
      "source": [
        "Объединение массивов \"по-горизонтали\" (horizontal stack)."
      ]
    },
    {
      "cell_type": "code",
      "metadata": {
        "id": "9QNmb95wfmNc",
        "colab": {
          "base_uri": "https://localhost:8080/"
        },
        "outputId": "5d1b5083-7445-453b-845d-1780496045a3"
      },
      "source": [
        "a = np.array([1, 2, 3])\n",
        "b = np.array([100, 200, 300])\n",
        "\n",
        "print(np.hstack((a, b)))"
      ],
      "execution_count": null,
      "outputs": [
        {
          "output_type": "stream",
          "name": "stdout",
          "text": [
            "[  1   2   3 100 200 300]\n"
          ]
        }
      ]
    },
    {
      "cell_type": "markdown",
      "metadata": {
        "id": "0xcN7Aj_fmNe"
      },
      "source": [
        "Объединение массивов \"по-вертикали\" (vertical stack)."
      ]
    },
    {
      "cell_type": "code",
      "metadata": {
        "id": "Y_jxaXArfmNe",
        "colab": {
          "base_uri": "https://localhost:8080/"
        },
        "outputId": "186b3db8-1537-4091-903b-1d1084e85b92"
      },
      "source": [
        "print(np.vstack((a, b)))"
      ],
      "execution_count": null,
      "outputs": [
        {
          "output_type": "stream",
          "name": "stdout",
          "text": [
            "[[  1   2   3]\n",
            " [100 200 300]]\n"
          ]
        }
      ]
    },
    {
      "cell_type": "markdown",
      "metadata": {
        "id": "Ff0G4h_QfmNf"
      },
      "source": [
        "Расщепление массива в позициях 3 и 6."
      ]
    },
    {
      "cell_type": "code",
      "metadata": {
        "id": "IUJsUaPdfmNf",
        "colab": {
          "base_uri": "https://localhost:8080/"
        },
        "outputId": "4b738404-c07e-4713-dbc5-63afe822954c"
      },
      "source": [
        "a = np.random.random(10)\n",
        "np.hsplit(a, [3, 6])"
      ],
      "execution_count": null,
      "outputs": [
        {
          "output_type": "execute_result",
          "data": {
            "text/plain": [
              "[array([0.61994744, 0.97185517, 0.52760736]),\n",
              " array([0.49960358, 0.75170935, 0.14125351]),\n",
              " array([0.67908283, 0.52605088, 0.88374089, 0.54389519])]"
            ]
          },
          "metadata": {},
          "execution_count": 41
        }
      ]
    },
    {
      "cell_type": "markdown",
      "metadata": {
        "id": "BaRHNopmfmNg"
      },
      "source": [
        "Функции `delete`, `insert` и `append` не меняют массив на месте, а возвращают новый массив, в котором удалены, вставлены в середину или добавлены в конец какие-то элементы."
      ]
    },
    {
      "cell_type": "code",
      "metadata": {
        "id": "nKd8vvWwfmNg"
      },
      "source": [
        "a = np.arange(10)"
      ],
      "execution_count": null,
      "outputs": []
    },
    {
      "cell_type": "code",
      "metadata": {
        "id": "G3n3pvY8fmNh",
        "colab": {
          "base_uri": "https://localhost:8080/"
        },
        "outputId": "66a4626b-6004-45a6-8fe9-11ec0085b6d1"
      },
      "source": [
        "a = np.delete(a, [5, 7])\n",
        "print(a)"
      ],
      "execution_count": null,
      "outputs": [
        {
          "output_type": "stream",
          "name": "stdout",
          "text": [
            "[0 1 2 3 4 6 8 9]\n"
          ]
        }
      ]
    },
    {
      "cell_type": "code",
      "metadata": {
        "id": "vSh1n-MrfmNi",
        "colab": {
          "base_uri": "https://localhost:8080/"
        },
        "outputId": "9af4b2a0-d4f4-4720-9309-efe81859bbd0"
      },
      "source": [
        "a = np.insert(a, 2, [0, 0])\n",
        "print(a)"
      ],
      "execution_count": null,
      "outputs": [
        {
          "output_type": "stream",
          "name": "stdout",
          "text": [
            "[0 1 0 0 2 3 4 6 8 9]\n"
          ]
        }
      ]
    },
    {
      "cell_type": "code",
      "metadata": {
        "id": "nK_tcSNCfmNi",
        "colab": {
          "base_uri": "https://localhost:8080/"
        },
        "outputId": "622f646f-7a1d-4117-c795-502f581ba648"
      },
      "source": [
        "a = np.append(a, [1, 2, 3])\n",
        "print(a)"
      ],
      "execution_count": null,
      "outputs": [
        {
          "output_type": "stream",
          "name": "stdout",
          "text": [
            "[0 1 0 0 2 3 4 6 8 9 1 2 3]\n"
          ]
        }
      ]
    },
    {
      "cell_type": "markdown",
      "metadata": {
        "id": "gUvXXkjufmNk"
      },
      "source": [
        "Есть несколько способов индексации массива. Вот обычный индекс."
      ]
    },
    {
      "cell_type": "code",
      "metadata": {
        "id": "VaxI1LMZfmNk",
        "colab": {
          "base_uri": "https://localhost:8080/"
        },
        "outputId": "0dc20d8a-3b9f-4ef1-ff41-c35f70627a3f"
      },
      "source": [
        "a = np.linspace(0, 1, 11)\n",
        "print(a)"
      ],
      "execution_count": null,
      "outputs": [
        {
          "output_type": "stream",
          "name": "stdout",
          "text": [
            "[0.  0.1 0.2 0.3 0.4 0.5 0.6 0.7 0.8 0.9 1. ]\n"
          ]
        }
      ]
    },
    {
      "cell_type": "code",
      "metadata": {
        "id": "Un8iBzpGfmNm",
        "colab": {
          "base_uri": "https://localhost:8080/"
        },
        "outputId": "e06e1ce3-c4ac-48a2-f010-791691337931"
      },
      "source": [
        "b = a[2]\n",
        "print(b)"
      ],
      "execution_count": null,
      "outputs": [
        {
          "output_type": "stream",
          "name": "stdout",
          "text": [
            "0.2\n"
          ]
        }
      ]
    },
    {
      "cell_type": "markdown",
      "metadata": {
        "id": "tUEpza04fmNn"
      },
      "source": [
        "Диапазон индексов. Создаётся новый заголовок массива, указывающий на те же данные. Изменения, сделанные через такой массив, видны и в исходном массиве."
      ]
    },
    {
      "cell_type": "code",
      "metadata": {
        "id": "_1r9_G69fmNn",
        "colab": {
          "base_uri": "https://localhost:8080/"
        },
        "outputId": "4a534e61-024e-4339-d914-e147bc63c357"
      },
      "source": [
        "b = a[2:6]\n",
        "print(b)"
      ],
      "execution_count": null,
      "outputs": [
        {
          "output_type": "stream",
          "name": "stdout",
          "text": [
            "[0.2 0.3 0.4 0.5]\n"
          ]
        }
      ]
    },
    {
      "cell_type": "code",
      "metadata": {
        "id": "C4t-B6ZzfmNo",
        "colab": {
          "base_uri": "https://localhost:8080/"
        },
        "outputId": "959d03a8-fbc4-4314-a8de-c8d15582bf9b"
      },
      "source": [
        "b[0] = -0.2\n",
        "print(b)"
      ],
      "execution_count": null,
      "outputs": [
        {
          "output_type": "stream",
          "name": "stdout",
          "text": [
            "[-0.2  0.3  0.4  0.5]\n"
          ]
        }
      ]
    },
    {
      "cell_type": "code",
      "metadata": {
        "id": "2qbvKB_jfmNp",
        "colab": {
          "base_uri": "https://localhost:8080/"
        },
        "outputId": "44d3cafb-0702-43ab-e6c5-8aa3e52d42e5"
      },
      "source": [
        "print(a)"
      ],
      "execution_count": null,
      "outputs": [
        {
          "output_type": "stream",
          "name": "stdout",
          "text": [
            "[ 0.   0.1 -0.2  0.3  0.4  0.5  0.6  0.7  0.8  0.9  1. ]\n"
          ]
        }
      ]
    },
    {
      "cell_type": "markdown",
      "metadata": {
        "id": "TeiXcTTTfmNq"
      },
      "source": [
        "Диапазон с шагом 2."
      ]
    },
    {
      "cell_type": "code",
      "metadata": {
        "id": "AJjKLi35fmNq",
        "colab": {
          "base_uri": "https://localhost:8080/"
        },
        "outputId": "a168fdca-9ca1-4fb4-a7c9-899e0e946500"
      },
      "source": [
        "b = a[1:10:2]\n",
        "print(b)"
      ],
      "execution_count": null,
      "outputs": [
        {
          "output_type": "stream",
          "name": "stdout",
          "text": [
            "[0.1 0.3 0.5 0.7 0.9]\n"
          ]
        }
      ]
    },
    {
      "cell_type": "code",
      "metadata": {
        "id": "jK_Td23_fmNr",
        "colab": {
          "base_uri": "https://localhost:8080/"
        },
        "outputId": "4739d46e-e54f-4fb3-d154-db92b42bd33c"
      },
      "source": [
        "b[0] = -0.1\n",
        "print(a)"
      ],
      "execution_count": null,
      "outputs": [
        {
          "output_type": "stream",
          "name": "stdout",
          "text": [
            "[ 0.  -0.1 -0.2  0.3  0.4  0.5  0.6  0.7  0.8  0.9  1. ]\n"
          ]
        }
      ]
    },
    {
      "cell_type": "markdown",
      "metadata": {
        "id": "fZpNnjbqfmNs"
      },
      "source": [
        "Массив в обратном порядке."
      ]
    },
    {
      "cell_type": "code",
      "metadata": {
        "id": "jATTNvVYfmNs",
        "colab": {
          "base_uri": "https://localhost:8080/"
        },
        "outputId": "5105479c-961d-4e73-b4b0-a30c51187117"
      },
      "source": [
        "b = a[len(a):0:-1]\n",
        "print(b)"
      ],
      "execution_count": null,
      "outputs": [
        {
          "output_type": "stream",
          "name": "stdout",
          "text": [
            "[ 1.   0.9  0.8  0.7  0.6  0.5  0.4  0.3 -0.2 -0.1]\n"
          ]
        }
      ]
    },
    {
      "cell_type": "markdown",
      "metadata": {
        "id": "JyLgSAwHfmNt"
      },
      "source": [
        "Подмассиву можно присвоить значение - массив правильного размера или скаляр."
      ]
    },
    {
      "cell_type": "code",
      "metadata": {
        "id": "7gxJfWqifmNt",
        "colab": {
          "base_uri": "https://localhost:8080/"
        },
        "outputId": "d0fe6632-7582-4bd7-beda-5fb628da5d97"
      },
      "source": [
        "a[1:10:3] = 0\n",
        "print(a)"
      ],
      "execution_count": null,
      "outputs": [
        {
          "output_type": "stream",
          "name": "stdout",
          "text": [
            "[ 0.   0.  -0.2  0.3  0.   0.5  0.6  0.   0.8  0.9  1. ]\n"
          ]
        }
      ]
    },
    {
      "cell_type": "markdown",
      "metadata": {
        "id": "CDT5mLThfmNt"
      },
      "source": [
        "Тут опять создаётся только новый заголовок, указывающий на те же данные."
      ]
    },
    {
      "cell_type": "code",
      "metadata": {
        "id": "f_tZbUirfmNu",
        "colab": {
          "base_uri": "https://localhost:8080/"
        },
        "outputId": "272ec59d-8afe-44dc-98bf-0ec19fa975d9"
      },
      "source": [
        "b = a[:]\n",
        "b[1] = 0.1\n",
        "print(a)"
      ],
      "execution_count": null,
      "outputs": [
        {
          "output_type": "stream",
          "name": "stdout",
          "text": [
            "[ 0.   0.1 -0.2  0.3  0.   0.5  0.6  0.   0.8  0.9  1. ]\n"
          ]
        }
      ]
    },
    {
      "cell_type": "markdown",
      "metadata": {
        "id": "CzZSgXktfmNu"
      },
      "source": [
        "Чтобы скопировать и данные массива, нужно использовать метод `copy`."
      ]
    },
    {
      "cell_type": "code",
      "metadata": {
        "id": "Bo8Cgn_dfmNv",
        "colab": {
          "base_uri": "https://localhost:8080/"
        },
        "outputId": "867d0dd7-a107-4766-da71-2b09c8593c66"
      },
      "source": [
        "b = a.copy()\n",
        "b[2] = 0\n",
        "print(b)\n",
        "print(a)"
      ],
      "execution_count": null,
      "outputs": [
        {
          "output_type": "stream",
          "name": "stdout",
          "text": [
            "[0.  0.1 0.  0.3 0.  0.5 0.6 0.  0.8 0.9 1. ]\n",
            "[ 0.   0.1 -0.2  0.3  0.   0.5  0.6  0.   0.8  0.9  1. ]\n"
          ]
        }
      ]
    },
    {
      "cell_type": "markdown",
      "metadata": {
        "id": "vdDCbeHBfmNv"
      },
      "source": [
        "Можно задать список индексов."
      ]
    },
    {
      "cell_type": "code",
      "metadata": {
        "id": "DYgQYl9TfmNv",
        "colab": {
          "base_uri": "https://localhost:8080/"
        },
        "outputId": "4024c89f-3656-4ba1-cfe5-284b0c54cfc0"
      },
      "source": [
        "print(a[[2, 3, 5]])"
      ],
      "execution_count": null,
      "outputs": [
        {
          "output_type": "stream",
          "name": "stdout",
          "text": [
            "[-0.2  0.3  0.5]\n"
          ]
        }
      ]
    },
    {
      "cell_type": "markdown",
      "metadata": {
        "id": "aFWiNZd7fmNw"
      },
      "source": [
        "Можно задать булев массив той же величины."
      ]
    },
    {
      "cell_type": "code",
      "metadata": {
        "id": "W4tlGJzXfmNw",
        "colab": {
          "base_uri": "https://localhost:8080/"
        },
        "outputId": "ae2a520f-5e3e-4f31-ba1a-9ced899ef916"
      },
      "source": [
        "b = a > 0\n",
        "print(b)"
      ],
      "execution_count": null,
      "outputs": [
        {
          "output_type": "stream",
          "name": "stdout",
          "text": [
            "[False  True False  True False  True  True False  True  True  True]\n"
          ]
        }
      ]
    },
    {
      "cell_type": "code",
      "metadata": {
        "id": "5B6-HVhgfmNx",
        "colab": {
          "base_uri": "https://localhost:8080/"
        },
        "outputId": "38a2a7e1-e555-4e3c-81e7-de80527c0d7a"
      },
      "source": [
        "print(a[b])"
      ],
      "execution_count": null,
      "outputs": [
        {
          "output_type": "stream",
          "name": "stdout",
          "text": [
            "[0.1 0.3 0.5 0.6 0.8 0.9 1. ]\n"
          ]
        }
      ]
    },
    {
      "cell_type": "markdown",
      "metadata": {
        "collapsed": true,
        "id": "mrm41pzufmNy"
      },
      "source": [
        "## 2-мерные массивы"
      ]
    },
    {
      "cell_type": "code",
      "metadata": {
        "id": "nUDue8svfmNy",
        "colab": {
          "base_uri": "https://localhost:8080/"
        },
        "outputId": "190977d2-3e46-41b9-f7b9-3402457b7c35"
      },
      "source": [
        "a = np.array([[0.0, 1.0], [-1.0, 0.0]])\n",
        "print(a)"
      ],
      "execution_count": null,
      "outputs": [
        {
          "output_type": "stream",
          "name": "stdout",
          "text": [
            "[[ 0.  1.]\n",
            " [-1.  0.]]\n"
          ]
        }
      ]
    },
    {
      "cell_type": "code",
      "metadata": {
        "id": "edMAUCADfmNz",
        "colab": {
          "base_uri": "https://localhost:8080/"
        },
        "outputId": "671f4d4a-9026-4e7e-df9d-93702cfc499b"
      },
      "source": [
        "a.ndim"
      ],
      "execution_count": null,
      "outputs": [
        {
          "output_type": "execute_result",
          "data": {
            "text/plain": [
              "2"
            ]
          },
          "metadata": {},
          "execution_count": 61
        }
      ]
    },
    {
      "cell_type": "code",
      "metadata": {
        "id": "-ehx8jg5fmN0",
        "colab": {
          "base_uri": "https://localhost:8080/"
        },
        "outputId": "f2b7a0e3-4100-4fa4-894f-f2643799196d"
      },
      "source": [
        "a.shape"
      ],
      "execution_count": null,
      "outputs": [
        {
          "output_type": "execute_result",
          "data": {
            "text/plain": [
              "(2, 2)"
            ]
          },
          "metadata": {},
          "execution_count": 62
        }
      ]
    },
    {
      "cell_type": "code",
      "metadata": {
        "id": "q-xHGc8cfmN0",
        "colab": {
          "base_uri": "https://localhost:8080/"
        },
        "outputId": "3301e5b3-6e36-4a2b-f89d-d725f8333a6e"
      },
      "source": [
        "len(a), a.size"
      ],
      "execution_count": null,
      "outputs": [
        {
          "output_type": "execute_result",
          "data": {
            "text/plain": [
              "(2, 4)"
            ]
          },
          "metadata": {},
          "execution_count": 63
        }
      ]
    },
    {
      "cell_type": "code",
      "metadata": {
        "id": "5GruXNexfmN1",
        "colab": {
          "base_uri": "https://localhost:8080/"
        },
        "outputId": "ac4550d8-7afa-42a6-9d1a-392fd6d41222"
      },
      "source": [
        "a[1, 0]"
      ],
      "execution_count": null,
      "outputs": [
        {
          "output_type": "execute_result",
          "data": {
            "text/plain": [
              "-1.0"
            ]
          },
          "metadata": {},
          "execution_count": 64
        }
      ]
    },
    {
      "cell_type": "markdown",
      "metadata": {
        "id": "hs-7wB5dfmN2"
      },
      "source": [
        "Атрибуту `shape` можно присвоить новое значение - кортеж размеров по всем координатам. Получится новый заголовок массива; его данные не изменятся."
      ]
    },
    {
      "cell_type": "code",
      "metadata": {
        "id": "4z49_SEyfmN2",
        "colab": {
          "base_uri": "https://localhost:8080/"
        },
        "outputId": "fe1d5156-ae9e-4495-be71-e2951847fbca"
      },
      "source": [
        "b = np.linspace(0, 3, 4)\n",
        "print(b)"
      ],
      "execution_count": null,
      "outputs": [
        {
          "output_type": "stream",
          "name": "stdout",
          "text": [
            "[0. 1. 2. 3.]\n"
          ]
        }
      ]
    },
    {
      "cell_type": "code",
      "metadata": {
        "id": "5JKJ90zJfmN3",
        "colab": {
          "base_uri": "https://localhost:8080/"
        },
        "outputId": "01a6ae57-93bc-47ec-82bb-199aadf37e08"
      },
      "source": [
        "b.shape"
      ],
      "execution_count": null,
      "outputs": [
        {
          "output_type": "execute_result",
          "data": {
            "text/plain": [
              "(4,)"
            ]
          },
          "metadata": {},
          "execution_count": 66
        }
      ]
    },
    {
      "cell_type": "code",
      "metadata": {
        "id": "rV_Tyzp0fmN4",
        "colab": {
          "base_uri": "https://localhost:8080/"
        },
        "outputId": "c9d26497-beb3-4c89-ccbd-ce953d0bf3db"
      },
      "source": [
        "b.shape = 2, 2\n",
        "print(b)"
      ],
      "execution_count": null,
      "outputs": [
        {
          "output_type": "stream",
          "name": "stdout",
          "text": [
            "[[0. 1.]\n",
            " [2. 3.]]\n"
          ]
        }
      ]
    },
    {
      "cell_type": "markdown",
      "metadata": {
        "id": "c6fPpTnYfmN5"
      },
      "source": [
        "Можно растянуть в одномерный массив"
      ]
    },
    {
      "cell_type": "code",
      "metadata": {
        "id": "V35k5mhQfmN5",
        "colab": {
          "base_uri": "https://localhost:8080/"
        },
        "outputId": "041f8c10-e3ee-49c4-a66e-61f3aeb61bd3"
      },
      "source": [
        "print(b.ravel())"
      ],
      "execution_count": null,
      "outputs": [
        {
          "output_type": "stream",
          "name": "stdout",
          "text": [
            "[0. 1. 2. 3.]\n"
          ]
        }
      ]
    },
    {
      "cell_type": "markdown",
      "metadata": {
        "id": "79n-zW4RfmN6"
      },
      "source": [
        "Арифметические операции поэлементные"
      ]
    },
    {
      "cell_type": "code",
      "metadata": {
        "id": "eDoK5LNLfmN6",
        "colab": {
          "base_uri": "https://localhost:8080/"
        },
        "outputId": "8e101323-2ff2-4c9f-efec-19af6b2fee14"
      },
      "source": [
        "a"
      ],
      "execution_count": null,
      "outputs": [
        {
          "output_type": "execute_result",
          "data": {
            "text/plain": [
              "array([[ 0.,  1.],\n",
              "       [-1.,  0.]])"
            ]
          },
          "metadata": {},
          "execution_count": 69
        }
      ]
    },
    {
      "cell_type": "code",
      "metadata": {
        "id": "UBAKba1VfmN7",
        "colab": {
          "base_uri": "https://localhost:8080/"
        },
        "outputId": "7823772a-148d-43e9-a0bc-c6d17bd835c5"
      },
      "source": [
        "b = np.array([[3, 4], \n",
        "    [8, 6 ]])\n",
        "print(b)"
      ],
      "execution_count": null,
      "outputs": [
        {
          "output_type": "stream",
          "name": "stdout",
          "text": [
            "[[3 4]\n",
            " [8 6]]\n"
          ]
        }
      ]
    },
    {
      "cell_type": "code",
      "metadata": {
        "id": "Tgm5RIaWfmN8",
        "colab": {
          "base_uri": "https://localhost:8080/"
        },
        "outputId": "9846c7ec-c1bc-41dc-fff9-038c485d5b8c"
      },
      "source": [
        "print(a + 1)\n",
        "print(a * 2)\n",
        "print(a + [0, 1])  # второе слагаемое дополняется до матрицы копированием строк\n",
        "print(a + np.array([[0, 2]]).T)  # .T - транспонирование\n",
        "print(a + b)"
      ],
      "execution_count": null,
      "outputs": [
        {
          "output_type": "stream",
          "name": "stdout",
          "text": [
            "[[1. 2.]\n",
            " [0. 1.]]\n",
            "[[ 0.  2.]\n",
            " [-2.  0.]]\n",
            "[[ 0.  2.]\n",
            " [-1.  1.]]\n",
            "[[0. 1.]\n",
            " [1. 2.]]\n",
            "[[3. 5.]\n",
            " [7. 6.]]\n"
          ]
        }
      ]
    },
    {
      "cell_type": "markdown",
      "metadata": {
        "id": "UsHKpNqyfmN9"
      },
      "source": [
        "Поэлементное и матричное (начиная с Python 3.5) умножение."
      ]
    },
    {
      "cell_type": "code",
      "metadata": {
        "id": "y2AzM-6wfmN-",
        "colab": {
          "base_uri": "https://localhost:8080/"
        },
        "outputId": "ee616eb8-ef77-4d37-f37c-1c678d888b2f"
      },
      "source": [
        "print(a)"
      ],
      "execution_count": null,
      "outputs": [
        {
          "output_type": "stream",
          "name": "stdout",
          "text": [
            "[[ 0.  1.]\n",
            " [-1.  0.]]\n"
          ]
        }
      ]
    },
    {
      "cell_type": "code",
      "metadata": {
        "id": "B8XRyWUdfmN_",
        "colab": {
          "base_uri": "https://localhost:8080/"
        },
        "outputId": "334a446e-f170-45dc-b24b-18245ead5b42"
      },
      "source": [
        "print(b)"
      ],
      "execution_count": null,
      "outputs": [
        {
          "output_type": "stream",
          "name": "stdout",
          "text": [
            "[[3 4]\n",
            " [8 6]]\n"
          ]
        }
      ]
    },
    {
      "cell_type": "code",
      "metadata": {
        "id": "WjVtzrN-fmOA",
        "colab": {
          "base_uri": "https://localhost:8080/"
        },
        "outputId": "59facea4-3306-4951-d3c8-5c89e2db73e2"
      },
      "source": [
        "print(a * b)"
      ],
      "execution_count": null,
      "outputs": [
        {
          "output_type": "stream",
          "name": "stdout",
          "text": [
            "[[ 0.  4.]\n",
            " [-8.  0.]]\n"
          ]
        }
      ]
    },
    {
      "cell_type": "code",
      "metadata": {
        "id": "NQvK75yDfmOA",
        "colab": {
          "base_uri": "https://localhost:8080/"
        },
        "outputId": "789d107b-fa5b-48b9-dc12-11b28ed6384b"
      },
      "source": [
        "print(a @ b)"
      ],
      "execution_count": null,
      "outputs": [
        {
          "output_type": "stream",
          "name": "stdout",
          "text": [
            "[[ 8.  6.]\n",
            " [-3. -4.]]\n"
          ]
        }
      ]
    },
    {
      "cell_type": "code",
      "metadata": {
        "id": "QmJCt0ApfmOB",
        "colab": {
          "base_uri": "https://localhost:8080/"
        },
        "outputId": "428f8ff1-3ae6-46ac-b110-ffc42aa64b2d"
      },
      "source": [
        "print(b @ a)"
      ],
      "execution_count": null,
      "outputs": [
        {
          "output_type": "stream",
          "name": "stdout",
          "text": [
            "[[-4.  3.]\n",
            " [-6.  8.]]\n"
          ]
        }
      ]
    },
    {
      "cell_type": "markdown",
      "metadata": {
        "id": "7uC-wg07fmOC"
      },
      "source": [
        "Умножение матрицы на вектор."
      ]
    },
    {
      "cell_type": "code",
      "metadata": {
        "id": "-gsGIk3hfmOC",
        "colab": {
          "base_uri": "https://localhost:8080/"
        },
        "outputId": "28ef3db1-5dc9-4a08-832d-da06f5451e72"
      },
      "source": [
        "v = np.array([1, -1], dtype=np.float64)\n",
        "print(b @ v)"
      ],
      "execution_count": null,
      "outputs": [
        {
          "output_type": "stream",
          "name": "stdout",
          "text": [
            "[-1.  2.]\n"
          ]
        }
      ]
    },
    {
      "cell_type": "code",
      "metadata": {
        "id": "gAnLlc_TfmOD",
        "colab": {
          "base_uri": "https://localhost:8080/"
        },
        "outputId": "2819b635-a552-4085-a1aa-1090fc07a975"
      },
      "source": [
        "print(v @ b)"
      ],
      "execution_count": null,
      "outputs": [
        {
          "output_type": "stream",
          "name": "stdout",
          "text": [
            "[-5. -2.]\n"
          ]
        }
      ]
    },
    {
      "cell_type": "markdown",
      "metadata": {
        "id": "xnJuN0N6fmOJ"
      },
      "source": [
        "Единичная матрица."
      ]
    },
    {
      "cell_type": "code",
      "metadata": {
        "id": "6R7djX9kfmOJ",
        "colab": {
          "base_uri": "https://localhost:8080/"
        },
        "outputId": "06894de0-399f-4bb9-9e2d-0d029511f267"
      },
      "source": [
        "I = np.eye(4)\n",
        "print(I)"
      ],
      "execution_count": null,
      "outputs": [
        {
          "output_type": "stream",
          "name": "stdout",
          "text": [
            "[[1. 0. 0. 0.]\n",
            " [0. 1. 0. 0.]\n",
            " [0. 0. 1. 0.]\n",
            " [0. 0. 0. 1.]]\n"
          ]
        }
      ]
    },
    {
      "cell_type": "markdown",
      "metadata": {
        "id": "u5c-qCxSfmOL"
      },
      "source": [
        "Метод `reshape` делает то же самое, что присваивание атрибуту `shape`."
      ]
    },
    {
      "cell_type": "code",
      "metadata": {
        "id": "4d3ToIOAfmOL",
        "colab": {
          "base_uri": "https://localhost:8080/"
        },
        "outputId": "9ef45721-f614-497c-c6fd-1a827ecc1d0a"
      },
      "source": [
        "print(I.reshape(16))"
      ],
      "execution_count": null,
      "outputs": [
        {
          "output_type": "stream",
          "name": "stdout",
          "text": [
            "[1. 0. 0. 0. 0. 1. 0. 0. 0. 0. 1. 0. 0. 0. 0. 1.]\n"
          ]
        }
      ]
    },
    {
      "cell_type": "code",
      "metadata": {
        "id": "pPNkSiwTfmOM",
        "colab": {
          "base_uri": "https://localhost:8080/"
        },
        "outputId": "9d6efd8f-1978-48c9-b343-ec2709f1190d"
      },
      "source": [
        "print(I.reshape(8, 2))"
      ],
      "execution_count": null,
      "outputs": [
        {
          "output_type": "stream",
          "name": "stdout",
          "text": [
            "[[1. 0.]\n",
            " [0. 0.]\n",
            " [0. 1.]\n",
            " [0. 0.]\n",
            " [0. 0.]\n",
            " [1. 0.]\n",
            " [0. 0.]\n",
            " [0. 1.]]\n"
          ]
        }
      ]
    },
    {
      "cell_type": "markdown",
      "metadata": {
        "id": "k3605lJYfmON"
      },
      "source": [
        "Строка."
      ]
    },
    {
      "cell_type": "code",
      "metadata": {
        "id": "vBkj1jD5fmOO",
        "colab": {
          "base_uri": "https://localhost:8080/"
        },
        "outputId": "ddab868c-87a3-4719-d3c5-bfd0a9996925"
      },
      "source": [
        "print(I[2])"
      ],
      "execution_count": null,
      "outputs": [
        {
          "output_type": "stream",
          "name": "stdout",
          "text": [
            "[0. 0. 1. 0.]\n"
          ]
        }
      ]
    },
    {
      "cell_type": "markdown",
      "metadata": {
        "id": "zx6SXOoHfmOP"
      },
      "source": [
        "Цикл по строкам."
      ]
    },
    {
      "cell_type": "code",
      "metadata": {
        "id": "I6jGWR64fmOP",
        "scrolled": true,
        "colab": {
          "base_uri": "https://localhost:8080/"
        },
        "outputId": "cd095cc2-0e70-4679-8a6f-0c3bda9db768"
      },
      "source": [
        "for row in I:\n",
        "    print(row)"
      ],
      "execution_count": null,
      "outputs": [
        {
          "output_type": "stream",
          "name": "stdout",
          "text": [
            "[1. 0. 0. 0.]\n",
            "[0. 1. 0. 0.]\n",
            "[0. 0. 1. 0.]\n",
            "[0. 0. 0. 1.]\n"
          ]
        }
      ]
    },
    {
      "cell_type": "markdown",
      "metadata": {
        "id": "tWrIzkQsfmOQ"
      },
      "source": [
        "Столбец."
      ]
    },
    {
      "cell_type": "code",
      "metadata": {
        "id": "9Z9mor1XfmOR",
        "colab": {
          "base_uri": "https://localhost:8080/"
        },
        "outputId": "39bf627c-f087-47ba-95dc-d10c73418303"
      },
      "source": [
        "print(I[1, 1])"
      ],
      "execution_count": null,
      "outputs": [
        {
          "output_type": "stream",
          "name": "stdout",
          "text": [
            "1.0\n"
          ]
        }
      ]
    },
    {
      "cell_type": "markdown",
      "metadata": {
        "id": "FvEaf0c7fmOS"
      },
      "source": [
        "Подматрица."
      ]
    },
    {
      "cell_type": "code",
      "metadata": {
        "id": "CaXHoIZgfmOS",
        "colab": {
          "base_uri": "https://localhost:8080/"
        },
        "outputId": "da908f4c-bcd1-406b-e1f4-b1edd1974284"
      },
      "source": [
        "print(I[0:2, 1:3])"
      ],
      "execution_count": null,
      "outputs": [
        {
          "output_type": "stream",
          "name": "stdout",
          "text": [
            "[[0. 0.]\n",
            " [1. 0.]]\n"
          ]
        }
      ]
    },
    {
      "cell_type": "markdown",
      "metadata": {
        "id": "ZdAv5jXLfmOT"
      },
      "source": [
        "Можно построить двумерный массив из функции."
      ]
    },
    {
      "cell_type": "code",
      "metadata": {
        "id": "FPQdAfykfmOU",
        "colab": {
          "base_uri": "https://localhost:8080/"
        },
        "outputId": "8f09c63b-6621-4800-e5a1-48fa3f5b5b70"
      },
      "source": [
        "def f(i, j):\n",
        "    print(i)\n",
        "    print(j)\n",
        "    return 10 * i + j\n",
        "\n",
        "print(np.fromfunction(f, (4, 4), dtype=np.int64))"
      ],
      "execution_count": null,
      "outputs": [
        {
          "output_type": "stream",
          "name": "stdout",
          "text": [
            "[[0 0 0 0]\n",
            " [1 1 1 1]\n",
            " [2 2 2 2]\n",
            " [3 3 3 3]]\n",
            "[[0 1 2 3]\n",
            " [0 1 2 3]\n",
            " [0 1 2 3]\n",
            " [0 1 2 3]]\n",
            "[[ 0  1  2  3]\n",
            " [10 11 12 13]\n",
            " [20 21 22 23]\n",
            " [30 31 32 33]]\n"
          ]
        }
      ]
    },
    {
      "cell_type": "markdown",
      "metadata": {
        "id": "kIHvkeIzfmOV"
      },
      "source": [
        "Транспонированная матрица."
      ]
    },
    {
      "cell_type": "code",
      "metadata": {
        "id": "XkCvBDRMfmOV",
        "colab": {
          "base_uri": "https://localhost:8080/"
        },
        "outputId": "0b702cd2-861d-4682-e7bf-0077354456d6"
      },
      "source": [
        "print(b.T)"
      ],
      "execution_count": null,
      "outputs": [
        {
          "output_type": "stream",
          "name": "stdout",
          "text": [
            "[[3 8]\n",
            " [4 6]]\n"
          ]
        }
      ]
    },
    {
      "cell_type": "markdown",
      "metadata": {
        "id": "YxT5DwPffmOW"
      },
      "source": [
        "Соединение матриц по горизонтали и по вертикали."
      ]
    },
    {
      "cell_type": "code",
      "metadata": {
        "id": "SgUOSUpJfmOW",
        "colab": {
          "base_uri": "https://localhost:8080/"
        },
        "outputId": "3f5cda5d-911b-4889-c390-bfd5ed4428f1"
      },
      "source": [
        "a = np.array([[0, 1], [2, 3]])\n",
        "b = np.array([[4, 5, 6], [7, 8, 9]])\n",
        "c = np.array([[4, 5], [6, 7], [8, 9]])\n",
        "print(a)\n",
        "print(b)\n",
        "print(c)"
      ],
      "execution_count": null,
      "outputs": [
        {
          "output_type": "stream",
          "name": "stdout",
          "text": [
            "[[0 1]\n",
            " [2 3]]\n",
            "[[4 5 6]\n",
            " [7 8 9]]\n",
            "[[4 5]\n",
            " [6 7]\n",
            " [8 9]]\n"
          ]
        }
      ]
    },
    {
      "cell_type": "code",
      "metadata": {
        "id": "Q9XfHNcdfmOX",
        "colab": {
          "base_uri": "https://localhost:8080/"
        },
        "outputId": "18e81d0a-4595-4be7-b5ee-2a6106ae90cd"
      },
      "source": [
        "print(np.hstack((a, b)))"
      ],
      "execution_count": null,
      "outputs": [
        {
          "output_type": "stream",
          "name": "stdout",
          "text": [
            "[[0 1 4 5 6]\n",
            " [2 3 7 8 9]]\n"
          ]
        }
      ]
    },
    {
      "cell_type": "code",
      "metadata": {
        "id": "9KBGlrxzfmOY",
        "colab": {
          "base_uri": "https://localhost:8080/"
        },
        "outputId": "f4c68ea1-c429-4eb1-ec97-e2e449614261"
      },
      "source": [
        "print(np.vstack((a, c)))"
      ],
      "execution_count": null,
      "outputs": [
        {
          "output_type": "stream",
          "name": "stdout",
          "text": [
            "[[0 1]\n",
            " [2 3]\n",
            " [4 5]\n",
            " [6 7]\n",
            " [8 9]]\n"
          ]
        }
      ]
    },
    {
      "cell_type": "markdown",
      "metadata": {
        "id": "B75txmwJfmOZ"
      },
      "source": [
        "Сумма всех элементов; суммы столбцов; суммы строк."
      ]
    },
    {
      "cell_type": "code",
      "metadata": {
        "id": "Oo00j_hMfmOZ",
        "colab": {
          "base_uri": "https://localhost:8080/"
        },
        "outputId": "75a89eff-3a76-4c56-ee0a-d4b680cbac4e"
      },
      "source": [
        "b"
      ],
      "execution_count": null,
      "outputs": [
        {
          "output_type": "execute_result",
          "data": {
            "text/plain": [
              "array([[4, 5, 6],\n",
              "       [7, 8, 9]])"
            ]
          },
          "metadata": {},
          "execution_count": 95
        }
      ]
    },
    {
      "cell_type": "code",
      "metadata": {
        "id": "6qzmyVMKfmOZ",
        "colab": {
          "base_uri": "https://localhost:8080/"
        },
        "outputId": "0d2927fb-7b9e-49de-c93a-4d11039ed87c"
      },
      "source": [
        "print(b.sum())\n",
        "print(b.sum(axis=0))\n",
        "print(b.sum(axis=1))"
      ],
      "execution_count": null,
      "outputs": [
        {
          "output_type": "stream",
          "name": "stdout",
          "text": [
            "39\n",
            "[11 13 15]\n",
            "[15 24]\n"
          ]
        }
      ]
    },
    {
      "cell_type": "markdown",
      "metadata": {
        "id": "nmj7UTCmfmOa"
      },
      "source": [
        "Аналогично работают `prod`, `max`, `min` и т.д."
      ]
    },
    {
      "cell_type": "code",
      "metadata": {
        "id": "CbJsqMKcfmOb",
        "colab": {
          "base_uri": "https://localhost:8080/"
        },
        "outputId": "a83fa9b9-520a-4585-e8b0-1ccb703d4ceb"
      },
      "source": [
        "print(b.max())\n",
        "print(b.max(axis=0))\n",
        "print(b.min(axis=1))"
      ],
      "execution_count": null,
      "outputs": [
        {
          "output_type": "stream",
          "name": "stdout",
          "text": [
            "9\n",
            "[7 8 9]\n",
            "[4 7]\n"
          ]
        }
      ]
    },
    {
      "cell_type": "markdown",
      "metadata": {
        "id": "5eeossTYfmOc"
      },
      "source": [
        "След - сумма диагональных элементов."
      ]
    },
    {
      "cell_type": "code",
      "metadata": {
        "id": "7mMEE_BzfmOc",
        "colab": {
          "base_uri": "https://localhost:8080/"
        },
        "outputId": "5a7fa143-a0a7-4f30-d489-230e03829203"
      },
      "source": [
        "np.trace(a)"
      ],
      "execution_count": null,
      "outputs": [
        {
          "output_type": "execute_result",
          "data": {
            "text/plain": [
              "3"
            ]
          },
          "metadata": {},
          "execution_count": 98
        }
      ]
    },
    {
      "cell_type": "markdown",
      "metadata": {
        "id": "ylh_09YIfmOg"
      },
      "source": [
        "## Линейная алгебра"
      ]
    },
    {
      "cell_type": "code",
      "metadata": {
        "id": "HUXDKhPzfmOg",
        "colab": {
          "base_uri": "https://localhost:8080/"
        },
        "outputId": "b47c5c61-5968-4872-e1ee-c49004c45725"
      },
      "source": [
        "np.linalg.det(a)"
      ],
      "execution_count": null,
      "outputs": [
        {
          "output_type": "execute_result",
          "data": {
            "text/plain": [
              "-2.0"
            ]
          },
          "metadata": {},
          "execution_count": 101
        }
      ]
    },
    {
      "cell_type": "markdown",
      "metadata": {
        "id": "GCcZRK16fmOh"
      },
      "source": [
        "Обратная матрица."
      ]
    },
    {
      "cell_type": "code",
      "metadata": {
        "id": "UOUFtpvIfmOh",
        "colab": {
          "base_uri": "https://localhost:8080/"
        },
        "outputId": "02f492dc-44c9-41b0-f2dc-8f36da9b9ced"
      },
      "source": [
        "a1 = np.linalg.inv(a)\n",
        "print(a1)"
      ],
      "execution_count": null,
      "outputs": [
        {
          "output_type": "stream",
          "name": "stdout",
          "text": [
            "[[-1.5  0.5]\n",
            " [ 1.   0. ]]\n"
          ]
        }
      ]
    },
    {
      "cell_type": "code",
      "metadata": {
        "id": "QBvEGytEfmOi",
        "colab": {
          "base_uri": "https://localhost:8080/"
        },
        "outputId": "32240721-67f5-4023-d782-3cd326b1c608"
      },
      "source": [
        "print(a @ a1)\n",
        "print(a1 @ a)"
      ],
      "execution_count": null,
      "outputs": [
        {
          "output_type": "stream",
          "name": "stdout",
          "text": [
            "[[1. 0.]\n",
            " [0. 1.]]\n",
            "[[1. 0.]\n",
            " [0. 1.]]\n"
          ]
        }
      ]
    },
    {
      "cell_type": "markdown",
      "metadata": {
        "id": "PJQAQQLgfmOj"
      },
      "source": [
        "Решение линейной системы $au=v$."
      ]
    },
    {
      "cell_type": "code",
      "metadata": {
        "id": "6rqLKKyrfmOj",
        "colab": {
          "base_uri": "https://localhost:8080/"
        },
        "outputId": "316553ca-8779-438d-aad6-dacfea79aee8"
      },
      "source": [
        "v = np.array([0, 1], dtype=np.float64)\n",
        "print(a1 @ v)"
      ],
      "execution_count": null,
      "outputs": [
        {
          "output_type": "stream",
          "name": "stdout",
          "text": [
            "[0.5 0. ]\n"
          ]
        }
      ]
    },
    {
      "cell_type": "code",
      "metadata": {
        "id": "nALBpIIPfmOk",
        "colab": {
          "base_uri": "https://localhost:8080/"
        },
        "outputId": "934b7255-9259-4d97-f08d-f4f818541826"
      },
      "source": [
        "u = np.linalg.solve(a, v)\n",
        "print(u)"
      ],
      "execution_count": null,
      "outputs": [
        {
          "output_type": "stream",
          "name": "stdout",
          "text": [
            "[0.5 0. ]\n"
          ]
        }
      ]
    },
    {
      "cell_type": "markdown",
      "metadata": {
        "id": "AQNFE30dfmOl"
      },
      "source": [
        "Проверим."
      ]
    },
    {
      "cell_type": "code",
      "metadata": {
        "id": "YYWwTAfmfmOl",
        "colab": {
          "base_uri": "https://localhost:8080/"
        },
        "outputId": "2b7bb70c-d027-4119-ad10-95607e40dadb"
      },
      "source": [
        "print(a @ u - v)"
      ],
      "execution_count": null,
      "outputs": [
        {
          "output_type": "stream",
          "name": "stdout",
          "text": [
            "[0. 0.]\n"
          ]
        }
      ]
    },
    {
      "cell_type": "markdown",
      "metadata": {
        "id": "-nPqQZ32fmOm"
      },
      "source": [
        "Собственные значения и собственные векторы: $a u_i = \\lambda_i u_i$. `l` - одномерный массив собственных значений $\\lambda_i$, столбцы матрицы $u$ - собственные векторы $u_i$."
      ]
    },
    {
      "cell_type": "code",
      "metadata": {
        "id": "Aby8Q0UqfmOm",
        "colab": {
          "base_uri": "https://localhost:8080/"
        },
        "outputId": "2d8167a1-20c9-4d0e-cfe5-aca2fa6d37ca"
      },
      "source": [
        "l, u = np.linalg.eig(a)\n",
        "print(l)"
      ],
      "execution_count": null,
      "outputs": [
        {
          "output_type": "stream",
          "name": "stdout",
          "text": [
            "[-0.56155281  3.56155281]\n"
          ]
        }
      ]
    },
    {
      "cell_type": "code",
      "metadata": {
        "id": "M9p_mn3WfmOn",
        "colab": {
          "base_uri": "https://localhost:8080/"
        },
        "outputId": "21f1b21d-eaf4-4065-b861-0468bf621141"
      },
      "source": [
        "print(u)"
      ],
      "execution_count": null,
      "outputs": [
        {
          "output_type": "stream",
          "name": "stdout",
          "text": [
            "[[-0.87192821 -0.27032301]\n",
            " [ 0.48963374 -0.96276969]]\n"
          ]
        }
      ]
    },
    {
      "cell_type": "markdown",
      "metadata": {
        "id": "_ri8pDJofmOo"
      },
      "source": [
        "Проверим."
      ]
    },
    {
      "cell_type": "code",
      "metadata": {
        "id": "Eu0hgYVifmOo",
        "colab": {
          "base_uri": "https://localhost:8080/"
        },
        "outputId": "ce003f49-0f86-46fc-9a77-4b5e145aae5c"
      },
      "source": [
        "for i in range(2):\n",
        "    print(a @ u[:, i] - l[i] * u[:, i])"
      ],
      "execution_count": null,
      "outputs": [
        {
          "output_type": "stream",
          "name": "stdout",
          "text": [
            "[0.00000000e+00 1.66533454e-16]\n",
            "[ 0.0000000e+00 -4.4408921e-16]\n"
          ]
        }
      ]
    },
    {
      "cell_type": "markdown",
      "metadata": {
        "id": "FGLpkdP5fmOo"
      },
      "source": [
        "Функция `diag` от одномерного массива строит диагональную матрицу; от квадратной матрицы - возвращает одномерный массив её диагональных элементов."
      ]
    },
    {
      "cell_type": "code",
      "metadata": {
        "id": "R_pGiyEMfmOp",
        "colab": {
          "base_uri": "https://localhost:8080/"
        },
        "outputId": "f1b170a3-9972-41b4-a692-9b3e9575ac1e"
      },
      "source": [
        "L = np.diag(l)\n",
        "print(L)\n",
        "print(np.diag(L))"
      ],
      "execution_count": null,
      "outputs": [
        {
          "output_type": "stream",
          "name": "stdout",
          "text": [
            "[[-0.56155281  0.        ]\n",
            " [ 0.          3.56155281]]\n",
            "[-0.56155281  3.56155281]\n"
          ]
        }
      ]
    },
    {
      "cell_type": "markdown",
      "metadata": {
        "id": "jQeO5yw4fmOq"
      },
      "source": [
        "Все уравнения $a u_i = \\lambda_i u_i$ можно собрать в одно матричное уравнение $a u = u \\Lambda$, где $\\Lambda$ - диагональная матрица с собственными значениями $\\lambda_i$ на диагонали."
      ]
    },
    {
      "cell_type": "code",
      "metadata": {
        "id": "c6Q3_hj-fmOq",
        "colab": {
          "base_uri": "https://localhost:8080/"
        },
        "outputId": "6607c8c5-ce8a-4267-f7bc-d99919eb77dd"
      },
      "source": [
        "print(a @ u - u @ L)"
      ],
      "execution_count": null,
      "outputs": [
        {
          "output_type": "stream",
          "name": "stdout",
          "text": [
            "[[ 0.00000000e+00  0.00000000e+00]\n",
            " [ 1.66533454e-16 -4.44089210e-16]]\n"
          ]
        }
      ]
    },
    {
      "cell_type": "markdown",
      "metadata": {
        "id": "lcnbDsgQfmOr"
      },
      "source": [
        "Поэтому $u^{-1} a u = \\Lambda$."
      ]
    },
    {
      "cell_type": "code",
      "metadata": {
        "id": "zJi2SX33fmOr",
        "colab": {
          "base_uri": "https://localhost:8080/"
        },
        "outputId": "0bc63156-ff3b-42a6-a2cb-ad4353323fe1"
      },
      "source": [
        "print(np.linalg.inv(u) @ a @ u)"
      ],
      "execution_count": null,
      "outputs": [
        {
          "output_type": "stream",
          "name": "stdout",
          "text": [
            "[[-5.61552813e-01  2.77555756e-17]\n",
            " [-2.22044605e-16  3.56155281e+00]]\n"
          ]
        }
      ]
    },
    {
      "cell_type": "markdown",
      "metadata": {
        "id": "LR99sNMzfmOs"
      },
      "source": [
        "Найдём теперь левые собственные векторы $v_i a = \\lambda_i v_i$ (собственные значения $\\lambda_i$ те же самые)."
      ]
    },
    {
      "cell_type": "code",
      "metadata": {
        "id": "-VlU9KTvfmOs",
        "colab": {
          "base_uri": "https://localhost:8080/"
        },
        "outputId": "222767e3-bf93-4c63-dc9d-3dc19a6a6095"
      },
      "source": [
        "l, v = np.linalg.eig(a.T)\n",
        "print(l)\n",
        "print(v)"
      ],
      "execution_count": null,
      "outputs": [
        {
          "output_type": "stream",
          "name": "stdout",
          "text": [
            "[-0.56155281  3.56155281]\n",
            "[[-0.96276969 -0.48963374]\n",
            " [ 0.27032301 -0.87192821]]\n"
          ]
        }
      ]
    },
    {
      "cell_type": "markdown",
      "metadata": {
        "id": "lceOEiLDfmOt"
      },
      "source": [
        "Собственные векторы нормированы на 1."
      ]
    },
    {
      "cell_type": "code",
      "metadata": {
        "id": "XVWK3_kffmOt",
        "colab": {
          "base_uri": "https://localhost:8080/"
        },
        "outputId": "38a00382-ed81-4e3a-8c98-88860d186a2e"
      },
      "source": [
        "print(u.T @ u)\n",
        "print(v.T @ v)"
      ],
      "execution_count": null,
      "outputs": [
        {
          "output_type": "stream",
          "name": "stdout",
          "text": [
            "[[ 1.         -0.23570226]\n",
            " [-0.23570226  1.        ]]\n",
            "[[1.         0.23570226]\n",
            " [0.23570226 1.        ]]\n"
          ]
        }
      ]
    },
    {
      "cell_type": "markdown",
      "metadata": {
        "id": "OEzELGlOfmOu"
      },
      "source": [
        "Левые и правые собственные векторы, соответствующие разным собственным значениям, ортогональны, потому что $v_i a u_j = \\lambda_i v_i u_j = \\lambda_j v_i u_j$."
      ]
    },
    {
      "cell_type": "code",
      "metadata": {
        "id": "JENmli6ufmOu",
        "colab": {
          "base_uri": "https://localhost:8080/"
        },
        "outputId": "54be9245-77ad-45e6-f0dd-faba0065bb23"
      },
      "source": [
        "print(v.T @ u)"
      ],
      "execution_count": null,
      "outputs": [
        {
          "output_type": "stream",
          "name": "stdout",
          "text": [
            "[[ 9.71825316e-01  0.00000000e+00]\n",
            " [-5.55111512e-17  9.71825316e-01]]\n"
          ]
        }
      ]
    }
  ]
}